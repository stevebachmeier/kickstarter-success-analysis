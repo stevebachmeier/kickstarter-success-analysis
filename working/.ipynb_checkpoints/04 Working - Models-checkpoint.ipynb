{
 "cells": [
  {
   "cell_type": "markdown",
   "metadata": {},
   "source": [
    "This is a supervised classification problem; the dependent variable is binary, 0 (for failure) and 1 (for success). As such, we will consider the following classification techniques:\n",
    "* X Naive-Bays\n",
    "* X logistic regression\n",
    "* X KNN\n",
    "* X SVM\n",
    "* X kernel SVM\n",
    "* X decision tree classification\n",
    "* X random forest classification\n",
    "\n",
    "Validation curves and learning curves will be considered when picking the best model for the project.\n",
    "\n",
    "Optional:\n",
    "* XGBoost\n",
    "* Reduce variables (eg PCA, LDA)\n",
    "* Optimize parameters (eg grid_search)\n",
    "* Look into SGD Classifier"
   ]
  },
  {
   "cell_type": "code",
   "execution_count": 2,
   "metadata": {},
   "outputs": [],
   "source": [
    "#-----------------------------------------\n",
    "# USER INPUTS\n"
   ]
  },
  {
   "cell_type": "code",
   "execution_count": 1,
   "metadata": {},
   "outputs": [],
   "source": [
    "#-----------------------------------------\n",
    "# IMPORT LIBRARIES\n",
    "\n",
    "import numpy as np\n",
    "import pandas as pd\n",
    "import matplotlib.pyplot as plt\n",
    "import seaborn as sns\n",
    "import time\n",
    "\n",
    "pd.options.display.max_columns = None # Shows all columns\n",
    "\n",
    "from sklearn.model_selection import train_test_split\n",
    "from sklearn.preprocessing import StandardScaler\n",
    "from sklearn.metrics import confusion_matrix, classification_report\n",
    "from sklearn.model_selection import cross_val_score\n",
    "from sklearn.model_selection import validation_curve\n",
    "\n",
    "from sklearn.naive_bayes import GaussianNB\n",
    "from sklearn.linear_model import LogisticRegression\n",
    "from sklearn.neighbors import KNeighborsClassifier\n",
    "from sklearn.svm import SVC\n",
    "from sklearn.tree import DecisionTreeClassifier\n",
    "from sklearn.ensemble import RandomForestClassifier\n",
    "from sklearn.decomposition import PCA\n",
    "from sklearn.model_selection import GridSearchCV"
   ]
  },
  {
   "cell_type": "code",
   "execution_count": 31,
   "metadata": {},
   "outputs": [],
   "source": [
    "#-----------------------------------------\n",
    "# DUMP/LOAD SESSIONS\n",
    "\n",
    "import dill\n",
    "\n",
    "# ---- FULL SESSIONS ----\n",
    "#dill.dump_session('./04 Working - Models.db')\n",
    "#dill.load_session('./04 Working - Models.db')\n",
    "\n",
    "# ---- OBJECTS ----\n",
    "#dill.dump(sc_X, open(\"sc_X.pkl\", \"wb\"))\n",
    "#dill.dump(classifier_rf_opt, open(\"classifier_rf_opt.pkl\", \"wb\"))\n",
    "#dill.dump(df_results, open(\"df_results.pkl\", \"wb\"))"
   ]
  },
  {
   "cell_type": "code",
   "execution_count": 4,
   "metadata": {},
   "outputs": [],
   "source": [
    "#-----------------------------------------\n",
    "# IMPORT DATAFRAME\n",
    "\n",
    "df = pd.read_csv('data/df02.csv', sep=',', na_filter=False, index_col=0, \n",
    "                 parse_dates=['launched_at'])\n",
    "\n",
    "# Checks\n",
    "if (df.isnull().sum().sum() != 0):\n",
    "    print('*** WARNING: Null values introduced with read_csv ***')\n",
    "if (df.isna().sum().sum() != 0):\n",
    "    print('*** WARNING: NA values introduced with read_csv ***')\n",
    "if (df=='').sum().sum() != 0:\n",
    "    print('*** WARNING: Empty string (\\'\\') values introduced with read_csv ***')"
   ]
  },
  {
   "cell_type": "code",
   "execution_count": 5,
   "metadata": {},
   "outputs": [
    {
     "data": {
      "text/plain": [
       "0"
      ]
     },
     "execution_count": 5,
     "metadata": {},
     "output_type": "execute_result"
    }
   ],
   "source": [
    "df.isnull().sum().sum()"
   ]
  },
  {
   "cell_type": "code",
   "execution_count": 6,
   "metadata": {},
   "outputs": [
    {
     "data": {
      "text/plain": [
       "0"
      ]
     },
     "execution_count": 6,
     "metadata": {},
     "output_type": "execute_result"
    }
   ],
   "source": [
    "df.isna().sum().sum()"
   ]
  },
  {
   "cell_type": "code",
   "execution_count": 7,
   "metadata": {},
   "outputs": [
    {
     "data": {
      "text/plain": [
       "0"
      ]
     },
     "execution_count": 7,
     "metadata": {},
     "output_type": "execute_result"
    }
   ],
   "source": [
    "(df == '').sum().sum()"
   ]
  },
  {
   "cell_type": "code",
   "execution_count": 8,
   "metadata": {},
   "outputs": [
    {
     "data": {
      "text/plain": [
       "Index(['launch_state', 'id', 'launched_at', 'category', 'country', 'goal',\n",
       "       'backers_count', 'pledged_ratio', 'funding_days', 'staff_pick',\n",
       "       'comics', 'crafts', 'dance', 'design', 'fashion', 'film & video',\n",
       "       'food', 'games', 'journalism', 'music', 'photography', 'publishing',\n",
       "       'technology', 'theater', 'AU', 'BE', 'CA', 'CH', 'DE', 'DK', 'ES', 'FR',\n",
       "       'GB', 'HK', 'IE', 'IT', 'JP', 'LU', 'MX', 'NL', 'NO', 'NZ', 'SE', 'SG',\n",
       "       'US'],\n",
       "      dtype='object')"
      ]
     },
     "execution_count": 8,
     "metadata": {},
     "output_type": "execute_result"
    }
   ],
   "source": [
    "df.columns"
   ]
  },
  {
   "cell_type": "code",
   "execution_count": 9,
   "metadata": {},
   "outputs": [],
   "source": [
    "info_variables = ['id','launched_at','category','country', 'pledged_ratio', 'backers_count']"
   ]
  },
  {
   "cell_type": "code",
   "execution_count": 10,
   "metadata": {},
   "outputs": [],
   "source": [
    "X = df.drop(columns=info_variables).drop(columns='launch_state')\n",
    "y = df['launch_state']"
   ]
  },
  {
   "cell_type": "code",
   "execution_count": 11,
   "metadata": {},
   "outputs": [],
   "source": [
    "#-----------------------------------------\n",
    "# TRAIN/TEST SPLIT\n",
    "\n",
    "X_train, X_test, y_train, y_test = train_test_split(\n",
    "    X, y, test_size=0.25, random_state=101)"
   ]
  },
  {
   "cell_type": "code",
   "execution_count": 12,
   "metadata": {},
   "outputs": [],
   "source": [
    "#-----------------------------------------\n",
    "# FEATURE SCALING\n",
    "\n",
    "sc_X = StandardScaler()\n",
    "X_train = sc_X.fit_transform(X_train)\n",
    "X_test = sc_X.transform(X_test)"
   ]
  },
  {
   "cell_type": "code",
   "execution_count": 13,
   "metadata": {},
   "outputs": [
    {
     "data": {
      "text/plain": [
       "(106085, 38)"
      ]
     },
     "execution_count": 13,
     "metadata": {},
     "output_type": "execute_result"
    }
   ],
   "source": [
    "X_train.shape"
   ]
  },
  {
   "cell_type": "code",
   "execution_count": 14,
   "metadata": {},
   "outputs": [
    {
     "data": {
      "text/plain": [
       "(106085,)"
      ]
     },
     "execution_count": 14,
     "metadata": {},
     "output_type": "execute_result"
    }
   ],
   "source": [
    "y_train.shape"
   ]
  },
  {
   "cell_type": "code",
   "execution_count": 15,
   "metadata": {},
   "outputs": [
    {
     "data": {
      "text/plain": [
       "(35362, 38)"
      ]
     },
     "execution_count": 15,
     "metadata": {},
     "output_type": "execute_result"
    }
   ],
   "source": [
    "X_test.shape"
   ]
  },
  {
   "cell_type": "code",
   "execution_count": 16,
   "metadata": {},
   "outputs": [
    {
     "data": {
      "text/plain": [
       "(35362,)"
      ]
     },
     "execution_count": 16,
     "metadata": {},
     "output_type": "execute_result"
    }
   ],
   "source": [
    "y_test.shape"
   ]
  },
  {
   "cell_type": "code",
   "execution_count": 17,
   "metadata": {},
   "outputs": [
    {
     "data": {
      "text/plain": [
       "0.7499982325535359"
      ]
     },
     "execution_count": 17,
     "metadata": {},
     "output_type": "execute_result"
    }
   ],
   "source": [
    "len(X_train) / (len(X_train) + len(X_test)) "
   ]
  },
  {
   "cell_type": "code",
   "execution_count": null,
   "metadata": {},
   "outputs": [],
   "source": [
    "#==============================================================================\n",
    "#\n",
    "# NAIVE BAYES\n",
    "#\n",
    "#=============================================================================="
   ]
  },
  {
   "cell_type": "code",
   "execution_count": 18,
   "metadata": {},
   "outputs": [
    {
     "name": "stdout",
     "output_type": "stream",
     "text": [
      "Runtime, fit: 0.1 sec\n"
     ]
    }
   ],
   "source": [
    "#-----------------------------------------\n",
    "# FIT MODEL\n",
    "\n",
    "start_clock = time.clock()\n",
    "\n",
    "# Naive-Bayes\n",
    "classifier_nb = GaussianNB()\n",
    "classifier_nb.fit(X_train, y_train)\n",
    "\n",
    "end_clock = time.clock()\n",
    "\n",
    "clock_fit_nb = end_clock - start_clock\n",
    "print('Runtime, fit: ', round(clock_fit_nb, 2), ' sec', sep='')"
   ]
  },
  {
   "cell_type": "code",
   "execution_count": 19,
   "metadata": {},
   "outputs": [
    {
     "name": "stdout",
     "output_type": "stream",
     "text": [
      "Runtime, predict: 0.04 sec\n"
     ]
    }
   ],
   "source": [
    "#-----------------------------------------\n",
    "# PREDICT TEST RESULTS\n",
    "\n",
    "start_clock = time.clock()\n",
    "\n",
    "y_pred_nb = classifier_nb.predict(X_test)\n",
    "\n",
    "end_clock = time.clock()\n",
    "\n",
    "clock_predict_nb = end_clock - start_clock\n",
    "print('Runtime, predict: ', round(clock_predict_nb, 2), ' sec', sep='')"
   ]
  },
  {
   "cell_type": "code",
   "execution_count": 20,
   "metadata": {},
   "outputs": [
    {
     "name": "stdout",
     "output_type": "stream",
     "text": [
      "[[ 3429 11525]\n",
      " [ 1787 18621]]\n",
      "\n",
      "\n",
      "             precision    recall  f1-score   support\n",
      "\n",
      "          0       0.66      0.23      0.34     14954\n",
      "          1       0.62      0.91      0.74     20408\n",
      "\n",
      "avg / total       0.63      0.62      0.57     35362\n",
      "\n"
     ]
    }
   ],
   "source": [
    "#-----------------------------------------\n",
    "# EVALUATE MODEL\n",
    "\n",
    "# Confusion matrix\n",
    "cm_nb = confusion_matrix(y_test, y_pred_nb)\n",
    "\n",
    "# Classification report\n",
    "cr_nb = classification_report(y_test, y_pred_nb)\n",
    "\n",
    "print(cm_nb)\n",
    "print(\"\\n\")\n",
    "print(cr_nb)"
   ]
  },
  {
   "cell_type": "code",
   "execution_count": 21,
   "metadata": {},
   "outputs": [
    {
     "data": {
      "text/plain": [
       "0.6235507041456931"
      ]
     },
     "execution_count": 21,
     "metadata": {},
     "output_type": "execute_result"
    }
   ],
   "source": [
    "acc_nb = cm_nb.diagonal().sum() / cm_nb.sum()\n",
    "acc_nb"
   ]
  },
  {
   "cell_type": "code",
   "execution_count": 22,
   "metadata": {},
   "outputs": [
    {
     "name": "stdout",
     "output_type": "stream",
     "text": [
      "Runtime, 10-fold CV: 1.54 sec\n"
     ]
    }
   ],
   "source": [
    "#-----------------------------------------\n",
    "# APPLY K-FOLD CROSS VALIDATION\n",
    "\n",
    "start_clock = time.clock()\n",
    "\n",
    "accuracies_nb = cross_val_score(\n",
    "    estimator=classifier_nb, X=X_train, y=y_train,\n",
    "    cv=10)\n",
    "\n",
    "end_clock = time.clock()\n",
    "\n",
    "clock_10FCV_nb = end_clock - start_clock\n",
    "print('Runtime, 10-fold CV: ', round(clock_10FCV_nb, 2), ' sec', sep='')"
   ]
  },
  {
   "cell_type": "code",
   "execution_count": 23,
   "metadata": {},
   "outputs": [
    {
     "name": "stdout",
     "output_type": "stream",
     "text": [
      "Accuracies:\n",
      "[0.6269557  0.62130066 0.63163352 0.62188914 0.625      0.62886501\n",
      " 0.62292609 0.61981523 0.62207768 0.6267911 ]\n",
      "\n",
      "\n",
      "RESULTS:\n",
      "  - Mean accuracy: 62.0%\n",
      "  - Accuracy std dev: 0.0%\n"
     ]
    }
   ],
   "source": [
    "print(\"Accuracies:\")\n",
    "print(accuracies_nb)\n",
    "print('\\n')\n",
    "print(\"RESULTS:\")\n",
    "print(f\"  - Mean accuracy: {round(accuracies_nb.mean(), 2)*100}%\")\n",
    "print(f\"  - Accuracy std dev: {round(accuracies_nb.std(), 2)*100}%\")"
   ]
  },
  {
   "cell_type": "code",
   "execution_count": 24,
   "metadata": {},
   "outputs": [],
   "source": [
    "df_results_nb = pd.DataFrame([{\n",
    "    'model':'Naive Bayes', \n",
    "    'time_fit':clock_fit_nb, 'time_predict':clock_predict_nb,\n",
    "    'time_10_fold_CV':clock_10FCV_nb,\n",
    "    'accuracy':acc_nb, 'acc_10_fold':accuracies_nb.mean()}])"
   ]
  },
  {
   "cell_type": "code",
   "execution_count": 25,
   "metadata": {},
   "outputs": [],
   "source": [
    "df_results_nb = df_results_nb[['model','time_fit','time_predict','time_10_fold_CV','accuracy','acc_10_fold']]"
   ]
  },
  {
   "cell_type": "code",
   "execution_count": 26,
   "metadata": {},
   "outputs": [],
   "source": [
    "df_results = df_results_nb"
   ]
  },
  {
   "cell_type": "code",
   "execution_count": 27,
   "metadata": {
    "scrolled": true
   },
   "outputs": [
    {
     "data": {
      "text/html": [
       "<div>\n",
       "<style scoped>\n",
       "    .dataframe tbody tr th:only-of-type {\n",
       "        vertical-align: middle;\n",
       "    }\n",
       "\n",
       "    .dataframe tbody tr th {\n",
       "        vertical-align: top;\n",
       "    }\n",
       "\n",
       "    .dataframe thead th {\n",
       "        text-align: right;\n",
       "    }\n",
       "</style>\n",
       "<table border=\"1\" class=\"dataframe\">\n",
       "  <thead>\n",
       "    <tr style=\"text-align: right;\">\n",
       "      <th></th>\n",
       "      <th>model</th>\n",
       "      <th>time_fit</th>\n",
       "      <th>time_predict</th>\n",
       "      <th>time_10_fold_CV</th>\n",
       "      <th>accuracy</th>\n",
       "      <th>acc_10_fold</th>\n",
       "    </tr>\n",
       "  </thead>\n",
       "  <tbody>\n",
       "    <tr>\n",
       "      <th>0</th>\n",
       "      <td>Naive Bayes</td>\n",
       "      <td>0.101767</td>\n",
       "      <td>0.03627</td>\n",
       "      <td>1.535787</td>\n",
       "      <td>0.623551</td>\n",
       "      <td>0.624725</td>\n",
       "    </tr>\n",
       "  </tbody>\n",
       "</table>\n",
       "</div>"
      ],
      "text/plain": [
       "         model  time_fit  time_predict  time_10_fold_CV  accuracy  acc_10_fold\n",
       "0  Naive Bayes  0.101767       0.03627         1.535787  0.623551     0.624725"
      ]
     },
     "execution_count": 27,
     "metadata": {},
     "output_type": "execute_result"
    }
   ],
   "source": [
    "df_results"
   ]
  },
  {
   "cell_type": "code",
   "execution_count": 48,
   "metadata": {},
   "outputs": [],
   "source": [
    "#==============================================================================\n",
    "#\n",
    "# LOGISTIC REGRESSION\n",
    "#\n",
    "#=============================================================================="
   ]
  },
  {
   "cell_type": "code",
   "execution_count": 28,
   "metadata": {},
   "outputs": [
    {
     "name": "stdout",
     "output_type": "stream",
     "text": [
      "Runtime, fit: 1.82 sec\n"
     ]
    }
   ],
   "source": [
    "#-----------------------------------------\n",
    "# FIT MODEL\n",
    "\n",
    "start_clock = time.clock()\n",
    "\n",
    "# Logistic regression\n",
    "classifier_LogReg = LogisticRegression(random_state=101)\n",
    "classifier_LogReg.fit(X_train, y_train)\n",
    "\n",
    "end_clock = time.clock()\n",
    "\n",
    "clock_fit_LogReg = end_clock - start_clock\n",
    "print('Runtime, fit: ', round(clock_fit_LogReg, 2), ' sec', sep='')"
   ]
  },
  {
   "cell_type": "code",
   "execution_count": 29,
   "metadata": {},
   "outputs": [
    {
     "name": "stdout",
     "output_type": "stream",
     "text": [
      "Runtime, predict: 0.01 sec\n"
     ]
    }
   ],
   "source": [
    "#-----------------------------------------\n",
    "# PREDICT TEST RESULTS\n",
    "\n",
    "start_clock = time.clock()\n",
    "\n",
    "y_pred_LogReg = classifier_LogReg.predict(X_test)\n",
    "\n",
    "end_clock = time.clock()\n",
    "\n",
    "clock_predict_LogReg = end_clock - start_clock\n",
    "print('Runtime, predict: ', round(clock_predict_LogReg, 2), ' sec', sep='')"
   ]
  },
  {
   "cell_type": "code",
   "execution_count": 30,
   "metadata": {},
   "outputs": [
    {
     "name": "stdout",
     "output_type": "stream",
     "text": [
      "[[ 7640  7314]\n",
      " [ 3495 16913]]\n",
      "\n",
      "\n",
      "             precision    recall  f1-score   support\n",
      "\n",
      "          0       0.69      0.51      0.59     14954\n",
      "          1       0.70      0.83      0.76     20408\n",
      "\n",
      "avg / total       0.69      0.69      0.69     35362\n",
      "\n"
     ]
    }
   ],
   "source": [
    "#-----------------------------------------\n",
    "# EVALUATE MODEL\n",
    "\n",
    "# Confusion matrix\n",
    "cm_LogReg = confusion_matrix(y_test, y_pred_LogReg)\n",
    "\n",
    "# Classification report\n",
    "cr_LogReg = classification_report(y_test, y_pred_LogReg)\n",
    "\n",
    "print(cm_LogReg)\n",
    "print(\"\\n\")\n",
    "print(cr_LogReg)"
   ]
  },
  {
   "cell_type": "code",
   "execution_count": 31,
   "metadata": {},
   "outputs": [],
   "source": [
    "acc_LogReg = cm_LogReg.diagonal().sum() / cm_LogReg.sum()"
   ]
  },
  {
   "cell_type": "code",
   "execution_count": 32,
   "metadata": {},
   "outputs": [
    {
     "data": {
      "text/plain": [
       "0.6943328997228664"
      ]
     },
     "execution_count": 32,
     "metadata": {},
     "output_type": "execute_result"
    }
   ],
   "source": [
    "acc_LogReg"
   ]
  },
  {
   "cell_type": "code",
   "execution_count": 33,
   "metadata": {},
   "outputs": [
    {
     "name": "stdout",
     "output_type": "stream",
     "text": [
      "Runtime, 10-fold CV: 17.07 sec\n"
     ]
    }
   ],
   "source": [
    "#-----------------------------------------\n",
    "# APPLY K-FOLD CROSS VALIDATION\n",
    "\n",
    "start_clock = time.clock()\n",
    "\n",
    "accuracies_LogReg = cross_val_score(\n",
    "    estimator=classifier_LogReg, X=X_train, y=y_train,\n",
    "    cv=10)\n",
    "\n",
    "end_clock = time.clock()\n",
    "\n",
    "clock_10FCV_LogReg = end_clock - start_clock\n",
    "print('Runtime, 10-fold CV: ', round(clock_10FCV_LogReg, 2), ' sec', sep='')"
   ]
  },
  {
   "cell_type": "code",
   "execution_count": 34,
   "metadata": {},
   "outputs": [
    {
     "name": "stdout",
     "output_type": "stream",
     "text": [
      "Accuracies:\n",
      "[0.68840716 0.69189444 0.69111132 0.68052413 0.69051659 0.69504148\n",
      " 0.69334465 0.68344646 0.69692685 0.68863122]\n",
      "\n",
      "\n",
      "RESULTS:\n",
      "  - Mean accuracy: 69.0%\n",
      "  - Accuracy std dev: 0.0%\n"
     ]
    }
   ],
   "source": [
    "print(\"Accuracies:\")\n",
    "print(accuracies_LogReg)\n",
    "print('\\n')\n",
    "print(\"RESULTS:\")\n",
    "print(f\"  - Mean accuracy: {round(accuracies_LogReg.mean(), 2)*100}%\")\n",
    "print(f\"  - Accuracy std dev: {round(accuracies_LogReg.std(), 2)*100}%\")"
   ]
  },
  {
   "cell_type": "code",
   "execution_count": 35,
   "metadata": {},
   "outputs": [],
   "source": [
    "df_results_LogReg = pd.DataFrame([{\n",
    "    'model':'Logistic Regression', \n",
    "    'time_fit':clock_fit_LogReg, 'time_predict':clock_predict_LogReg,\n",
    "    'time_10_fold_CV':clock_10FCV_LogReg,\n",
    "    'accuracy':acc_LogReg, 'acc_10_fold':accuracies_LogReg.mean()}])\n",
    "df_results_LogReg = df_results_LogReg[['model','time_fit','time_predict','time_10_fold_CV','accuracy','acc_10_fold']]"
   ]
  },
  {
   "cell_type": "code",
   "execution_count": 36,
   "metadata": {},
   "outputs": [],
   "source": [
    "df_results = pd.DataFrame.append(df_results, df_results_LogReg).reset_index(drop=True)"
   ]
  },
  {
   "cell_type": "code",
   "execution_count": 37,
   "metadata": {
    "scrolled": true
   },
   "outputs": [
    {
     "data": {
      "text/html": [
       "<div>\n",
       "<style scoped>\n",
       "    .dataframe tbody tr th:only-of-type {\n",
       "        vertical-align: middle;\n",
       "    }\n",
       "\n",
       "    .dataframe tbody tr th {\n",
       "        vertical-align: top;\n",
       "    }\n",
       "\n",
       "    .dataframe thead th {\n",
       "        text-align: right;\n",
       "    }\n",
       "</style>\n",
       "<table border=\"1\" class=\"dataframe\">\n",
       "  <thead>\n",
       "    <tr style=\"text-align: right;\">\n",
       "      <th></th>\n",
       "      <th>model</th>\n",
       "      <th>time_fit</th>\n",
       "      <th>time_predict</th>\n",
       "      <th>time_10_fold_CV</th>\n",
       "      <th>accuracy</th>\n",
       "      <th>acc_10_fold</th>\n",
       "    </tr>\n",
       "  </thead>\n",
       "  <tbody>\n",
       "    <tr>\n",
       "      <th>0</th>\n",
       "      <td>Naive Bayes</td>\n",
       "      <td>0.101767</td>\n",
       "      <td>0.036270</td>\n",
       "      <td>1.535787</td>\n",
       "      <td>0.623551</td>\n",
       "      <td>0.624725</td>\n",
       "    </tr>\n",
       "    <tr>\n",
       "      <th>1</th>\n",
       "      <td>Logistic Regression</td>\n",
       "      <td>1.822522</td>\n",
       "      <td>0.009085</td>\n",
       "      <td>17.069607</td>\n",
       "      <td>0.694333</td>\n",
       "      <td>0.689984</td>\n",
       "    </tr>\n",
       "  </tbody>\n",
       "</table>\n",
       "</div>"
      ],
      "text/plain": [
       "                 model  time_fit  time_predict  time_10_fold_CV  accuracy  \\\n",
       "0          Naive Bayes  0.101767      0.036270         1.535787  0.623551   \n",
       "1  Logistic Regression  1.822522      0.009085        17.069607  0.694333   \n",
       "\n",
       "   acc_10_fold  \n",
       "0     0.624725  \n",
       "1     0.689984  "
      ]
     },
     "execution_count": 37,
     "metadata": {},
     "output_type": "execute_result"
    }
   ],
   "source": [
    "df_results"
   ]
  },
  {
   "cell_type": "code",
   "execution_count": null,
   "metadata": {},
   "outputs": [],
   "source": [
    "#==============================================================================\n",
    "#\n",
    "# K NEAREST NEIGHBORS\n",
    "#\n",
    "#=============================================================================="
   ]
  },
  {
   "cell_type": "code",
   "execution_count": 38,
   "metadata": {},
   "outputs": [
    {
     "name": "stdout",
     "output_type": "stream",
     "text": [
      "Runtime, fit: 7.34 sec\n"
     ]
    }
   ],
   "source": [
    "#-----------------------------------------\n",
    "# FIT MODEL\n",
    "\n",
    "start_clock = time.clock()\n",
    "\n",
    "# KNN\n",
    "classifier_knn = KNeighborsClassifier(n_neighbors=5, metric=\"minkowski\", p=2)\n",
    "classifier_knn.fit(X_train, y_train)\n",
    "\n",
    "end_clock = time.clock()\n",
    "\n",
    "clock_fit_knn = end_clock - start_clock\n",
    "print('Runtime, fit: ', round(clock_fit_knn, 2), ' sec', sep='')"
   ]
  },
  {
   "cell_type": "code",
   "execution_count": 39,
   "metadata": {},
   "outputs": [
    {
     "name": "stdout",
     "output_type": "stream",
     "text": [
      "Runtime, predict: 101.32 sec\n"
     ]
    }
   ],
   "source": [
    "#-----------------------------------------\n",
    "# PREDICT TEST RESULTS\n",
    "\n",
    "start_clock = time.clock()\n",
    "\n",
    "y_pred_knn = classifier_knn.predict(X_test)\n",
    "\n",
    "end_clock = time.clock()\n",
    "\n",
    "clock_predict_knn = end_clock - start_clock\n",
    "print('Runtime, predict: ', round(clock_predict_knn, 2), ' sec', sep='')"
   ]
  },
  {
   "cell_type": "code",
   "execution_count": 40,
   "metadata": {},
   "outputs": [
    {
     "name": "stdout",
     "output_type": "stream",
     "text": [
      "[[ 8483  6471]\n",
      " [ 4748 15660]]\n",
      "\n",
      "\n",
      "             precision    recall  f1-score   support\n",
      "\n",
      "          0       0.64      0.57      0.60     14954\n",
      "          1       0.71      0.77      0.74     20408\n",
      "\n",
      "avg / total       0.68      0.68      0.68     35362\n",
      "\n"
     ]
    }
   ],
   "source": [
    "#-----------------------------------------\n",
    "# EVALUATE MODEL\n",
    "\n",
    "# Confusion matrix\n",
    "cm_knn = confusion_matrix(y_test, y_pred_knn)\n",
    "\n",
    "# Classification report\n",
    "cr_knn = classification_report(y_test, y_pred_knn)\n",
    "\n",
    "print(cm_knn)\n",
    "print(\"\\n\")\n",
    "print(cr_knn)"
   ]
  },
  {
   "cell_type": "code",
   "execution_count": 41,
   "metadata": {},
   "outputs": [
    {
     "data": {
      "text/plain": [
       "0.6827385328884112"
      ]
     },
     "execution_count": 41,
     "metadata": {},
     "output_type": "execute_result"
    }
   ],
   "source": [
    "acc_knn = cm_knn.diagonal().sum() / cm_knn.sum()\n",
    "acc_knn"
   ]
  },
  {
   "cell_type": "code",
   "execution_count": 43,
   "metadata": {},
   "outputs": [
    {
     "name": "stdout",
     "output_type": "stream",
     "text": [
      "10-fold CV estimated time:  18.11  min\n"
     ]
    }
   ],
   "source": [
    "#-----------------------------------------\n",
    "# APPLY K-FOLD CROSS VALIDATION\n",
    "\n",
    "# 10-fold cross validation time estimate:\n",
    "print('10-fold CV estimated time: ', \n",
    "      round((clock_fit_knn + clock_predict_knn)*10/60, 2), \n",
    "      ' min')"
   ]
  },
  {
   "cell_type": "code",
   "execution_count": 44,
   "metadata": {},
   "outputs": [
    {
     "name": "stdout",
     "output_type": "stream",
     "text": [
      "Runtime, 10-fold CV: 344.23 sec\n"
     ]
    }
   ],
   "source": [
    "start_clock = time.clock()\n",
    "\n",
    "accuracies_knn = cross_val_score(\n",
    "    estimator=classifier_knn, X=X_train, y=y_train,\n",
    "    cv=10)\n",
    "\n",
    "end_clock = time.clock()\n",
    "\n",
    "clock_10FCV_knn = end_clock - start_clock\n",
    "print('Runtime, 10-fold CV: ', round(clock_10FCV_knn, 2), ' sec', sep='')"
   ]
  },
  {
   "cell_type": "code",
   "execution_count": 45,
   "metadata": {},
   "outputs": [
    {
     "name": "stdout",
     "output_type": "stream",
     "text": [
      "Accuracies:\n",
      "[0.6736098  0.66993402 0.6820624  0.66355581 0.68231523 0.68137255\n",
      " 0.67458522 0.6770362  0.67449095 0.67911011]\n",
      "\n",
      "\n",
      "RESULTS:\n",
      "  - Mean accuracy: 68.0%\n",
      "  - Accuracy std dev: 1.0%\n"
     ]
    }
   ],
   "source": [
    "print(\"Accuracies:\")\n",
    "print(accuracies_knn)\n",
    "print('\\n')\n",
    "print(\"RESULTS:\")\n",
    "print(f\"  - Mean accuracy: {round(accuracies_knn.mean(), 2)*100}%\")\n",
    "print(f\"  - Accuracy std dev: {round(accuracies_knn.std(), 2)*100}%\")"
   ]
  },
  {
   "cell_type": "code",
   "execution_count": 46,
   "metadata": {},
   "outputs": [],
   "source": [
    "df_results_knn = pd.DataFrame([{\n",
    "    'model':'K Nearest Neighbors', \n",
    "    'time_fit':clock_fit_knn, 'time_predict':clock_predict_knn,\n",
    "    'time_10_fold_CV':clock_10FCV_knn,\n",
    "    'accuracy':acc_knn, 'acc_10_fold':accuracies_knn.mean()}])\n",
    "df_results_knn = df_results_knn[['model','time_fit','time_predict','time_10_fold_CV','accuracy','acc_10_fold']]"
   ]
  },
  {
   "cell_type": "code",
   "execution_count": 47,
   "metadata": {},
   "outputs": [],
   "source": [
    "df_results = pd.DataFrame.append(df_results, df_results_knn).reset_index(drop=True)"
   ]
  },
  {
   "cell_type": "code",
   "execution_count": 48,
   "metadata": {
    "scrolled": true
   },
   "outputs": [
    {
     "data": {
      "text/html": [
       "<div>\n",
       "<style scoped>\n",
       "    .dataframe tbody tr th:only-of-type {\n",
       "        vertical-align: middle;\n",
       "    }\n",
       "\n",
       "    .dataframe tbody tr th {\n",
       "        vertical-align: top;\n",
       "    }\n",
       "\n",
       "    .dataframe thead th {\n",
       "        text-align: right;\n",
       "    }\n",
       "</style>\n",
       "<table border=\"1\" class=\"dataframe\">\n",
       "  <thead>\n",
       "    <tr style=\"text-align: right;\">\n",
       "      <th></th>\n",
       "      <th>model</th>\n",
       "      <th>time_fit</th>\n",
       "      <th>time_predict</th>\n",
       "      <th>time_10_fold_CV</th>\n",
       "      <th>accuracy</th>\n",
       "      <th>acc_10_fold</th>\n",
       "    </tr>\n",
       "  </thead>\n",
       "  <tbody>\n",
       "    <tr>\n",
       "      <th>0</th>\n",
       "      <td>Naive Bayes</td>\n",
       "      <td>0.101767</td>\n",
       "      <td>0.036270</td>\n",
       "      <td>1.535787</td>\n",
       "      <td>0.623551</td>\n",
       "      <td>0.624725</td>\n",
       "    </tr>\n",
       "    <tr>\n",
       "      <th>1</th>\n",
       "      <td>Logistic Regression</td>\n",
       "      <td>1.822522</td>\n",
       "      <td>0.009085</td>\n",
       "      <td>17.069607</td>\n",
       "      <td>0.694333</td>\n",
       "      <td>0.689984</td>\n",
       "    </tr>\n",
       "    <tr>\n",
       "      <th>2</th>\n",
       "      <td>K Nearest Neighbors</td>\n",
       "      <td>7.340739</td>\n",
       "      <td>101.319590</td>\n",
       "      <td>344.234214</td>\n",
       "      <td>0.682739</td>\n",
       "      <td>0.675807</td>\n",
       "    </tr>\n",
       "  </tbody>\n",
       "</table>\n",
       "</div>"
      ],
      "text/plain": [
       "                 model  time_fit  time_predict  time_10_fold_CV  accuracy  \\\n",
       "0          Naive Bayes  0.101767      0.036270         1.535787  0.623551   \n",
       "1  Logistic Regression  1.822522      0.009085        17.069607  0.694333   \n",
       "2  K Nearest Neighbors  7.340739    101.319590       344.234214  0.682739   \n",
       "\n",
       "   acc_10_fold  \n",
       "0     0.624725  \n",
       "1     0.689984  \n",
       "2     0.675807  "
      ]
     },
     "execution_count": 48,
     "metadata": {},
     "output_type": "execute_result"
    }
   ],
   "source": [
    "df_results"
   ]
  },
  {
   "cell_type": "code",
   "execution_count": 49,
   "metadata": {},
   "outputs": [],
   "source": [
    "#==============================================================================\n",
    "#\n",
    "# SUPPORT VECTOR MACHINE\n",
    "#\n",
    "#=============================================================================="
   ]
  },
  {
   "cell_type": "code",
   "execution_count": 54,
   "metadata": {},
   "outputs": [
    {
     "name": "stdout",
     "output_type": "stream",
     "text": [
      "Runtime, fit: 954.38 sec\n"
     ]
    }
   ],
   "source": [
    "#-----------------------------------------\n",
    "# FIT MODEL\n",
    "\n",
    "start_clock = time.clock()\n",
    "\n",
    "# SVM\n",
    "classifier_svm_linear = SVC(kernel=\"linear\", random_state=101)\n",
    "classifier_svm_linear.fit(X_train, y_train)\n",
    "\n",
    "end_clock = time.clock()\n",
    "\n",
    "clock_fit_svm_linear = end_clock - start_clock\n",
    "print('Runtime, fit: ', round(clock_fit_svm_linear, 2), ' sec', sep='')"
   ]
  },
  {
   "cell_type": "code",
   "execution_count": 55,
   "metadata": {},
   "outputs": [
    {
     "name": "stdout",
     "output_type": "stream",
     "text": [
      "Runtime, predict: 90.73 sec\n"
     ]
    }
   ],
   "source": [
    "#-----------------------------------------\n",
    "# PREDICT TEST RESULTS\n",
    "\n",
    "start_clock = time.clock()\n",
    "\n",
    "y_pred_svm_linear = classifier_svm_linear.predict(X_test)\n",
    "\n",
    "end_clock = time.clock()\n",
    "\n",
    "clock_predict_svm_linear = end_clock - start_clock\n",
    "print('Runtime, predict: ', round(clock_predict_svm_linear, 2), ' sec', sep='')"
   ]
  },
  {
   "cell_type": "code",
   "execution_count": 56,
   "metadata": {},
   "outputs": [
    {
     "name": "stdout",
     "output_type": "stream",
     "text": [
      "[[ 6532  8422]\n",
      " [ 2994 17414]]\n",
      "\n",
      "\n",
      "             precision    recall  f1-score   support\n",
      "\n",
      "          0       0.69      0.44      0.53     14954\n",
      "          1       0.67      0.85      0.75     20408\n",
      "\n",
      "avg / total       0.68      0.68      0.66     35362\n",
      "\n"
     ]
    }
   ],
   "source": [
    "#-----------------------------------------\n",
    "# EVALUATE MODEL\n",
    "\n",
    "# Confusion matrix\n",
    "cm_svm_linear = confusion_matrix(y_test, y_pred_svm_linear)\n",
    "\n",
    "# Classification report\n",
    "cr_svm_linear = classification_report(y_test, y_pred_svm_linear)\n",
    "\n",
    "print(cm_svm_linear)\n",
    "print(\"\\n\")\n",
    "print(cr_svm_linear)"
   ]
  },
  {
   "cell_type": "code",
   "execution_count": 57,
   "metadata": {},
   "outputs": [
    {
     "data": {
      "text/plain": [
       "0.6771675810191731"
      ]
     },
     "execution_count": 57,
     "metadata": {},
     "output_type": "execute_result"
    }
   ],
   "source": [
    "acc_svm_linear = cm_svm_linear.diagonal().sum() / cm_svm_linear.sum()\n",
    "acc_svm_linear"
   ]
  },
  {
   "cell_type": "code",
   "execution_count": 58,
   "metadata": {},
   "outputs": [
    {
     "name": "stdout",
     "output_type": "stream",
     "text": [
      "10-fold CV estimated time:  2.9  hours\n"
     ]
    }
   ],
   "source": [
    "#-----------------------------------------\n",
    "# APPLY K-FOLD CROSS VALIDATION\n",
    "\n",
    "# 10-fold cross validation time estimate:\n",
    "print('10-fold CV estimated time: ', \n",
    "      round((clock_fit_svm_linear + clock_predict_svm_linear)*10/60/60, 2), \n",
    "      ' hours')"
   ]
  },
  {
   "cell_type": "code",
   "execution_count": null,
   "metadata": {},
   "outputs": [],
   "source": [
    "# *** TIME-INTENSIVE ***\n",
    "\"\"\"start_clock = time.clock()\n",
    "\n",
    "accuracies_svm = cross_val_score(\n",
    "    estimator=classifier_svm, X=X_train, y=y_train,\n",
    "    cv=10)\n",
    "\n",
    "end_clock = time.clock()\n",
    "\n",
    "clock_10FCV_svm = end_clock - start_clock\n",
    "print('Runtime, 10-fold CV: ', round(clock_10FCV_svm, 2), ' sec', sep='')\"\"\""
   ]
  },
  {
   "cell_type": "code",
   "execution_count": 59,
   "metadata": {},
   "outputs": [
    {
     "name": "stdout",
     "output_type": "stream",
     "text": [
      "No 10-fold CV time to report\n"
     ]
    }
   ],
   "source": [
    "try:\n",
    "    clock_10FCV_svm_linear\n",
    "except:\n",
    "    clock_10FCV_svm_linear = None\n",
    "    print(\"No 10-fold CV time to report\")"
   ]
  },
  {
   "cell_type": "code",
   "execution_count": 60,
   "metadata": {},
   "outputs": [
    {
     "name": "stdout",
     "output_type": "stream",
     "text": [
      "No K-fold CV accuracies to report\n"
     ]
    }
   ],
   "source": [
    "try:\n",
    "    accuracies_svm_linear\n",
    "except:\n",
    "    accuracy_10FCV_mean_svm_linear = None\n",
    "    print(\"No K-fold CV accuracies to report\")\n",
    "else:\n",
    "    accuracy_10FCV_mean_svm_linear = accuracies_svm_linear.mean()\n",
    "    print(\"Accuracies:\")\n",
    "    print(accuracies_svm_linear)\n",
    "    print('\\n')\n",
    "    print(\"RESULTS:\")\n",
    "    print(f\"  - Mean accuracy: {round(accuracies_svm_linear.mean(),4)*100}%\")\n",
    "    print(f\"  - Accuracy std dev: {round(accuracies_svm_linear.std(),4)*100}%\")"
   ]
  },
  {
   "cell_type": "code",
   "execution_count": 61,
   "metadata": {},
   "outputs": [],
   "source": [
    "df_results_svm_linear = pd.DataFrame([{\n",
    "    'model':'SVM, Linear', \n",
    "    'time_fit':clock_fit_svm_linear, 'time_predict':clock_predict_svm_linear,\n",
    "    'time_10_fold_CV':clock_10FCV_svm_linear,\n",
    "    'accuracy':acc_svm_linear, 'acc_10_fold':accuracy_10FCV_mean_svm_linear}])\n",
    "df_results_svm_linear = df_results_svm_linear[['model','time_fit','time_predict','time_10_fold_CV','accuracy','acc_10_fold']]"
   ]
  },
  {
   "cell_type": "code",
   "execution_count": 62,
   "metadata": {},
   "outputs": [],
   "source": [
    "df_results = pd.DataFrame.append(df_results, df_results_svm_linear).reset_index(drop=True)"
   ]
  },
  {
   "cell_type": "code",
   "execution_count": 63,
   "metadata": {
    "scrolled": true
   },
   "outputs": [
    {
     "data": {
      "text/html": [
       "<div>\n",
       "<style scoped>\n",
       "    .dataframe tbody tr th:only-of-type {\n",
       "        vertical-align: middle;\n",
       "    }\n",
       "\n",
       "    .dataframe tbody tr th {\n",
       "        vertical-align: top;\n",
       "    }\n",
       "\n",
       "    .dataframe thead th {\n",
       "        text-align: right;\n",
       "    }\n",
       "</style>\n",
       "<table border=\"1\" class=\"dataframe\">\n",
       "  <thead>\n",
       "    <tr style=\"text-align: right;\">\n",
       "      <th></th>\n",
       "      <th>model</th>\n",
       "      <th>time_fit</th>\n",
       "      <th>time_predict</th>\n",
       "      <th>time_10_fold_CV</th>\n",
       "      <th>accuracy</th>\n",
       "      <th>acc_10_fold</th>\n",
       "    </tr>\n",
       "  </thead>\n",
       "  <tbody>\n",
       "    <tr>\n",
       "      <th>0</th>\n",
       "      <td>Naive Bayes</td>\n",
       "      <td>0.101767</td>\n",
       "      <td>0.036270</td>\n",
       "      <td>1.53579</td>\n",
       "      <td>0.623551</td>\n",
       "      <td>0.624725</td>\n",
       "    </tr>\n",
       "    <tr>\n",
       "      <th>1</th>\n",
       "      <td>Logistic Regression</td>\n",
       "      <td>1.822522</td>\n",
       "      <td>0.009085</td>\n",
       "      <td>17.0696</td>\n",
       "      <td>0.694333</td>\n",
       "      <td>0.689984</td>\n",
       "    </tr>\n",
       "    <tr>\n",
       "      <th>2</th>\n",
       "      <td>K Nearest Neighbors</td>\n",
       "      <td>7.340739</td>\n",
       "      <td>101.319590</td>\n",
       "      <td>344.234</td>\n",
       "      <td>0.682739</td>\n",
       "      <td>0.675807</td>\n",
       "    </tr>\n",
       "    <tr>\n",
       "      <th>3</th>\n",
       "      <td>SVM, Linear</td>\n",
       "      <td>954.375944</td>\n",
       "      <td>90.726687</td>\n",
       "      <td>None</td>\n",
       "      <td>0.677168</td>\n",
       "      <td>None</td>\n",
       "    </tr>\n",
       "  </tbody>\n",
       "</table>\n",
       "</div>"
      ],
      "text/plain": [
       "                 model    time_fit  time_predict time_10_fold_CV  accuracy  \\\n",
       "0          Naive Bayes    0.101767      0.036270         1.53579  0.623551   \n",
       "1  Logistic Regression    1.822522      0.009085         17.0696  0.694333   \n",
       "2  K Nearest Neighbors    7.340739    101.319590         344.234  0.682739   \n",
       "3          SVM, Linear  954.375944     90.726687            None  0.677168   \n",
       "\n",
       "  acc_10_fold  \n",
       "0    0.624725  \n",
       "1    0.689984  \n",
       "2    0.675807  \n",
       "3        None  "
      ]
     },
     "execution_count": 63,
     "metadata": {},
     "output_type": "execute_result"
    }
   ],
   "source": [
    "df_results"
   ]
  },
  {
   "cell_type": "code",
   "execution_count": null,
   "metadata": {},
   "outputs": [],
   "source": [
    "#==============================================================================\n",
    "#\n",
    "# SUPPORT VECTOR MACHINE, KERNEL RBF\n",
    "#\n",
    "#=============================================================================="
   ]
  },
  {
   "cell_type": "code",
   "execution_count": 64,
   "metadata": {},
   "outputs": [
    {
     "name": "stdout",
     "output_type": "stream",
     "text": [
      "Runtime, fit: 1091.78 sec\n"
     ]
    }
   ],
   "source": [
    "#-----------------------------------------\n",
    "# FIT MODEL\n",
    "\n",
    "start_clock = time.clock()\n",
    "\n",
    "# SVM\n",
    "classifier_svm_rbf = SVC(kernel=\"rbf\", random_state=101)\n",
    "classifier_svm_rbf.fit(X_train, y_train)\n",
    "\n",
    "end_clock = time.clock()\n",
    "\n",
    "clock_fit_svm_rbf = end_clock - start_clock\n",
    "print('Runtime, fit: ', round(clock_fit_svm_rbf, 2), ' sec', sep='')"
   ]
  },
  {
   "cell_type": "code",
   "execution_count": 65,
   "metadata": {},
   "outputs": [
    {
     "name": "stdout",
     "output_type": "stream",
     "text": [
      "Runtime, predict: 120.43 sec\n"
     ]
    }
   ],
   "source": [
    "#-----------------------------------------\n",
    "# PREDICT TEST RESULTS\n",
    "\n",
    "start_clock = time.clock()\n",
    "\n",
    "y_pred_svm_rbf = classifier_svm_rbf.predict(X_test)\n",
    "\n",
    "end_clock = time.clock()\n",
    "\n",
    "clock_predict_svm_rbf = end_clock - start_clock\n",
    "print('Runtime, predict: ', round(clock_predict_svm_rbf, 2), ' sec', sep='')"
   ]
  },
  {
   "cell_type": "code",
   "execution_count": 66,
   "metadata": {},
   "outputs": [
    {
     "name": "stdout",
     "output_type": "stream",
     "text": [
      "[[ 7247  7707]\n",
      " [ 3506 16902]]\n",
      "\n",
      "\n",
      "             precision    recall  f1-score   support\n",
      "\n",
      "          0       0.67      0.48      0.56     14954\n",
      "          1       0.69      0.83      0.75     20408\n",
      "\n",
      "avg / total       0.68      0.68      0.67     35362\n",
      "\n"
     ]
    }
   ],
   "source": [
    "#-----------------------------------------\n",
    "# EVALUATE MODEL\n",
    "\n",
    "# Confusion matrix\n",
    "cm_svm_rbf = confusion_matrix(y_test, y_pred_svm_rbf)\n",
    "\n",
    "# Classification report\n",
    "cr_svm_rbf = classification_report(y_test, y_pred_svm_rbf)\n",
    "\n",
    "print(cm_svm_rbf)\n",
    "print(\"\\n\")\n",
    "print(cr_svm_rbf)"
   ]
  },
  {
   "cell_type": "code",
   "execution_count": 67,
   "metadata": {},
   "outputs": [
    {
     "data": {
      "text/plain": [
       "0.6829082065494033"
      ]
     },
     "execution_count": 67,
     "metadata": {},
     "output_type": "execute_result"
    }
   ],
   "source": [
    "acc_svm_rbf = cm_svm_rbf.diagonal().sum() / cm_svm_rbf.sum()\n",
    "acc_svm_rbf"
   ]
  },
  {
   "cell_type": "code",
   "execution_count": 68,
   "metadata": {},
   "outputs": [
    {
     "name": "stdout",
     "output_type": "stream",
     "text": [
      "10-fold CV estimated time:  3.37  hours\n"
     ]
    }
   ],
   "source": [
    "#-----------------------------------------\n",
    "# APPLY K-FOLD CROSS VALIDATION\n",
    "\n",
    "# 10-fold cross validation time estimate:\n",
    "print('10-fold CV estimated time: ', \n",
    "      round((clock_fit_svm_rbf + clock_predict_svm_rbf)*10/60/60, 2), \n",
    "      ' hours')"
   ]
  },
  {
   "cell_type": "code",
   "execution_count": 69,
   "metadata": {},
   "outputs": [
    {
     "data": {
      "text/plain": [
       "\"start_clock = time.clock()\\n\\naccuracies_svm_rbf = cross_val_score(\\n    estimator=classifier_svm_rbf, X=X_train, y=y_train,\\n    cv=10)\\n\\nend_clock = time.clock()\\n\\nclock_10FCV_svm_rbf = end_clock - start_clock\\nprint('Runtime, 10-fold CV: ', round(clock_10FCV_svm_rbf, 2), ' sec', sep='')\""
      ]
     },
     "execution_count": 69,
     "metadata": {},
     "output_type": "execute_result"
    }
   ],
   "source": [
    "# *** TIME-INTENSIVE ***\n",
    "\"\"\"start_clock = time.clock()\n",
    "\n",
    "accuracies_svm_rbf = cross_val_score(\n",
    "    estimator=classifier_svm_rbf, X=X_train, y=y_train,\n",
    "    cv=10)\n",
    "\n",
    "end_clock = time.clock()\n",
    "\n",
    "clock_10FCV_svm_rbf = end_clock - start_clock\n",
    "print('Runtime, 10-fold CV: ', round(clock_10FCV_svm_rbf, 2), ' sec', sep='')\"\"\""
   ]
  },
  {
   "cell_type": "code",
   "execution_count": 70,
   "metadata": {},
   "outputs": [
    {
     "name": "stdout",
     "output_type": "stream",
     "text": [
      "No 10-fold CV time to report\n"
     ]
    }
   ],
   "source": [
    "try:\n",
    "    clock_10FCV_svm_rbf\n",
    "except:\n",
    "    clock_10FCV_svm_rbf = None\n",
    "    print(\"No 10-fold CV time to report\")"
   ]
  },
  {
   "cell_type": "code",
   "execution_count": 71,
   "metadata": {},
   "outputs": [
    {
     "name": "stdout",
     "output_type": "stream",
     "text": [
      "No K-fold CV accuracies to report\n"
     ]
    }
   ],
   "source": [
    "try:\n",
    "    accuracies_svm_rbf\n",
    "except:\n",
    "    accuracy_10FCV_mean_svm_rbf = None\n",
    "    print(\"No K-fold CV accuracies to report\")\n",
    "else:\n",
    "    accuracy_10FCV_mean_svm_rbf = accuracies_svm_rbf.mean()\n",
    "    print(\"Accuracies:\")\n",
    "    print(accuracies_svm_rbf)\n",
    "    print('\\n')\n",
    "    print(\"RESULTS:\")\n",
    "    print(f\"  - Mean accuracy: {round(accuracies_svm_rbf.mean(), 2)*100}%\")\n",
    "    print(f\"  - Accuracy std dev: {round(accuracies_svm_rbf.std(), 2)*100}%\")"
   ]
  },
  {
   "cell_type": "code",
   "execution_count": 72,
   "metadata": {},
   "outputs": [],
   "source": [
    "df_results_svm_rbf = pd.DataFrame([{\n",
    "    'model':'SVM, RBF', \n",
    "    'time_fit':clock_fit_svm_rbf, 'time_predict':clock_predict_svm_rbf,\n",
    "    'time_10_fold_CV':clock_10FCV_svm_rbf,\n",
    "    'accuracy':acc_svm_rbf, 'acc_10_fold':accuracy_10FCV_mean_svm_rbf}])\n",
    "df_results_svm_rbf = df_results_svm_rbf[['model','time_fit','time_predict','time_10_fold_CV','accuracy','acc_10_fold']]"
   ]
  },
  {
   "cell_type": "code",
   "execution_count": 73,
   "metadata": {},
   "outputs": [],
   "source": [
    "df_results = pd.DataFrame.append(df_results, df_results_svm_rbf).reset_index(drop=True)"
   ]
  },
  {
   "cell_type": "code",
   "execution_count": 74,
   "metadata": {
    "scrolled": false
   },
   "outputs": [
    {
     "data": {
      "text/html": [
       "<div>\n",
       "<style scoped>\n",
       "    .dataframe tbody tr th:only-of-type {\n",
       "        vertical-align: middle;\n",
       "    }\n",
       "\n",
       "    .dataframe tbody tr th {\n",
       "        vertical-align: top;\n",
       "    }\n",
       "\n",
       "    .dataframe thead th {\n",
       "        text-align: right;\n",
       "    }\n",
       "</style>\n",
       "<table border=\"1\" class=\"dataframe\">\n",
       "  <thead>\n",
       "    <tr style=\"text-align: right;\">\n",
       "      <th></th>\n",
       "      <th>model</th>\n",
       "      <th>time_fit</th>\n",
       "      <th>time_predict</th>\n",
       "      <th>time_10_fold_CV</th>\n",
       "      <th>accuracy</th>\n",
       "      <th>acc_10_fold</th>\n",
       "    </tr>\n",
       "  </thead>\n",
       "  <tbody>\n",
       "    <tr>\n",
       "      <th>0</th>\n",
       "      <td>Naive Bayes</td>\n",
       "      <td>0.101767</td>\n",
       "      <td>0.036270</td>\n",
       "      <td>1.53579</td>\n",
       "      <td>0.623551</td>\n",
       "      <td>0.624725</td>\n",
       "    </tr>\n",
       "    <tr>\n",
       "      <th>1</th>\n",
       "      <td>Logistic Regression</td>\n",
       "      <td>1.822522</td>\n",
       "      <td>0.009085</td>\n",
       "      <td>17.0696</td>\n",
       "      <td>0.694333</td>\n",
       "      <td>0.689984</td>\n",
       "    </tr>\n",
       "    <tr>\n",
       "      <th>2</th>\n",
       "      <td>K Nearest Neighbors</td>\n",
       "      <td>7.340739</td>\n",
       "      <td>101.319590</td>\n",
       "      <td>344.234</td>\n",
       "      <td>0.682739</td>\n",
       "      <td>0.675807</td>\n",
       "    </tr>\n",
       "    <tr>\n",
       "      <th>3</th>\n",
       "      <td>SVM, Linear</td>\n",
       "      <td>954.375944</td>\n",
       "      <td>90.726687</td>\n",
       "      <td>None</td>\n",
       "      <td>0.677168</td>\n",
       "      <td>None</td>\n",
       "    </tr>\n",
       "    <tr>\n",
       "      <th>4</th>\n",
       "      <td>SVM, RBF</td>\n",
       "      <td>1091.777649</td>\n",
       "      <td>120.427602</td>\n",
       "      <td>None</td>\n",
       "      <td>0.682908</td>\n",
       "      <td>None</td>\n",
       "    </tr>\n",
       "  </tbody>\n",
       "</table>\n",
       "</div>"
      ],
      "text/plain": [
       "                 model     time_fit  time_predict time_10_fold_CV  accuracy  \\\n",
       "0          Naive Bayes     0.101767      0.036270         1.53579  0.623551   \n",
       "1  Logistic Regression     1.822522      0.009085         17.0696  0.694333   \n",
       "2  K Nearest Neighbors     7.340739    101.319590         344.234  0.682739   \n",
       "3          SVM, Linear   954.375944     90.726687            None  0.677168   \n",
       "4             SVM, RBF  1091.777649    120.427602            None  0.682908   \n",
       "\n",
       "  acc_10_fold  \n",
       "0    0.624725  \n",
       "1    0.689984  \n",
       "2    0.675807  \n",
       "3        None  \n",
       "4        None  "
      ]
     },
     "execution_count": 74,
     "metadata": {},
     "output_type": "execute_result"
    }
   ],
   "source": [
    "df_results"
   ]
  },
  {
   "cell_type": "code",
   "execution_count": null,
   "metadata": {},
   "outputs": [],
   "source": [
    "#==============================================================================\n",
    "#\n",
    "# DECISION TREE CLASSIFICATION\n",
    "#\n",
    "#=============================================================================="
   ]
  },
  {
   "cell_type": "code",
   "execution_count": 75,
   "metadata": {},
   "outputs": [
    {
     "name": "stdout",
     "output_type": "stream",
     "text": [
      "Runtime, fit: 0.44 sec\n"
     ]
    }
   ],
   "source": [
    "#-----------------------------------------\n",
    "# FIT MODEL\n",
    "\n",
    "start_clock = time.clock()\n",
    "\n",
    "# Decision tree\n",
    "classifier_dt = DecisionTreeClassifier(criterion=\"entropy\", random_state=101)\n",
    "classifier_dt.fit(X_train, y_train)\n",
    "\n",
    "end_clock = time.clock()\n",
    "\n",
    "clock_fit_dt = end_clock - start_clock\n",
    "print('Runtime, fit: ', round(clock_fit_dt, 2), ' sec', sep='')"
   ]
  },
  {
   "cell_type": "code",
   "execution_count": 76,
   "metadata": {},
   "outputs": [
    {
     "name": "stdout",
     "output_type": "stream",
     "text": [
      "Runtime, predict: 0.01 sec\n"
     ]
    }
   ],
   "source": [
    "#-----------------------------------------\n",
    "# PREDICT TEST RESULTS\n",
    "\n",
    "start_clock = time.clock()\n",
    "\n",
    "y_pred_dt = classifier_dt.predict(X_test)\n",
    "\n",
    "end_clock = time.clock()\n",
    "\n",
    "clock_predict_dt = end_clock - start_clock\n",
    "print('Runtime, predict: ', round(clock_predict_dt, 2), ' sec', sep='')"
   ]
  },
  {
   "cell_type": "code",
   "execution_count": 77,
   "metadata": {},
   "outputs": [
    {
     "name": "stdout",
     "output_type": "stream",
     "text": [
      "[[ 8893  6061]\n",
      " [ 5808 14600]]\n",
      "\n",
      "\n",
      "             precision    recall  f1-score   support\n",
      "\n",
      "          0       0.60      0.59      0.60     14954\n",
      "          1       0.71      0.72      0.71     20408\n",
      "\n",
      "avg / total       0.66      0.66      0.66     35362\n",
      "\n"
     ]
    }
   ],
   "source": [
    "#-----------------------------------------\n",
    "# EVALUATE MODEL\n",
    "\n",
    "# Confusion matrix\n",
    "cm_dt = confusion_matrix(y_test, y_pred_dt)\n",
    "\n",
    "# Classification report\n",
    "cr_dt = classification_report(y_test, y_pred_dt)\n",
    "\n",
    "print(cm_dt)\n",
    "print(\"\\n\")\n",
    "print(cr_dt)"
   ]
  },
  {
   "cell_type": "code",
   "execution_count": 78,
   "metadata": {},
   "outputs": [
    {
     "data": {
      "text/plain": [
       "0.6643572196142752"
      ]
     },
     "execution_count": 78,
     "metadata": {},
     "output_type": "execute_result"
    }
   ],
   "source": [
    "acc_dt = cm_dt.diagonal().sum() / cm_dt.sum()\n",
    "acc_dt"
   ]
  },
  {
   "cell_type": "code",
   "execution_count": 79,
   "metadata": {},
   "outputs": [
    {
     "name": "stdout",
     "output_type": "stream",
     "text": [
      "10-fold CV estimated time:  4.52  sec\n"
     ]
    }
   ],
   "source": [
    "#-----------------------------------------\n",
    "# APPLY K-FOLD CROSS VALIDATION\n",
    "\n",
    "# 10-fold cross validation time estimate:\n",
    "print('10-fold CV estimated time: ', \n",
    "      round((clock_fit_dt + clock_predict_dt)*10, 2), \n",
    "      ' sec')"
   ]
  },
  {
   "cell_type": "code",
   "execution_count": 80,
   "metadata": {},
   "outputs": [
    {
     "name": "stdout",
     "output_type": "stream",
     "text": [
      "Runtime, 10-fold CV: 4.83 sec\n"
     ]
    }
   ],
   "source": [
    "start_clock = time.clock()\n",
    "\n",
    "accuracies_dt = cross_val_score(\n",
    "    estimator=classifier_dt, X=X_train, y=y_train,\n",
    "    cv=10)\n",
    "\n",
    "end_clock = time.clock()\n",
    "\n",
    "clock_10FCV_dt = end_clock - start_clock\n",
    "print('Runtime, 10-fold CV: ', round(clock_10FCV_dt, 2), ' sec', sep='')"
   ]
  },
  {
   "cell_type": "code",
   "execution_count": 81,
   "metadata": {},
   "outputs": [],
   "source": [
    "try:\n",
    "    clock_10FCV_dt\n",
    "except:\n",
    "    clock_10FCV_dt = None\n",
    "    print(\"No 10-fold CV time to report\")"
   ]
  },
  {
   "cell_type": "code",
   "execution_count": 82,
   "metadata": {},
   "outputs": [
    {
     "name": "stdout",
     "output_type": "stream",
     "text": [
      "Accuracies:\n",
      "[0.65230914 0.66399623 0.66556697 0.65177225 0.66855204 0.66826923\n",
      " 0.6578997  0.66581825 0.6683635  0.66289593]\n",
      "\n",
      "\n",
      "RESULTS:\n",
      "  - Mean accuracy: 66.0%\n",
      "  - Accuracy std dev: 1.0%\n"
     ]
    }
   ],
   "source": [
    "try:\n",
    "    accuracies_dt\n",
    "except:\n",
    "    accuracy_10FCV_mean_dt = None\n",
    "    print(\"No K-fold CV accuracies to report\")\n",
    "else:\n",
    "    accuracy_10FCV_mean_dt = accuracies_dt.mean()\n",
    "    print(\"Accuracies:\")\n",
    "    print(accuracies_dt)\n",
    "    print('\\n')\n",
    "    print(\"RESULTS:\")\n",
    "    print(f\"  - Mean accuracy: {round(accuracies_dt.mean(), 2)*100}%\")\n",
    "    print(f\"  - Accuracy std dev: {round(accuracies_dt.std(), 2)*100}%\")"
   ]
  },
  {
   "cell_type": "code",
   "execution_count": 83,
   "metadata": {},
   "outputs": [],
   "source": [
    "df_results_dt = pd.DataFrame([{\n",
    "    'model':'Decision Tree', \n",
    "    'time_fit':clock_fit_dt, 'time_predict':clock_predict_dt,\n",
    "    'time_10_fold_CV':clock_10FCV_dt,\n",
    "    'accuracy':acc_dt, 'acc_10_fold':accuracy_10FCV_mean_dt}])\n",
    "df_results_dt = df_results_dt[['model','time_fit','time_predict','time_10_fold_CV','accuracy','acc_10_fold']]"
   ]
  },
  {
   "cell_type": "code",
   "execution_count": 84,
   "metadata": {},
   "outputs": [],
   "source": [
    "df_results = pd.DataFrame.append(df_results, df_results_dt).reset_index(drop=True)"
   ]
  },
  {
   "cell_type": "code",
   "execution_count": 85,
   "metadata": {
    "scrolled": false
   },
   "outputs": [
    {
     "data": {
      "text/html": [
       "<div>\n",
       "<style scoped>\n",
       "    .dataframe tbody tr th:only-of-type {\n",
       "        vertical-align: middle;\n",
       "    }\n",
       "\n",
       "    .dataframe tbody tr th {\n",
       "        vertical-align: top;\n",
       "    }\n",
       "\n",
       "    .dataframe thead th {\n",
       "        text-align: right;\n",
       "    }\n",
       "</style>\n",
       "<table border=\"1\" class=\"dataframe\">\n",
       "  <thead>\n",
       "    <tr style=\"text-align: right;\">\n",
       "      <th></th>\n",
       "      <th>model</th>\n",
       "      <th>time_fit</th>\n",
       "      <th>time_predict</th>\n",
       "      <th>time_10_fold_CV</th>\n",
       "      <th>accuracy</th>\n",
       "      <th>acc_10_fold</th>\n",
       "    </tr>\n",
       "  </thead>\n",
       "  <tbody>\n",
       "    <tr>\n",
       "      <th>0</th>\n",
       "      <td>Naive Bayes</td>\n",
       "      <td>0.101767</td>\n",
       "      <td>0.036270</td>\n",
       "      <td>1.53579</td>\n",
       "      <td>0.623551</td>\n",
       "      <td>0.624725</td>\n",
       "    </tr>\n",
       "    <tr>\n",
       "      <th>1</th>\n",
       "      <td>Logistic Regression</td>\n",
       "      <td>1.822522</td>\n",
       "      <td>0.009085</td>\n",
       "      <td>17.0696</td>\n",
       "      <td>0.694333</td>\n",
       "      <td>0.689984</td>\n",
       "    </tr>\n",
       "    <tr>\n",
       "      <th>2</th>\n",
       "      <td>K Nearest Neighbors</td>\n",
       "      <td>7.340739</td>\n",
       "      <td>101.319590</td>\n",
       "      <td>344.234</td>\n",
       "      <td>0.682739</td>\n",
       "      <td>0.675807</td>\n",
       "    </tr>\n",
       "    <tr>\n",
       "      <th>3</th>\n",
       "      <td>SVM, Linear</td>\n",
       "      <td>954.375944</td>\n",
       "      <td>90.726687</td>\n",
       "      <td>None</td>\n",
       "      <td>0.677168</td>\n",
       "      <td>None</td>\n",
       "    </tr>\n",
       "    <tr>\n",
       "      <th>4</th>\n",
       "      <td>SVM, RBF</td>\n",
       "      <td>1091.777649</td>\n",
       "      <td>120.427602</td>\n",
       "      <td>None</td>\n",
       "      <td>0.682908</td>\n",
       "      <td>None</td>\n",
       "    </tr>\n",
       "    <tr>\n",
       "      <th>5</th>\n",
       "      <td>Decision Tree</td>\n",
       "      <td>0.437127</td>\n",
       "      <td>0.014542</td>\n",
       "      <td>4.82765</td>\n",
       "      <td>0.664357</td>\n",
       "      <td>0.662544</td>\n",
       "    </tr>\n",
       "  </tbody>\n",
       "</table>\n",
       "</div>"
      ],
      "text/plain": [
       "                 model     time_fit  time_predict time_10_fold_CV  accuracy  \\\n",
       "0          Naive Bayes     0.101767      0.036270         1.53579  0.623551   \n",
       "1  Logistic Regression     1.822522      0.009085         17.0696  0.694333   \n",
       "2  K Nearest Neighbors     7.340739    101.319590         344.234  0.682739   \n",
       "3          SVM, Linear   954.375944     90.726687            None  0.677168   \n",
       "4             SVM, RBF  1091.777649    120.427602            None  0.682908   \n",
       "5        Decision Tree     0.437127      0.014542         4.82765  0.664357   \n",
       "\n",
       "  acc_10_fold  \n",
       "0    0.624725  \n",
       "1    0.689984  \n",
       "2    0.675807  \n",
       "3        None  \n",
       "4        None  \n",
       "5    0.662544  "
      ]
     },
     "execution_count": 85,
     "metadata": {},
     "output_type": "execute_result"
    }
   ],
   "source": [
    "df_results"
   ]
  },
  {
   "cell_type": "code",
   "execution_count": null,
   "metadata": {},
   "outputs": [],
   "source": [
    "#==============================================================================\n",
    "#\n",
    "# RANDOM FOREST CLASSIFICATION (10 fold)\n",
    "#\n",
    "#=============================================================================="
   ]
  },
  {
   "cell_type": "code",
   "execution_count": 86,
   "metadata": {},
   "outputs": [
    {
     "name": "stdout",
     "output_type": "stream",
     "text": [
      "Runtime, fit: 1.02 sec\n"
     ]
    }
   ],
   "source": [
    "#-----------------------------------------\n",
    "# FIT MODEL\n",
    "\n",
    "start_clock = time.clock()\n",
    "\n",
    "# Decision tree\n",
    "classifier_rf10 = RandomForestClassifier(n_estimators=10, criterion=\"entropy\", random_state=101)\n",
    "classifier_rf10.fit(X_train, y_train)\n",
    "\n",
    "end_clock = time.clock()\n",
    "\n",
    "clock_fit_rf10 = end_clock - start_clock\n",
    "print('Runtime, fit: ', round(clock_fit_rf10, 2), ' sec', sep='')"
   ]
  },
  {
   "cell_type": "code",
   "execution_count": 87,
   "metadata": {},
   "outputs": [
    {
     "name": "stdout",
     "output_type": "stream",
     "text": [
      "Runtime, predict: 0.1 sec\n"
     ]
    }
   ],
   "source": [
    "#-----------------------------------------\n",
    "# PREDICT TEST RESULTS\n",
    "\n",
    "start_clock = time.clock()\n",
    "\n",
    "y_pred_rf10 = classifier_rf10.predict(X_test)\n",
    "\n",
    "end_clock = time.clock()\n",
    "\n",
    "clock_predict_rf10 = end_clock - start_clock\n",
    "print('Runtime, predict: ', round(clock_predict_rf10, 2), ' sec', sep='')"
   ]
  },
  {
   "cell_type": "code",
   "execution_count": 88,
   "metadata": {},
   "outputs": [
    {
     "name": "stdout",
     "output_type": "stream",
     "text": [
      "[[ 8789  6165]\n",
      " [ 5036 15372]]\n",
      "\n",
      "\n",
      "             precision    recall  f1-score   support\n",
      "\n",
      "          0       0.64      0.59      0.61     14954\n",
      "          1       0.71      0.75      0.73     20408\n",
      "\n",
      "avg / total       0.68      0.68      0.68     35362\n",
      "\n"
     ]
    }
   ],
   "source": [
    "#-----------------------------------------\n",
    "# EVALUATE MODEL\n",
    "\n",
    "# Confusion matrix\n",
    "cm_rf10 = confusion_matrix(y_test, y_pred_rf10)\n",
    "\n",
    "# Classification report\n",
    "cr_rf10 = classification_report(y_test, y_pred_rf10)\n",
    "\n",
    "print(cm_rf10)\n",
    "print(\"\\n\")\n",
    "print(cr_rf10)"
   ]
  },
  {
   "cell_type": "code",
   "execution_count": 89,
   "metadata": {},
   "outputs": [
    {
     "data": {
      "text/plain": [
       "0.6832475538713874"
      ]
     },
     "execution_count": 89,
     "metadata": {},
     "output_type": "execute_result"
    }
   ],
   "source": [
    "acc_rf10 = cm_rf10.diagonal().sum() / cm_rf10.sum()\n",
    "acc_rf10"
   ]
  },
  {
   "cell_type": "code",
   "execution_count": 90,
   "metadata": {},
   "outputs": [
    {
     "name": "stdout",
     "output_type": "stream",
     "text": [
      "10-fold CV estimated time:  11.21  sec\n"
     ]
    }
   ],
   "source": [
    "#-----------------------------------------\n",
    "# APPLY K-FOLD CROSS VALIDATION\n",
    "\n",
    "# 10-fold cross validation time estimate:\n",
    "print('10-fold CV estimated time: ', \n",
    "      round((clock_fit_rf10 + clock_predict_rf10)*10, 2), \n",
    "      ' sec')"
   ]
  },
  {
   "cell_type": "code",
   "execution_count": 91,
   "metadata": {},
   "outputs": [
    {
     "name": "stdout",
     "output_type": "stream",
     "text": [
      "Runtime, 10-fold CV: 10.46 sec\n"
     ]
    }
   ],
   "source": [
    "start_clock = time.clock()\n",
    "\n",
    "accuracies_rf10 = cross_val_score(\n",
    "    estimator=classifier_rf10, X=X_train, y=y_train,\n",
    "    cv=10)\n",
    "\n",
    "end_clock = time.clock()\n",
    "\n",
    "clock_10FCV_rf10 = end_clock - start_clock\n",
    "print('Runtime, 10-fold CV: ', round(clock_10FCV_rf10, 2), ' sec', sep='')"
   ]
  },
  {
   "cell_type": "code",
   "execution_count": 92,
   "metadata": {},
   "outputs": [],
   "source": [
    "try:\n",
    "    clock_10FCV_rf10\n",
    "except:\n",
    "    clock_10FCV_rf10 = None\n",
    "    print(\"No 10-fold CV time to report\")"
   ]
  },
  {
   "cell_type": "code",
   "execution_count": 93,
   "metadata": {},
   "outputs": [
    {
     "name": "stdout",
     "output_type": "stream",
     "text": [
      "Accuracies:\n",
      "[0.6797361  0.67917059 0.68620982 0.67062594 0.68514329 0.68712293\n",
      " 0.67647059 0.68174962 0.68325792 0.67835596]\n",
      "\n",
      "\n",
      "RESULTS:\n",
      "  - Mean accuracy: 68.0%\n",
      "  - Accuracy std dev: 0.0%\n"
     ]
    }
   ],
   "source": [
    "try:\n",
    "    accuracies_rf10\n",
    "except:\n",
    "    accuracy_10FCV_mean_rf10 = None\n",
    "    print(\"No K-fold CV accuracies to report\")\n",
    "else:\n",
    "    accuracy_10FCV_mean_rf10 = accuracies_rf10.mean()\n",
    "    print(\"Accuracies:\")\n",
    "    print(accuracies_rf10)\n",
    "    print('\\n')\n",
    "    print(\"RESULTS:\")\n",
    "    print(f\"  - Mean accuracy: {round(accuracies_rf10.mean(), 2)*100}%\")\n",
    "    print(f\"  - Accuracy std dev: {round(accuracies_rf10.std(), 2)*100}%\")"
   ]
  },
  {
   "cell_type": "code",
   "execution_count": 94,
   "metadata": {},
   "outputs": [],
   "source": [
    "df_results_rf10 = pd.DataFrame([{\n",
    "    'model':'Random Forest (10-fold)', \n",
    "    'time_fit':clock_fit_rf10, 'time_predict':clock_predict_rf10,\n",
    "    'time_10_fold_CV':clock_10FCV_rf10,\n",
    "    'accuracy':acc_rf10, 'acc_10_fold':accuracy_10FCV_mean_rf10}])\n",
    "df_results_rf10 = df_results_rf10[['model','time_fit','time_predict','time_10_fold_CV','accuracy','acc_10_fold']]"
   ]
  },
  {
   "cell_type": "code",
   "execution_count": 95,
   "metadata": {},
   "outputs": [],
   "source": [
    "df_results = pd.DataFrame.append(df_results, df_results_rf10).reset_index(drop=True)"
   ]
  },
  {
   "cell_type": "code",
   "execution_count": 96,
   "metadata": {
    "scrolled": false
   },
   "outputs": [
    {
     "data": {
      "text/html": [
       "<div>\n",
       "<style scoped>\n",
       "    .dataframe tbody tr th:only-of-type {\n",
       "        vertical-align: middle;\n",
       "    }\n",
       "\n",
       "    .dataframe tbody tr th {\n",
       "        vertical-align: top;\n",
       "    }\n",
       "\n",
       "    .dataframe thead th {\n",
       "        text-align: right;\n",
       "    }\n",
       "</style>\n",
       "<table border=\"1\" class=\"dataframe\">\n",
       "  <thead>\n",
       "    <tr style=\"text-align: right;\">\n",
       "      <th></th>\n",
       "      <th>model</th>\n",
       "      <th>time_fit</th>\n",
       "      <th>time_predict</th>\n",
       "      <th>time_10_fold_CV</th>\n",
       "      <th>accuracy</th>\n",
       "      <th>acc_10_fold</th>\n",
       "    </tr>\n",
       "  </thead>\n",
       "  <tbody>\n",
       "    <tr>\n",
       "      <th>0</th>\n",
       "      <td>Naive Bayes</td>\n",
       "      <td>0.101767</td>\n",
       "      <td>0.036270</td>\n",
       "      <td>1.53579</td>\n",
       "      <td>0.623551</td>\n",
       "      <td>0.624725</td>\n",
       "    </tr>\n",
       "    <tr>\n",
       "      <th>1</th>\n",
       "      <td>Logistic Regression</td>\n",
       "      <td>1.822522</td>\n",
       "      <td>0.009085</td>\n",
       "      <td>17.0696</td>\n",
       "      <td>0.694333</td>\n",
       "      <td>0.689984</td>\n",
       "    </tr>\n",
       "    <tr>\n",
       "      <th>2</th>\n",
       "      <td>K Nearest Neighbors</td>\n",
       "      <td>7.340739</td>\n",
       "      <td>101.319590</td>\n",
       "      <td>344.234</td>\n",
       "      <td>0.682739</td>\n",
       "      <td>0.675807</td>\n",
       "    </tr>\n",
       "    <tr>\n",
       "      <th>3</th>\n",
       "      <td>SVM, Linear</td>\n",
       "      <td>954.375944</td>\n",
       "      <td>90.726687</td>\n",
       "      <td>None</td>\n",
       "      <td>0.677168</td>\n",
       "      <td>None</td>\n",
       "    </tr>\n",
       "    <tr>\n",
       "      <th>4</th>\n",
       "      <td>SVM, RBF</td>\n",
       "      <td>1091.777649</td>\n",
       "      <td>120.427602</td>\n",
       "      <td>None</td>\n",
       "      <td>0.682908</td>\n",
       "      <td>None</td>\n",
       "    </tr>\n",
       "    <tr>\n",
       "      <th>5</th>\n",
       "      <td>Decision Tree</td>\n",
       "      <td>0.437127</td>\n",
       "      <td>0.014542</td>\n",
       "      <td>4.82765</td>\n",
       "      <td>0.664357</td>\n",
       "      <td>0.662544</td>\n",
       "    </tr>\n",
       "    <tr>\n",
       "      <th>6</th>\n",
       "      <td>Random Forest (10-fold)</td>\n",
       "      <td>1.016743</td>\n",
       "      <td>0.104582</td>\n",
       "      <td>10.463</td>\n",
       "      <td>0.683248</td>\n",
       "      <td>0.680784</td>\n",
       "    </tr>\n",
       "  </tbody>\n",
       "</table>\n",
       "</div>"
      ],
      "text/plain": [
       "                     model     time_fit  time_predict time_10_fold_CV  \\\n",
       "0              Naive Bayes     0.101767      0.036270         1.53579   \n",
       "1      Logistic Regression     1.822522      0.009085         17.0696   \n",
       "2      K Nearest Neighbors     7.340739    101.319590         344.234   \n",
       "3              SVM, Linear   954.375944     90.726687            None   \n",
       "4                 SVM, RBF  1091.777649    120.427602            None   \n",
       "5            Decision Tree     0.437127      0.014542         4.82765   \n",
       "6  Random Forest (10-fold)     1.016743      0.104582          10.463   \n",
       "\n",
       "   accuracy acc_10_fold  \n",
       "0  0.623551    0.624725  \n",
       "1  0.694333    0.689984  \n",
       "2  0.682739    0.675807  \n",
       "3  0.677168        None  \n",
       "4  0.682908        None  \n",
       "5  0.664357    0.662544  \n",
       "6  0.683248    0.680784  "
      ]
     },
     "execution_count": 96,
     "metadata": {},
     "output_type": "execute_result"
    }
   ],
   "source": [
    "df_results"
   ]
  },
  {
   "cell_type": "code",
   "execution_count": null,
   "metadata": {},
   "outputs": [],
   "source": [
    "#==============================================================================\n",
    "#\n",
    "# PRINCIPAL COMPONENT ANALYSIS\n",
    "#\n",
    "#=============================================================================="
   ]
  },
  {
   "cell_type": "code",
   "execution_count": 97,
   "metadata": {},
   "outputs": [],
   "source": [
    "# Explore principal components\n",
    "pca = PCA(n_components=None, random_state=101)\n",
    "X_train_pca = pca.fit_transform(X_train)\n",
    "X_test_pca = pca.transform(X_test)\n",
    "explained_variance_pca = pca.explained_variance_ratio_"
   ]
  },
  {
   "cell_type": "code",
   "execution_count": 98,
   "metadata": {},
   "outputs": [
    {
     "data": {
      "text/plain": [
       "(106085, 38)"
      ]
     },
     "execution_count": 98,
     "metadata": {},
     "output_type": "execute_result"
    }
   ],
   "source": [
    "X_train_pca.shape"
   ]
  },
  {
   "cell_type": "code",
   "execution_count": 99,
   "metadata": {},
   "outputs": [
    {
     "data": {
      "text/plain": [
       "(35362, 38)"
      ]
     },
     "execution_count": 99,
     "metadata": {},
     "output_type": "execute_result"
    }
   ],
   "source": [
    "X_test_pca.shape"
   ]
  },
  {
   "cell_type": "code",
   "execution_count": 100,
   "metadata": {},
   "outputs": [
    {
     "name": "stdout",
     "output_type": "stream",
     "text": [
      "[0.04967563 0.0323651  0.03097407 0.03065522 0.02929117 0.02895901\n",
      " 0.02881396 0.02861282 0.02827069 0.0281527  0.02760661 0.02750211\n",
      " 0.02742789 0.02731728 0.02712207 0.02677776 0.02670148 0.02653106\n",
      " 0.02647415 0.02646121 0.0264245  0.026394   0.02636637 0.02634576\n",
      " 0.02632933 0.02631318 0.02630068 0.02625171 0.02622513 0.02604295\n",
      " 0.02591925 0.02569279 0.02494222 0.02451341 0.02421073 0.02306018\n",
      " 0.00287187 0.00010396]\n"
     ]
    }
   ],
   "source": [
    "print(explained_variance_pca)"
   ]
  },
  {
   "cell_type": "code",
   "execution_count": 101,
   "metadata": {},
   "outputs": [
    {
     "data": {
      "text/plain": [
       "Text(0,0.5,'Second Principal Component')"
      ]
     },
     "execution_count": 101,
     "metadata": {},
     "output_type": "execute_result"
    },
    {
     "data": {
      "image/png": "[encoded data removed]",
      "text/plain": [
       "<Figure size 576x432 with 1 Axes>"
      ]
     },
     "metadata": {},
     "output_type": "display_data"
    }
   ],
   "source": [
    "plt.figure(figsize=(8,6))\n",
    "plt.scatter(X_train_pca[:,0], X_train_pca[:,1], c=y_train, cmap='plasma')\n",
    "plt.xlabel('First principal component')\n",
    "plt.ylabel('Second Principal Component')"
   ]
  },
  {
   "cell_type": "code",
   "execution_count": 102,
   "metadata": {},
   "outputs": [],
   "source": [
    "# Explore top two principal components\n",
    "pca = PCA(n_components=2, random_state=101)\n",
    "X_train_pca = pca.fit_transform(X_train)\n",
    "X_test_pca = pca.transform(X_test)\n",
    "explained_variance_pca = pca.explained_variance_ratio_"
   ]
  },
  {
   "cell_type": "code",
   "execution_count": 9,
   "metadata": {},
   "outputs": [
    {
     "data": {
      "text/plain": [
       "Text(0,0.5,'Second Principal Component')"
      ]
     },
     "execution_count": 9,
     "metadata": {},
     "output_type": "execute_result"
    },
    {
     "data": {
      "image/png": "[encoded data removed]",
      "text/plain": [
       "<Figure size 576x432 with 1 Axes>"
      ]
     },
     "metadata": {},
     "output_type": "display_data"
    }
   ],
   "source": [
    "%matplotlib inline\n",
    "plt.figure(figsize=(8,6))\n",
    "plt.scatter(X_train_pca[:,0], X_train_pca[:,1], c=y_train, cmap='plasma')\n",
    "plt.xlabel('First principal component')\n",
    "plt.ylabel('Second Principal Component')"
   ]
  },
  {
   "cell_type": "code",
   "execution_count": 17,
   "metadata": {},
   "outputs": [],
   "source": [
    "df_pca_2 = pd.DataFrame(X_train_pca, columns=['pc1','pc2'])"
   ]
  },
  {
   "cell_type": "code",
   "execution_count": 19,
   "metadata": {},
   "outputs": [
    {
     "data": {
      "text/html": [
       "<div>\n",
       "<style scoped>\n",
       "    .dataframe tbody tr th:only-of-type {\n",
       "        vertical-align: middle;\n",
       "    }\n",
       "\n",
       "    .dataframe tbody tr th {\n",
       "        vertical-align: top;\n",
       "    }\n",
       "\n",
       "    .dataframe thead th {\n",
       "        text-align: right;\n",
       "    }\n",
       "</style>\n",
       "<table border=\"1\" class=\"dataframe\">\n",
       "  <thead>\n",
       "    <tr style=\"text-align: right;\">\n",
       "      <th></th>\n",
       "      <th>pc1</th>\n",
       "      <th>pc2</th>\n",
       "    </tr>\n",
       "  </thead>\n",
       "  <tbody>\n",
       "    <tr>\n",
       "      <th>0</th>\n",
       "      <td>2.615680</td>\n",
       "      <td>-0.293918</td>\n",
       "    </tr>\n",
       "    <tr>\n",
       "      <th>1</th>\n",
       "      <td>3.137423</td>\n",
       "      <td>0.605813</td>\n",
       "    </tr>\n",
       "    <tr>\n",
       "      <th>2</th>\n",
       "      <td>-1.117063</td>\n",
       "      <td>1.160851</td>\n",
       "    </tr>\n",
       "    <tr>\n",
       "      <th>3</th>\n",
       "      <td>2.716717</td>\n",
       "      <td>-1.105813</td>\n",
       "    </tr>\n",
       "    <tr>\n",
       "      <th>4</th>\n",
       "      <td>-0.445919</td>\n",
       "      <td>-0.069631</td>\n",
       "    </tr>\n",
       "  </tbody>\n",
       "</table>\n",
       "</div>"
      ],
      "text/plain": [
       "        pc1       pc2\n",
       "0  2.615680 -0.293918\n",
       "1  3.137423  0.605813\n",
       "2 -1.117063  1.160851\n",
       "3  2.716717 -1.105813\n",
       "4 -0.445919 -0.069631"
      ]
     },
     "execution_count": 19,
     "metadata": {},
     "output_type": "execute_result"
    }
   ],
   "source": [
    "df_pca_2.head()"
   ]
  },
  {
   "cell_type": "code",
   "execution_count": 33,
   "metadata": {},
   "outputs": [
    {
     "data": {
      "text/html": [
       "<div>\n",
       "<style scoped>\n",
       "    .dataframe tbody tr th:only-of-type {\n",
       "        vertical-align: middle;\n",
       "    }\n",
       "\n",
       "    .dataframe tbody tr th {\n",
       "        vertical-align: top;\n",
       "    }\n",
       "\n",
       "    .dataframe thead th {\n",
       "        text-align: right;\n",
       "    }\n",
       "</style>\n",
       "<table border=\"1\" class=\"dataframe\">\n",
       "  <thead>\n",
       "    <tr style=\"text-align: right;\">\n",
       "      <th></th>\n",
       "      <th>launch_state</th>\n",
       "    </tr>\n",
       "  </thead>\n",
       "  <tbody>\n",
       "    <tr>\n",
       "      <th>77863</th>\n",
       "      <td>0</td>\n",
       "    </tr>\n",
       "    <tr>\n",
       "      <th>98395</th>\n",
       "      <td>1</td>\n",
       "    </tr>\n",
       "    <tr>\n",
       "      <th>94439</th>\n",
       "      <td>1</td>\n",
       "    </tr>\n",
       "    <tr>\n",
       "      <th>107695</th>\n",
       "      <td>0</td>\n",
       "    </tr>\n",
       "    <tr>\n",
       "      <th>19740</th>\n",
       "      <td>1</td>\n",
       "    </tr>\n",
       "  </tbody>\n",
       "</table>\n",
       "</div>"
      ],
      "text/plain": [
       "        launch_state\n",
       "77863              0\n",
       "98395              1\n",
       "94439              1\n",
       "107695             0\n",
       "19740              1"
      ]
     },
     "execution_count": 33,
     "metadata": {},
     "output_type": "execute_result"
    }
   ],
   "source": [
    "pd.DataFrame(y_train).head()"
   ]
  },
  {
   "cell_type": "code",
   "execution_count": 39,
   "metadata": {},
   "outputs": [
    {
     "data": {
      "text/plain": [
       "(106085, 2)"
      ]
     },
     "execution_count": 39,
     "metadata": {},
     "output_type": "execute_result"
    }
   ],
   "source": [
    "df_pca_2.shape"
   ]
  },
  {
   "cell_type": "code",
   "execution_count": 52,
   "metadata": {},
   "outputs": [],
   "source": [
    "y_train_pca_2 = pd.DataFrame(y_train)"
   ]
  },
  {
   "cell_type": "code",
   "execution_count": 71,
   "metadata": {},
   "outputs": [],
   "source": [
    "y_train_pca_2.reset_index(inplace=True, drop=True)"
   ]
  },
  {
   "cell_type": "code",
   "execution_count": 72,
   "metadata": {},
   "outputs": [],
   "source": [
    "df_pca_2['launch_state'] = y_train_pca_2"
   ]
  },
  {
   "cell_type": "code",
   "execution_count": 90,
   "metadata": {},
   "outputs": [
    {
     "data": {
      "text/plain": [
       "<seaborn.axisgrid.FacetGrid at 0x25b43f7c518>"
      ]
     },
     "execution_count": 90,
     "metadata": {},
     "output_type": "execute_result"
    }
   ],
   "source": [
    "%matplotlib qt\n",
    "sns.set_context(\"paper\", rc={\"axes.labelsize\":60, \"xtick.labelsize\": 50, \"ytick.labelsize\": 50})\n",
    "sns.set_style('whitegrid')\n",
    "sns.lmplot('pc1', 'pc2', data=df_pca_2, hue='launch_state',\n",
    "           fit_reg=False, scatter_kws={'s': 1000, 'alpha':0.4}, size=20, aspect=2)"
   ]
  },
  {
   "cell_type": "code",
   "execution_count": 3,
   "metadata": {},
   "outputs": [
    {
     "data": {
      "text/plain": [
       "Text(0,0.5,'Second Principal Component')"
      ]
     },
     "execution_count": 3,
     "metadata": {},
     "output_type": "execute_result"
    }
   ],
   "source": [
    "%matplotlib qt\n",
    "plt.figure(figsize=(8,6))\n",
    "plt.scatter(X_train_pca[:,0], X_train_pca[:,1], c=y_train, cmap='plasma')\n",
    "plt.xlabel('First principal component')\n",
    "plt.ylabel('Second Principal Component')"
   ]
  },
  {
   "cell_type": "code",
   "execution_count": 104,
   "metadata": {},
   "outputs": [
    {
     "data": {
      "text/html": [
       "<div>\n",
       "<style scoped>\n",
       "    .dataframe tbody tr th:only-of-type {\n",
       "        vertical-align: middle;\n",
       "    }\n",
       "\n",
       "    .dataframe tbody tr th {\n",
       "        vertical-align: top;\n",
       "    }\n",
       "\n",
       "    .dataframe thead th {\n",
       "        text-align: right;\n",
       "    }\n",
       "</style>\n",
       "<table border=\"1\" class=\"dataframe\">\n",
       "  <thead>\n",
       "    <tr style=\"text-align: right;\">\n",
       "      <th></th>\n",
       "      <th>model</th>\n",
       "      <th>time_fit</th>\n",
       "      <th>time_predict</th>\n",
       "      <th>time_10_fold_CV</th>\n",
       "      <th>accuracy</th>\n",
       "      <th>acc_10_fold</th>\n",
       "    </tr>\n",
       "  </thead>\n",
       "  <tbody>\n",
       "    <tr>\n",
       "      <th>0</th>\n",
       "      <td>Naive Bayes</td>\n",
       "      <td>0.101767</td>\n",
       "      <td>0.036270</td>\n",
       "      <td>1.53579</td>\n",
       "      <td>0.623551</td>\n",
       "      <td>0.624725</td>\n",
       "    </tr>\n",
       "    <tr>\n",
       "      <th>1</th>\n",
       "      <td>Logistic Regression</td>\n",
       "      <td>1.822522</td>\n",
       "      <td>0.009085</td>\n",
       "      <td>17.0696</td>\n",
       "      <td>0.694333</td>\n",
       "      <td>0.689984</td>\n",
       "    </tr>\n",
       "    <tr>\n",
       "      <th>2</th>\n",
       "      <td>K Nearest Neighbors</td>\n",
       "      <td>7.340739</td>\n",
       "      <td>101.319590</td>\n",
       "      <td>344.234</td>\n",
       "      <td>0.682739</td>\n",
       "      <td>0.675807</td>\n",
       "    </tr>\n",
       "    <tr>\n",
       "      <th>3</th>\n",
       "      <td>SVM, Linear</td>\n",
       "      <td>954.375944</td>\n",
       "      <td>90.726687</td>\n",
       "      <td>None</td>\n",
       "      <td>0.677168</td>\n",
       "      <td>None</td>\n",
       "    </tr>\n",
       "    <tr>\n",
       "      <th>4</th>\n",
       "      <td>SVM, RBF</td>\n",
       "      <td>1091.777649</td>\n",
       "      <td>120.427602</td>\n",
       "      <td>None</td>\n",
       "      <td>0.682908</td>\n",
       "      <td>None</td>\n",
       "    </tr>\n",
       "    <tr>\n",
       "      <th>5</th>\n",
       "      <td>Decision Tree</td>\n",
       "      <td>0.437127</td>\n",
       "      <td>0.014542</td>\n",
       "      <td>4.82765</td>\n",
       "      <td>0.664357</td>\n",
       "      <td>0.662544</td>\n",
       "    </tr>\n",
       "    <tr>\n",
       "      <th>6</th>\n",
       "      <td>Random Forest (10-fold)</td>\n",
       "      <td>1.016743</td>\n",
       "      <td>0.104582</td>\n",
       "      <td>10.463</td>\n",
       "      <td>0.683248</td>\n",
       "      <td>0.680784</td>\n",
       "    </tr>\n",
       "  </tbody>\n",
       "</table>\n",
       "</div>"
      ],
      "text/plain": [
       "                     model     time_fit  time_predict time_10_fold_CV  \\\n",
       "0              Naive Bayes     0.101767      0.036270         1.53579   \n",
       "1      Logistic Regression     1.822522      0.009085         17.0696   \n",
       "2      K Nearest Neighbors     7.340739    101.319590         344.234   \n",
       "3              SVM, Linear   954.375944     90.726687            None   \n",
       "4                 SVM, RBF  1091.777649    120.427602            None   \n",
       "5            Decision Tree     0.437127      0.014542         4.82765   \n",
       "6  Random Forest (10-fold)     1.016743      0.104582          10.463   \n",
       "\n",
       "   accuracy acc_10_fold  \n",
       "0  0.623551    0.624725  \n",
       "1  0.694333    0.689984  \n",
       "2  0.682739    0.675807  \n",
       "3  0.677168        None  \n",
       "4  0.682908        None  \n",
       "5  0.664357    0.662544  \n",
       "6  0.683248    0.680784  "
      ]
     },
     "execution_count": 104,
     "metadata": {},
     "output_type": "execute_result"
    }
   ],
   "source": [
    "df_results"
   ]
  },
  {
   "cell_type": "code",
   "execution_count": 105,
   "metadata": {},
   "outputs": [
    {
     "name": "stdout",
     "output_type": "stream",
     "text": [
      "Runtime, fit: 0.02 sec\n"
     ]
    }
   ],
   "source": [
    "#-----------------------------------------\n",
    "# FIT MODEL (NAIVE BAYES)\n",
    "\n",
    "start_clock = time.clock()\n",
    "\n",
    "# Naive-Bayes\n",
    "classifier_pca2_nb = GaussianNB()\n",
    "classifier_pca2_nb.fit(X_train_pca, y_train)\n",
    "\n",
    "end_clock = time.clock()\n",
    "\n",
    "clock_fit_pca2_nb = end_clock - start_clock\n",
    "print('Runtime, fit: ', round(clock_fit_pca2_nb, 2), ' sec', sep='')\n",
    "\n",
    "end_clock = time.clock()"
   ]
  },
  {
   "cell_type": "code",
   "execution_count": 106,
   "metadata": {},
   "outputs": [
    {
     "name": "stdout",
     "output_type": "stream",
     "text": [
      "Runtime, predict: 0.0 sec\n"
     ]
    }
   ],
   "source": [
    "#-----------------------------------------\n",
    "# PREDICT TEST RESULTS\n",
    "\n",
    "start_clock = time.clock()\n",
    "\n",
    "y_pred_pca2_nb = classifier_pca2_nb.predict(X_test_pca)\n",
    "\n",
    "end_clock = time.clock()\n",
    "\n",
    "clock_predict_pca2_nb = end_clock - start_clock\n",
    "print('Runtime, predict: ', round(clock_predict_pca2_nb, 2), ' sec', sep='')"
   ]
  },
  {
   "cell_type": "code",
   "execution_count": 107,
   "metadata": {},
   "outputs": [
    {
     "name": "stdout",
     "output_type": "stream",
     "text": [
      "[[ 4028 10926]\n",
      " [ 2888 17520]]\n",
      "\n",
      "\n",
      "             precision    recall  f1-score   support\n",
      "\n",
      "          0       0.58      0.27      0.37     14954\n",
      "          1       0.62      0.86      0.72     20408\n",
      "\n",
      "avg / total       0.60      0.61      0.57     35362\n",
      "\n"
     ]
    }
   ],
   "source": [
    "#-----------------------------------------\n",
    "# EVALUATE MODEL\n",
    "\n",
    "# Confusion matrix\n",
    "cm_pca2_nb = confusion_matrix(y_test, y_pred_pca2_nb)\n",
    "\n",
    "# Classification report\n",
    "cr_pca2_nb = classification_report(y_test, y_pred_pca2_nb)\n",
    "\n",
    "print(cm_pca2_nb)\n",
    "print(\"\\n\")\n",
    "print(cr_pca2_nb)"
   ]
  },
  {
   "cell_type": "code",
   "execution_count": 108,
   "metadata": {},
   "outputs": [
    {
     "data": {
      "text/plain": [
       "0.6093546745093603"
      ]
     },
     "execution_count": 108,
     "metadata": {},
     "output_type": "execute_result"
    }
   ],
   "source": [
    "acc_pca2_nb = cm_pca2_nb.diagonal().sum() / cm_pca2_nb.sum()\n",
    "acc_pca2_nb"
   ]
  },
  {
   "cell_type": "code",
   "execution_count": 109,
   "metadata": {},
   "outputs": [
    {
     "name": "stdout",
     "output_type": "stream",
     "text": [
      "Runtime, 10-fold CV: 0.28 sec\n"
     ]
    }
   ],
   "source": [
    "#-----------------------------------------\n",
    "# APPLY K-FOLD CROSS VALIDATION\n",
    "\n",
    "start_clock = time.clock()\n",
    "\n",
    "accuracies_pca2_nb = cross_val_score(\n",
    "    estimator=classifier_pca2_nb, X=X_train_pca, y=y_train,\n",
    "    cv=10)\n",
    "\n",
    "end_clock = time.clock()\n",
    "\n",
    "clock_10FCV_pca2_nb = end_clock - start_clock\n",
    "print('Runtime, 10-fold CV: ', round(clock_10FCV_pca2_nb, 2), ' sec', sep='')"
   ]
  },
  {
   "cell_type": "code",
   "execution_count": 110,
   "metadata": {},
   "outputs": [],
   "source": [
    "try:\n",
    "    clock_10FCV_pca2_nb\n",
    "except:\n",
    "    clock_10FCV_pca2_nb = None\n",
    "    print(\"No 10-fold CV time to report\")"
   ]
  },
  {
   "cell_type": "code",
   "execution_count": 111,
   "metadata": {},
   "outputs": [
    {
     "name": "stdout",
     "output_type": "stream",
     "text": [
      "Accuracies:\n",
      "[0.61140434 0.60245052 0.61136771 0.60633484 0.60831448 0.61283937\n",
      " 0.61189668 0.61076546 0.60690045 0.60699472]\n",
      "\n",
      "\n",
      "RESULTS:\n",
      "  - Mean accuracy: 61.0%\n",
      "  - Accuracy std dev: 0.0%\n"
     ]
    }
   ],
   "source": [
    "try:\n",
    "    accuracies_pca2_nb\n",
    "except:\n",
    "    accuracy_10FCV_mean_pca2_nb = None\n",
    "    print(\"No K-fold CV accuracies to report\")\n",
    "else:\n",
    "    accuracy_10FCV_mean_pca2_nb = accuracies_pca2_nb.mean()\n",
    "    print(\"Accuracies:\")\n",
    "    print(accuracies_pca2_nb)\n",
    "    print('\\n')\n",
    "    print(\"RESULTS:\")\n",
    "    print(f\"  - Mean accuracy: {round(accuracies_pca2_nb.mean(), 2)*100}%\")\n",
    "    print(f\"  - Accuracy std dev: {round(accuracies_pca2_nb.std(), 2)*100}%\")"
   ]
  },
  {
   "cell_type": "code",
   "execution_count": 112,
   "metadata": {},
   "outputs": [],
   "source": [
    "df_results_pca2_nb = pd.DataFrame([{\n",
    "    'model':'PCA (n=2), Naive Bayes', \n",
    "    'time_fit':clock_fit_pca2_nb, 'time_predict':clock_predict_pca2_nb,\n",
    "    'time_10_fold_CV':clock_10FCV_pca2_nb,\n",
    "    'accuracy':acc_pca2_nb, 'acc_10_fold':accuracy_10FCV_mean_pca2_nb}])\n",
    "df_results_pca2_nb = df_results_pca2_nb[['model','time_fit','time_predict','time_10_fold_CV','accuracy','acc_10_fold']]"
   ]
  },
  {
   "cell_type": "code",
   "execution_count": 113,
   "metadata": {},
   "outputs": [],
   "source": [
    "df_results = pd.DataFrame.append(df_results, df_results_pca2_nb).reset_index(drop=True)"
   ]
  },
  {
   "cell_type": "code",
   "execution_count": 114,
   "metadata": {},
   "outputs": [
    {
     "data": {
      "text/html": [
       "<div>\n",
       "<style scoped>\n",
       "    .dataframe tbody tr th:only-of-type {\n",
       "        vertical-align: middle;\n",
       "    }\n",
       "\n",
       "    .dataframe tbody tr th {\n",
       "        vertical-align: top;\n",
       "    }\n",
       "\n",
       "    .dataframe thead th {\n",
       "        text-align: right;\n",
       "    }\n",
       "</style>\n",
       "<table border=\"1\" class=\"dataframe\">\n",
       "  <thead>\n",
       "    <tr style=\"text-align: right;\">\n",
       "      <th></th>\n",
       "      <th>model</th>\n",
       "      <th>time_fit</th>\n",
       "      <th>time_predict</th>\n",
       "      <th>time_10_fold_CV</th>\n",
       "      <th>accuracy</th>\n",
       "      <th>acc_10_fold</th>\n",
       "    </tr>\n",
       "  </thead>\n",
       "  <tbody>\n",
       "    <tr>\n",
       "      <th>0</th>\n",
       "      <td>Naive Bayes</td>\n",
       "      <td>0.101767</td>\n",
       "      <td>0.036270</td>\n",
       "      <td>1.53579</td>\n",
       "      <td>0.623551</td>\n",
       "      <td>0.624725</td>\n",
       "    </tr>\n",
       "    <tr>\n",
       "      <th>1</th>\n",
       "      <td>Logistic Regression</td>\n",
       "      <td>1.822522</td>\n",
       "      <td>0.009085</td>\n",
       "      <td>17.0696</td>\n",
       "      <td>0.694333</td>\n",
       "      <td>0.689984</td>\n",
       "    </tr>\n",
       "    <tr>\n",
       "      <th>2</th>\n",
       "      <td>K Nearest Neighbors</td>\n",
       "      <td>7.340739</td>\n",
       "      <td>101.319590</td>\n",
       "      <td>344.234</td>\n",
       "      <td>0.682739</td>\n",
       "      <td>0.675807</td>\n",
       "    </tr>\n",
       "    <tr>\n",
       "      <th>3</th>\n",
       "      <td>SVM, Linear</td>\n",
       "      <td>954.375944</td>\n",
       "      <td>90.726687</td>\n",
       "      <td>None</td>\n",
       "      <td>0.677168</td>\n",
       "      <td>None</td>\n",
       "    </tr>\n",
       "    <tr>\n",
       "      <th>4</th>\n",
       "      <td>SVM, RBF</td>\n",
       "      <td>1091.777649</td>\n",
       "      <td>120.427602</td>\n",
       "      <td>None</td>\n",
       "      <td>0.682908</td>\n",
       "      <td>None</td>\n",
       "    </tr>\n",
       "    <tr>\n",
       "      <th>5</th>\n",
       "      <td>Decision Tree</td>\n",
       "      <td>0.437127</td>\n",
       "      <td>0.014542</td>\n",
       "      <td>4.82765</td>\n",
       "      <td>0.664357</td>\n",
       "      <td>0.662544</td>\n",
       "    </tr>\n",
       "    <tr>\n",
       "      <th>6</th>\n",
       "      <td>Random Forest (10-fold)</td>\n",
       "      <td>1.016743</td>\n",
       "      <td>0.104582</td>\n",
       "      <td>10.463</td>\n",
       "      <td>0.683248</td>\n",
       "      <td>0.680784</td>\n",
       "    </tr>\n",
       "    <tr>\n",
       "      <th>7</th>\n",
       "      <td>PCA (n=2), Naive Bayes</td>\n",
       "      <td>0.024343</td>\n",
       "      <td>0.003595</td>\n",
       "      <td>0.284533</td>\n",
       "      <td>0.609355</td>\n",
       "      <td>0.608927</td>\n",
       "    </tr>\n",
       "  </tbody>\n",
       "</table>\n",
       "</div>"
      ],
      "text/plain": [
       "                     model     time_fit  time_predict time_10_fold_CV  \\\n",
       "0              Naive Bayes     0.101767      0.036270         1.53579   \n",
       "1      Logistic Regression     1.822522      0.009085         17.0696   \n",
       "2      K Nearest Neighbors     7.340739    101.319590         344.234   \n",
       "3              SVM, Linear   954.375944     90.726687            None   \n",
       "4                 SVM, RBF  1091.777649    120.427602            None   \n",
       "5            Decision Tree     0.437127      0.014542         4.82765   \n",
       "6  Random Forest (10-fold)     1.016743      0.104582          10.463   \n",
       "7   PCA (n=2), Naive Bayes     0.024343      0.003595        0.284533   \n",
       "\n",
       "   accuracy acc_10_fold  \n",
       "0  0.623551    0.624725  \n",
       "1  0.694333    0.689984  \n",
       "2  0.682739    0.675807  \n",
       "3  0.677168        None  \n",
       "4  0.682908        None  \n",
       "5  0.664357    0.662544  \n",
       "6  0.683248    0.680784  \n",
       "7  0.609355    0.608927  "
      ]
     },
     "execution_count": 114,
     "metadata": {},
     "output_type": "execute_result"
    }
   ],
   "source": [
    "df_results"
   ]
  },
  {
   "cell_type": "code",
   "execution_count": 3,
   "metadata": {},
   "outputs": [],
   "source": [
    "#==============================================================================\n",
    "#\n",
    "# GRID SEARCH - RANDOM FOREST\n",
    "#\n",
    "#=============================================================================="
   ]
  },
  {
   "cell_type": "code",
   "execution_count": 4,
   "metadata": {},
   "outputs": [],
   "source": [
    "# FIT MODEL\n",
    "classifier_grid_rf = RandomForestClassifier(random_state=101)"
   ]
  },
  {
   "cell_type": "markdown",
   "metadata": {},
   "source": [
    "\\# ---- APPLY GRID SEARCH ----\n",
    "\n",
    "Options include\n",
    "* criterion\n",
    "* n_estimators\n",
    "* max_features\n",
    "* max_depth\n",
    "* min_samples_leaf\n",
    "* min_samples_split"
   ]
  },
  {
   "cell_type": "code",
   "execution_count": 5,
   "metadata": {},
   "outputs": [],
   "source": [
    "# Decide parameters to loop through\n",
    "parameters_rf = {\n",
    "    'max_features': [None, 'sqrt', 'log2'],\n",
    "    'n_estimators': [1,5,10,20,30,50,75,100],\n",
    "    'min_samples_leaf': [1,2,5,10,25,50,100],\n",
    "    'criterion': ['gini', 'entropy']\n",
    "}"
   ]
  },
  {
   "cell_type": "code",
   "execution_count": 6,
   "metadata": {},
   "outputs": [
    {
     "data": {
      "text/plain": [
       "array([  1,  11,  21,  31,  41,  51,  61,  71,  81,  91, 101])"
      ]
     },
     "execution_count": 6,
     "metadata": {},
     "output_type": "execute_result"
    }
   ],
   "source": [
    "np.arange(1,110,10)"
   ]
  },
  {
   "cell_type": "code",
   "execution_count": 7,
   "metadata": {},
   "outputs": [],
   "source": [
    "# Create validation curve objects\n",
    "param_range = np.arange(1,110,10)\n",
    "train_scores, test_scores = validation_curve(\n",
    "    RandomForestClassifier(random_state=101), X_train, y_train, param_name='n_estimators', \n",
    "    param_range=param_range, cv=5, scoring=\"accuracy\", n_jobs=-1)\n",
    "train_scores_mean = np.mean(train_scores, axis=1)\n",
    "train_scores_std = np.std(train_scores, axis=1)\n",
    "test_scores_mean = np.mean(test_scores, axis=1)\n",
    "test_scores_std = np.std(test_scores, axis=1)"
   ]
  },
  {
   "cell_type": "code",
   "execution_count": 8,
   "metadata": {},
   "outputs": [
    {
     "data": {
      "image/png": "[encoded data removed]",
      "text/plain": [
       "<Figure size 432x288 with 1 Axes>"
      ]
     },
     "metadata": {},
     "output_type": "display_data"
    }
   ],
   "source": [
    "# Plot validation curve\n",
    "%matplotlib inline\n",
    "plt.title(\"Validation Curve with Random Forest\")\n",
    "plt.xlabel(\"n_neighbors\")\n",
    "plt.ylabel(\"Score\")\n",
    "#plt.ylim(0.68, 0.72)\n",
    "lw = 2\n",
    "plt.semilogx(param_range, train_scores_mean, label=\"Training score\",\n",
    "             color=\"darkorange\", lw=lw)\n",
    "plt.fill_between(param_range, train_scores_mean - train_scores_std,\n",
    "                 train_scores_mean + train_scores_std, alpha=0.2,\n",
    "                 color=\"darkorange\", lw=lw)\n",
    "plt.semilogx(param_range, test_scores_mean, label=\"Cross-validation score\",\n",
    "             color=\"navy\", lw=lw)\n",
    "plt.fill_between(param_range, test_scores_mean - test_scores_std,\n",
    "                 test_scores_mean + test_scores_std, alpha=0.2,\n",
    "                 color=\"navy\", lw=lw)\n",
    "plt.legend(loc=\"best\")\n",
    "plt.show()"
   ]
  },
  {
   "cell_type": "code",
   "execution_count": 15,
   "metadata": {},
   "outputs": [],
   "source": [
    "# Plot validation curve\n",
    "%matplotlib qt\n",
    "plt.title(\"Validation Curve with Random Forest\", fontsize=70)\n",
    "plt.xlabel(\"n_neighbors\", fontsize=40)\n",
    "plt.ylabel(\"Score\", fontsize=40)\n",
    "plt.xticks(fontsize=30)\n",
    "plt.yticks(fontsize=30)\n",
    "#plt.ylim(0.68, 0.72)\n",
    "lw = 10\n",
    "plt.semilogx(param_range, train_scores_mean, label=\"Training score\",\n",
    "             color=\"darkorange\", lw=lw)\n",
    "plt.fill_between(param_range, train_scores_mean - train_scores_std,\n",
    "                 train_scores_mean + train_scores_std, alpha=0.2,\n",
    "                 color=\"darkorange\", lw=lw)\n",
    "plt.semilogx(param_range, test_scores_mean, label=\"Cross-validation score\",\n",
    "             color=\"navy\", lw=lw)\n",
    "plt.fill_between(param_range, test_scores_mean - test_scores_std,\n",
    "                 test_scores_mean + test_scores_std, alpha=0.2,\n",
    "                 color=\"navy\", lw=lw)\n",
    "plt.legend(loc=\"best\", prop={'size':50})\n",
    "plt.show()"
   ]
  },
  {
   "cell_type": "code",
   "execution_count": 169,
   "metadata": {},
   "outputs": [],
   "source": [
    "# Create grid search object\n",
    "grid_search_rf = GridSearchCV(estimator=classifier_grid_rf,\n",
    "    param_grid=parameters_rf, scoring=\"accuracy\", cv=5,\n",
    "    n_jobs=-1, verbose=10)"
   ]
  },
  {
   "cell_type": "code",
   "execution_count": 170,
   "metadata": {},
   "outputs": [
    {
     "name": "stdout",
     "output_type": "stream",
     "text": [
      "Fitting 5 folds for each of 336 candidates, totalling 1680 fits\n"
     ]
    },
    {
     "name": "stderr",
     "output_type": "stream",
     "text": [
      "[Parallel(n_jobs=-1)]: Done   2 tasks      | elapsed:    1.9s\n",
      "[Parallel(n_jobs=-1)]: Done   9 tasks      | elapsed:    8.1s\n",
      "[Parallel(n_jobs=-1)]: Done  16 tasks      | elapsed:   23.3s\n",
      "[Parallel(n_jobs=-1)]: Done  25 tasks      | elapsed:   47.6s\n",
      "[Parallel(n_jobs=-1)]: Done  34 tasks      | elapsed:  1.9min\n",
      "[Parallel(n_jobs=-1)]: Done  45 tasks      | elapsed:  2.3min\n",
      "[Parallel(n_jobs=-1)]: Done  56 tasks      | elapsed:  2.8min\n",
      "[Parallel(n_jobs=-1)]: Done  69 tasks      | elapsed:  3.7min\n",
      "[Parallel(n_jobs=-1)]: Done  82 tasks      | elapsed:  4.6min\n",
      "[Parallel(n_jobs=-1)]: Done  97 tasks      | elapsed:  5.2min\n",
      "[Parallel(n_jobs=-1)]: Done 112 tasks      | elapsed:  6.5min\n",
      "[Parallel(n_jobs=-1)]: Done 129 tasks      | elapsed:  7.1min\n",
      "[Parallel(n_jobs=-1)]: Done 146 tasks      | elapsed:  8.0min\n",
      "[Parallel(n_jobs=-1)]: Done 165 tasks      | elapsed:  9.1min\n",
      "[Parallel(n_jobs=-1)]: Done 184 tasks      | elapsed:  9.8min\n",
      "[Parallel(n_jobs=-1)]: Done 205 tasks      | elapsed: 11.2min\n",
      "[Parallel(n_jobs=-1)]: Done 226 tasks      | elapsed: 12.3min\n",
      "[Parallel(n_jobs=-1)]: Done 249 tasks      | elapsed: 13.3min\n",
      "[Parallel(n_jobs=-1)]: Done 272 tasks      | elapsed: 14.7min\n",
      "[Parallel(n_jobs=-1)]: Done 297 tasks      | elapsed: 15.4min\n",
      "[Parallel(n_jobs=-1)]: Done 322 tasks      | elapsed: 16.2min\n",
      "[Parallel(n_jobs=-1)]: Done 349 tasks      | elapsed: 16.7min\n",
      "[Parallel(n_jobs=-1)]: Done 376 tasks      | elapsed: 17.3min\n",
      "[Parallel(n_jobs=-1)]: Done 405 tasks      | elapsed: 17.9min\n",
      "[Parallel(n_jobs=-1)]: Done 434 tasks      | elapsed: 18.5min\n",
      "[Parallel(n_jobs=-1)]: Done 465 tasks      | elapsed: 19.0min\n",
      "[Parallel(n_jobs=-1)]: Done 496 tasks      | elapsed: 19.5min\n",
      "[Parallel(n_jobs=-1)]: Done 529 tasks      | elapsed: 20.1min\n",
      "[Parallel(n_jobs=-1)]: Done 562 tasks      | elapsed: 20.7min\n",
      "[Parallel(n_jobs=-1)]: Done 597 tasks      | elapsed: 21.5min\n",
      "[Parallel(n_jobs=-1)]: Done 632 tasks      | elapsed: 22.3min\n",
      "[Parallel(n_jobs=-1)]: Done 669 tasks      | elapsed: 23.0min\n",
      "[Parallel(n_jobs=-1)]: Done 706 tasks      | elapsed: 23.6min\n",
      "[Parallel(n_jobs=-1)]: Done 745 tasks      | elapsed: 24.2min\n",
      "[Parallel(n_jobs=-1)]: Done 784 tasks      | elapsed: 24.9min\n",
      "[Parallel(n_jobs=-1)]: Done 825 tasks      | elapsed: 25.5min\n",
      "[Parallel(n_jobs=-1)]: Done 866 tasks      | elapsed: 27.0min\n",
      "[Parallel(n_jobs=-1)]: Done 909 tasks      | elapsed: 29.6min\n",
      "[Parallel(n_jobs=-1)]: Done 952 tasks      | elapsed: 32.4min\n",
      "[Parallel(n_jobs=-1)]: Done 997 tasks      | elapsed: 34.8min\n",
      "[Parallel(n_jobs=-1)]: Done 1042 tasks      | elapsed: 37.1min\n",
      "[Parallel(n_jobs=-1)]: Done 1089 tasks      | elapsed: 39.3min\n",
      "[Parallel(n_jobs=-1)]: Done 1136 tasks      | elapsed: 41.3min\n",
      "[Parallel(n_jobs=-1)]: Done 1185 tasks      | elapsed: 42.6min\n",
      "[Parallel(n_jobs=-1)]: Done 1234 tasks      | elapsed: 43.9min\n",
      "[Parallel(n_jobs=-1)]: Done 1285 tasks      | elapsed: 44.9min\n",
      "[Parallel(n_jobs=-1)]: Done 1336 tasks      | elapsed: 45.7min\n",
      "[Parallel(n_jobs=-1)]: Done 1389 tasks      | elapsed: 46.6min\n",
      "[Parallel(n_jobs=-1)]: Done 1442 tasks      | elapsed: 47.8min\n",
      "[Parallel(n_jobs=-1)]: Done 1497 tasks      | elapsed: 48.9min\n",
      "[Parallel(n_jobs=-1)]: Done 1552 tasks      | elapsed: 50.1min\n",
      "[Parallel(n_jobs=-1)]: Done 1609 tasks      | elapsed: 51.0min\n",
      "[Parallel(n_jobs=-1)]: Done 1680 out of 1680 | elapsed: 52.2min finished\n"
     ]
    },
    {
     "name": "stdout",
     "output_type": "stream",
     "text": [
      "Runtime, grid search: 3139.15 sec\n"
     ]
    }
   ],
   "source": [
    "# Fit grid search object to training set\n",
    "\n",
    "start_clock = time.clock()\n",
    "grid_search_rf = grid_search_rf.fit(X_train, y_train)\n",
    "end_clock = time.clock()\n",
    "\n",
    "clock_grid_search_rf = end_clock - start_clock\n",
    "\n",
    "print('Runtime, grid search: ', round(clock_grid_search_rf, 2), ' sec', sep='')"
   ]
  },
  {
   "cell_type": "code",
   "execution_count": 171,
   "metadata": {},
   "outputs": [
    {
     "name": "stdout",
     "output_type": "stream",
     "text": [
      "Best accuracy: 72.0%\n",
      "\n",
      "\n",
      "Best parameters: {'criterion': 'gini', 'max_features': 'sqrt', 'min_samples_leaf': 25, 'n_estimators': 100}\n"
     ]
    }
   ],
   "source": [
    "# Print results\n",
    "best_accuracy_grid_search_rf = grid_search_rf.best_score_\n",
    "best_parameters_grid_search_rf = grid_search_rf.best_params_\n",
    "print(f\"Best accuracy: {round(best_accuracy_grid_search_rf, 2)*100}%\")\n",
    "print(\"\\n\")\n",
    "print(f\"Best parameters: {best_parameters_grid_search_rf}\")"
   ]
  },
  {
   "cell_type": "code",
   "execution_count": 173,
   "metadata": {
    "scrolled": true
   },
   "outputs": [
    {
     "name": "stdout",
     "output_type": "stream",
     "text": [
      "Fitting 5 folds for each of 21 candidates, totalling 105 fits\n"
     ]
    },
    {
     "name": "stderr",
     "output_type": "stream",
     "text": [
      "[Parallel(n_jobs=-1)]: Done   2 tasks      | elapsed:   22.2s\n",
      "[Parallel(n_jobs=-1)]: Done   9 tasks      | elapsed:  1.1min\n",
      "[Parallel(n_jobs=-1)]: Done  16 tasks      | elapsed:  1.6min\n",
      "[Parallel(n_jobs=-1)]: Done  25 tasks      | elapsed:  2.5min\n",
      "[Parallel(n_jobs=-1)]: Done  34 tasks      | elapsed:  3.2min\n",
      "[Parallel(n_jobs=-1)]: Done  45 tasks      | elapsed:  4.3min\n",
      "[Parallel(n_jobs=-1)]: Done  56 tasks      | elapsed:  5.3min\n",
      "[Parallel(n_jobs=-1)]: Done  69 tasks      | elapsed:  6.4min\n",
      "[Parallel(n_jobs=-1)]: Done  82 tasks      | elapsed:  7.6min\n",
      "[Parallel(n_jobs=-1)]: Done 101 out of 105 | elapsed:  9.6min remaining:   22.6s\n",
      "[Parallel(n_jobs=-1)]: Done 105 out of 105 | elapsed:  9.8min finished\n"
     ]
    },
    {
     "name": "stdout",
     "output_type": "stream",
     "text": [
      "Runtime, grid search: 595.27 sec\n",
      "Best accuracy: 72.0%\n",
      "\n",
      "\n",
      "Best parameters: {'criterion': 'gini', 'max_features': 'sqrt', 'min_samples_leaf': 25, 'n_estimators': 100}\n"
     ]
    }
   ],
   "source": [
    "# Search again\n",
    "\n",
    "# Decide parameters to loop through\n",
    "parameters_rf = {\n",
    "    'max_features': ['sqrt'],\n",
    "    'n_estimators': [100,200,300],\n",
    "    'min_samples_leaf': [15,20,25,30,35,40,45],\n",
    "    'criterion': ['gini']\n",
    "}\n",
    "\n",
    "# Create grid search object\n",
    "grid_search_rf = GridSearchCV(estimator=classifier_grid_rf,\n",
    "    param_grid=parameters_rf, scoring=\"accuracy\", cv=5,\n",
    "    n_jobs=-1, verbose=10)\n",
    "\n",
    "# Fit grid search object to training set\n",
    "start_clock = time.clock()\n",
    "grid_search_rf = grid_search_rf.fit(X_train, y_train)\n",
    "end_clock = time.clock()\n",
    "clock_grid_search_rf = end_clock - start_clock\n",
    "print('Runtime, grid search: ', round(clock_grid_search_rf, 2), ' sec', sep='')\n",
    "\n",
    "# Print results\n",
    "best_accuracy_grid_search_rf = grid_search_rf.best_score_\n",
    "best_parameters_grid_search_rf = grid_search_rf.best_params_\n",
    "print(f\"Best accuracy: {round(best_accuracy_grid_search_rf, 2)*100}%\")\n",
    "print(\"\\n\")\n",
    "print(f\"Best parameters: {best_parameters_grid_search_rf}\")"
   ]
  },
  {
   "cell_type": "code",
   "execution_count": 174,
   "metadata": {},
   "outputs": [
    {
     "name": "stdout",
     "output_type": "stream",
     "text": [
      "Fitting 5 folds for each of 15 candidates, totalling 75 fits\n"
     ]
    },
    {
     "name": "stderr",
     "output_type": "stream",
     "text": [
      "[Parallel(n_jobs=-1)]: Done   2 tasks      | elapsed:   21.7s\n",
      "[Parallel(n_jobs=-1)]: Done   9 tasks      | elapsed:   43.0s\n",
      "[Parallel(n_jobs=-1)]: Done  16 tasks      | elapsed:   59.8s\n",
      "[Parallel(n_jobs=-1)]: Done  25 tasks      | elapsed:  1.5min\n",
      "[Parallel(n_jobs=-1)]: Done  34 tasks      | elapsed:  1.9min\n",
      "[Parallel(n_jobs=-1)]: Done  45 tasks      | elapsed:  2.5min\n",
      "[Parallel(n_jobs=-1)]: Done  56 tasks      | elapsed:  3.0min\n",
      "[Parallel(n_jobs=-1)]: Done  68 out of  75 | elapsed:  3.6min remaining:   22.2s\n",
      "[Parallel(n_jobs=-1)]: Done  75 out of  75 | elapsed:  3.9min finished\n"
     ]
    },
    {
     "name": "stdout",
     "output_type": "stream",
     "text": [
      "Runtime, grid search: 239.95 sec\n",
      "Best accuracy: 72.0%\n",
      "\n",
      "\n",
      "Best parameters: {'criterion': 'gini', 'max_features': 'sqrt', 'min_samples_leaf': 25, 'n_estimators': 100}\n"
     ]
    }
   ],
   "source": [
    "# Search again\n",
    "\n",
    "# Decide parameters to loop through\n",
    "parameters_rf = {\n",
    "    'max_features': ['sqrt'],\n",
    "    'n_estimators': [90,100,110],\n",
    "    'min_samples_leaf': [21,23,25,27,29],\n",
    "    'criterion': ['gini']\n",
    "}\n",
    "\n",
    "# Create grid search object\n",
    "grid_search_rf = GridSearchCV(estimator=classifier_grid_rf,\n",
    "    param_grid=parameters_rf, scoring=\"accuracy\", cv=5,\n",
    "    n_jobs=-1, verbose=10)\n",
    "\n",
    "# Fit grid search object to training set\n",
    "start_clock = time.clock()\n",
    "grid_search_rf = grid_search_rf.fit(X_train, y_train)\n",
    "end_clock = time.clock()\n",
    "clock_grid_search_rf = end_clock - start_clock\n",
    "print('Runtime, grid search: ', round(clock_grid_search_rf, 2), ' sec', sep='')\n",
    "\n",
    "# Print results\n",
    "best_accuracy_grid_search_rf = grid_search_rf.best_score_\n",
    "best_parameters_grid_search_rf = grid_search_rf.best_params_\n",
    "print(f\"Best accuracy: {round(best_accuracy_grid_search_rf, 2)*100}%\")\n",
    "print(\"\\n\")\n",
    "print(f\"Best parameters: {best_parameters_grid_search_rf}\")"
   ]
  },
  {
   "cell_type": "code",
   "execution_count": 209,
   "metadata": {},
   "outputs": [],
   "source": [
    "# ---- RUN WITH OPTIMIZED PARAMETERS ----"
   ]
  },
  {
   "cell_type": "code",
   "execution_count": 177,
   "metadata": {},
   "outputs": [
    {
     "name": "stdout",
     "output_type": "stream",
     "text": [
      "Runtime, fit: 5.86 sec\n"
     ]
    }
   ],
   "source": [
    "#-----------------------------------------\n",
    "# FIT MODEL\n",
    "\n",
    "start_clock = time.clock()\n",
    "\n",
    "# Decision tree\n",
    "classifier_rf_opt = RandomForestClassifier(\n",
    "    n_estimators=100, criterion=\"gini\", max_features='sqrt', min_samples_leaf=25, random_state=101)\n",
    "classifier_rf_opt.fit(X_train, y_train)\n",
    "\n",
    "end_clock = time.clock()\n",
    "\n",
    "clock_fit_rf_opt = end_clock - start_clock\n",
    "print('Runtime, fit: ', round(clock_fit_rf_opt, 2), ' sec', sep='')"
   ]
  },
  {
   "cell_type": "code",
   "execution_count": 178,
   "metadata": {},
   "outputs": [
    {
     "name": "stdout",
     "output_type": "stream",
     "text": [
      "Runtime, predict: 0.47 sec\n"
     ]
    }
   ],
   "source": [
    "#-----------------------------------------\n",
    "# PREDICT TEST RESULTS\n",
    "\n",
    "start_clock = time.clock()\n",
    "\n",
    "y_pred_rf_opt = classifier_rf_opt.predict(X_test)\n",
    "\n",
    "end_clock = time.clock()\n",
    "\n",
    "clock_predict_rf_opt = end_clock - start_clock\n",
    "print('Runtime, predict: ', round(clock_predict_rf_opt, 2), ' sec', sep='')"
   ]
  },
  {
   "cell_type": "code",
   "execution_count": 179,
   "metadata": {},
   "outputs": [
    {
     "name": "stdout",
     "output_type": "stream",
     "text": [
      "[[ 8673  6281]\n",
      " [ 3682 16726]]\n",
      "\n",
      "\n",
      "             precision    recall  f1-score   support\n",
      "\n",
      "          0       0.70      0.58      0.64     14954\n",
      "          1       0.73      0.82      0.77     20408\n",
      "\n",
      "avg / total       0.72      0.72      0.71     35362\n",
      "\n"
     ]
    }
   ],
   "source": [
    "#-----------------------------------------\n",
    "# EVALUATE MODEL\n",
    "\n",
    "# Confusion matrix\n",
    "cm_rf_opt = confusion_matrix(y_test, y_pred_rf_opt)\n",
    "\n",
    "# Classification report\n",
    "cr_rf_opt = classification_report(y_test, y_pred_rf_opt)\n",
    "\n",
    "print(cm_rf_opt)\n",
    "print(\"\\n\")\n",
    "print(cr_rf_opt)"
   ]
  },
  {
   "cell_type": "code",
   "execution_count": 180,
   "metadata": {},
   "outputs": [
    {
     "data": {
      "text/plain": [
       "0.718256885922742"
      ]
     },
     "execution_count": 180,
     "metadata": {},
     "output_type": "execute_result"
    }
   ],
   "source": [
    "acc_rf_opt = cm_rf_opt.diagonal().sum() / cm_rf_opt.sum()\n",
    "acc_rf_opt"
   ]
  },
  {
   "cell_type": "code",
   "execution_count": 181,
   "metadata": {},
   "outputs": [
    {
     "name": "stdout",
     "output_type": "stream",
     "text": [
      "10-fold CV estimated time:  63.27  sec\n"
     ]
    }
   ],
   "source": [
    "#-----------------------------------------\n",
    "# APPLY K-FOLD CROSS VALIDATION\n",
    "\n",
    "# 10-fold cross validation time estimate:\n",
    "print('10-fold CV estimated time: ', \n",
    "      round((clock_fit_rf_opt + clock_predict_rf_opt)*10, 2), \n",
    "      ' sec')"
   ]
  },
  {
   "cell_type": "code",
   "execution_count": 182,
   "metadata": {},
   "outputs": [
    {
     "name": "stdout",
     "output_type": "stream",
     "text": [
      "Runtime, 10-fold CV: 66.97 sec\n"
     ]
    }
   ],
   "source": [
    "start_clock = time.clock()\n",
    "\n",
    "accuracies_rf_opt = cross_val_score(\n",
    "    estimator=classifier_rf_opt, X=X_train, y=y_train,\n",
    "    cv=10)\n",
    "\n",
    "end_clock = time.clock()\n",
    "\n",
    "clock_10FCV_rf_opt = end_clock - start_clock\n",
    "print('Runtime, 10-fold CV: ', round(clock_10FCV_rf_opt, 2), ' sec', sep='')"
   ]
  },
  {
   "cell_type": "code",
   "execution_count": 183,
   "metadata": {},
   "outputs": [],
   "source": [
    "try:\n",
    "    clock_10FCV_rf_opt\n",
    "except:\n",
    "    clock_10FCV_rf_opt = None\n",
    "    print(\"No 10-fold CV time to report\")"
   ]
  },
  {
   "cell_type": "code",
   "execution_count": 184,
   "metadata": {},
   "outputs": [
    {
     "name": "stdout",
     "output_type": "stream",
     "text": [
      "Accuracies:\n",
      "[0.71046183 0.71234684 0.72004901 0.70776772 0.71625189 0.72030543\n",
      " 0.72351056 0.71493213 0.71983409 0.71521493]\n",
      "\n",
      "\n",
      "RESULTS:\n",
      "  - Mean accuracy: 72.0%\n",
      "  - Accuracy std dev: 0.0%\n"
     ]
    }
   ],
   "source": [
    "try:\n",
    "    accuracies_rf_opt\n",
    "except:\n",
    "    accuracy_10FCV_mean_rf_opt = None\n",
    "    print(\"No K-fold CV accuracies to report\")\n",
    "else:\n",
    "    accuracy_10FCV_mean_rf_opt = accuracies_rf_opt.mean()\n",
    "    print(\"Accuracies:\")\n",
    "    print(accuracies_rf_opt)\n",
    "    print('\\n')\n",
    "    print(\"RESULTS:\")\n",
    "    print(f\"  - Mean accuracy: {round(accuracies_rf_opt.mean(), 2)*100}%\")\n",
    "    print(f\"  - Accuracy std dev: {round(accuracies_rf_opt.std(), 2)*100}%\")"
   ]
  },
  {
   "cell_type": "code",
   "execution_count": 185,
   "metadata": {},
   "outputs": [],
   "source": [
    "df_results_rf_opt = pd.DataFrame([{\n",
    "    'model':'Random Forest (Optimized)', \n",
    "    'time_fit':clock_fit_rf_opt, 'time_predict':clock_predict_rf_opt,\n",
    "    'time_10_fold_CV':clock_10FCV_rf_opt,\n",
    "    'accuracy':acc_rf_opt, 'acc_10_fold':accuracy_10FCV_mean_rf_opt}])\n",
    "df_results_rf_opt = df_results_rf_opt[['model','time_fit','time_predict','time_10_fold_CV','accuracy','acc_10_fold']]"
   ]
  },
  {
   "cell_type": "code",
   "execution_count": 186,
   "metadata": {},
   "outputs": [],
   "source": [
    "df_results = pd.DataFrame.append(df_results, df_results_rf_opt).reset_index(drop=True)"
   ]
  },
  {
   "cell_type": "code",
   "execution_count": 187,
   "metadata": {
    "scrolled": false
   },
   "outputs": [
    {
     "data": {
      "text/html": [
       "<div>\n",
       "<style scoped>\n",
       "    .dataframe tbody tr th:only-of-type {\n",
       "        vertical-align: middle;\n",
       "    }\n",
       "\n",
       "    .dataframe tbody tr th {\n",
       "        vertical-align: top;\n",
       "    }\n",
       "\n",
       "    .dataframe thead th {\n",
       "        text-align: right;\n",
       "    }\n",
       "</style>\n",
       "<table border=\"1\" class=\"dataframe\">\n",
       "  <thead>\n",
       "    <tr style=\"text-align: right;\">\n",
       "      <th></th>\n",
       "      <th>model</th>\n",
       "      <th>time_fit</th>\n",
       "      <th>time_predict</th>\n",
       "      <th>time_10_fold_CV</th>\n",
       "      <th>accuracy</th>\n",
       "      <th>acc_10_fold</th>\n",
       "    </tr>\n",
       "  </thead>\n",
       "  <tbody>\n",
       "    <tr>\n",
       "      <th>0</th>\n",
       "      <td>Naive Bayes</td>\n",
       "      <td>0.101767</td>\n",
       "      <td>0.036270</td>\n",
       "      <td>1.53579</td>\n",
       "      <td>0.623551</td>\n",
       "      <td>0.624725</td>\n",
       "    </tr>\n",
       "    <tr>\n",
       "      <th>1</th>\n",
       "      <td>Logistic Regression</td>\n",
       "      <td>1.822522</td>\n",
       "      <td>0.009085</td>\n",
       "      <td>17.0696</td>\n",
       "      <td>0.694333</td>\n",
       "      <td>0.689984</td>\n",
       "    </tr>\n",
       "    <tr>\n",
       "      <th>2</th>\n",
       "      <td>K Nearest Neighbors</td>\n",
       "      <td>7.340739</td>\n",
       "      <td>101.319590</td>\n",
       "      <td>344.234</td>\n",
       "      <td>0.682739</td>\n",
       "      <td>0.675807</td>\n",
       "    </tr>\n",
       "    <tr>\n",
       "      <th>3</th>\n",
       "      <td>SVM, Linear</td>\n",
       "      <td>954.375944</td>\n",
       "      <td>90.726687</td>\n",
       "      <td>None</td>\n",
       "      <td>0.677168</td>\n",
       "      <td>None</td>\n",
       "    </tr>\n",
       "    <tr>\n",
       "      <th>4</th>\n",
       "      <td>SVM, RBF</td>\n",
       "      <td>1091.777649</td>\n",
       "      <td>120.427602</td>\n",
       "      <td>None</td>\n",
       "      <td>0.682908</td>\n",
       "      <td>None</td>\n",
       "    </tr>\n",
       "    <tr>\n",
       "      <th>5</th>\n",
       "      <td>Decision Tree</td>\n",
       "      <td>0.437127</td>\n",
       "      <td>0.014542</td>\n",
       "      <td>4.82765</td>\n",
       "      <td>0.664357</td>\n",
       "      <td>0.662544</td>\n",
       "    </tr>\n",
       "    <tr>\n",
       "      <th>6</th>\n",
       "      <td>Random Forest (10-fold)</td>\n",
       "      <td>1.016743</td>\n",
       "      <td>0.104582</td>\n",
       "      <td>10.463</td>\n",
       "      <td>0.683248</td>\n",
       "      <td>0.680784</td>\n",
       "    </tr>\n",
       "    <tr>\n",
       "      <th>7</th>\n",
       "      <td>PCA (n=2), Naive Bayes</td>\n",
       "      <td>0.024343</td>\n",
       "      <td>0.003595</td>\n",
       "      <td>0.284533</td>\n",
       "      <td>0.609355</td>\n",
       "      <td>0.608927</td>\n",
       "    </tr>\n",
       "    <tr>\n",
       "      <th>8</th>\n",
       "      <td>Random Forest (Optimized)</td>\n",
       "      <td>5.856856</td>\n",
       "      <td>0.470576</td>\n",
       "      <td>66.9746</td>\n",
       "      <td>0.718257</td>\n",
       "      <td>0.716067</td>\n",
       "    </tr>\n",
       "  </tbody>\n",
       "</table>\n",
       "</div>"
      ],
      "text/plain": [
       "                       model     time_fit  time_predict time_10_fold_CV  \\\n",
       "0                Naive Bayes     0.101767      0.036270         1.53579   \n",
       "1        Logistic Regression     1.822522      0.009085         17.0696   \n",
       "2        K Nearest Neighbors     7.340739    101.319590         344.234   \n",
       "3                SVM, Linear   954.375944     90.726687            None   \n",
       "4                   SVM, RBF  1091.777649    120.427602            None   \n",
       "5              Decision Tree     0.437127      0.014542         4.82765   \n",
       "6    Random Forest (10-fold)     1.016743      0.104582          10.463   \n",
       "7     PCA (n=2), Naive Bayes     0.024343      0.003595        0.284533   \n",
       "8  Random Forest (Optimized)     5.856856      0.470576         66.9746   \n",
       "\n",
       "   accuracy acc_10_fold  \n",
       "0  0.623551    0.624725  \n",
       "1  0.694333    0.689984  \n",
       "2  0.682739    0.675807  \n",
       "3  0.677168        None  \n",
       "4  0.682908        None  \n",
       "5  0.664357    0.662544  \n",
       "6  0.683248    0.680784  \n",
       "7  0.609355    0.608927  \n",
       "8  0.718257    0.716067  "
      ]
     },
     "execution_count": 187,
     "metadata": {},
     "output_type": "execute_result"
    }
   ],
   "source": [
    "df_results"
   ]
  },
  {
   "cell_type": "code",
   "execution_count": 32,
   "metadata": {},
   "outputs": [],
   "source": [
    "#==============================================================================\n",
    "#\n",
    "# GRID SEARCH - LOGISTIC REGRESSION\n",
    "#\n",
    "#=============================================================================="
   ]
  },
  {
   "cell_type": "code",
   "execution_count": 33,
   "metadata": {},
   "outputs": [],
   "source": [
    "# FIT MODEL\n",
    "classifier_grid_LogReg = LogisticRegression(random_state=101)"
   ]
  },
  {
   "cell_type": "markdown",
   "metadata": {},
   "source": [
    "\\# ---- APPLY GRID SEARCH ----\n",
    "\n",
    "Options include\n",
    "* penalty ('l1', 'l2')\n",
    "* C (1, ...positive float)"
   ]
  },
  {
   "cell_type": "code",
   "execution_count": 34,
   "metadata": {},
   "outputs": [
    {
     "data": {
      "text/plain": [
       "array([   1.        ,    2.15443469,    4.64158883,   10.        ,\n",
       "         21.5443469 ,   46.41588834,  100.        ,  215.443469  ,\n",
       "        464.15888336, 1000.        ])"
      ]
     },
     "execution_count": 34,
     "metadata": {},
     "output_type": "execute_result"
    }
   ],
   "source": [
    "np.logspace(0,3,10)"
   ]
  },
  {
   "cell_type": "code",
   "execution_count": 35,
   "metadata": {},
   "outputs": [],
   "source": [
    "# Decide parameters to loop through\n",
    "param_range = np.logspace(0,3,10)\n",
    "parameters_LogReg = {\n",
    "    'penalty': ['l1','l2'],\n",
    "    'C': param_range\n",
    "}"
   ]
  },
  {
   "cell_type": "code",
   "execution_count": 36,
   "metadata": {},
   "outputs": [],
   "source": [
    "# Create grid search object\n",
    "grid_search_LogReg = GridSearchCV(estimator=classifier_grid_LogReg,\n",
    "    param_grid=parameters_LogReg, scoring=\"accuracy\", cv=5,\n",
    "    n_jobs=-1, verbose=10)"
   ]
  },
  {
   "cell_type": "code",
   "execution_count": 37,
   "metadata": {},
   "outputs": [],
   "source": [
    "# Create validation curve objects\n",
    "train_scores, test_scores = validation_curve(\n",
    "    LogisticRegression(random_state=101), X_train, y_train, param_name='C', \n",
    "    param_range=param_range, cv=5, scoring=\"accuracy\", n_jobs=-1)\n",
    "train_scores_mean = np.mean(train_scores, axis=1)\n",
    "train_scores_std = np.std(train_scores, axis=1)\n",
    "test_scores_mean = np.mean(test_scores, axis=1)\n",
    "test_scores_std = np.std(test_scores, axis=1)"
   ]
  },
  {
   "cell_type": "code",
   "execution_count": 41,
   "metadata": {},
   "outputs": [
    {
     "data": {
      "image/png": "[encoded data removed]",
      "text/plain": [
       "<Figure size 432x288 with 1 Axes>"
      ]
     },
     "metadata": {},
     "output_type": "display_data"
    }
   ],
   "source": [
    "# Plot validation curve\n",
    "%matplotlib inline\n",
    "plt.title(\"Validation Curve with Logistic Regression\")\n",
    "plt.xlabel(\"C\")\n",
    "plt.ylabel(\"Score\")\n",
    "plt.ylim(0.68, .7)\n",
    "lw = 2\n",
    "plt.semilogx(param_range, train_scores_mean, label=\"Training score\",\n",
    "             color=\"darkorange\", lw=lw)\n",
    "plt.fill_between(param_range, train_scores_mean - train_scores_std,\n",
    "                 train_scores_mean + train_scores_std, alpha=0.2,\n",
    "                 color=\"darkorange\", lw=lw)\n",
    "plt.semilogx(param_range, test_scores_mean, label=\"Cross-validation score\",\n",
    "             color=\"navy\", lw=lw)\n",
    "plt.fill_between(param_range, test_scores_mean - test_scores_std,\n",
    "                 test_scores_mean + test_scores_std, alpha=0.2,\n",
    "                 color=\"navy\", lw=lw)\n",
    "plt.legend(loc=\"best\")\n",
    "plt.show()"
   ]
  },
  {
   "cell_type": "code",
   "execution_count": 46,
   "metadata": {},
   "outputs": [],
   "source": [
    "# Plot validation curve\n",
    "%matplotlib qt\n",
    "plt.title(\"Validation Curve with Logistic Regression\", fontsize=70)\n",
    "plt.xlabel(\"C\", fontsize=40)\n",
    "plt.ylabel(\"Score\", fontsize=40)\n",
    "plt.xticks(fontsize=30)\n",
    "plt.yticks(fontsize=30)\n",
    "plt.ylim(0.68, 0.70)\n",
    "lw = 10\n",
    "plt.semilogx(param_range, train_scores_mean, label=\"Training score\",\n",
    "             color=\"darkorange\", lw=lw)\n",
    "plt.fill_between(param_range, train_scores_mean - train_scores_std,\n",
    "                 train_scores_mean + train_scores_std, alpha=0.2,\n",
    "                 color=\"darkorange\", lw=lw)\n",
    "plt.semilogx(param_range, test_scores_mean, label=\"Cross-validation score\",\n",
    "             color=\"navy\", lw=lw)\n",
    "plt.fill_between(param_range, test_scores_mean - test_scores_std,\n",
    "                 test_scores_mean + test_scores_std, alpha=0.2,\n",
    "                 color=\"navy\", lw=lw)\n",
    "plt.legend(loc=\"best\", prop={'size':50})\n",
    "plt.show()"
   ]
  },
  {
   "cell_type": "code",
   "execution_count": 195,
   "metadata": {},
   "outputs": [
    {
     "name": "stdout",
     "output_type": "stream",
     "text": [
      "Fitting 5 folds for each of 20 candidates, totalling 100 fits\n"
     ]
    },
    {
     "name": "stderr",
     "output_type": "stream",
     "text": [
      "[Parallel(n_jobs=-1)]: Done   2 tasks      | elapsed:   13.0s\n",
      "[Parallel(n_jobs=-1)]: Done   9 tasks      | elapsed:   33.9s\n",
      "[Parallel(n_jobs=-1)]: Done  16 tasks      | elapsed:   49.4s\n",
      "[Parallel(n_jobs=-1)]: Done  25 tasks      | elapsed:  1.2min\n",
      "[Parallel(n_jobs=-1)]: Done  34 tasks      | elapsed:  1.6min\n",
      "[Parallel(n_jobs=-1)]: Done  45 tasks      | elapsed:  2.0min\n",
      "[Parallel(n_jobs=-1)]: Done  56 tasks      | elapsed:  2.4min\n",
      "[Parallel(n_jobs=-1)]: Done  69 tasks      | elapsed:  2.9min\n",
      "[Parallel(n_jobs=-1)]: Done  82 tasks      | elapsed:  3.4min\n",
      "[Parallel(n_jobs=-1)]: Done  96 out of 100 | elapsed:  3.9min remaining:    9.6s\n",
      "[Parallel(n_jobs=-1)]: Done 100 out of 100 | elapsed:  3.9min finished\n"
     ]
    },
    {
     "name": "stdout",
     "output_type": "stream",
     "text": [
      "Runtime, grid search: 242.89 sec\n"
     ]
    }
   ],
   "source": [
    "# Fit grid search object to training set\n",
    "\n",
    "start_clock = time.clock()\n",
    "grid_search_LogReg = grid_search_LogReg.fit(X_train, y_train)\n",
    "end_clock = time.clock()\n",
    "\n",
    "clock_grid_search_LogReg = end_clock - start_clock\n",
    "\n",
    "print('Runtime, grid search: ', round(clock_grid_search_LogReg, 2), ' sec', sep='')"
   ]
  },
  {
   "cell_type": "code",
   "execution_count": 200,
   "metadata": {},
   "outputs": [
    {
     "name": "stdout",
     "output_type": "stream",
     "text": [
      "Best accuracy: 69.0%\n",
      "\n",
      "\n",
      "Best parameters: {'C': 10.0, 'penalty': 'l1'}\n"
     ]
    }
   ],
   "source": [
    "# Print results\n",
    "best_accuracy_grid_search_LogReg = grid_search_LogReg.best_score_\n",
    "best_parameters_grid_search_LogReg = grid_search_LogReg.best_params_\n",
    "print(f\"Best accuracy: {round(best_accuracy_grid_search_LogReg, 2)*100}%\")\n",
    "print(\"\\n\")\n",
    "print(f\"Best parameters: {best_parameters_grid_search_LogReg}\")"
   ]
  },
  {
   "cell_type": "code",
   "execution_count": 207,
   "metadata": {},
   "outputs": [
    {
     "data": {
      "text/plain": [
       "array([  3.16227766,   3.83118685,   4.64158883,   5.62341325,\n",
       "         6.81292069,   8.25404185,  10.        ,  12.11527659,\n",
       "        14.67799268,  17.7827941 ,  21.5443469 ,  26.10157216,\n",
       "        31.6227766 ,  38.3118685 ,  46.41588834,  56.23413252,\n",
       "        68.12920691,  82.54041853, 100.        ])"
      ]
     },
     "execution_count": 207,
     "metadata": {},
     "output_type": "execute_result"
    }
   ],
   "source": [
    "np.logspace(0.5,2,19)"
   ]
  },
  {
   "cell_type": "code",
   "execution_count": 208,
   "metadata": {
    "scrolled": true
   },
   "outputs": [
    {
     "name": "stdout",
     "output_type": "stream",
     "text": [
      "Fitting 5 folds for each of 19 candidates, totalling 95 fits\n"
     ]
    },
    {
     "name": "stderr",
     "output_type": "stream",
     "text": [
      "[Parallel(n_jobs=-1)]: Done   2 tasks      | elapsed:   29.3s\n",
      "[Parallel(n_jobs=-1)]: Done   9 tasks      | elapsed:   57.8s\n",
      "[Parallel(n_jobs=-1)]: Done  16 tasks      | elapsed:  1.3min\n",
      "[Parallel(n_jobs=-1)]: Done  25 tasks      | elapsed:  2.0min\n",
      "[Parallel(n_jobs=-1)]: Done  34 tasks      | elapsed:  2.6min\n",
      "[Parallel(n_jobs=-1)]: Done  45 tasks      | elapsed:  3.4min\n",
      "[Parallel(n_jobs=-1)]: Done  56 tasks      | elapsed:  4.1min\n",
      "[Parallel(n_jobs=-1)]: Done  69 tasks      | elapsed:  5.0min\n",
      "[Parallel(n_jobs=-1)]: Done  90 out of  95 | elapsed:  6.5min remaining:   21.5s\n",
      "[Parallel(n_jobs=-1)]: Done  95 out of  95 | elapsed:  6.6min finished\n"
     ]
    },
    {
     "name": "stdout",
     "output_type": "stream",
     "text": [
      "Runtime, grid search: 400.85 sec\n",
      "Best accuracy: 69.0%\n",
      "\n",
      "\n",
      "Best parameters: {'C': 10.0, 'penalty': 'l1'}\n"
     ]
    }
   ],
   "source": [
    "# Search again\n",
    "\n",
    "# Decide parameters to loop through\n",
    "parameters_LogReg = {\n",
    "    'penalty': ['l1'],\n",
    "    'C': np.logspace(0.5,2,19)\n",
    "}\n",
    "\n",
    "# Create grid search object\n",
    "grid_search_LogReg = GridSearchCV(estimator=classifier_grid_LogReg,\n",
    "    param_grid=parameters_LogReg, scoring=\"accuracy\", cv=5,\n",
    "    n_jobs=-1, verbose=10)\n",
    "\n",
    "# Fit grid search object to training set\n",
    "start_clock = time.clock()\n",
    "grid_search_LogReg = grid_search_LogReg.fit(X_train, y_train)\n",
    "end_clock = time.clock()\n",
    "clock_grid_search_LogReg = end_clock - start_clock\n",
    "print('Runtime, grid search: ', round(clock_grid_search_LogReg, 2), ' sec', sep='')\n",
    "\n",
    "# Print results\n",
    "best_accuracy_grid_search_LogReg = grid_search_LogReg.best_score_\n",
    "best_parameters_grid_search_LogReg = grid_search_LogReg.best_params_\n",
    "print(f\"Best accuracy: {round(best_accuracy_grid_search_LogReg, 2)*100}%\")\n",
    "print(\"\\n\")\n",
    "print(f\"Best parameters: {best_parameters_grid_search_LogReg}\")"
   ]
  },
  {
   "cell_type": "code",
   "execution_count": 166,
   "metadata": {},
   "outputs": [],
   "source": [
    "# ---- RUN WITH OPTIMIZED PARAMETERS ----"
   ]
  },
  {
   "cell_type": "code",
   "execution_count": 210,
   "metadata": {},
   "outputs": [
    {
     "name": "stdout",
     "output_type": "stream",
     "text": [
      "Runtime, fit: 6.45 sec\n"
     ]
    }
   ],
   "source": [
    "#-----------------------------------------\n",
    "# FIT MODEL\n",
    "\n",
    "start_clock = time.clock()\n",
    "\n",
    "classifier_LogReg_opt = LogisticRegression(random_state=101, C=10.0, penalty='l1')\n",
    "classifier_LogReg_opt.fit(X_train, y_train)\n",
    "\n",
    "end_clock = time.clock()\n",
    "\n",
    "clock_fit_LogReg_opt = end_clock - start_clock\n",
    "print('Runtime, fit: ', round(clock_fit_LogReg_opt, 2), ' sec', sep='')"
   ]
  },
  {
   "cell_type": "code",
   "execution_count": 211,
   "metadata": {},
   "outputs": [
    {
     "name": "stdout",
     "output_type": "stream",
     "text": [
      "Runtime, predict: 0.0 sec\n"
     ]
    }
   ],
   "source": [
    "#-----------------------------------------\n",
    "# PREDICT TEST RESULTS\n",
    "\n",
    "start_clock = time.clock()\n",
    "\n",
    "y_pred_LogReg_opt = classifier_LogReg_opt.predict(X_test)\n",
    "\n",
    "end_clock = time.clock()\n",
    "\n",
    "clock_predict_LogReg_opt = end_clock - start_clock\n",
    "print('Runtime, predict: ', round(clock_predict_LogReg_opt, 2), ' sec', sep='')"
   ]
  },
  {
   "cell_type": "code",
   "execution_count": 212,
   "metadata": {},
   "outputs": [
    {
     "name": "stdout",
     "output_type": "stream",
     "text": [
      "[[ 7692  7262]\n",
      " [ 3500 16908]]\n",
      "\n",
      "\n",
      "             precision    recall  f1-score   support\n",
      "\n",
      "          0       0.69      0.51      0.59     14954\n",
      "          1       0.70      0.83      0.76     20408\n",
      "\n",
      "avg / total       0.69      0.70      0.69     35362\n",
      "\n"
     ]
    }
   ],
   "source": [
    "#-----------------------------------------\n",
    "# EVALUATE MODEL\n",
    "\n",
    "# Confusion matrix\n",
    "cm_LogReg_opt = confusion_matrix(y_test, y_pred_LogReg_opt)\n",
    "\n",
    "# Classification report\n",
    "cr_LogReg_opt = classification_report(y_test, y_pred_LogReg_opt)\n",
    "\n",
    "print(cm_LogReg_opt)\n",
    "print(\"\\n\")\n",
    "print(cr_LogReg_opt)"
   ]
  },
  {
   "cell_type": "code",
   "execution_count": 213,
   "metadata": {},
   "outputs": [
    {
     "data": {
      "text/plain": [
       "0.6956620100673039"
      ]
     },
     "execution_count": 213,
     "metadata": {},
     "output_type": "execute_result"
    }
   ],
   "source": [
    "acc_LogReg_opt = cm_LogReg_opt.diagonal().sum() / cm_LogReg_opt.sum()\n",
    "acc_LogReg_opt"
   ]
  },
  {
   "cell_type": "code",
   "execution_count": 214,
   "metadata": {},
   "outputs": [
    {
     "name": "stdout",
     "output_type": "stream",
     "text": [
      "10-fold CV estimated time:  64.58  sec\n"
     ]
    }
   ],
   "source": [
    "#-----------------------------------------\n",
    "# APPLY K-FOLD CROSS VALIDATION\n",
    "\n",
    "# 10-fold cross validation time estimate:\n",
    "print('10-fold CV estimated time: ', \n",
    "      round((clock_fit_LogReg_opt + clock_predict_LogReg_opt)*10, 2), \n",
    "      ' sec')"
   ]
  },
  {
   "cell_type": "code",
   "execution_count": 215,
   "metadata": {},
   "outputs": [
    {
     "name": "stdout",
     "output_type": "stream",
     "text": [
      "Runtime, 10-fold CV: 68.86 sec\n"
     ]
    }
   ],
   "source": [
    "start_clock = time.clock()\n",
    "\n",
    "accuracies_LogReg_opt = cross_val_score(\n",
    "    estimator=classifier_LogReg_opt, X=X_train, y=y_train,\n",
    "    cv=10)\n",
    "\n",
    "end_clock = time.clock()\n",
    "\n",
    "clock_10FCV_LogReg_opt = end_clock - start_clock\n",
    "print('Runtime, 10-fold CV: ', round(clock_10FCV_LogReg_opt, 2), ' sec', sep='')"
   ]
  },
  {
   "cell_type": "code",
   "execution_count": 216,
   "metadata": {},
   "outputs": [],
   "source": [
    "try:\n",
    "    clock_10FCV_LogReg_opt\n",
    "except:\n",
    "    clock_10FCV_LogReg_opt = None\n",
    "    print(\"No 10-fold CV time to report\")"
   ]
  },
  {
   "cell_type": "code",
   "execution_count": 217,
   "metadata": {},
   "outputs": [
    {
     "name": "stdout",
     "output_type": "stream",
     "text": [
      "Accuracies:\n",
      "[0.69010368 0.69208294 0.69261947 0.68118401 0.69145928 0.6961727\n",
      " 0.69485294 0.68438914 0.69777526 0.68995098]\n",
      "\n",
      "\n",
      "RESULTS:\n",
      "  - Mean accuracy: 69.0%\n",
      "  - Accuracy std dev: 0.0%\n"
     ]
    }
   ],
   "source": [
    "try:\n",
    "    accuracies_LogReg_opt\n",
    "except:\n",
    "    accuracy_10FCV_mean_LogReg_opt = None\n",
    "    print(\"No K-fold CV accuracies to report\")\n",
    "else:\n",
    "    accuracy_10FCV_mean_LogReg_opt = accuracies_LogReg_opt.mean()\n",
    "    print(\"Accuracies:\")\n",
    "    print(accuracies_LogReg_opt)\n",
    "    print('\\n')\n",
    "    print(\"RESULTS:\")\n",
    "    print(f\"  - Mean accuracy: {round(accuracies_LogReg_opt.mean(), 2)*100}%\")\n",
    "    print(f\"  - Accuracy std dev: {round(accuracies_LogReg_opt.std(), 2)*100}%\")"
   ]
  },
  {
   "cell_type": "code",
   "execution_count": 218,
   "metadata": {},
   "outputs": [],
   "source": [
    "df_results_LogReg_opt = pd.DataFrame([{\n",
    "    'model':'Logistic Regression (Optimized)', \n",
    "    'time_fit':clock_fit_LogReg_opt, 'time_predict':clock_predict_LogReg_opt,\n",
    "    'time_10_fold_CV':clock_10FCV_LogReg_opt,\n",
    "    'accuracy':acc_LogReg_opt, 'acc_10_fold':accuracy_10FCV_mean_LogReg_opt}])\n",
    "df_results_LogReg_opt = df_results_LogReg_opt[['model','time_fit','time_predict','time_10_fold_CV','accuracy','acc_10_fold']]"
   ]
  },
  {
   "cell_type": "code",
   "execution_count": 219,
   "metadata": {},
   "outputs": [],
   "source": [
    "df_results = pd.DataFrame.append(df_results, df_results_LogReg_opt).reset_index(drop=True)"
   ]
  },
  {
   "cell_type": "code",
   "execution_count": 220,
   "metadata": {
    "scrolled": true
   },
   "outputs": [
    {
     "data": {
      "text/html": [
       "<div>\n",
       "<style scoped>\n",
       "    .dataframe tbody tr th:only-of-type {\n",
       "        vertical-align: middle;\n",
       "    }\n",
       "\n",
       "    .dataframe tbody tr th {\n",
       "        vertical-align: top;\n",
       "    }\n",
       "\n",
       "    .dataframe thead th {\n",
       "        text-align: right;\n",
       "    }\n",
       "</style>\n",
       "<table border=\"1\" class=\"dataframe\">\n",
       "  <thead>\n",
       "    <tr style=\"text-align: right;\">\n",
       "      <th></th>\n",
       "      <th>model</th>\n",
       "      <th>time_fit</th>\n",
       "      <th>time_predict</th>\n",
       "      <th>time_10_fold_CV</th>\n",
       "      <th>accuracy</th>\n",
       "      <th>acc_10_fold</th>\n",
       "    </tr>\n",
       "  </thead>\n",
       "  <tbody>\n",
       "    <tr>\n",
       "      <th>0</th>\n",
       "      <td>Naive Bayes</td>\n",
       "      <td>0.101767</td>\n",
       "      <td>0.036270</td>\n",
       "      <td>1.53579</td>\n",
       "      <td>0.623551</td>\n",
       "      <td>0.624725</td>\n",
       "    </tr>\n",
       "    <tr>\n",
       "      <th>1</th>\n",
       "      <td>Logistic Regression</td>\n",
       "      <td>1.822522</td>\n",
       "      <td>0.009085</td>\n",
       "      <td>17.0696</td>\n",
       "      <td>0.694333</td>\n",
       "      <td>0.689984</td>\n",
       "    </tr>\n",
       "    <tr>\n",
       "      <th>2</th>\n",
       "      <td>K Nearest Neighbors</td>\n",
       "      <td>7.340739</td>\n",
       "      <td>101.319590</td>\n",
       "      <td>344.234</td>\n",
       "      <td>0.682739</td>\n",
       "      <td>0.675807</td>\n",
       "    </tr>\n",
       "    <tr>\n",
       "      <th>3</th>\n",
       "      <td>SVM, Linear</td>\n",
       "      <td>954.375944</td>\n",
       "      <td>90.726687</td>\n",
       "      <td>None</td>\n",
       "      <td>0.677168</td>\n",
       "      <td>None</td>\n",
       "    </tr>\n",
       "    <tr>\n",
       "      <th>4</th>\n",
       "      <td>SVM, RBF</td>\n",
       "      <td>1091.777649</td>\n",
       "      <td>120.427602</td>\n",
       "      <td>None</td>\n",
       "      <td>0.682908</td>\n",
       "      <td>None</td>\n",
       "    </tr>\n",
       "    <tr>\n",
       "      <th>5</th>\n",
       "      <td>Decision Tree</td>\n",
       "      <td>0.437127</td>\n",
       "      <td>0.014542</td>\n",
       "      <td>4.82765</td>\n",
       "      <td>0.664357</td>\n",
       "      <td>0.662544</td>\n",
       "    </tr>\n",
       "    <tr>\n",
       "      <th>6</th>\n",
       "      <td>Random Forest (10-fold)</td>\n",
       "      <td>1.016743</td>\n",
       "      <td>0.104582</td>\n",
       "      <td>10.463</td>\n",
       "      <td>0.683248</td>\n",
       "      <td>0.680784</td>\n",
       "    </tr>\n",
       "    <tr>\n",
       "      <th>7</th>\n",
       "      <td>PCA (n=2), Naive Bayes</td>\n",
       "      <td>0.024343</td>\n",
       "      <td>0.003595</td>\n",
       "      <td>0.284533</td>\n",
       "      <td>0.609355</td>\n",
       "      <td>0.608927</td>\n",
       "    </tr>\n",
       "    <tr>\n",
       "      <th>8</th>\n",
       "      <td>Random Forest (Optimized)</td>\n",
       "      <td>5.856856</td>\n",
       "      <td>0.470576</td>\n",
       "      <td>66.9746</td>\n",
       "      <td>0.718257</td>\n",
       "      <td>0.716067</td>\n",
       "    </tr>\n",
       "    <tr>\n",
       "      <th>9</th>\n",
       "      <td>Logistic Regression (Optimized)</td>\n",
       "      <td>6.454474</td>\n",
       "      <td>0.003956</td>\n",
       "      <td>68.8582</td>\n",
       "      <td>0.695662</td>\n",
       "      <td>0.691059</td>\n",
       "    </tr>\n",
       "  </tbody>\n",
       "</table>\n",
       "</div>"
      ],
      "text/plain": [
       "                             model     time_fit  time_predict time_10_fold_CV  \\\n",
       "0                      Naive Bayes     0.101767      0.036270         1.53579   \n",
       "1              Logistic Regression     1.822522      0.009085         17.0696   \n",
       "2              K Nearest Neighbors     7.340739    101.319590         344.234   \n",
       "3                      SVM, Linear   954.375944     90.726687            None   \n",
       "4                         SVM, RBF  1091.777649    120.427602            None   \n",
       "5                    Decision Tree     0.437127      0.014542         4.82765   \n",
       "6          Random Forest (10-fold)     1.016743      0.104582          10.463   \n",
       "7           PCA (n=2), Naive Bayes     0.024343      0.003595        0.284533   \n",
       "8        Random Forest (Optimized)     5.856856      0.470576         66.9746   \n",
       "9  Logistic Regression (Optimized)     6.454474      0.003956         68.8582   \n",
       "\n",
       "   accuracy acc_10_fold  \n",
       "0  0.623551    0.624725  \n",
       "1  0.694333    0.689984  \n",
       "2  0.682739    0.675807  \n",
       "3  0.677168        None  \n",
       "4  0.682908        None  \n",
       "5  0.664357    0.662544  \n",
       "6  0.683248    0.680784  \n",
       "7  0.609355    0.608927  \n",
       "8  0.718257    0.716067  \n",
       "9  0.695662    0.691059  "
      ]
     },
     "execution_count": 220,
     "metadata": {},
     "output_type": "execute_result"
    }
   ],
   "source": [
    "df_results"
   ]
  },
  {
   "cell_type": "code",
   "execution_count": 224,
   "metadata": {},
   "outputs": [],
   "source": [
    "#==============================================================================\n",
    "#\n",
    "# GRID SEARCH - K NEAREST NEIGHBORS\n",
    "#\n",
    "#=============================================================================="
   ]
  },
  {
   "cell_type": "code",
   "execution_count": 5,
   "metadata": {},
   "outputs": [
    {
     "data": {
      "text/plain": [
       "array([ 1,  2,  3,  4,  5,  6,  7,  8,  9, 10, 11, 12, 13, 14, 15, 16, 17,\n",
       "       18, 19, 20, 21, 22, 23, 24, 25])"
      ]
     },
     "execution_count": 5,
     "metadata": {},
     "output_type": "execute_result"
    }
   ],
   "source": [
    "np.arange(1,26,1)"
   ]
  },
  {
   "cell_type": "code",
   "execution_count": 10,
   "metadata": {},
   "outputs": [],
   "source": [
    "classifier_grid_knn = KNeighborsClassifier()"
   ]
  },
  {
   "cell_type": "code",
   "execution_count": 11,
   "metadata": {},
   "outputs": [],
   "source": [
    "# Decide parameters to loop through\n",
    "param_range = np.arange(1,25,1)\n",
    "parameters_knn = {\n",
    "    'n_neighbors': param_range,\n",
    "    'metric': ['minkowski'],\n",
    "    'p': [1, 2]\n",
    "}"
   ]
  },
  {
   "cell_type": "code",
   "execution_count": 12,
   "metadata": {},
   "outputs": [
    {
     "data": {
      "text/plain": [
       "'# Create validation curve objects\\ntrain_scores, test_scores = validation_curve(\\n    KNeighborsClassifier(), X_train, y_train, param_name=\\'n_neighbors\\', \\n    param_range=param_range, cv=5, scoring=\"accuracy\", n_jobs=-1)\\ntrain_scores_mean = np.mean(train_scores, axis=1)\\ntrain_scores_std = np.std(train_scores, axis=1)\\ntest_scores_mean = np.mean(test_scores, axis=1)\\ntest_scores_std = np.std(test_scores, axis=1)'"
      ]
     },
     "execution_count": 12,
     "metadata": {},
     "output_type": "execute_result"
    }
   ],
   "source": [
    "# time intensive:\n",
    "'''# Create validation curve objects\n",
    "train_scores, test_scores = validation_curve(\n",
    "    KNeighborsClassifier(), X_train, y_train, param_name='n_neighbors', \n",
    "    param_range=param_range, cv=5, scoring=\"accuracy\", n_jobs=-1)\n",
    "train_scores_mean = np.mean(train_scores, axis=1)\n",
    "train_scores_std = np.std(train_scores, axis=1)\n",
    "test_scores_mean = np.mean(test_scores, axis=1)\n",
    "test_scores_std = np.std(test_scores, axis=1)'''"
   ]
  },
  {
   "cell_type": "code",
   "execution_count": 13,
   "metadata": {},
   "outputs": [
    {
     "data": {
      "text/plain": [
       "'# Plot validation curve\\n%matplotlib inline\\nplt.title(\"Validation Curve with K Nearest Neighbors\")\\nplt.xlabel(\"n_neighbors\")\\nplt.ylabel(\"Score\")\\n#plt.ylim(0.68, 0.72)\\nlw = 2\\nplt.semilogx(param_range, train_scores_mean, label=\"Training score\",\\n             color=\"darkorange\", lw=lw)\\nplt.fill_between(param_range, train_scores_mean - train_scores_std,\\n                 train_scores_mean + train_scores_std, alpha=0.2,\\n                 color=\"darkorange\", lw=lw)\\nplt.semilogx(param_range, test_scores_mean, label=\"Cross-validation score\",\\n             color=\"navy\", lw=lw)\\nplt.fill_between(param_range, test_scores_mean - test_scores_std,\\n                 test_scores_mean + test_scores_std, alpha=0.2,\\n                 color=\"navy\", lw=lw)\\nplt.legend(loc=\"best\")\\nplt.show()'"
      ]
     },
     "execution_count": 13,
     "metadata": {},
     "output_type": "execute_result"
    }
   ],
   "source": [
    "'''# Plot validation curve\n",
    "%matplotlib inline\n",
    "plt.title(\"Validation Curve with K Nearest Neighbors\")\n",
    "plt.xlabel(\"n_neighbors\")\n",
    "plt.ylabel(\"Score\")\n",
    "#plt.ylim(0.68, 0.72)\n",
    "lw = 2\n",
    "plt.semilogx(param_range, train_scores_mean, label=\"Training score\",\n",
    "             color=\"darkorange\", lw=lw)\n",
    "plt.fill_between(param_range, train_scores_mean - train_scores_std,\n",
    "                 train_scores_mean + train_scores_std, alpha=0.2,\n",
    "                 color=\"darkorange\", lw=lw)\n",
    "plt.semilogx(param_range, test_scores_mean, label=\"Cross-validation score\",\n",
    "             color=\"navy\", lw=lw)\n",
    "plt.fill_between(param_range, test_scores_mean - test_scores_std,\n",
    "                 test_scores_mean + test_scores_std, alpha=0.2,\n",
    "                 color=\"navy\", lw=lw)\n",
    "plt.legend(loc=\"best\")\n",
    "plt.show()'''"
   ]
  },
  {
   "cell_type": "code",
   "execution_count": 14,
   "metadata": {},
   "outputs": [
    {
     "data": {
      "text/plain": [
       "'# Plot validation curve\\n%matplotlib qt\\nplt.title(\"Validation Curve with Logistic Regression\", fontsize=70)\\nplt.xlabel(\"C\", fontsize=40)\\nplt.ylabel(\"Score\", fontsize=40)\\nplt.xticks(fontsize=30)\\nplt.yticks(fontsize=30)\\nplt.ylim(0.68, 0.70)\\nlw = 10\\nplt.semilogx(param_range, train_scores_mean, label=\"Training score\",\\n             color=\"darkorange\", lw=lw)\\nplt.fill_between(param_range, train_scores_mean - train_scores_std,\\n                 train_scores_mean + train_scores_std, alpha=0.2,\\n                 color=\"darkorange\", lw=lw)\\nplt.semilogx(param_range, test_scores_mean, label=\"Cross-validation score\",\\n             color=\"navy\", lw=lw)\\nplt.fill_between(param_range, test_scores_mean - test_scores_std,\\n                 test_scores_mean + test_scores_std, alpha=0.2,\\n                 color=\"navy\", lw=lw)\\nplt.legend(loc=\"best\", prop={\\'size\\':50})\\nplt.show()'"
      ]
     },
     "execution_count": 14,
     "metadata": {},
     "output_type": "execute_result"
    }
   ],
   "source": [
    "'''# Plot validation curve\n",
    "%matplotlib qt\n",
    "plt.title(\"Validation Curve with Logistic Regression\", fontsize=70)\n",
    "plt.xlabel(\"C\", fontsize=40)\n",
    "plt.ylabel(\"Score\", fontsize=40)\n",
    "plt.xticks(fontsize=30)\n",
    "plt.yticks(fontsize=30)\n",
    "plt.ylim(0.68, 0.70)\n",
    "lw = 10\n",
    "plt.semilogx(param_range, train_scores_mean, label=\"Training score\",\n",
    "             color=\"darkorange\", lw=lw)\n",
    "plt.fill_between(param_range, train_scores_mean - train_scores_std,\n",
    "                 train_scores_mean + train_scores_std, alpha=0.2,\n",
    "                 color=\"darkorange\", lw=lw)\n",
    "plt.semilogx(param_range, test_scores_mean, label=\"Cross-validation score\",\n",
    "             color=\"navy\", lw=lw)\n",
    "plt.fill_between(param_range, test_scores_mean - test_scores_std,\n",
    "                 test_scores_mean + test_scores_std, alpha=0.2,\n",
    "                 color=\"navy\", lw=lw)\n",
    "plt.legend(loc=\"best\", prop={'size':50})\n",
    "plt.show()'''"
   ]
  },
  {
   "cell_type": "code",
   "execution_count": 228,
   "metadata": {},
   "outputs": [],
   "source": [
    "# Create grid search object\n",
    "grid_search_knn = GridSearchCV(estimator=classifier_grid_knn,\n",
    "    param_grid=parameters_knn, scoring=\"accuracy\", cv=5,\n",
    "    n_jobs=-1, verbose=10)"
   ]
  },
  {
   "cell_type": "code",
   "execution_count": 230,
   "metadata": {},
   "outputs": [
    {
     "name": "stdout",
     "output_type": "stream",
     "text": [
      "Fitting 5 folds for each of 48 candidates, totalling 240 fits\n"
     ]
    },
    {
     "name": "stderr",
     "output_type": "stream",
     "text": [
      "[Parallel(n_jobs=-1)]: Done   2 tasks      | elapsed:  8.1min\n",
      "[Parallel(n_jobs=-1)]: Done   9 tasks      | elapsed: 16.0min\n",
      "[Parallel(n_jobs=-1)]: Done  16 tasks      | elapsed: 19.3min\n",
      "[Parallel(n_jobs=-1)]: Done  25 tasks      | elapsed: 35.4min\n",
      "[Parallel(n_jobs=-1)]: Done  34 tasks      | elapsed: 46.5min\n",
      "[Parallel(n_jobs=-1)]: Done  45 tasks      | elapsed: 59.0min\n",
      "[Parallel(n_jobs=-1)]: Done  56 tasks      | elapsed: 75.2min\n",
      "[Parallel(n_jobs=-1)]: Done  69 tasks      | elapsed: 94.8min\n",
      "[Parallel(n_jobs=-1)]: Done  82 tasks      | elapsed: 117.9min\n",
      "[Parallel(n_jobs=-1)]: Done  97 tasks      | elapsed: 142.9min\n",
      "[Parallel(n_jobs=-1)]: Done 112 tasks      | elapsed: 165.1min\n",
      "[Parallel(n_jobs=-1)]: Done 129 tasks      | elapsed: 197.6min\n",
      "[Parallel(n_jobs=-1)]: Done 146 tasks      | elapsed: 228.5min\n",
      "[Parallel(n_jobs=-1)]: Done 165 tasks      | elapsed: 259.5min\n",
      "[Parallel(n_jobs=-1)]: Done 184 tasks      | elapsed: 296.5min\n",
      "[Parallel(n_jobs=-1)]: Done 205 tasks      | elapsed: 348.5min\n",
      "[Parallel(n_jobs=-1)]: Done 240 out of 240 | elapsed: 416.9min finished\n"
     ]
    },
    {
     "name": "stdout",
     "output_type": "stream",
     "text": [
      "Runtime, grid search: 25019.86 sec\n"
     ]
    }
   ],
   "source": [
    "# Fit grid search object to training set\n",
    "\n",
    "start_clock = time.clock()\n",
    "grid_search_knn = grid_search_knn.fit(X_train, y_train)\n",
    "end_clock = time.clock()\n",
    "\n",
    "clock_grid_search_knn = end_clock - start_clock\n",
    "\n",
    "print('Runtime, grid search: ', round(clock_grid_search_knn, 2), ' sec', sep='')"
   ]
  },
  {
   "cell_type": "code",
   "execution_count": 231,
   "metadata": {},
   "outputs": [
    {
     "name": "stdout",
     "output_type": "stream",
     "text": [
      "Best accuracy: 70.0%\n",
      "\n",
      "\n",
      "Best parameters: {'metric': 'minkowski', 'n_neighbors': 23, 'p': 2}\n"
     ]
    }
   ],
   "source": [
    "# Print results\n",
    "best_accuracy_grid_search_knn = grid_search_knn.best_score_\n",
    "best_parameters_grid_search_knn = grid_search_knn.best_params_\n",
    "print(\"Best accuracy: \", round(best_accuracy_grid_search_knn, 2)*100, \"%\", sep=\"\")\n",
    "print(\"\\n\")\n",
    "print(\"Best parameters: \", best_parameters_grid_search_knn, sep=\"\")"
   ]
  },
  {
   "cell_type": "code",
   "execution_count": 166,
   "metadata": {},
   "outputs": [],
   "source": [
    "# ---- RUN WITH OPTIMIZED PARAMETERS ----"
   ]
  },
  {
   "cell_type": "code",
   "execution_count": 17,
   "metadata": {},
   "outputs": [
    {
     "name": "stdout",
     "output_type": "stream",
     "text": [
      "Runtime, fit: 7.25 sec\n"
     ]
    }
   ],
   "source": [
    "#-----------------------------------------\n",
    "# FIT MODEL\n",
    "\n",
    "start_clock = time.clock()\n",
    "\n",
    "classifier_knn_opt = KNeighborsClassifier(metric='minkowski', n_neighbors=23, p=2, n_jobs=-1)\n",
    "classifier_knn_opt.fit(X_train, y_train)\n",
    "\n",
    "end_clock = time.clock()\n",
    "\n",
    "clock_fit_knn_opt = end_clock - start_clock\n",
    "print('Runtime, fit: ', round(clock_fit_knn_opt, 2), ' sec', sep='')"
   ]
  },
  {
   "cell_type": "code",
   "execution_count": 18,
   "metadata": {},
   "outputs": [
    {
     "name": "stdout",
     "output_type": "stream",
     "text": [
      "Runtime, predict: 48.4 sec\n"
     ]
    }
   ],
   "source": [
    "#-----------------------------------------\n",
    "# PREDICT TEST RESULTS\n",
    "\n",
    "start_clock = time.clock()\n",
    "\n",
    "y_pred_knn_opt = classifier_knn_opt.predict(X_test)\n",
    "\n",
    "end_clock = time.clock()\n",
    "\n",
    "clock_predict_knn_opt = end_clock - start_clock\n",
    "print('Runtime, predict: ', round(clock_predict_knn_opt, 2), ' sec', sep='')"
   ]
  },
  {
   "cell_type": "code",
   "execution_count": 19,
   "metadata": {},
   "outputs": [
    {
     "name": "stdout",
     "output_type": "stream",
     "text": [
      "[[ 8361  6593]\n",
      " [ 4004 16404]]\n",
      "\n",
      "\n",
      "             precision    recall  f1-score   support\n",
      "\n",
      "          0       0.68      0.56      0.61     14954\n",
      "          1       0.71      0.80      0.76     20408\n",
      "\n",
      "avg / total       0.70      0.70      0.70     35362\n",
      "\n"
     ]
    }
   ],
   "source": [
    "#-----------------------------------------\n",
    "# EVALUATE MODEL\n",
    "\n",
    "# Confusion matrix\n",
    "cm_knn_opt = confusion_matrix(y_test, y_pred_knn_opt)\n",
    "\n",
    "# Classification report\n",
    "cr_knn_opt = classification_report(y_test, y_pred_knn_opt)\n",
    "\n",
    "print(cm_knn_opt)\n",
    "print(\"\\n\")\n",
    "print(cr_knn_opt)"
   ]
  },
  {
   "cell_type": "code",
   "execution_count": 20,
   "metadata": {},
   "outputs": [
    {
     "data": {
      "text/plain": [
       "0.7003280357445846"
      ]
     },
     "execution_count": 20,
     "metadata": {},
     "output_type": "execute_result"
    }
   ],
   "source": [
    "acc_knn_opt = cm_knn_opt.diagonal().sum() / cm_knn_opt.sum()\n",
    "acc_knn_opt"
   ]
  },
  {
   "cell_type": "code",
   "execution_count": 21,
   "metadata": {},
   "outputs": [
    {
     "name": "stdout",
     "output_type": "stream",
     "text": [
      "10-fold CV estimatknnd time:  556.52  sec\n"
     ]
    }
   ],
   "source": [
    "#-----------------------------------------\n",
    "# APPLY K-FOLD CROSS VALIDATION\n",
    "\n",
    "# 10-fold cross validation time estimate:\n",
    "print('10-fold CV estimatknnd time: ', \n",
    "      round((clock_fit_knn_opt + clock_predict_knn_opt)*10, 2), \n",
    "      ' sec')"
   ]
  },
  {
   "cell_type": "code",
   "execution_count": 22,
   "metadata": {},
   "outputs": [
    {
     "name": "stdout",
     "output_type": "stream",
     "text": [
      "Runtime, 10-fold CV: 211.56 sec\n"
     ]
    }
   ],
   "source": [
    "start_clock = time.clock()\n",
    "\n",
    "accuracies_knn_opt = cross_val_score(\n",
    "    estimator=classifier_knn_opt, X=X_train, y=y_train,\n",
    "    cv=10)\n",
    "\n",
    "end_clock = time.clock()\n",
    "\n",
    "clock_10FCV_knn_opt = end_clock - start_clock\n",
    "print('Runtime, 10-fold CV: ', round(clock_10FCV_knn_opt, 2), ' sec', sep='')"
   ]
  },
  {
   "cell_type": "code",
   "execution_count": null,
   "metadata": {},
   "outputs": [],
   "source": []
  },
  {
   "cell_type": "code",
   "execution_count": 23,
   "metadata": {},
   "outputs": [],
   "source": [
    "try:\n",
    "    clock_10FCV_knn_opt\n",
    "except:\n",
    "    clock_10FCV_knn_opt = None\n",
    "    print(\"No 10-fold CV time to report\")"
   ]
  },
  {
   "cell_type": "code",
   "execution_count": 25,
   "metadata": {},
   "outputs": [
    {
     "name": "stdout",
     "output_type": "stream",
     "text": [
      "Accuracies:\n",
      "[0.6934967  0.69858624 0.70459044 0.68731146 0.69890649 0.70701357\n",
      " 0.70230015 0.69268477 0.70220588 0.70060332]\n",
      "\n",
      "\n",
      "RESULTS:\n",
      "  - Mean accuracy: 70.0%\n",
      "  - Accuracy std dev: 1.0%\n"
     ]
    }
   ],
   "source": [
    "try:\n",
    "    accuracies_knn_opt\n",
    "except:\n",
    "    accuracy_10FCV_mean_knn_opt = None\n",
    "    print(\"No K-fold CV accuracies to report\")\n",
    "else:\n",
    "    accuracy_10FCV_mean_knn_opt = accuracies_knn_opt.mean()\n",
    "    print(\"Accuracies:\")\n",
    "    print(accuracies_knn_opt)\n",
    "    print('\\n')\n",
    "    print(\"RESULTS:\")\n",
    "    print(\"  - Mean accuracy: \", round(accuracies_knn_opt.mean(), 2)*100, \"%\", sep=\"\")\n",
    "    print(\"  - Accuracy std dev: \", round(accuracies_knn_opt.std(), 2)*100, \"%\", sep=\"\")"
   ]
  },
  {
   "cell_type": "code",
   "execution_count": 27,
   "metadata": {},
   "outputs": [],
   "source": [
    "df_results_knn_opt = pd.DataFrame([{\n",
    "    'model':'KNN (Optimized)', \n",
    "    'time_fit':clock_fit_knn_opt, 'time_predict':clock_predict_knn_opt,\n",
    "    'time_10_fold_CV':clock_10FCV_knn_opt,\n",
    "    'accuracy':acc_knn_opt, 'acc_10_fold':accuracy_10FCV_mean_knn_opt}])\n",
    "df_results_knn_opt = df_results_knn_opt[['model','time_fit','time_predict','time_10_fold_CV','accuracy','acc_10_fold']]"
   ]
  },
  {
   "cell_type": "code",
   "execution_count": 28,
   "metadata": {},
   "outputs": [],
   "source": [
    "df_results = pd.DataFrame.append(df_results, df_results_knn_opt).reset_index(drop=True)"
   ]
  },
  {
   "cell_type": "code",
   "execution_count": 29,
   "metadata": {
    "scrolled": true
   },
   "outputs": [
    {
     "data": {
      "text/html": [
       "<div>\n",
       "<style scoped>\n",
       "    .dataframe tbody tr th:only-of-type {\n",
       "        vertical-align: middle;\n",
       "    }\n",
       "\n",
       "    .dataframe tbody tr th {\n",
       "        vertical-align: top;\n",
       "    }\n",
       "\n",
       "    .dataframe thead th {\n",
       "        text-align: right;\n",
       "    }\n",
       "</style>\n",
       "<table border=\"1\" class=\"dataframe\">\n",
       "  <thead>\n",
       "    <tr style=\"text-align: right;\">\n",
       "      <th></th>\n",
       "      <th>model</th>\n",
       "      <th>time_fit</th>\n",
       "      <th>time_predict</th>\n",
       "      <th>time_10_fold_CV</th>\n",
       "      <th>accuracy</th>\n",
       "      <th>acc_10_fold</th>\n",
       "    </tr>\n",
       "  </thead>\n",
       "  <tbody>\n",
       "    <tr>\n",
       "      <th>0</th>\n",
       "      <td>Naive Bayes</td>\n",
       "      <td>0.101767</td>\n",
       "      <td>0.036270</td>\n",
       "      <td>1.53579</td>\n",
       "      <td>0.623551</td>\n",
       "      <td>0.624725</td>\n",
       "    </tr>\n",
       "    <tr>\n",
       "      <th>1</th>\n",
       "      <td>Logistic Regression</td>\n",
       "      <td>1.822522</td>\n",
       "      <td>0.009085</td>\n",
       "      <td>17.0696</td>\n",
       "      <td>0.694333</td>\n",
       "      <td>0.689984</td>\n",
       "    </tr>\n",
       "    <tr>\n",
       "      <th>2</th>\n",
       "      <td>K Nearest Neighbors</td>\n",
       "      <td>7.340739</td>\n",
       "      <td>101.319590</td>\n",
       "      <td>344.234</td>\n",
       "      <td>0.682739</td>\n",
       "      <td>0.675807</td>\n",
       "    </tr>\n",
       "    <tr>\n",
       "      <th>3</th>\n",
       "      <td>SVM, Linear</td>\n",
       "      <td>954.375944</td>\n",
       "      <td>90.726687</td>\n",
       "      <td>None</td>\n",
       "      <td>0.677168</td>\n",
       "      <td>None</td>\n",
       "    </tr>\n",
       "    <tr>\n",
       "      <th>4</th>\n",
       "      <td>SVM, RBF</td>\n",
       "      <td>1091.777649</td>\n",
       "      <td>120.427602</td>\n",
       "      <td>None</td>\n",
       "      <td>0.682908</td>\n",
       "      <td>None</td>\n",
       "    </tr>\n",
       "    <tr>\n",
       "      <th>5</th>\n",
       "      <td>Decision Tree</td>\n",
       "      <td>0.437127</td>\n",
       "      <td>0.014542</td>\n",
       "      <td>4.82765</td>\n",
       "      <td>0.664357</td>\n",
       "      <td>0.662544</td>\n",
       "    </tr>\n",
       "    <tr>\n",
       "      <th>6</th>\n",
       "      <td>Random Forest (10-fold)</td>\n",
       "      <td>1.016743</td>\n",
       "      <td>0.104582</td>\n",
       "      <td>10.463</td>\n",
       "      <td>0.683248</td>\n",
       "      <td>0.680784</td>\n",
       "    </tr>\n",
       "    <tr>\n",
       "      <th>7</th>\n",
       "      <td>PCA (n=2), Naive Bayes</td>\n",
       "      <td>0.024343</td>\n",
       "      <td>0.003595</td>\n",
       "      <td>0.284533</td>\n",
       "      <td>0.609355</td>\n",
       "      <td>0.608927</td>\n",
       "    </tr>\n",
       "    <tr>\n",
       "      <th>8</th>\n",
       "      <td>Random Forest (Optimized)</td>\n",
       "      <td>5.856856</td>\n",
       "      <td>0.470576</td>\n",
       "      <td>66.9746</td>\n",
       "      <td>0.718257</td>\n",
       "      <td>0.716067</td>\n",
       "    </tr>\n",
       "    <tr>\n",
       "      <th>9</th>\n",
       "      <td>Logistic Regression (Optimized)</td>\n",
       "      <td>6.454474</td>\n",
       "      <td>0.003956</td>\n",
       "      <td>68.8582</td>\n",
       "      <td>0.695662</td>\n",
       "      <td>0.691059</td>\n",
       "    </tr>\n",
       "    <tr>\n",
       "      <th>10</th>\n",
       "      <td>KNN (Optimized)</td>\n",
       "      <td>7.253727</td>\n",
       "      <td>48.397783</td>\n",
       "      <td>211.557</td>\n",
       "      <td>0.700328</td>\n",
       "      <td>0.69877</td>\n",
       "    </tr>\n",
       "  </tbody>\n",
       "</table>\n",
       "</div>"
      ],
      "text/plain": [
       "                              model     time_fit  time_predict  \\\n",
       "0                       Naive Bayes     0.101767      0.036270   \n",
       "1               Logistic Regression     1.822522      0.009085   \n",
       "2               K Nearest Neighbors     7.340739    101.319590   \n",
       "3                       SVM, Linear   954.375944     90.726687   \n",
       "4                          SVM, RBF  1091.777649    120.427602   \n",
       "5                     Decision Tree     0.437127      0.014542   \n",
       "6           Random Forest (10-fold)     1.016743      0.104582   \n",
       "7            PCA (n=2), Naive Bayes     0.024343      0.003595   \n",
       "8         Random Forest (Optimized)     5.856856      0.470576   \n",
       "9   Logistic Regression (Optimized)     6.454474      0.003956   \n",
       "10                  KNN (Optimized)     7.253727     48.397783   \n",
       "\n",
       "   time_10_fold_CV  accuracy acc_10_fold  \n",
       "0          1.53579  0.623551    0.624725  \n",
       "1          17.0696  0.694333    0.689984  \n",
       "2          344.234  0.682739    0.675807  \n",
       "3             None  0.677168        None  \n",
       "4             None  0.682908        None  \n",
       "5          4.82765  0.664357    0.662544  \n",
       "6           10.463  0.683248    0.680784  \n",
       "7         0.284533  0.609355    0.608927  \n",
       "8          66.9746  0.718257    0.716067  \n",
       "9          68.8582  0.695662    0.691059  \n",
       "10         211.557  0.700328     0.69877  "
      ]
     },
     "execution_count": 29,
     "metadata": {},
     "output_type": "execute_result"
    }
   ],
   "source": [
    "df_results"
   ]
  },
  {
   "cell_type": "code",
   "execution_count": 33,
   "metadata": {},
   "outputs": [],
   "source": [
    "#==============================================================================\n",
    "#\n",
    "# VALIDATE\n",
    "#\n",
    "#=============================================================================="
   ]
  },
  {
   "cell_type": "code",
   "execution_count": 130,
   "metadata": {},
   "outputs": [],
   "source": [
    "# ---- LOAD DATA ----\n",
    "df_v = pd.read_csv('data/df_v.csv', sep=',', na_filter=False, index_col=0)"
   ]
  },
  {
   "cell_type": "code",
   "execution_count": 131,
   "metadata": {},
   "outputs": [
    {
     "data": {
      "text/plain": [
       "(41140, 96)"
      ]
     },
     "execution_count": 131,
     "metadata": {},
     "output_type": "execute_result"
    }
   ],
   "source": [
    "df_v.shape"
   ]
  },
  {
   "cell_type": "code",
   "execution_count": 91,
   "metadata": {
    "scrolled": true
   },
   "outputs": [
    {
     "data": {
      "text/html": [
       "<div>\n",
       "<style scoped>\n",
       "    .dataframe tbody tr th:only-of-type {\n",
       "        vertical-align: middle;\n",
       "    }\n",
       "\n",
       "    .dataframe tbody tr th {\n",
       "        vertical-align: top;\n",
       "    }\n",
       "\n",
       "    .dataframe thead th {\n",
       "        text-align: right;\n",
       "    }\n",
       "</style>\n",
       "<table border=\"1\" class=\"dataframe\">\n",
       "  <thead>\n",
       "    <tr style=\"text-align: right;\">\n",
       "      <th></th>\n",
       "      <th>state</th>\n",
       "      <th>backers_count</th>\n",
       "      <th>blurb</th>\n",
       "      <th>converted_pledged_amount</th>\n",
       "      <th>country</th>\n",
       "      <th>created_at</th>\n",
       "      <th>currency</th>\n",
       "      <th>currency_symbol</th>\n",
       "      <th>currency_trailing_code</th>\n",
       "      <th>current_currency</th>\n",
       "      <th>...</th>\n",
       "      <th>profile_should_show_feature_image_section</th>\n",
       "      <th>profile_show_feature_image</th>\n",
       "      <th>profile_state</th>\n",
       "      <th>profile_state_changed_at</th>\n",
       "      <th>profile_text_color</th>\n",
       "      <th>urls_api.message_creator</th>\n",
       "      <th>urls_api.star</th>\n",
       "      <th>urls_web.message_creator</th>\n",
       "      <th>urls_web.project</th>\n",
       "      <th>urls_web.rewards</th>\n",
       "    </tr>\n",
       "  </thead>\n",
       "  <tbody>\n",
       "    <tr>\n",
       "      <th>88147</th>\n",
       "      <td>canceled</td>\n",
       "      <td>14</td>\n",
       "      <td>An action/comedy film based in a world of unde...</td>\n",
       "      <td>657</td>\n",
       "      <td>US</td>\n",
       "      <td>1403916807</td>\n",
       "      <td>USD</td>\n",
       "      <td>$</td>\n",
       "      <td>True</td>\n",
       "      <td>USD</td>\n",
       "      <td>...</td>\n",
       "      <td>True</td>\n",
       "      <td>False</td>\n",
       "      <td>inactive</td>\n",
       "      <td>1425915860</td>\n",
       "      <td></td>\n",
       "      <td></td>\n",
       "      <td></td>\n",
       "      <td></td>\n",
       "      <td>https://www.kickstarter.com/projects/114164038...</td>\n",
       "      <td>https://www.kickstarter.com/projects/114164038...</td>\n",
       "    </tr>\n",
       "    <tr>\n",
       "      <th>171600</th>\n",
       "      <td>successful</td>\n",
       "      <td>198</td>\n",
       "      <td>Pindabear is our way of melding our love of ar...</td>\n",
       "      <td>5139</td>\n",
       "      <td>US</td>\n",
       "      <td>1500924807</td>\n",
       "      <td>USD</td>\n",
       "      <td>$</td>\n",
       "      <td>True</td>\n",
       "      <td>USD</td>\n",
       "      <td>...</td>\n",
       "      <td>True</td>\n",
       "      <td>False</td>\n",
       "      <td>active</td>\n",
       "      <td>1506384050</td>\n",
       "      <td></td>\n",
       "      <td></td>\n",
       "      <td></td>\n",
       "      <td></td>\n",
       "      <td>https://www.kickstarter.com/projects/pindabear...</td>\n",
       "      <td>https://www.kickstarter.com/projects/pindabear...</td>\n",
       "    </tr>\n",
       "  </tbody>\n",
       "</table>\n",
       "<p>2 rows × 96 columns</p>\n",
       "</div>"
      ],
      "text/plain": [
       "             state  backers_count  \\\n",
       "88147     canceled             14   \n",
       "171600  successful            198   \n",
       "\n",
       "                                                    blurb  \\\n",
       "88147   An action/comedy film based in a world of unde...   \n",
       "171600  Pindabear is our way of melding our love of ar...   \n",
       "\n",
       "        converted_pledged_amount country  created_at currency currency_symbol  \\\n",
       "88147                        657      US  1403916807      USD               $   \n",
       "171600                      5139      US  1500924807      USD               $   \n",
       "\n",
       "        currency_trailing_code current_currency  \\\n",
       "88147                     True              USD   \n",
       "171600                    True              USD   \n",
       "\n",
       "                              ...                          \\\n",
       "88147                         ...                           \n",
       "171600                        ...                           \n",
       "\n",
       "        profile_should_show_feature_image_section  profile_show_feature_image  \\\n",
       "88147                                        True                       False   \n",
       "171600                                       True                       False   \n",
       "\n",
       "       profile_state  profile_state_changed_at  profile_text_color  \\\n",
       "88147       inactive                1425915860                       \n",
       "171600        active                1506384050                       \n",
       "\n",
       "        urls_api.message_creator urls_api.star  urls_web.message_creator  \\\n",
       "88147                                                                      \n",
       "171600                                                                     \n",
       "\n",
       "                                         urls_web.project  \\\n",
       "88147   https://www.kickstarter.com/projects/114164038...   \n",
       "171600  https://www.kickstarter.com/projects/pindabear...   \n",
       "\n",
       "                                         urls_web.rewards  \n",
       "88147   https://www.kickstarter.com/projects/114164038...  \n",
       "171600  https://www.kickstarter.com/projects/pindabear...  \n",
       "\n",
       "[2 rows x 96 columns]"
      ]
     },
     "execution_count": 91,
     "metadata": {},
     "output_type": "execute_result"
    }
   ],
   "source": [
    "df_v.head(2)"
   ]
  },
  {
   "cell_type": "code",
   "execution_count": 92,
   "metadata": {},
   "outputs": [],
   "source": [
    "# ---- CLEAN DATA ----\n",
    "\n",
    "#-----------------------------------------\n",
    "# USER INPUTS\n",
    "\n",
    "\n",
    "#-----------------------------------------\n",
    "# IMPORT LIBRARIES\n",
    "\n",
    "import pandas as pd\n",
    "from datetime import datetime\n",
    "\n",
    "#-----------------------------------------\n",
    "# LOAD DATA\n",
    "\n",
    "#df = pd.read_csv('data/df00.csv', sep=',', na_filter=False, index_col=0)\n",
    "\n",
    "#-----------------------------------------\n",
    "# CLEAN DATA\n",
    "\n",
    "# ---- COLUMN CLEANUP ----\n",
    "# Remove useless and nested dictionaries\n",
    "drop_vars = ['photo_1024x576', 'photo_1536x864', 'photo_ed', 'photo_full', \n",
    "             'photo_key', 'photo_little', 'photo_med', 'photo_small', \n",
    "             'photo_thumb', 'slug', 'urls_api.message_creator', 'urls_api.star', \n",
    "             'urls_web.message_creator', 'urls_web.project', 'urls_web.rewards', \n",
    "             'source_url', 'creator_avatar.medium', 'creator_avatar.small', \n",
    "             'creator_avatar.thumb', 'creator_chosen_currency', 'creator_id', \n",
    "             'creator_name', 'creator_slug', 'creator_urls.api.user',\n",
    "             'creator_urls.web.user', 'location_id', 'location_name', \n",
    "             'location_slug', 'location_short_name', 'location_displayable_name', \n",
    "             'location_localized_name', 'location_type', 'location_is_root', \n",
    "             'location_urls_web_discover', 'location_urls_web_location', \n",
    "             'location_urls_api_nearby_projects', 'category_color', \n",
    "             'category_id', 'category_urls.web.discover', \n",
    "             'profile_background_color', \n",
    "             'profile_background_image_attributes.id', \n",
    "             'profile_background_image_attributes.image_urls.baseball_card', \n",
    "             'profile_background_image_attributes.image_urls.default',\n",
    "             'profile_background_image_opacity', 'profile_blurb', \n",
    "             'profile_feature_image_attributes.id', \n",
    "             'profile_feature_image_attributes.image_urls.baseball_card',\n",
    "             'profile_feature_image_attributes.image_urls.default', 'profile_id',\n",
    "             'profile_link_background_color', 'profile_link_text', \n",
    "             'profile_link_text_color', 'profile_link_url', 'profile_name', \n",
    "             'profile_project_id', 'profile_should_show_feature_image_section', \n",
    "             'profile_show_feature_image', 'profile_state', \n",
    "             'profile_state_changed_at', 'profile_text_color', 'currency_symbol',\n",
    "             'static_usd_rate','converted_pledged_amount','fx_rate',\n",
    "             'current_currency', 'usd_pledged', 'is_starrable', 'friends', \n",
    "             'is_backing', 'is_starred', 'permissions', 'name', 'blurb',\n",
    "             'location_state', 'location_country', 'currency', 'currency_trailing_code', \n",
    "             'state_changed_at', 'category_parent_id', 'category_position', \n",
    "             'category_name', 'category_id', 'creator_is_registered', \n",
    "             'disable_communication', 'created_at', 'usd_type']\n",
    "\n",
    "# =============================================================================\n",
    "# Many of the variables removed were obviously not useful just by looking at them.\n",
    "# Some, however, were not so obvious.\n",
    "# * profile_state: probably active when live and inactive when finished\n",
    "# * converted_pledged_amount: we just want the pledged amount (in USD)\n",
    "# * fx_rate: appears to be exchange rate\n",
    "# * usd_pledged: redundant with pledged\n",
    "# * location_state: delete (too granular)\n",
    "# * location_country: delete (not sure how it differs from country)\n",
    "# * currency: delete (pledges is in usd)\n",
    "# * currency_trailing_code - delete (what is it?)\n",
    "# * state_changed_at: Seems to be when it changed launch state\n",
    "# * creator_is_registered: all 'true'\n",
    "# * disable_communication: all 'false'\n",
    "# * created_at: we really care about 'launched_at' and 'deadline'\n",
    "# =============================================================================\n",
    "\n",
    "df_v.drop(columns=drop_vars, inplace=True)\n",
    "\n",
    "# Rename columns\n",
    "df_v.rename(columns={'category_slug':'category', 'state':'launch_state'}, inplace=True)\n",
    "\n",
    "# Rearrange columns\n",
    "df_v = df_v[['launch_state', 'id', 'category', 'goal', 'backers_count', \n",
    "         'pledged', 'country','deadline', 'launched_at', \n",
    "         'staff_pick', 'spotlight']]\n",
    "\n",
    "# ---- EXTRACT CATEGORIES ----\n",
    "# We extract the parent category strings\n",
    "df_v['category'] = [i.split('/')[0] for i in df_v['category']]\n",
    "\n",
    "# ---- REMOVE DUPLICATES ----\n",
    "# Remove duplicate rows\n",
    "df_v.drop_duplicates(inplace=True)\n",
    "# For duplicate IDs leftover, removve the lesser pledged row\n",
    "df_v = df_v.sort_values('pledged', ascending=False).drop_duplicates('id').sort_index()\n",
    "\n",
    "# Check\n",
    "if (len(df_v) - len(df_v[\"id\"])) != 0:\n",
    "    print('*** WARNING: There are ',\n",
    "          len(df_v) - len(df_v[\"id\"]), \n",
    "          ' duplicate IDs ***', sep='')\n",
    "\n",
    "# Re-index\n",
    "df_v.reset_index(drop=True, inplace=True)\n",
    "\n",
    "# ---- CONVERT DATETIMES ----\n",
    "# Convert date values to datetime \n",
    "# The default format of these values is in unix time format\n",
    "df_v['deadline'] = df_v['deadline'].apply(datetime.utcfromtimestamp)\n",
    "df_v['launched_at'] = df_v['launched_at'].apply(datetime.utcfromtimestamp)\n",
    "\n",
    "# ---- NA IMPUTATION ----\n",
    "# Checks\n",
    "if df_v.isnull().sum().sum() != 0:\n",
    "    print('*** WARNING: There are null values ***')\n",
    "if df_v.isna().sum().sum() != 0:\n",
    "    print('*** WARNING: There are NA values ***')\n",
    "if (df_v=='').sum().sum() != 0:\n",
    "    print('*** WARNING: There are empty string (\\'\\') values ***')\n",
    "\n",
    "# ---- CLEAN UP 'launch_state' ----\n",
    "df_v.query(\"launch_state == 'failed' | launch_state == 'successful'\", inplace=True)\n",
    "df_v.reset_index(drop=True, inplace=True)\n",
    "\n",
    "# ---- CONVERT CATEGORICAL VARIABLES TO DUMMY VARIABLES ----\n",
    "category = pd.get_dummies(df_v['category'], drop_first=True)\n",
    "country = pd.get_dummies(df_v['country'], drop_first=True)\n",
    "d_launch_state = dict(zip(['failed','successful'], range(0,2)))\n",
    "launch_state = df_v['launch_state'].map(d_launch_state)\n",
    "\n",
    "# Check\n",
    "if (df_v[df_v['launch_state'] == 'successful'].shape[0] - launch_state.sum() != 0):\n",
    "    print('*** WARNING: Some launch_states did not map to 0/1 ***')\n",
    "\n",
    "# Drop the categorical launch_state column \n",
    "# (keep 'category' and 'country' for  visualization)\n",
    "df_v.drop(['launch_state'],axis=1,inplace=True)\n",
    "\n",
    "# Add the new dummy variable launch_state column and move it to column index 0 \n",
    "# and country to column index 3\n",
    "df_v = pd.concat([launch_state, df_v], axis=1)\n",
    "df_v = df_v[['launch_state', 'id', 'category', 'country', 'goal', 'backers_count', \n",
    "         'pledged','deadline', 'launched_at', 'staff_pick', 'spotlight']]\n",
    "\n",
    "# Add the dummy variable country and category columns\n",
    "df_v = pd.concat([df_v, category, country], axis=1)\n",
    "\n",
    "# Checks\n",
    "if (df_v.isnull().sum().sum() != 0):\n",
    "    print('*** WARNING: Null values introduced with dummy variables ***')\n",
    "if (df_v.isna().sum().sum() != 0):\n",
    "    print('*** WARNING: NA values introduced with dummy variables ***')\n",
    "if (df_v=='').sum().sum() != 0:\n",
    "    print('*** WARNING: Empty string (\\'\\') values introduced with dummy variables ***')\n",
    "\n",
    "# ---- CREATE 'PLEDGED_RATIO' ----\n",
    "# pledged_ratio\n",
    "pledged_ratio = df_v['pledged'] / df_v['goal']\n",
    "df_v.insert(loc=df_v.columns.get_loc(\"pledged\"), column='pledged_ratio', \n",
    "          value=pledged_ratio)\n",
    "df_v.drop(columns='pledged', inplace=True)\n",
    "\n",
    "# datetime columns\n",
    "funding_days = (df_v['deadline'] - df_v['launched_at']).dt.days\n",
    "df_v.insert(loc=df_v.columns.get_loc(\"deadline\"), column='funding_days', \n",
    "          value=funding_days)\n",
    "df_v.drop(columns='deadline', inplace=True)\n",
    "\n",
    "# ---- MOVE 'LAUNCHED_AT' ----\n",
    "launched_at = df_v['launched_at']\n",
    "df_v.drop(columns='launched_at', inplace=True)\n",
    "df_v.insert(loc=2, column='launched_at', value=launched_at)\n",
    "\n",
    "# ---- CONVERT 'STAFF_PICK' AND 'SPOTLIGHT' TO DUMMIES ----\n",
    "d_staff_pick = dict(zip([False,True], range(0,2)))\n",
    "staff_pick = df_v['staff_pick'].map(d_staff_pick)\n",
    "\n",
    "# Check\n",
    "if (df_v[df_v['staff_pick'] == True].shape[0] - staff_pick.sum()) != 0:\n",
    "    print('*** WARNING: \\'staff_pick\\' not mapped to 0/1 properly ***')\n",
    "\n",
    "d_spotlight = dict(zip([False,True], range(0,2)))\n",
    "spotlight = df_v['spotlight'].map(d_spotlight)\n",
    "\n",
    "# Check\n",
    "if (df_v[df_v['spotlight'] == True].shape[0] - spotlight.sum()) != 0:\n",
    "    print('*** WARNING: \\'spotlight\\' not mapped to 0/1 properly ***')\n",
    "\n",
    "df_v.drop(['staff_pick','spotlight'],axis=1,inplace=True)\n",
    "\n",
    "df_v.insert(loc=df_v.columns.get_loc(\"comics\"), column='staff_pick', value=staff_pick)\n",
    "df_v.insert(loc=df_v.columns.get_loc(\"comics\"), column='spotlight', value=spotlight)\n",
    "\n",
    "# Checks\n",
    "if (df_v.isnull().sum().sum() != 0):\n",
    "    print('*** WARNING: Null values introduced with \\'staff_pick\\' and \\'spotlight\\' dummy variables ***')\n",
    "if (df_v.isna().sum().sum() != 0):\n",
    "    print('*** WARNING: NA values introduced with \\'staff_pick\\' and \\'spotlight\\' dummy variables ***')\n",
    "if (df_v=='').sum().sum() != 0:\n",
    "    print('*** WARNING: Empty string (\\'\\') values introduced with \\'staff_pick\\' and \\'spotlight\\' dummy variables ***')\n",
    "\n",
    "#-----------------------------------------\n",
    "# SAVE CSV\n",
    "\n",
    "#df.to_csv('data/df01.csv', sep=\",\")\n"
   ]
  },
  {
   "cell_type": "code",
   "execution_count": 93,
   "metadata": {},
   "outputs": [
    {
     "data": {
      "text/plain": [
       "Index(['launch_state', 'id', 'launched_at', 'category', 'country', 'goal',\n",
       "       'backers_count', 'pledged_ratio', 'funding_days', 'staff_pick',\n",
       "       'comics', 'crafts', 'dance', 'design', 'fashion', 'film & video',\n",
       "       'food', 'games', 'journalism', 'music', 'photography', 'publishing',\n",
       "       'technology', 'theater', 'AU', 'BE', 'CA', 'CH', 'DE', 'DK', 'ES', 'FR',\n",
       "       'GB', 'HK', 'IE', 'IT', 'JP', 'LU', 'MX', 'NL', 'NO', 'NZ', 'SE', 'SG',\n",
       "       'US'],\n",
       "      dtype='object')"
      ]
     },
     "execution_count": 93,
     "metadata": {},
     "output_type": "execute_result"
    }
   ],
   "source": [
    "df.columns"
   ]
  },
  {
   "cell_type": "code",
   "execution_count": 104,
   "metadata": {},
   "outputs": [
    {
     "data": {
      "text/plain": [
       "(37284, 45)"
      ]
     },
     "execution_count": 104,
     "metadata": {},
     "output_type": "execute_result"
    }
   ],
   "source": [
    "df_v.shape"
   ]
  },
  {
   "cell_type": "code",
   "execution_count": 95,
   "metadata": {},
   "outputs": [
    {
     "data": {
      "text/plain": [
       "0"
      ]
     },
     "execution_count": 95,
     "metadata": {},
     "output_type": "execute_result"
    }
   ],
   "source": [
    "len([item for item in df.columns if item not in df_v.columns])"
   ]
  },
  {
   "cell_type": "code",
   "execution_count": 96,
   "metadata": {},
   "outputs": [
    {
     "data": {
      "text/plain": [
       "1"
      ]
     },
     "execution_count": 96,
     "metadata": {},
     "output_type": "execute_result"
    }
   ],
   "source": [
    "len([item for item in df_v.columns if item not in df.columns])"
   ]
  },
  {
   "cell_type": "code",
   "execution_count": 97,
   "metadata": {},
   "outputs": [
    {
     "data": {
      "text/plain": [
       "['spotlight']"
      ]
     },
     "execution_count": 97,
     "metadata": {},
     "output_type": "execute_result"
    }
   ],
   "source": [
    "[item for item in df_v.columns if item not in df.columns]"
   ]
  },
  {
   "cell_type": "code",
   "execution_count": 98,
   "metadata": {},
   "outputs": [],
   "source": [
    "# ---- REDUCE VARIABLES ----\n",
    "df_v.drop(columns='spotlight', inplace=True)"
   ]
  },
  {
   "cell_type": "code",
   "execution_count": 99,
   "metadata": {},
   "outputs": [
    {
     "data": {
      "text/plain": [
       "[]"
      ]
     },
     "execution_count": 99,
     "metadata": {},
     "output_type": "execute_result"
    }
   ],
   "source": [
    "[item for item in df_v.columns if item not in df.columns]"
   ]
  },
  {
   "cell_type": "code",
   "execution_count": 100,
   "metadata": {},
   "outputs": [
    {
     "data": {
      "text/plain": [
       "Index(['launch_state', 'id', 'launched_at', 'category', 'country', 'goal',\n",
       "       'backers_count', 'pledged_ratio', 'funding_days', 'staff_pick',\n",
       "       'comics', 'crafts', 'dance', 'design', 'fashion', 'film & video',\n",
       "       'food', 'games', 'journalism', 'music', 'photography', 'publishing',\n",
       "       'technology', 'theater', 'AU', 'BE', 'CA', 'CH', 'DE', 'DK', 'ES', 'FR',\n",
       "       'GB', 'HK', 'IE', 'IT', 'JP', 'LU', 'MX', 'NL', 'NO', 'NZ', 'SE', 'SG',\n",
       "       'US'],\n",
       "      dtype='object')"
      ]
     },
     "execution_count": 100,
     "metadata": {},
     "output_type": "execute_result"
    }
   ],
   "source": [
    "df_v.columns"
   ]
  },
  {
   "cell_type": "code",
   "execution_count": 101,
   "metadata": {},
   "outputs": [
    {
     "data": {
      "text/plain": [
       "['id', 'launched_at', 'category', 'country', 'pledged_ratio', 'backers_count']"
      ]
     },
     "execution_count": 101,
     "metadata": {},
     "output_type": "execute_result"
    }
   ],
   "source": [
    "info_variables"
   ]
  },
  {
   "cell_type": "code",
   "execution_count": 102,
   "metadata": {},
   "outputs": [
    {
     "data": {
      "text/plain": [
       "Index(['goal', 'funding_days', 'staff_pick', 'comics', 'crafts', 'dance',\n",
       "       'design', 'fashion', 'film & video', 'food', 'games', 'journalism',\n",
       "       'music', 'photography', 'publishing', 'technology', 'theater', 'AU',\n",
       "       'BE', 'CA', 'CH', 'DE', 'DK', 'ES', 'FR', 'GB', 'HK', 'IE', 'IT', 'JP',\n",
       "       'LU', 'MX', 'NL', 'NO', 'NZ', 'SE', 'SG', 'US'],\n",
       "      dtype='object')"
      ]
     },
     "execution_count": 102,
     "metadata": {},
     "output_type": "execute_result"
    }
   ],
   "source": [
    "df_v.drop(columns=info_variables).drop(columns='launch_state').columns"
   ]
  },
  {
   "cell_type": "code",
   "execution_count": 105,
   "metadata": {},
   "outputs": [
    {
     "data": {
      "text/plain": [
       "(37284, 45)"
      ]
     },
     "execution_count": 105,
     "metadata": {},
     "output_type": "execute_result"
    }
   ],
   "source": [
    "df_v.shape"
   ]
  },
  {
   "cell_type": "code",
   "execution_count": 61,
   "metadata": {},
   "outputs": [],
   "source": [
    "X_v = df_v.drop(columns=info_variables).drop(columns='launch_state')\n",
    "y_v = df_v['launch_state']"
   ]
  },
  {
   "cell_type": "code",
   "execution_count": 63,
   "metadata": {},
   "outputs": [
    {
     "data": {
      "text/plain": [
       "StandardScaler(copy=True, with_mean=True, with_std=True)"
      ]
     },
     "execution_count": 63,
     "metadata": {},
     "output_type": "execute_result"
    }
   ],
   "source": [
    "sc_X"
   ]
  },
  {
   "cell_type": "code",
   "execution_count": 65,
   "metadata": {},
   "outputs": [],
   "source": [
    "# ---- FEATURE SCALING ----\n",
    "X_v_scaled = sc_X.transform(X_v)"
   ]
  },
  {
   "cell_type": "code",
   "execution_count": 17,
   "metadata": {},
   "outputs": [],
   "source": [
    "# ---- OPTIMIZED RANDOM FOREST ----"
   ]
  },
  {
   "cell_type": "code",
   "execution_count": 18,
   "metadata": {},
   "outputs": [
    {
     "data": {
      "text/plain": [
       "RandomForestClassifier(bootstrap=True, class_weight=None, criterion='gini',\n",
       "            max_depth=None, max_features='sqrt', max_leaf_nodes=None,\n",
       "            min_impurity_decrease=0.0, min_impurity_split=None,\n",
       "            min_samples_leaf=25, min_samples_split=2,\n",
       "            min_weight_fraction_leaf=0.0, n_estimators=100, n_jobs=1,\n",
       "            oob_score=False, random_state=101, verbose=0, warm_start=False)"
      ]
     },
     "execution_count": 18,
     "metadata": {},
     "output_type": "execute_result"
    }
   ],
   "source": [
    "classifier_rf_opt"
   ]
  },
  {
   "cell_type": "code",
   "execution_count": 66,
   "metadata": {},
   "outputs": [
    {
     "name": "stdout",
     "output_type": "stream",
     "text": [
      "Runtime, predict: 0.64 sec\n"
     ]
    }
   ],
   "source": [
    "#-----------------------------------------\n",
    "# PREDICT VALIDATION RESULTS\n",
    "\n",
    "start_clock = time.clock()\n",
    "\n",
    "y_v_pred_rf_opt = classifier_rf_opt.predict(X_v_scaled)\n",
    "\n",
    "end_clock = time.clock()\n",
    "\n",
    "clock_predict_v_rf_opt = end_clock - start_clock\n",
    "print('Runtime, predict: ', round(clock_predict_v_rf_opt, 2), ' sec', sep='')"
   ]
  },
  {
   "cell_type": "code",
   "execution_count": 67,
   "metadata": {},
   "outputs": [
    {
     "name": "stdout",
     "output_type": "stream",
     "text": [
      "[[ 8664  6401]\n",
      " [ 3949 18270]]\n",
      "\n",
      "\n",
      "             precision    recall  f1-score   support\n",
      "\n",
      "          0       0.69      0.58      0.63     15065\n",
      "          1       0.74      0.82      0.78     22219\n",
      "\n",
      "avg / total       0.72      0.72      0.72     37284\n",
      "\n"
     ]
    }
   ],
   "source": [
    "#-----------------------------------------\n",
    "# EVALUATE MODEL\n",
    "\n",
    "# Confusion matrix\n",
    "cm_v_rf_opt = confusion_matrix(y_v, y_v_pred_rf_opt)\n",
    "\n",
    "# Classification report\n",
    "cr_v_rf_opt = classification_report(y_v, y_v_pred_rf_opt)\n",
    "\n",
    "print(cm_v_rf_opt)\n",
    "print(\"\\n\")\n",
    "print(cr_v_rf_opt)"
   ]
  },
  {
   "cell_type": "code",
   "execution_count": 68,
   "metadata": {},
   "outputs": [
    {
     "data": {
      "text/plain": [
       "0.7224010299324107"
      ]
     },
     "execution_count": 68,
     "metadata": {},
     "output_type": "execute_result"
    }
   ],
   "source": [
    "acc_v_rf_opt = cm_v_rf_opt.diagonal().sum() / cm_v_rf_opt.sum()\n",
    "acc_v_rf_opt"
   ]
  },
  {
   "cell_type": "code",
   "execution_count": 69,
   "metadata": {},
   "outputs": [
    {
     "data": {
      "text/plain": [
       "(37284,)"
      ]
     },
     "execution_count": 69,
     "metadata": {},
     "output_type": "execute_result"
    }
   ],
   "source": [
    "y_v.shape"
   ]
  },
  {
   "cell_type": "code",
   "execution_count": 70,
   "metadata": {},
   "outputs": [
    {
     "data": {
      "text/plain": [
       "(37284,)"
      ]
     },
     "execution_count": 70,
     "metadata": {},
     "output_type": "execute_result"
    }
   ],
   "source": [
    "y_v_pred_rf_opt.shape"
   ]
  },
  {
   "cell_type": "code",
   "execution_count": 73,
   "metadata": {},
   "outputs": [],
   "source": [
    "# Incorrect predictions\n",
    "df_v_incorrect = df_v[y_v != y_v_pred_rf_opt]"
   ]
  },
  {
   "cell_type": "code",
   "execution_count": 74,
   "metadata": {},
   "outputs": [
    {
     "data": {
      "text/html": [
       "<div>\n",
       "<style scoped>\n",
       "    .dataframe tbody tr th:only-of-type {\n",
       "        vertical-align: middle;\n",
       "    }\n",
       "\n",
       "    .dataframe tbody tr th {\n",
       "        vertical-align: top;\n",
       "    }\n",
       "\n",
       "    .dataframe thead th {\n",
       "        text-align: right;\n",
       "    }\n",
       "</style>\n",
       "<table border=\"1\" class=\"dataframe\">\n",
       "  <thead>\n",
       "    <tr style=\"text-align: right;\">\n",
       "      <th></th>\n",
       "      <th>launch_state</th>\n",
       "      <th>id</th>\n",
       "      <th>launched_at</th>\n",
       "      <th>category</th>\n",
       "      <th>country</th>\n",
       "      <th>goal</th>\n",
       "      <th>backers_count</th>\n",
       "      <th>pledged_ratio</th>\n",
       "      <th>funding_days</th>\n",
       "      <th>staff_pick</th>\n",
       "      <th>...</th>\n",
       "      <th>IT</th>\n",
       "      <th>JP</th>\n",
       "      <th>LU</th>\n",
       "      <th>MX</th>\n",
       "      <th>NL</th>\n",
       "      <th>NO</th>\n",
       "      <th>NZ</th>\n",
       "      <th>SE</th>\n",
       "      <th>SG</th>\n",
       "      <th>US</th>\n",
       "    </tr>\n",
       "  </thead>\n",
       "  <tbody>\n",
       "    <tr>\n",
       "      <th>1</th>\n",
       "      <td>0</td>\n",
       "      <td>427820218</td>\n",
       "      <td>2015-03-23 01:51:37</td>\n",
       "      <td>publishing</td>\n",
       "      <td>US</td>\n",
       "      <td>500.0</td>\n",
       "      <td>6</td>\n",
       "      <td>0.56</td>\n",
       "      <td>10</td>\n",
       "      <td>0</td>\n",
       "      <td>...</td>\n",
       "      <td>0</td>\n",
       "      <td>0</td>\n",
       "      <td>0</td>\n",
       "      <td>0</td>\n",
       "      <td>0</td>\n",
       "      <td>0</td>\n",
       "      <td>0</td>\n",
       "      <td>0</td>\n",
       "      <td>0</td>\n",
       "      <td>1</td>\n",
       "    </tr>\n",
       "  </tbody>\n",
       "</table>\n",
       "<p>1 rows × 45 columns</p>\n",
       "</div>"
      ],
      "text/plain": [
       "   launch_state         id         launched_at    category country   goal  \\\n",
       "1             0  427820218 2015-03-23 01:51:37  publishing      US  500.0   \n",
       "\n",
       "   backers_count  pledged_ratio  funding_days  staff_pick ...  IT  JP  LU  MX  \\\n",
       "1              6           0.56            10           0 ...   0   0   0   0   \n",
       "\n",
       "   NL  NO  NZ  SE  SG  US  \n",
       "1   0   0   0   0   0   1  \n",
       "\n",
       "[1 rows x 45 columns]"
      ]
     },
     "execution_count": 74,
     "metadata": {},
     "output_type": "execute_result"
    }
   ],
   "source": [
    "df_v_incorrect.head(1)"
   ]
  },
  {
   "cell_type": "code",
   "execution_count": 85,
   "metadata": {},
   "outputs": [
    {
     "data": {
      "text/html": [
       "<div>\n",
       "<style scoped>\n",
       "    .dataframe tbody tr th:only-of-type {\n",
       "        vertical-align: middle;\n",
       "    }\n",
       "\n",
       "    .dataframe tbody tr th {\n",
       "        vertical-align: top;\n",
       "    }\n",
       "\n",
       "    .dataframe thead th {\n",
       "        text-align: right;\n",
       "    }\n",
       "</style>\n",
       "<table border=\"1\" class=\"dataframe\">\n",
       "  <thead>\n",
       "    <tr style=\"text-align: right;\">\n",
       "      <th></th>\n",
       "      <th>launch_state</th>\n",
       "      <th>goal</th>\n",
       "      <th>funding_days</th>\n",
       "      <th>staff_pick</th>\n",
       "    </tr>\n",
       "  </thead>\n",
       "  <tbody>\n",
       "    <tr>\n",
       "      <th>1</th>\n",
       "      <td>0</td>\n",
       "      <td>500.0</td>\n",
       "      <td>10</td>\n",
       "      <td>0</td>\n",
       "    </tr>\n",
       "  </tbody>\n",
       "</table>\n",
       "</div>"
      ],
      "text/plain": [
       "   launch_state   goal  funding_days  staff_pick\n",
       "1             0  500.0            10           0"
      ]
     },
     "execution_count": 85,
     "metadata": {},
     "output_type": "execute_result"
    }
   ],
   "source": [
    "df_v_incorrect[['launch_state','goal','funding_days','staff_pick']].head(1)"
   ]
  },
  {
   "cell_type": "code",
   "execution_count": 88,
   "metadata": {},
   "outputs": [
    {
     "data": {
      "text/plain": [
       "<seaborn.axisgrid.PairGrid at 0x11c21d47128>"
      ]
     },
     "execution_count": 88,
     "metadata": {},
     "output_type": "execute_result"
    },
    {
     "data": {
      "image/png": "[encoded data removed]",
      "text/plain": [
       "<Figure size 791.875x720 with 20 Axes>"
      ]
     },
     "metadata": {},
     "output_type": "display_data"
    }
   ],
   "source": [
    "sns.pairplot(df_v_incorrect[['launch_state','goal','funding_days','staff_pick']], \n",
    "             hue='launch_state', plot_kws={'alpha':0.5, 's':100}, diag_kws={'alpha':0.5})"
   ]
  },
  {
   "cell_type": "code",
   "execution_count": 129,
   "metadata": {},
   "outputs": [
    {
     "data": {
      "text/plain": [
       "(37284, 45)"
      ]
     },
     "execution_count": 129,
     "metadata": {},
     "output_type": "execute_result"
    }
   ],
   "source": [
    "df_v.shape"
   ]
  },
  {
   "cell_type": "code",
   "execution_count": 3,
   "metadata": {},
   "outputs": [
    {
     "data": {
      "text/html": [
       "<div>\n",
       "<style scoped>\n",
       "    .dataframe tbody tr th:only-of-type {\n",
       "        vertical-align: middle;\n",
       "    }\n",
       "\n",
       "    .dataframe tbody tr th {\n",
       "        vertical-align: top;\n",
       "    }\n",
       "\n",
       "    .dataframe thead th {\n",
       "        text-align: right;\n",
       "    }\n",
       "</style>\n",
       "<table border=\"1\" class=\"dataframe\">\n",
       "  <thead>\n",
       "    <tr style=\"text-align: right;\">\n",
       "      <th></th>\n",
       "      <th>model</th>\n",
       "      <th>time_fit</th>\n",
       "      <th>time_predict</th>\n",
       "      <th>time_10_fold_CV</th>\n",
       "      <th>accuracy</th>\n",
       "      <th>acc_10_fold</th>\n",
       "    </tr>\n",
       "  </thead>\n",
       "  <tbody>\n",
       "    <tr>\n",
       "      <th>0</th>\n",
       "      <td>Naive Bayes</td>\n",
       "      <td>0.101767</td>\n",
       "      <td>0.036270</td>\n",
       "      <td>1.53579</td>\n",
       "      <td>0.623551</td>\n",
       "      <td>0.624725</td>\n",
       "    </tr>\n",
       "    <tr>\n",
       "      <th>1</th>\n",
       "      <td>Logistic Regression</td>\n",
       "      <td>1.822522</td>\n",
       "      <td>0.009085</td>\n",
       "      <td>17.0696</td>\n",
       "      <td>0.694333</td>\n",
       "      <td>0.689984</td>\n",
       "    </tr>\n",
       "    <tr>\n",
       "      <th>2</th>\n",
       "      <td>K Nearest Neighbors</td>\n",
       "      <td>7.340739</td>\n",
       "      <td>101.319590</td>\n",
       "      <td>344.234</td>\n",
       "      <td>0.682739</td>\n",
       "      <td>0.675807</td>\n",
       "    </tr>\n",
       "    <tr>\n",
       "      <th>3</th>\n",
       "      <td>SVM, Linear</td>\n",
       "      <td>954.375944</td>\n",
       "      <td>90.726687</td>\n",
       "      <td>None</td>\n",
       "      <td>0.677168</td>\n",
       "      <td>None</td>\n",
       "    </tr>\n",
       "    <tr>\n",
       "      <th>4</th>\n",
       "      <td>SVM, RBF</td>\n",
       "      <td>1091.777649</td>\n",
       "      <td>120.427602</td>\n",
       "      <td>None</td>\n",
       "      <td>0.682908</td>\n",
       "      <td>None</td>\n",
       "    </tr>\n",
       "    <tr>\n",
       "      <th>5</th>\n",
       "      <td>Decision Tree</td>\n",
       "      <td>0.437127</td>\n",
       "      <td>0.014542</td>\n",
       "      <td>4.82765</td>\n",
       "      <td>0.664357</td>\n",
       "      <td>0.662544</td>\n",
       "    </tr>\n",
       "    <tr>\n",
       "      <th>6</th>\n",
       "      <td>Random Forest (10-fold)</td>\n",
       "      <td>1.016743</td>\n",
       "      <td>0.104582</td>\n",
       "      <td>10.463</td>\n",
       "      <td>0.683248</td>\n",
       "      <td>0.680784</td>\n",
       "    </tr>\n",
       "    <tr>\n",
       "      <th>7</th>\n",
       "      <td>PCA (n=2), Naive Bayes</td>\n",
       "      <td>0.024343</td>\n",
       "      <td>0.003595</td>\n",
       "      <td>0.284533</td>\n",
       "      <td>0.609355</td>\n",
       "      <td>0.608927</td>\n",
       "    </tr>\n",
       "    <tr>\n",
       "      <th>8</th>\n",
       "      <td>Random Forest (Optimized)</td>\n",
       "      <td>5.856856</td>\n",
       "      <td>0.470576</td>\n",
       "      <td>66.9746</td>\n",
       "      <td>0.718257</td>\n",
       "      <td>0.716067</td>\n",
       "    </tr>\n",
       "    <tr>\n",
       "      <th>9</th>\n",
       "      <td>Logistic Regression (Optimized)</td>\n",
       "      <td>6.454474</td>\n",
       "      <td>0.003956</td>\n",
       "      <td>68.8582</td>\n",
       "      <td>0.695662</td>\n",
       "      <td>0.691059</td>\n",
       "    </tr>\n",
       "  </tbody>\n",
       "</table>\n",
       "</div>"
      ],
      "text/plain": [
       "                             model     time_fit  time_predict time_10_fold_CV  \\\n",
       "0                      Naive Bayes     0.101767      0.036270         1.53579   \n",
       "1              Logistic Regression     1.822522      0.009085         17.0696   \n",
       "2              K Nearest Neighbors     7.340739    101.319590         344.234   \n",
       "3                      SVM, Linear   954.375944     90.726687            None   \n",
       "4                         SVM, RBF  1091.777649    120.427602            None   \n",
       "5                    Decision Tree     0.437127      0.014542         4.82765   \n",
       "6          Random Forest (10-fold)     1.016743      0.104582          10.463   \n",
       "7           PCA (n=2), Naive Bayes     0.024343      0.003595        0.284533   \n",
       "8        Random Forest (Optimized)     5.856856      0.470576         66.9746   \n",
       "9  Logistic Regression (Optimized)     6.454474      0.003956         68.8582   \n",
       "\n",
       "   accuracy acc_10_fold  \n",
       "0  0.623551    0.624725  \n",
       "1  0.694333    0.689984  \n",
       "2  0.682739    0.675807  \n",
       "3  0.677168        None  \n",
       "4  0.682908        None  \n",
       "5  0.664357    0.662544  \n",
       "6  0.683248    0.680784  \n",
       "7  0.609355    0.608927  \n",
       "8  0.718257    0.716067  \n",
       "9  0.695662    0.691059  "
      ]
     },
     "execution_count": 3,
     "metadata": {},
     "output_type": "execute_result"
    }
   ],
   "source": [
    "df_results"
   ]
  },
  {
   "cell_type": "code",
   "execution_count": null,
   "metadata": {},
   "outputs": [],
   "source": []
  },
  {
   "cell_type": "code",
   "execution_count": null,
   "metadata": {},
   "outputs": [],
   "source": []
  },
  {
   "cell_type": "code",
   "execution_count": 3,
   "metadata": {},
   "outputs": [],
   "source": [
    "df_raw = pd.read_csv('data/df_raw.csv', sep=',', na_filter=False)"
   ]
  },
  {
   "cell_type": "code",
   "execution_count": 4,
   "metadata": {},
   "outputs": [
    {
     "data": {
      "text/plain": [
       "(205696, 97)"
      ]
     },
     "execution_count": 4,
     "metadata": {},
     "output_type": "execute_result"
    }
   ],
   "source": [
    "df_raw.shape"
   ]
  },
  {
   "cell_type": "code",
   "execution_count": null,
   "metadata": {},
   "outputs": [],
   "source": []
  },
  {
   "cell_type": "code",
   "execution_count": null,
   "metadata": {},
   "outputs": [],
   "source": []
  }
 ],
 "metadata": {
  "kernelspec": {
   "display_name": "Python 3",
   "language": "python",
   "name": "python3"
  },
  "language_info": {
   "codemirror_mode": {
    "name": "ipython",
    "version": 3
   },
   "file_extension": ".py",
   "mimetype": "text/x-python",
   "name": "python",
   "nbconvert_exporter": "python",
   "pygments_lexer": "ipython3",
   "version": "3.6.5"
  },
  "notify_time": "30"
 },
 "nbformat": 4,
 "nbformat_minor": 2
}
