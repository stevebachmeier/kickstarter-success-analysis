{
 "cells": [
  {
   "cell_type": "code",
   "execution_count": 1,
   "metadata": {},
   "outputs": [],
   "source": [
    "# ========================================\n",
    "# IMPORT LIBRARIES\n",
    "# ========================================\n",
    "import pandas as pd\n",
    "import numpy as np\n",
    "\n",
    "import seaborn as sns\n",
    "import matplotlib.pyplot as plt\n",
    "%matplotlib inline\n",
    "\n",
    "from sklearn.feature_selection import VarianceThreshold"
   ]
  },
  {
   "cell_type": "code",
   "execution_count": 2,
   "metadata": {},
   "outputs": [],
   "source": [
    "# ========================================\n",
    "# IMPORT DATAFRAME\n",
    "# ========================================\n",
    "df = pd.read_csv('data/df01.csv', sep=',', na_filter=False, index_col=0, parse_dates=['launched_at'])"
   ]
  },
  {
   "cell_type": "code",
   "execution_count": 3,
   "metadata": {},
   "outputs": [
    {
     "data": {
      "text/plain": [
       "0"
      ]
     },
     "execution_count": 3,
     "metadata": {},
     "output_type": "execute_result"
    }
   ],
   "source": [
    "df.isnull().sum().sum()"
   ]
  },
  {
   "cell_type": "code",
   "execution_count": 4,
   "metadata": {},
   "outputs": [
    {
     "data": {
      "text/plain": [
       "0"
      ]
     },
     "execution_count": 4,
     "metadata": {},
     "output_type": "execute_result"
    }
   ],
   "source": [
    "df.isna().sum().sum()"
   ]
  },
  {
   "cell_type": "code",
   "execution_count": 5,
   "metadata": {},
   "outputs": [
    {
     "data": {
      "text/plain": [
       "0"
      ]
     },
     "execution_count": 5,
     "metadata": {},
     "output_type": "execute_result"
    }
   ],
   "source": [
    "(df == '').sum().sum()"
   ]
  },
  {
   "cell_type": "code",
   "execution_count": 6,
   "metadata": {},
   "outputs": [
    {
     "data": {
      "text/html": [
       "<div>\n",
       "<style scoped>\n",
       "    .dataframe tbody tr th:only-of-type {\n",
       "        vertical-align: middle;\n",
       "    }\n",
       "\n",
       "    .dataframe tbody tr th {\n",
       "        vertical-align: top;\n",
       "    }\n",
       "\n",
       "    .dataframe thead th {\n",
       "        text-align: right;\n",
       "    }\n",
       "</style>\n",
       "<table border=\"1\" class=\"dataframe\">\n",
       "  <thead>\n",
       "    <tr style=\"text-align: right;\">\n",
       "      <th></th>\n",
       "      <th>launch_state</th>\n",
       "      <th>id</th>\n",
       "      <th>launched_at</th>\n",
       "      <th>category</th>\n",
       "      <th>country</th>\n",
       "      <th>goal</th>\n",
       "      <th>backers_count</th>\n",
       "      <th>pledged_ratio</th>\n",
       "      <th>funding_days</th>\n",
       "      <th>staff_pick</th>\n",
       "      <th>...</th>\n",
       "      <th>IT</th>\n",
       "      <th>JP</th>\n",
       "      <th>LU</th>\n",
       "      <th>MX</th>\n",
       "      <th>NL</th>\n",
       "      <th>NO</th>\n",
       "      <th>NZ</th>\n",
       "      <th>SE</th>\n",
       "      <th>SG</th>\n",
       "      <th>US</th>\n",
       "    </tr>\n",
       "  </thead>\n",
       "  <tbody>\n",
       "    <tr>\n",
       "      <th>0</th>\n",
       "      <td>0</td>\n",
       "      <td>895922629</td>\n",
       "      <td>2014-10-28 19:42:54</td>\n",
       "      <td>technology</td>\n",
       "      <td>US</td>\n",
       "      <td>3500.0</td>\n",
       "      <td>1</td>\n",
       "      <td>0.014286</td>\n",
       "      <td>30</td>\n",
       "      <td>0</td>\n",
       "      <td>...</td>\n",
       "      <td>0</td>\n",
       "      <td>0</td>\n",
       "      <td>0</td>\n",
       "      <td>0</td>\n",
       "      <td>0</td>\n",
       "      <td>0</td>\n",
       "      <td>0</td>\n",
       "      <td>0</td>\n",
       "      <td>0</td>\n",
       "      <td>1</td>\n",
       "    </tr>\n",
       "    <tr>\n",
       "      <th>1</th>\n",
       "      <td>1</td>\n",
       "      <td>1190376005</td>\n",
       "      <td>2011-10-17 18:39:11</td>\n",
       "      <td>games</td>\n",
       "      <td>US</td>\n",
       "      <td>225.0</td>\n",
       "      <td>63</td>\n",
       "      <td>7.170978</td>\n",
       "      <td>16</td>\n",
       "      <td>1</td>\n",
       "      <td>...</td>\n",
       "      <td>0</td>\n",
       "      <td>0</td>\n",
       "      <td>0</td>\n",
       "      <td>0</td>\n",
       "      <td>0</td>\n",
       "      <td>0</td>\n",
       "      <td>0</td>\n",
       "      <td>0</td>\n",
       "      <td>0</td>\n",
       "      <td>1</td>\n",
       "    </tr>\n",
       "  </tbody>\n",
       "</table>\n",
       "<p>2 rows × 46 columns</p>\n",
       "</div>"
      ],
      "text/plain": [
       "   launch_state          id         launched_at    category country    goal  \\\n",
       "0             0   895922629 2014-10-28 19:42:54  technology      US  3500.0   \n",
       "1             1  1190376005 2011-10-17 18:39:11       games      US   225.0   \n",
       "\n",
       "   backers_count  pledged_ratio  funding_days  staff_pick ...  IT  JP  LU  MX  \\\n",
       "0              1       0.014286            30           0 ...   0   0   0   0   \n",
       "1             63       7.170978            16           1 ...   0   0   0   0   \n",
       "\n",
       "   NL  NO  NZ  SE  SG  US  \n",
       "0   0   0   0   0   0   1  \n",
       "1   0   0   0   0   0   1  \n",
       "\n",
       "[2 rows x 46 columns]"
      ]
     },
     "execution_count": 6,
     "metadata": {},
     "output_type": "execute_result"
    }
   ],
   "source": [
    "df.head(2)"
   ]
  },
  {
   "cell_type": "code",
   "execution_count": 7,
   "metadata": {},
   "outputs": [
    {
     "data": {
      "text/plain": [
       "Index(['launch_state', 'id', 'launched_at', 'category', 'country', 'goal',\n",
       "       'backers_count', 'pledged_ratio', 'funding_days', 'staff_pick',\n",
       "       'spotlight', 'comics'],\n",
       "      dtype='object')"
      ]
     },
     "execution_count": 7,
     "metadata": {},
     "output_type": "execute_result"
    }
   ],
   "source": [
    "df.columns[0:12]"
   ]
  },
  {
   "cell_type": "code",
   "execution_count": 8,
   "metadata": {},
   "outputs": [
    {
     "data": {
      "text/plain": [
       "(141447, 46)"
      ]
     },
     "execution_count": 8,
     "metadata": {},
     "output_type": "execute_result"
    }
   ],
   "source": [
    "df.shape"
   ]
  },
  {
   "cell_type": "code",
   "execution_count": 9,
   "metadata": {},
   "outputs": [],
   "source": [
    "# ========================================\n",
    "# VARIABLE REDUCTION\n",
    "# ========================================\n",
    "info_variables = ['id','launched_at','category','country'] # informational variables"
   ]
  },
  {
   "cell_type": "code",
   "execution_count": 10,
   "metadata": {},
   "outputs": [],
   "source": [
    "# ---- ZERO-VARIANCE ----\n",
    "sel = VarianceThreshold(threshold=0.0)"
   ]
  },
  {
   "cell_type": "code",
   "execution_count": 11,
   "metadata": {},
   "outputs": [
    {
     "data": {
      "text/plain": [
       "0"
      ]
     },
     "execution_count": 11,
     "metadata": {},
     "output_type": "execute_result"
    }
   ],
   "source": [
    "sel.fit_transform(X=df.drop(columns=info_variables)).shape[1] - df.drop(columns=info_variables).shape[1]"
   ]
  },
  {
   "cell_type": "code",
   "execution_count": 81,
   "metadata": {},
   "outputs": [],
   "source": [
    "# there are no zero-variance variables"
   ]
  },
  {
   "cell_type": "markdown",
   "metadata": {},
   "source": [
    "*\\# NEAR-ZERO VARIANCE*\n",
    "\n",
    "There is much discussion about whether such variables should be removed - there are times where even very low variance variables have a large effect in predicting the outcome. We will keep these."
   ]
  },
  {
   "cell_type": "code",
   "execution_count": 12,
   "metadata": {},
   "outputs": [],
   "source": [
    "# ---- VARIABLE-OUTCOME CORRELATIONS ----\n",
    "corr_threshold = 0.5"
   ]
  },
  {
   "cell_type": "code",
   "execution_count": 13,
   "metadata": {},
   "outputs": [
    {
     "data": {
      "text/plain": [
       "goal            -0.034705\n",
       "backers_count    0.114009\n",
       "pledged_ratio    0.016432\n",
       "funding_days    -0.092032\n",
       "staff_pick       0.250847\n",
       "spotlight        1.000000\n",
       "comics           0.103385\n",
       "crafts          -0.044790\n",
       "dance            0.064375\n",
       "design           0.026660\n",
       "fashion          0.016618\n",
       "film & video     0.009035\n",
       "food            -0.129185\n",
       "games            0.020691\n",
       "journalism      -0.093706\n",
       "music            0.075755\n",
       "photography     -0.026154\n",
       "publishing       0.085618\n",
       "technology      -0.145274\n",
       "theater          0.066612\n",
       "AU              -0.047206\n",
       "BE              -0.018832\n",
       "CA              -0.042394\n",
       "CH              -0.013244\n",
       "DE              -0.037125\n",
       "DK              -0.013898\n",
       "ES              -0.033080\n",
       "FR              -0.018323\n",
       "GB              -0.021792\n",
       "HK               0.006171\n",
       "IE              -0.015362\n",
       "IT              -0.054612\n",
       "JP              -0.000635\n",
       "LU               0.001703\n",
       "MX              -0.026270\n",
       "NL              -0.043146\n",
       "NO              -0.015242\n",
       "NZ              -0.016988\n",
       "SE              -0.017598\n",
       "SG              -0.000584\n",
       "US               0.109316\n",
       "Name: launch_state, dtype: float64"
      ]
     },
     "execution_count": 13,
     "metadata": {},
     "output_type": "execute_result"
    }
   ],
   "source": [
    "df.drop(columns=info_variables).corr().drop(columns='launch_state').iloc[0]"
   ]
  },
  {
   "cell_type": "code",
   "execution_count": 14,
   "metadata": {},
   "outputs": [],
   "source": [
    "df_corr_variable_outcome = pd.DataFrame(abs(df.drop(columns=info_variables).corr().drop(columns='launch_state').iloc[0])).reset_index()"
   ]
  },
  {
   "cell_type": "code",
   "execution_count": 15,
   "metadata": {},
   "outputs": [],
   "source": [
    "df_corr_variable_outcome.columns = ['variable','corr_launch_state']"
   ]
  },
  {
   "cell_type": "code",
   "execution_count": 16,
   "metadata": {},
   "outputs": [
    {
     "data": {
      "text/html": [
       "<div>\n",
       "<style scoped>\n",
       "    .dataframe tbody tr th:only-of-type {\n",
       "        vertical-align: middle;\n",
       "    }\n",
       "\n",
       "    .dataframe tbody tr th {\n",
       "        vertical-align: top;\n",
       "    }\n",
       "\n",
       "    .dataframe thead th {\n",
       "        text-align: right;\n",
       "    }\n",
       "</style>\n",
       "<table border=\"1\" class=\"dataframe\">\n",
       "  <thead>\n",
       "    <tr style=\"text-align: right;\">\n",
       "      <th></th>\n",
       "      <th>variable</th>\n",
       "      <th>corr_launch_state</th>\n",
       "    </tr>\n",
       "  </thead>\n",
       "  <tbody>\n",
       "    <tr>\n",
       "      <th>0</th>\n",
       "      <td>goal</td>\n",
       "      <td>0.034705</td>\n",
       "    </tr>\n",
       "    <tr>\n",
       "      <th>1</th>\n",
       "      <td>backers_count</td>\n",
       "      <td>0.114009</td>\n",
       "    </tr>\n",
       "    <tr>\n",
       "      <th>2</th>\n",
       "      <td>pledged_ratio</td>\n",
       "      <td>0.016432</td>\n",
       "    </tr>\n",
       "    <tr>\n",
       "      <th>3</th>\n",
       "      <td>funding_days</td>\n",
       "      <td>0.092032</td>\n",
       "    </tr>\n",
       "    <tr>\n",
       "      <th>4</th>\n",
       "      <td>staff_pick</td>\n",
       "      <td>0.250847</td>\n",
       "    </tr>\n",
       "  </tbody>\n",
       "</table>\n",
       "</div>"
      ],
      "text/plain": [
       "        variable  corr_launch_state\n",
       "0           goal           0.034705\n",
       "1  backers_count           0.114009\n",
       "2  pledged_ratio           0.016432\n",
       "3   funding_days           0.092032\n",
       "4     staff_pick           0.250847"
      ]
     },
     "execution_count": 16,
     "metadata": {},
     "output_type": "execute_result"
    }
   ],
   "source": [
    "df_corr_variable_outcome.head()"
   ]
  },
  {
   "cell_type": "code",
   "execution_count": 17,
   "metadata": {},
   "outputs": [
    {
     "data": {
      "text/html": [
       "<div>\n",
       "<style scoped>\n",
       "    .dataframe tbody tr th:only-of-type {\n",
       "        vertical-align: middle;\n",
       "    }\n",
       "\n",
       "    .dataframe tbody tr th {\n",
       "        vertical-align: top;\n",
       "    }\n",
       "\n",
       "    .dataframe thead th {\n",
       "        text-align: right;\n",
       "    }\n",
       "</style>\n",
       "<table border=\"1\" class=\"dataframe\">\n",
       "  <thead>\n",
       "    <tr style=\"text-align: right;\">\n",
       "      <th></th>\n",
       "      <th>variable</th>\n",
       "      <th>corr_launch_state</th>\n",
       "    </tr>\n",
       "  </thead>\n",
       "  <tbody>\n",
       "    <tr>\n",
       "      <th>5</th>\n",
       "      <td>spotlight</td>\n",
       "      <td>1.000000</td>\n",
       "    </tr>\n",
       "    <tr>\n",
       "      <th>4</th>\n",
       "      <td>staff_pick</td>\n",
       "      <td>0.250847</td>\n",
       "    </tr>\n",
       "    <tr>\n",
       "      <th>18</th>\n",
       "      <td>technology</td>\n",
       "      <td>0.145274</td>\n",
       "    </tr>\n",
       "    <tr>\n",
       "      <th>12</th>\n",
       "      <td>food</td>\n",
       "      <td>0.129185</td>\n",
       "    </tr>\n",
       "    <tr>\n",
       "      <th>1</th>\n",
       "      <td>backers_count</td>\n",
       "      <td>0.114009</td>\n",
       "    </tr>\n",
       "  </tbody>\n",
       "</table>\n",
       "</div>"
      ],
      "text/plain": [
       "         variable  corr_launch_state\n",
       "5       spotlight           1.000000\n",
       "4      staff_pick           0.250847\n",
       "18     technology           0.145274\n",
       "12           food           0.129185\n",
       "1   backers_count           0.114009"
      ]
     },
     "execution_count": 17,
     "metadata": {},
     "output_type": "execute_result"
    }
   ],
   "source": [
    "df_corr_variable_outcome.sort_values(by='corr_launch_state', ascending=False).head()"
   ]
  },
  {
   "cell_type": "code",
   "execution_count": 27,
   "metadata": {},
   "outputs": [],
   "source": [
    "# Looks like we do have some high correlation."
   ]
  },
  {
   "cell_type": "code",
   "execution_count": 18,
   "metadata": {},
   "outputs": [
    {
     "data": {
      "text/plain": [
       "<matplotlib.lines.Line2D at 0x1eab905fd30>"
      ]
     },
     "execution_count": 18,
     "metadata": {},
     "output_type": "execute_result"
    },
    {
     "data": {
      "image/png": "[encoded data removed]",
      "text/plain": [
       "<Figure size 432x288 with 1 Axes>"
      ]
     },
     "metadata": {},
     "output_type": "display_data"
    }
   ],
   "source": [
    "plt.scatter(x=df_corr_variable_outcome.index,y=df_corr_variable_outcome['corr_launch_state'], s=100)\n",
    "plt.axhline(y=0.5, color='r', linestyle='--', linewidth=4)"
   ]
  },
  {
   "cell_type": "code",
   "execution_count": 19,
   "metadata": {},
   "outputs": [
    {
     "data": {
      "text/plain": [
       "5    spotlight\n",
       "Name: variable, dtype: object"
      ]
     },
     "execution_count": 19,
     "metadata": {},
     "output_type": "execute_result"
    }
   ],
   "source": [
    "df_corr_variable_outcome[df_corr_variable_outcome['corr_launch_state'] > 0.5]['variable']"
   ]
  },
  {
   "cell_type": "code",
   "execution_count": 20,
   "metadata": {},
   "outputs": [],
   "source": [
    "# The only variable of interest here is spotlight. From https://techcrunch.com/2015/03/25/kickstarter-spotlight/, \n",
    "# we see that spotlight happens for successfully funded projects and acts as a way to update the project timeline.\n",
    "# It clearly does nothing in helping predict funding success; drop it."
   ]
  },
  {
   "cell_type": "code",
   "execution_count": 21,
   "metadata": {},
   "outputs": [
    {
     "data": {
      "text/plain": [
       "(46,)"
      ]
     },
     "execution_count": 21,
     "metadata": {},
     "output_type": "execute_result"
    }
   ],
   "source": [
    "df.columns.shape"
   ]
  },
  {
   "cell_type": "code",
   "execution_count": 22,
   "metadata": {},
   "outputs": [
    {
     "data": {
      "text/plain": [
       "Index(['launch_state', 'id', 'launched_at', 'category', 'country', 'goal',\n",
       "       'backers_count', 'pledged_ratio', 'funding_days', 'staff_pick',\n",
       "       'spotlight', 'comics', 'crafts', 'dance'],\n",
       "      dtype='object')"
      ]
     },
     "execution_count": 22,
     "metadata": {},
     "output_type": "execute_result"
    }
   ],
   "source": [
    "df.columns[0:14]"
   ]
  },
  {
   "cell_type": "code",
   "execution_count": 23,
   "metadata": {},
   "outputs": [],
   "source": [
    "df.drop(columns='spotlight', inplace=True)"
   ]
  },
  {
   "cell_type": "code",
   "execution_count": 24,
   "metadata": {},
   "outputs": [
    {
     "data": {
      "text/plain": [
       "(141447, 45)"
      ]
     },
     "execution_count": 24,
     "metadata": {},
     "output_type": "execute_result"
    }
   ],
   "source": [
    "df.shape"
   ]
  },
  {
   "cell_type": "code",
   "execution_count": 25,
   "metadata": {},
   "outputs": [
    {
     "data": {
      "text/plain": [
       "Index(['launch_state', 'id', 'launched_at', 'category', 'country', 'goal',\n",
       "       'backers_count', 'pledged_ratio', 'funding_days', 'staff_pick',\n",
       "       'comics'],\n",
       "      dtype='object')"
      ]
     },
     "execution_count": 25,
     "metadata": {},
     "output_type": "execute_result"
    }
   ],
   "source": [
    "df.columns[0:11]"
   ]
  },
  {
   "cell_type": "code",
   "execution_count": 26,
   "metadata": {},
   "outputs": [],
   "source": [
    "# Variable-variable correlation data"
   ]
  },
  {
   "cell_type": "code",
   "execution_count": 27,
   "metadata": {},
   "outputs": [
    {
     "data": {
      "text/plain": [
       "Index(['launch_state', 'id', 'launched_at', 'category', 'country', 'goal',\n",
       "       'backers_count', 'pledged_ratio', 'funding_days', 'staff_pick',\n",
       "       'comics', 'crafts', 'dance', 'design', 'fashion', 'film & video',\n",
       "       'food', 'games', 'journalism', 'music', 'photography', 'publishing',\n",
       "       'technology', 'theater', 'AU', 'BE', 'CA', 'CH', 'DE', 'DK', 'ES', 'FR',\n",
       "       'GB', 'HK', 'IE', 'IT', 'JP', 'LU', 'MX', 'NL', 'NO', 'NZ', 'SE', 'SG',\n",
       "       'US'],\n",
       "      dtype='object')"
      ]
     },
     "execution_count": 27,
     "metadata": {},
     "output_type": "execute_result"
    }
   ],
   "source": [
    "df.columns"
   ]
  },
  {
   "cell_type": "code",
   "execution_count": 28,
   "metadata": {},
   "outputs": [
    {
     "data": {
      "text/plain": [
       "Index(['goal', 'backers_count', 'pledged_ratio', 'funding_days', 'staff_pick',\n",
       "       'comics', 'crafts', 'dance', 'design', 'fashion', 'film & video',\n",
       "       'food', 'games', 'journalism', 'music', 'photography', 'publishing',\n",
       "       'technology', 'theater', 'AU', 'BE', 'CA', 'CH', 'DE', 'DK', 'ES', 'FR',\n",
       "       'GB', 'HK', 'IE', 'IT', 'JP', 'LU', 'MX', 'NL', 'NO', 'NZ', 'SE', 'SG',\n",
       "       'US'],\n",
       "      dtype='object')"
      ]
     },
     "execution_count": 28,
     "metadata": {},
     "output_type": "execute_result"
    }
   ],
   "source": [
    "df.drop(columns=info_variables).drop(columns='launch_state').columns"
   ]
  },
  {
   "cell_type": "code",
   "execution_count": 29,
   "metadata": {},
   "outputs": [],
   "source": [
    "corMat = abs(df.drop(columns=info_variables).drop(columns='launch_state').corr())"
   ]
  },
  {
   "cell_type": "code",
   "execution_count": 30,
   "metadata": {},
   "outputs": [
    {
     "data": {
      "text/plain": [
       "(40, 40)"
      ]
     },
     "execution_count": 30,
     "metadata": {},
     "output_type": "execute_result"
    }
   ],
   "source": [
    "corMat.shape"
   ]
  },
  {
   "cell_type": "code",
   "execution_count": 31,
   "metadata": {},
   "outputs": [
    {
     "data": {
      "text/plain": [
       "(141447, 45)"
      ]
     },
     "execution_count": 31,
     "metadata": {},
     "output_type": "execute_result"
    }
   ],
   "source": [
    "df.shape"
   ]
  },
  {
   "cell_type": "code",
   "execution_count": 32,
   "metadata": {},
   "outputs": [
    {
     "data": {
      "text/html": [
       "<div>\n",
       "<style scoped>\n",
       "    .dataframe tbody tr th:only-of-type {\n",
       "        vertical-align: middle;\n",
       "    }\n",
       "\n",
       "    .dataframe tbody tr th {\n",
       "        vertical-align: top;\n",
       "    }\n",
       "\n",
       "    .dataframe thead th {\n",
       "        text-align: right;\n",
       "    }\n",
       "</style>\n",
       "<table border=\"1\" class=\"dataframe\">\n",
       "  <thead>\n",
       "    <tr style=\"text-align: right;\">\n",
       "      <th></th>\n",
       "      <th>goal</th>\n",
       "      <th>backers_count</th>\n",
       "      <th>pledged_ratio</th>\n",
       "      <th>funding_days</th>\n",
       "      <th>staff_pick</th>\n",
       "      <th>comics</th>\n",
       "      <th>crafts</th>\n",
       "      <th>dance</th>\n",
       "      <th>design</th>\n",
       "      <th>fashion</th>\n",
       "      <th>...</th>\n",
       "      <th>IT</th>\n",
       "      <th>JP</th>\n",
       "      <th>LU</th>\n",
       "      <th>MX</th>\n",
       "      <th>NL</th>\n",
       "      <th>NO</th>\n",
       "      <th>NZ</th>\n",
       "      <th>SE</th>\n",
       "      <th>SG</th>\n",
       "      <th>US</th>\n",
       "    </tr>\n",
       "  </thead>\n",
       "  <tbody>\n",
       "    <tr>\n",
       "      <th>goal</th>\n",
       "      <td>1.000000</td>\n",
       "      <td>0.009843</td>\n",
       "      <td>0.000706</td>\n",
       "      <td>0.024363</td>\n",
       "      <td>0.006198</td>\n",
       "      <td>0.006645</td>\n",
       "      <td>0.005060</td>\n",
       "      <td>0.004416</td>\n",
       "      <td>0.003055</td>\n",
       "      <td>0.005542</td>\n",
       "      <td>...</td>\n",
       "      <td>0.001491</td>\n",
       "      <td>0.044462</td>\n",
       "      <td>0.000177</td>\n",
       "      <td>0.015493</td>\n",
       "      <td>0.001297</td>\n",
       "      <td>0.003471</td>\n",
       "      <td>0.001330</td>\n",
       "      <td>0.018376</td>\n",
       "      <td>0.000830</td>\n",
       "      <td>0.013072</td>\n",
       "    </tr>\n",
       "    <tr>\n",
       "      <th>backers_count</th>\n",
       "      <td>0.009843</td>\n",
       "      <td>1.000000</td>\n",
       "      <td>0.011010</td>\n",
       "      <td>0.006251</td>\n",
       "      <td>0.152675</td>\n",
       "      <td>0.011935</td>\n",
       "      <td>0.017957</td>\n",
       "      <td>0.012615</td>\n",
       "      <td>0.039037</td>\n",
       "      <td>0.000767</td>\n",
       "      <td>...</td>\n",
       "      <td>0.007079</td>\n",
       "      <td>0.000946</td>\n",
       "      <td>0.000658</td>\n",
       "      <td>0.008414</td>\n",
       "      <td>0.003862</td>\n",
       "      <td>0.004119</td>\n",
       "      <td>0.004931</td>\n",
       "      <td>0.002703</td>\n",
       "      <td>0.002107</td>\n",
       "      <td>0.020077</td>\n",
       "    </tr>\n",
       "    <tr>\n",
       "      <th>pledged_ratio</th>\n",
       "      <td>0.000706</td>\n",
       "      <td>0.011010</td>\n",
       "      <td>1.000000</td>\n",
       "      <td>0.004325</td>\n",
       "      <td>0.001162</td>\n",
       "      <td>0.007895</td>\n",
       "      <td>0.000795</td>\n",
       "      <td>0.001976</td>\n",
       "      <td>0.000234</td>\n",
       "      <td>0.001767</td>\n",
       "      <td>...</td>\n",
       "      <td>0.001254</td>\n",
       "      <td>0.000184</td>\n",
       "      <td>0.000179</td>\n",
       "      <td>0.001238</td>\n",
       "      <td>0.001377</td>\n",
       "      <td>0.000677</td>\n",
       "      <td>0.000967</td>\n",
       "      <td>0.001044</td>\n",
       "      <td>0.000475</td>\n",
       "      <td>0.006472</td>\n",
       "    </tr>\n",
       "    <tr>\n",
       "      <th>funding_days</th>\n",
       "      <td>0.024363</td>\n",
       "      <td>0.006251</td>\n",
       "      <td>0.004325</td>\n",
       "      <td>1.000000</td>\n",
       "      <td>0.007202</td>\n",
       "      <td>0.019172</td>\n",
       "      <td>0.035825</td>\n",
       "      <td>0.017790</td>\n",
       "      <td>0.005422</td>\n",
       "      <td>0.038868</td>\n",
       "      <td>...</td>\n",
       "      <td>0.024053</td>\n",
       "      <td>0.001300</td>\n",
       "      <td>0.001105</td>\n",
       "      <td>0.017818</td>\n",
       "      <td>0.002036</td>\n",
       "      <td>0.000672</td>\n",
       "      <td>0.010937</td>\n",
       "      <td>0.004480</td>\n",
       "      <td>0.007855</td>\n",
       "      <td>0.025418</td>\n",
       "    </tr>\n",
       "    <tr>\n",
       "      <th>staff_pick</th>\n",
       "      <td>0.006198</td>\n",
       "      <td>0.152675</td>\n",
       "      <td>0.001162</td>\n",
       "      <td>0.007202</td>\n",
       "      <td>1.000000</td>\n",
       "      <td>0.087722</td>\n",
       "      <td>0.020574</td>\n",
       "      <td>0.034634</td>\n",
       "      <td>0.013338</td>\n",
       "      <td>0.021632</td>\n",
       "      <td>...</td>\n",
       "      <td>0.017036</td>\n",
       "      <td>0.010468</td>\n",
       "      <td>0.002961</td>\n",
       "      <td>0.007343</td>\n",
       "      <td>0.005757</td>\n",
       "      <td>0.004635</td>\n",
       "      <td>0.007803</td>\n",
       "      <td>0.011456</td>\n",
       "      <td>0.007099</td>\n",
       "      <td>0.026214</td>\n",
       "    </tr>\n",
       "  </tbody>\n",
       "</table>\n",
       "<p>5 rows × 40 columns</p>\n",
       "</div>"
      ],
      "text/plain": [
       "                   goal  backers_count  pledged_ratio  funding_days  \\\n",
       "goal           1.000000       0.009843       0.000706      0.024363   \n",
       "backers_count  0.009843       1.000000       0.011010      0.006251   \n",
       "pledged_ratio  0.000706       0.011010       1.000000      0.004325   \n",
       "funding_days   0.024363       0.006251       0.004325      1.000000   \n",
       "staff_pick     0.006198       0.152675       0.001162      0.007202   \n",
       "\n",
       "               staff_pick    comics    crafts     dance    design   fashion  \\\n",
       "goal             0.006198  0.006645  0.005060  0.004416  0.003055  0.005542   \n",
       "backers_count    0.152675  0.011935  0.017957  0.012615  0.039037  0.000767   \n",
       "pledged_ratio    0.001162  0.007895  0.000795  0.001976  0.000234  0.001767   \n",
       "funding_days     0.007202  0.019172  0.035825  0.017790  0.005422  0.038868   \n",
       "staff_pick       1.000000  0.087722  0.020574  0.034634  0.013338  0.021632   \n",
       "\n",
       "                 ...           IT        JP        LU        MX        NL  \\\n",
       "goal             ...     0.001491  0.044462  0.000177  0.015493  0.001297   \n",
       "backers_count    ...     0.007079  0.000946  0.000658  0.008414  0.003862   \n",
       "pledged_ratio    ...     0.001254  0.000184  0.000179  0.001238  0.001377   \n",
       "funding_days     ...     0.024053  0.001300  0.001105  0.017818  0.002036   \n",
       "staff_pick       ...     0.017036  0.010468  0.002961  0.007343  0.005757   \n",
       "\n",
       "                     NO        NZ        SE        SG        US  \n",
       "goal           0.003471  0.001330  0.018376  0.000830  0.013072  \n",
       "backers_count  0.004119  0.004931  0.002703  0.002107  0.020077  \n",
       "pledged_ratio  0.000677  0.000967  0.001044  0.000475  0.006472  \n",
       "funding_days   0.000672  0.010937  0.004480  0.007855  0.025418  \n",
       "staff_pick     0.004635  0.007803  0.011456  0.007099  0.026214  \n",
       "\n",
       "[5 rows x 40 columns]"
      ]
     },
     "execution_count": 32,
     "metadata": {},
     "output_type": "execute_result"
    }
   ],
   "source": [
    "corMat.head()"
   ]
  },
  {
   "cell_type": "code",
   "execution_count": 33,
   "metadata": {},
   "outputs": [
    {
     "data": {
      "text/plain": [
       "Index(['launch_state', 'id', 'launched_at', 'category', 'country', 'goal',\n",
       "       'backers_count', 'pledged_ratio', 'funding_days', 'staff_pick',\n",
       "       'comics'],\n",
       "      dtype='object')"
      ]
     },
     "execution_count": 33,
     "metadata": {},
     "output_type": "execute_result"
    }
   ],
   "source": [
    "df.columns[0:11]"
   ]
  },
  {
   "cell_type": "code",
   "execution_count": 34,
   "metadata": {},
   "outputs": [
    {
     "data": {
      "text/plain": [
       "Index(['goal', 'backers_count', 'pledged_ratio', 'funding_days', 'staff_pick',\n",
       "       'comics'],\n",
       "      dtype='object')"
      ]
     },
     "execution_count": 34,
     "metadata": {},
     "output_type": "execute_result"
    }
   ],
   "source": [
    "corMat.columns[0:6]"
   ]
  },
  {
   "cell_type": "code",
   "execution_count": 35,
   "metadata": {},
   "outputs": [],
   "source": [
    "# df = df.where(np.triu(np.ones(df.shape)).astype(np.bool))\n",
    "corMat_upper = corMat.where(np.triu(np.ones(corMat.shape), k=1).astype(np.bool))"
   ]
  },
  {
   "cell_type": "code",
   "execution_count": 36,
   "metadata": {},
   "outputs": [
    {
     "data": {
      "text/html": [
       "<div>\n",
       "<style scoped>\n",
       "    .dataframe tbody tr th:only-of-type {\n",
       "        vertical-align: middle;\n",
       "    }\n",
       "\n",
       "    .dataframe tbody tr th {\n",
       "        vertical-align: top;\n",
       "    }\n",
       "\n",
       "    .dataframe thead th {\n",
       "        text-align: right;\n",
       "    }\n",
       "</style>\n",
       "<table border=\"1\" class=\"dataframe\">\n",
       "  <thead>\n",
       "    <tr style=\"text-align: right;\">\n",
       "      <th></th>\n",
       "      <th>goal</th>\n",
       "      <th>backers_count</th>\n",
       "      <th>pledged_ratio</th>\n",
       "      <th>funding_days</th>\n",
       "      <th>staff_pick</th>\n",
       "      <th>comics</th>\n",
       "      <th>crafts</th>\n",
       "      <th>dance</th>\n",
       "      <th>design</th>\n",
       "      <th>fashion</th>\n",
       "      <th>...</th>\n",
       "      <th>IT</th>\n",
       "      <th>JP</th>\n",
       "      <th>LU</th>\n",
       "      <th>MX</th>\n",
       "      <th>NL</th>\n",
       "      <th>NO</th>\n",
       "      <th>NZ</th>\n",
       "      <th>SE</th>\n",
       "      <th>SG</th>\n",
       "      <th>US</th>\n",
       "    </tr>\n",
       "  </thead>\n",
       "  <tbody>\n",
       "    <tr>\n",
       "      <th>goal</th>\n",
       "      <td>NaN</td>\n",
       "      <td>0.009843</td>\n",
       "      <td>0.000706</td>\n",
       "      <td>0.024363</td>\n",
       "      <td>0.006198</td>\n",
       "      <td>0.006645</td>\n",
       "      <td>0.005060</td>\n",
       "      <td>0.004416</td>\n",
       "      <td>0.003055</td>\n",
       "      <td>0.005542</td>\n",
       "      <td>...</td>\n",
       "      <td>0.001491</td>\n",
       "      <td>0.044462</td>\n",
       "      <td>0.000177</td>\n",
       "      <td>0.015493</td>\n",
       "      <td>0.001297</td>\n",
       "      <td>0.003471</td>\n",
       "      <td>0.001330</td>\n",
       "      <td>0.018376</td>\n",
       "      <td>0.000830</td>\n",
       "      <td>0.013072</td>\n",
       "    </tr>\n",
       "    <tr>\n",
       "      <th>backers_count</th>\n",
       "      <td>NaN</td>\n",
       "      <td>NaN</td>\n",
       "      <td>0.011010</td>\n",
       "      <td>0.006251</td>\n",
       "      <td>0.152675</td>\n",
       "      <td>0.011935</td>\n",
       "      <td>0.017957</td>\n",
       "      <td>0.012615</td>\n",
       "      <td>0.039037</td>\n",
       "      <td>0.000767</td>\n",
       "      <td>...</td>\n",
       "      <td>0.007079</td>\n",
       "      <td>0.000946</td>\n",
       "      <td>0.000658</td>\n",
       "      <td>0.008414</td>\n",
       "      <td>0.003862</td>\n",
       "      <td>0.004119</td>\n",
       "      <td>0.004931</td>\n",
       "      <td>0.002703</td>\n",
       "      <td>0.002107</td>\n",
       "      <td>0.020077</td>\n",
       "    </tr>\n",
       "    <tr>\n",
       "      <th>pledged_ratio</th>\n",
       "      <td>NaN</td>\n",
       "      <td>NaN</td>\n",
       "      <td>NaN</td>\n",
       "      <td>0.004325</td>\n",
       "      <td>0.001162</td>\n",
       "      <td>0.007895</td>\n",
       "      <td>0.000795</td>\n",
       "      <td>0.001976</td>\n",
       "      <td>0.000234</td>\n",
       "      <td>0.001767</td>\n",
       "      <td>...</td>\n",
       "      <td>0.001254</td>\n",
       "      <td>0.000184</td>\n",
       "      <td>0.000179</td>\n",
       "      <td>0.001238</td>\n",
       "      <td>0.001377</td>\n",
       "      <td>0.000677</td>\n",
       "      <td>0.000967</td>\n",
       "      <td>0.001044</td>\n",
       "      <td>0.000475</td>\n",
       "      <td>0.006472</td>\n",
       "    </tr>\n",
       "    <tr>\n",
       "      <th>funding_days</th>\n",
       "      <td>NaN</td>\n",
       "      <td>NaN</td>\n",
       "      <td>NaN</td>\n",
       "      <td>NaN</td>\n",
       "      <td>0.007202</td>\n",
       "      <td>0.019172</td>\n",
       "      <td>0.035825</td>\n",
       "      <td>0.017790</td>\n",
       "      <td>0.005422</td>\n",
       "      <td>0.038868</td>\n",
       "      <td>...</td>\n",
       "      <td>0.024053</td>\n",
       "      <td>0.001300</td>\n",
       "      <td>0.001105</td>\n",
       "      <td>0.017818</td>\n",
       "      <td>0.002036</td>\n",
       "      <td>0.000672</td>\n",
       "      <td>0.010937</td>\n",
       "      <td>0.004480</td>\n",
       "      <td>0.007855</td>\n",
       "      <td>0.025418</td>\n",
       "    </tr>\n",
       "    <tr>\n",
       "      <th>staff_pick</th>\n",
       "      <td>NaN</td>\n",
       "      <td>NaN</td>\n",
       "      <td>NaN</td>\n",
       "      <td>NaN</td>\n",
       "      <td>NaN</td>\n",
       "      <td>0.087722</td>\n",
       "      <td>0.020574</td>\n",
       "      <td>0.034634</td>\n",
       "      <td>0.013338</td>\n",
       "      <td>0.021632</td>\n",
       "      <td>...</td>\n",
       "      <td>0.017036</td>\n",
       "      <td>0.010468</td>\n",
       "      <td>0.002961</td>\n",
       "      <td>0.007343</td>\n",
       "      <td>0.005757</td>\n",
       "      <td>0.004635</td>\n",
       "      <td>0.007803</td>\n",
       "      <td>0.011456</td>\n",
       "      <td>0.007099</td>\n",
       "      <td>0.026214</td>\n",
       "    </tr>\n",
       "  </tbody>\n",
       "</table>\n",
       "<p>5 rows × 40 columns</p>\n",
       "</div>"
      ],
      "text/plain": [
       "               goal  backers_count  pledged_ratio  funding_days  staff_pick  \\\n",
       "goal            NaN       0.009843       0.000706      0.024363    0.006198   \n",
       "backers_count   NaN            NaN       0.011010      0.006251    0.152675   \n",
       "pledged_ratio   NaN            NaN            NaN      0.004325    0.001162   \n",
       "funding_days    NaN            NaN            NaN           NaN    0.007202   \n",
       "staff_pick      NaN            NaN            NaN           NaN         NaN   \n",
       "\n",
       "                 comics    crafts     dance    design   fashion    ...     \\\n",
       "goal           0.006645  0.005060  0.004416  0.003055  0.005542    ...      \n",
       "backers_count  0.011935  0.017957  0.012615  0.039037  0.000767    ...      \n",
       "pledged_ratio  0.007895  0.000795  0.001976  0.000234  0.001767    ...      \n",
       "funding_days   0.019172  0.035825  0.017790  0.005422  0.038868    ...      \n",
       "staff_pick     0.087722  0.020574  0.034634  0.013338  0.021632    ...      \n",
       "\n",
       "                     IT        JP        LU        MX        NL        NO  \\\n",
       "goal           0.001491  0.044462  0.000177  0.015493  0.001297  0.003471   \n",
       "backers_count  0.007079  0.000946  0.000658  0.008414  0.003862  0.004119   \n",
       "pledged_ratio  0.001254  0.000184  0.000179  0.001238  0.001377  0.000677   \n",
       "funding_days   0.024053  0.001300  0.001105  0.017818  0.002036  0.000672   \n",
       "staff_pick     0.017036  0.010468  0.002961  0.007343  0.005757  0.004635   \n",
       "\n",
       "                     NZ        SE        SG        US  \n",
       "goal           0.001330  0.018376  0.000830  0.013072  \n",
       "backers_count  0.004931  0.002703  0.002107  0.020077  \n",
       "pledged_ratio  0.000967  0.001044  0.000475  0.006472  \n",
       "funding_days   0.010937  0.004480  0.007855  0.025418  \n",
       "staff_pick     0.007803  0.011456  0.007099  0.026214  \n",
       "\n",
       "[5 rows x 40 columns]"
      ]
     },
     "execution_count": 36,
     "metadata": {},
     "output_type": "execute_result"
    }
   ],
   "source": [
    "corMat_upper.head()"
   ]
  },
  {
   "cell_type": "code",
   "execution_count": 37,
   "metadata": {},
   "outputs": [
    {
     "data": {
      "text/plain": [
       "1.0"
      ]
     },
     "execution_count": 37,
     "metadata": {},
     "output_type": "execute_result"
    }
   ],
   "source": [
    "corMat.max().max()"
   ]
  },
  {
   "cell_type": "code",
   "execution_count": 38,
   "metadata": {},
   "outputs": [
    {
     "data": {
      "text/plain": [
       "0.599445555220418"
      ]
     },
     "execution_count": 38,
     "metadata": {},
     "output_type": "execute_result"
    }
   ],
   "source": [
    "corMat_upper.max().max()"
   ]
  },
  {
   "cell_type": "code",
   "execution_count": 39,
   "metadata": {},
   "outputs": [
    {
     "data": {
      "text/plain": [
       "US  GB    0.599446\n",
       "dtype: float64"
      ]
     },
     "execution_count": 39,
     "metadata": {},
     "output_type": "execute_result"
    }
   ],
   "source": [
    "corMat_upper.unstack().sort_values(kind='quicksort')[corMat_upper.unstack().sort_values(kind='quicksort') > .5]"
   ]
  },
  {
   "cell_type": "code",
   "execution_count": 40,
   "metadata": {},
   "outputs": [],
   "source": [
    "# It looks like the countries US and GB are highly correlated."
   ]
  },
  {
   "cell_type": "code",
   "execution_count": 41,
   "metadata": {},
   "outputs": [
    {
     "data": {
      "text/plain": [
       "111818"
      ]
     },
     "execution_count": 41,
     "metadata": {},
     "output_type": "execute_result"
    }
   ],
   "source": [
    "df[df['country'] == 'US'].shape[0]"
   ]
  },
  {
   "cell_type": "code",
   "execution_count": 42,
   "metadata": {},
   "outputs": [
    {
     "data": {
      "text/plain": [
       "12297"
      ]
     },
     "execution_count": 42,
     "metadata": {},
     "output_type": "execute_result"
    }
   ],
   "source": [
    "df[df['country'] == 'GB'].shape[0]"
   ]
  },
  {
   "cell_type": "code",
   "execution_count": 43,
   "metadata": {},
   "outputs": [
    {
     "data": {
      "text/plain": [
       "9.093112141172643"
      ]
     },
     "execution_count": 43,
     "metadata": {},
     "output_type": "execute_result"
    }
   ],
   "source": [
    "df[df['country'] == 'US'].shape[0] / df[df['country'] == 'GB'].shape[0]"
   ]
  },
  {
   "cell_type": "code",
   "execution_count": 61,
   "metadata": {},
   "outputs": [],
   "source": [
    "# There are ~9x more US projects than GB"
   ]
  },
  {
   "cell_type": "code",
   "execution_count": 44,
   "metadata": {
    "scrolled": true
   },
   "outputs": [
    {
     "data": {
      "text/plain": [
       "111818"
      ]
     },
     "execution_count": 44,
     "metadata": {},
     "output_type": "execute_result"
    }
   ],
   "source": [
    "df[df['country'] == 'US'].shape[0]"
   ]
  },
  {
   "cell_type": "code",
   "execution_count": 45,
   "metadata": {},
   "outputs": [
    {
     "data": {
      "text/plain": [
       "111818"
      ]
     },
     "execution_count": 45,
     "metadata": {},
     "output_type": "execute_result"
    }
   ],
   "source": [
    "df[df['US'] == 1].shape[0]"
   ]
  },
  {
   "cell_type": "code",
   "execution_count": 46,
   "metadata": {},
   "outputs": [
    {
     "data": {
      "text/plain": [
       "12297"
      ]
     },
     "execution_count": 46,
     "metadata": {},
     "output_type": "execute_result"
    }
   ],
   "source": [
    "df[df['country'] == 'GB'].shape[0]"
   ]
  },
  {
   "cell_type": "code",
   "execution_count": 47,
   "metadata": {},
   "outputs": [
    {
     "data": {
      "text/plain": [
       "12297"
      ]
     },
     "execution_count": 47,
     "metadata": {},
     "output_type": "execute_result"
    }
   ],
   "source": [
    "df[df['GB'] == 1].shape[0]"
   ]
  },
  {
   "cell_type": "code",
   "execution_count": 62,
   "metadata": {},
   "outputs": [],
   "source": [
    "# While seemingly correlated, it doesn't actually make sense to drop one country because it's correlated with another. Let's keep everything!"
   ]
  },
  {
   "cell_type": "code",
   "execution_count": 48,
   "metadata": {},
   "outputs": [
    {
     "data": {
      "text/html": [
       "<div>\n",
       "<style scoped>\n",
       "    .dataframe tbody tr th:only-of-type {\n",
       "        vertical-align: middle;\n",
       "    }\n",
       "\n",
       "    .dataframe tbody tr th {\n",
       "        vertical-align: top;\n",
       "    }\n",
       "\n",
       "    .dataframe thead th {\n",
       "        text-align: right;\n",
       "    }\n",
       "</style>\n",
       "<table border=\"1\" class=\"dataframe\">\n",
       "  <thead>\n",
       "    <tr style=\"text-align: right;\">\n",
       "      <th></th>\n",
       "      <th>goal</th>\n",
       "      <th>backers_count</th>\n",
       "      <th>pledged_ratio</th>\n",
       "      <th>funding_days</th>\n",
       "      <th>staff_pick</th>\n",
       "      <th>comics</th>\n",
       "      <th>crafts</th>\n",
       "      <th>dance</th>\n",
       "      <th>design</th>\n",
       "      <th>fashion</th>\n",
       "      <th>...</th>\n",
       "      <th>IT</th>\n",
       "      <th>JP</th>\n",
       "      <th>LU</th>\n",
       "      <th>MX</th>\n",
       "      <th>NL</th>\n",
       "      <th>NO</th>\n",
       "      <th>NZ</th>\n",
       "      <th>SE</th>\n",
       "      <th>SG</th>\n",
       "      <th>US</th>\n",
       "    </tr>\n",
       "  </thead>\n",
       "  <tbody>\n",
       "    <tr>\n",
       "      <th>goal</th>\n",
       "      <td>1.000000</td>\n",
       "      <td>0.009843</td>\n",
       "      <td>0.000706</td>\n",
       "      <td>0.024363</td>\n",
       "      <td>0.006198</td>\n",
       "      <td>0.006645</td>\n",
       "      <td>0.005060</td>\n",
       "      <td>0.004416</td>\n",
       "      <td>0.003055</td>\n",
       "      <td>0.005542</td>\n",
       "      <td>...</td>\n",
       "      <td>0.001491</td>\n",
       "      <td>0.044462</td>\n",
       "      <td>0.000177</td>\n",
       "      <td>0.015493</td>\n",
       "      <td>0.001297</td>\n",
       "      <td>0.003471</td>\n",
       "      <td>0.001330</td>\n",
       "      <td>0.018376</td>\n",
       "      <td>0.000830</td>\n",
       "      <td>0.013072</td>\n",
       "    </tr>\n",
       "    <tr>\n",
       "      <th>backers_count</th>\n",
       "      <td>0.009843</td>\n",
       "      <td>1.000000</td>\n",
       "      <td>0.011010</td>\n",
       "      <td>0.006251</td>\n",
       "      <td>0.152675</td>\n",
       "      <td>0.011935</td>\n",
       "      <td>0.017957</td>\n",
       "      <td>0.012615</td>\n",
       "      <td>0.039037</td>\n",
       "      <td>0.000767</td>\n",
       "      <td>...</td>\n",
       "      <td>0.007079</td>\n",
       "      <td>0.000946</td>\n",
       "      <td>0.000658</td>\n",
       "      <td>0.008414</td>\n",
       "      <td>0.003862</td>\n",
       "      <td>0.004119</td>\n",
       "      <td>0.004931</td>\n",
       "      <td>0.002703</td>\n",
       "      <td>0.002107</td>\n",
       "      <td>0.020077</td>\n",
       "    </tr>\n",
       "    <tr>\n",
       "      <th>pledged_ratio</th>\n",
       "      <td>0.000706</td>\n",
       "      <td>0.011010</td>\n",
       "      <td>1.000000</td>\n",
       "      <td>0.004325</td>\n",
       "      <td>0.001162</td>\n",
       "      <td>0.007895</td>\n",
       "      <td>0.000795</td>\n",
       "      <td>0.001976</td>\n",
       "      <td>0.000234</td>\n",
       "      <td>0.001767</td>\n",
       "      <td>...</td>\n",
       "      <td>0.001254</td>\n",
       "      <td>0.000184</td>\n",
       "      <td>0.000179</td>\n",
       "      <td>0.001238</td>\n",
       "      <td>0.001377</td>\n",
       "      <td>0.000677</td>\n",
       "      <td>0.000967</td>\n",
       "      <td>0.001044</td>\n",
       "      <td>0.000475</td>\n",
       "      <td>0.006472</td>\n",
       "    </tr>\n",
       "    <tr>\n",
       "      <th>funding_days</th>\n",
       "      <td>0.024363</td>\n",
       "      <td>0.006251</td>\n",
       "      <td>0.004325</td>\n",
       "      <td>1.000000</td>\n",
       "      <td>0.007202</td>\n",
       "      <td>0.019172</td>\n",
       "      <td>0.035825</td>\n",
       "      <td>0.017790</td>\n",
       "      <td>0.005422</td>\n",
       "      <td>0.038868</td>\n",
       "      <td>...</td>\n",
       "      <td>0.024053</td>\n",
       "      <td>0.001300</td>\n",
       "      <td>0.001105</td>\n",
       "      <td>0.017818</td>\n",
       "      <td>0.002036</td>\n",
       "      <td>0.000672</td>\n",
       "      <td>0.010937</td>\n",
       "      <td>0.004480</td>\n",
       "      <td>0.007855</td>\n",
       "      <td>0.025418</td>\n",
       "    </tr>\n",
       "    <tr>\n",
       "      <th>staff_pick</th>\n",
       "      <td>0.006198</td>\n",
       "      <td>0.152675</td>\n",
       "      <td>0.001162</td>\n",
       "      <td>0.007202</td>\n",
       "      <td>1.000000</td>\n",
       "      <td>0.087722</td>\n",
       "      <td>0.020574</td>\n",
       "      <td>0.034634</td>\n",
       "      <td>0.013338</td>\n",
       "      <td>0.021632</td>\n",
       "      <td>...</td>\n",
       "      <td>0.017036</td>\n",
       "      <td>0.010468</td>\n",
       "      <td>0.002961</td>\n",
       "      <td>0.007343</td>\n",
       "      <td>0.005757</td>\n",
       "      <td>0.004635</td>\n",
       "      <td>0.007803</td>\n",
       "      <td>0.011456</td>\n",
       "      <td>0.007099</td>\n",
       "      <td>0.026214</td>\n",
       "    </tr>\n",
       "  </tbody>\n",
       "</table>\n",
       "<p>5 rows × 40 columns</p>\n",
       "</div>"
      ],
      "text/plain": [
       "                   goal  backers_count  pledged_ratio  funding_days  \\\n",
       "goal           1.000000       0.009843       0.000706      0.024363   \n",
       "backers_count  0.009843       1.000000       0.011010      0.006251   \n",
       "pledged_ratio  0.000706       0.011010       1.000000      0.004325   \n",
       "funding_days   0.024363       0.006251       0.004325      1.000000   \n",
       "staff_pick     0.006198       0.152675       0.001162      0.007202   \n",
       "\n",
       "               staff_pick    comics    crafts     dance    design   fashion  \\\n",
       "goal             0.006198  0.006645  0.005060  0.004416  0.003055  0.005542   \n",
       "backers_count    0.152675  0.011935  0.017957  0.012615  0.039037  0.000767   \n",
       "pledged_ratio    0.001162  0.007895  0.000795  0.001976  0.000234  0.001767   \n",
       "funding_days     0.007202  0.019172  0.035825  0.017790  0.005422  0.038868   \n",
       "staff_pick       1.000000  0.087722  0.020574  0.034634  0.013338  0.021632   \n",
       "\n",
       "                 ...           IT        JP        LU        MX        NL  \\\n",
       "goal             ...     0.001491  0.044462  0.000177  0.015493  0.001297   \n",
       "backers_count    ...     0.007079  0.000946  0.000658  0.008414  0.003862   \n",
       "pledged_ratio    ...     0.001254  0.000184  0.000179  0.001238  0.001377   \n",
       "funding_days     ...     0.024053  0.001300  0.001105  0.017818  0.002036   \n",
       "staff_pick       ...     0.017036  0.010468  0.002961  0.007343  0.005757   \n",
       "\n",
       "                     NO        NZ        SE        SG        US  \n",
       "goal           0.003471  0.001330  0.018376  0.000830  0.013072  \n",
       "backers_count  0.004119  0.004931  0.002703  0.002107  0.020077  \n",
       "pledged_ratio  0.000677  0.000967  0.001044  0.000475  0.006472  \n",
       "funding_days   0.000672  0.010937  0.004480  0.007855  0.025418  \n",
       "staff_pick     0.004635  0.007803  0.011456  0.007099  0.026214  \n",
       "\n",
       "[5 rows x 40 columns]"
      ]
     },
     "execution_count": 48,
     "metadata": {},
     "output_type": "execute_result"
    }
   ],
   "source": [
    "corMat.head()"
   ]
  },
  {
   "cell_type": "code",
   "execution_count": 49,
   "metadata": {},
   "outputs": [
    {
     "data": {
      "text/html": [
       "<div>\n",
       "<style scoped>\n",
       "    .dataframe tbody tr th:only-of-type {\n",
       "        vertical-align: middle;\n",
       "    }\n",
       "\n",
       "    .dataframe tbody tr th {\n",
       "        vertical-align: top;\n",
       "    }\n",
       "\n",
       "    .dataframe thead th {\n",
       "        text-align: right;\n",
       "    }\n",
       "</style>\n",
       "<table border=\"1\" class=\"dataframe\">\n",
       "  <thead>\n",
       "    <tr style=\"text-align: right;\">\n",
       "      <th></th>\n",
       "      <th>goal</th>\n",
       "      <th>backers_count</th>\n",
       "      <th>pledged_ratio</th>\n",
       "      <th>funding_days</th>\n",
       "      <th>staff_pick</th>\n",
       "      <th>comics</th>\n",
       "      <th>crafts</th>\n",
       "      <th>dance</th>\n",
       "      <th>design</th>\n",
       "      <th>fashion</th>\n",
       "      <th>...</th>\n",
       "      <th>IT</th>\n",
       "      <th>JP</th>\n",
       "      <th>LU</th>\n",
       "      <th>MX</th>\n",
       "      <th>NL</th>\n",
       "      <th>NO</th>\n",
       "      <th>NZ</th>\n",
       "      <th>SE</th>\n",
       "      <th>SG</th>\n",
       "      <th>US</th>\n",
       "    </tr>\n",
       "  </thead>\n",
       "  <tbody>\n",
       "    <tr>\n",
       "      <th>goal</th>\n",
       "      <td>NaN</td>\n",
       "      <td>0.009843</td>\n",
       "      <td>0.000706</td>\n",
       "      <td>0.024363</td>\n",
       "      <td>0.006198</td>\n",
       "      <td>0.006645</td>\n",
       "      <td>0.005060</td>\n",
       "      <td>0.004416</td>\n",
       "      <td>0.003055</td>\n",
       "      <td>0.005542</td>\n",
       "      <td>...</td>\n",
       "      <td>0.001491</td>\n",
       "      <td>0.044462</td>\n",
       "      <td>0.000177</td>\n",
       "      <td>0.015493</td>\n",
       "      <td>0.001297</td>\n",
       "      <td>0.003471</td>\n",
       "      <td>0.001330</td>\n",
       "      <td>0.018376</td>\n",
       "      <td>0.000830</td>\n",
       "      <td>0.013072</td>\n",
       "    </tr>\n",
       "    <tr>\n",
       "      <th>backers_count</th>\n",
       "      <td>NaN</td>\n",
       "      <td>NaN</td>\n",
       "      <td>0.011010</td>\n",
       "      <td>0.006251</td>\n",
       "      <td>0.152675</td>\n",
       "      <td>0.011935</td>\n",
       "      <td>0.017957</td>\n",
       "      <td>0.012615</td>\n",
       "      <td>0.039037</td>\n",
       "      <td>0.000767</td>\n",
       "      <td>...</td>\n",
       "      <td>0.007079</td>\n",
       "      <td>0.000946</td>\n",
       "      <td>0.000658</td>\n",
       "      <td>0.008414</td>\n",
       "      <td>0.003862</td>\n",
       "      <td>0.004119</td>\n",
       "      <td>0.004931</td>\n",
       "      <td>0.002703</td>\n",
       "      <td>0.002107</td>\n",
       "      <td>0.020077</td>\n",
       "    </tr>\n",
       "    <tr>\n",
       "      <th>pledged_ratio</th>\n",
       "      <td>NaN</td>\n",
       "      <td>NaN</td>\n",
       "      <td>NaN</td>\n",
       "      <td>0.004325</td>\n",
       "      <td>0.001162</td>\n",
       "      <td>0.007895</td>\n",
       "      <td>0.000795</td>\n",
       "      <td>0.001976</td>\n",
       "      <td>0.000234</td>\n",
       "      <td>0.001767</td>\n",
       "      <td>...</td>\n",
       "      <td>0.001254</td>\n",
       "      <td>0.000184</td>\n",
       "      <td>0.000179</td>\n",
       "      <td>0.001238</td>\n",
       "      <td>0.001377</td>\n",
       "      <td>0.000677</td>\n",
       "      <td>0.000967</td>\n",
       "      <td>0.001044</td>\n",
       "      <td>0.000475</td>\n",
       "      <td>0.006472</td>\n",
       "    </tr>\n",
       "    <tr>\n",
       "      <th>funding_days</th>\n",
       "      <td>NaN</td>\n",
       "      <td>NaN</td>\n",
       "      <td>NaN</td>\n",
       "      <td>NaN</td>\n",
       "      <td>0.007202</td>\n",
       "      <td>0.019172</td>\n",
       "      <td>0.035825</td>\n",
       "      <td>0.017790</td>\n",
       "      <td>0.005422</td>\n",
       "      <td>0.038868</td>\n",
       "      <td>...</td>\n",
       "      <td>0.024053</td>\n",
       "      <td>0.001300</td>\n",
       "      <td>0.001105</td>\n",
       "      <td>0.017818</td>\n",
       "      <td>0.002036</td>\n",
       "      <td>0.000672</td>\n",
       "      <td>0.010937</td>\n",
       "      <td>0.004480</td>\n",
       "      <td>0.007855</td>\n",
       "      <td>0.025418</td>\n",
       "    </tr>\n",
       "    <tr>\n",
       "      <th>staff_pick</th>\n",
       "      <td>NaN</td>\n",
       "      <td>NaN</td>\n",
       "      <td>NaN</td>\n",
       "      <td>NaN</td>\n",
       "      <td>NaN</td>\n",
       "      <td>0.087722</td>\n",
       "      <td>0.020574</td>\n",
       "      <td>0.034634</td>\n",
       "      <td>0.013338</td>\n",
       "      <td>0.021632</td>\n",
       "      <td>...</td>\n",
       "      <td>0.017036</td>\n",
       "      <td>0.010468</td>\n",
       "      <td>0.002961</td>\n",
       "      <td>0.007343</td>\n",
       "      <td>0.005757</td>\n",
       "      <td>0.004635</td>\n",
       "      <td>0.007803</td>\n",
       "      <td>0.011456</td>\n",
       "      <td>0.007099</td>\n",
       "      <td>0.026214</td>\n",
       "    </tr>\n",
       "  </tbody>\n",
       "</table>\n",
       "<p>5 rows × 40 columns</p>\n",
       "</div>"
      ],
      "text/plain": [
       "               goal  backers_count  pledged_ratio  funding_days  staff_pick  \\\n",
       "goal            NaN       0.009843       0.000706      0.024363    0.006198   \n",
       "backers_count   NaN            NaN       0.011010      0.006251    0.152675   \n",
       "pledged_ratio   NaN            NaN            NaN      0.004325    0.001162   \n",
       "funding_days    NaN            NaN            NaN           NaN    0.007202   \n",
       "staff_pick      NaN            NaN            NaN           NaN         NaN   \n",
       "\n",
       "                 comics    crafts     dance    design   fashion    ...     \\\n",
       "goal           0.006645  0.005060  0.004416  0.003055  0.005542    ...      \n",
       "backers_count  0.011935  0.017957  0.012615  0.039037  0.000767    ...      \n",
       "pledged_ratio  0.007895  0.000795  0.001976  0.000234  0.001767    ...      \n",
       "funding_days   0.019172  0.035825  0.017790  0.005422  0.038868    ...      \n",
       "staff_pick     0.087722  0.020574  0.034634  0.013338  0.021632    ...      \n",
       "\n",
       "                     IT        JP        LU        MX        NL        NO  \\\n",
       "goal           0.001491  0.044462  0.000177  0.015493  0.001297  0.003471   \n",
       "backers_count  0.007079  0.000946  0.000658  0.008414  0.003862  0.004119   \n",
       "pledged_ratio  0.001254  0.000184  0.000179  0.001238  0.001377  0.000677   \n",
       "funding_days   0.024053  0.001300  0.001105  0.017818  0.002036  0.000672   \n",
       "staff_pick     0.017036  0.010468  0.002961  0.007343  0.005757  0.004635   \n",
       "\n",
       "                     NZ        SE        SG        US  \n",
       "goal           0.001330  0.018376  0.000830  0.013072  \n",
       "backers_count  0.004931  0.002703  0.002107  0.020077  \n",
       "pledged_ratio  0.000967  0.001044  0.000475  0.006472  \n",
       "funding_days   0.010937  0.004480  0.007855  0.025418  \n",
       "staff_pick     0.007803  0.011456  0.007099  0.026214  \n",
       "\n",
       "[5 rows x 40 columns]"
      ]
     },
     "execution_count": 49,
     "metadata": {},
     "output_type": "execute_result"
    }
   ],
   "source": [
    "corMat_upper.head()"
   ]
  },
  {
   "cell_type": "code",
   "execution_count": 50,
   "metadata": {},
   "outputs": [],
   "source": [
    "corMat_values = corMat_upper.values[np.triu_indices(corMat_upper.shape[1], k=1)]"
   ]
  },
  {
   "cell_type": "code",
   "execution_count": 51,
   "metadata": {},
   "outputs": [
    {
     "data": {
      "text/plain": [
       "<matplotlib.lines.Line2D at 0x1eaba8d31d0>"
      ]
     },
     "execution_count": 51,
     "metadata": {},
     "output_type": "execute_result"
    },
    {
     "data": {
      "image/png": "[encoded data removed]",
      "text/plain": [
       "<Figure size 432x288 with 1 Axes>"
      ]
     },
     "metadata": {},
     "output_type": "display_data"
    }
   ],
   "source": [
    "plt.scatter(x=range(0,len(corMat_values)),y=corMat_values, s=100)\n",
    "plt.axhline(y=0.5, color='r', linestyle='--', linewidth=4)"
   ]
  },
  {
   "cell_type": "code",
   "execution_count": 52,
   "metadata": {},
   "outputs": [],
   "source": [
    "# ========================================\n",
    "# SAVE CSV\n",
    "# ========================================\n",
    "#df.to_csv('data/df02.csv', sep=\",\")"
   ]
  },
  {
   "cell_type": "code",
   "execution_count": null,
   "metadata": {},
   "outputs": [],
   "source": []
  }
 ],
 "metadata": {
  "kernelspec": {
   "display_name": "Python 3",
   "language": "python",
   "name": "python3"
  },
  "language_info": {
   "codemirror_mode": {
    "name": "ipython",
    "version": 3
   },
   "file_extension": ".py",
   "mimetype": "text/x-python",
   "name": "python",
   "nbconvert_exporter": "python",
   "pygments_lexer": "ipython3",
   "version": "3.6.5"
  }
 },
 "nbformat": 4,
 "nbformat_minor": 2
}
