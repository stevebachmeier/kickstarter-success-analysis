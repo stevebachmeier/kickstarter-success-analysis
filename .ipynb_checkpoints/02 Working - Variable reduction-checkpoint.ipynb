{
 "cells": [
  {
   "cell_type": "code",
   "execution_count": 1,
   "metadata": {},
   "outputs": [],
   "source": [
    "# ========================================\n",
    "# IMPORT LIBRARIES\n",
    "# ========================================\n",
    "import pandas as pd\n",
    "import numpy as np\n",
    "\n",
    "import seaborn as sns\n",
    "import matplotlib.pyplot as plt\n",
    "%matplotlib inline\n",
    "\n",
    "from sklearn.feature_selection import VarianceThreshold"
   ]
  },
  {
   "cell_type": "code",
   "execution_count": 2,
   "metadata": {},
   "outputs": [],
   "source": [
    "# ========================================\n",
    "# IMPORT DATAFRAME\n",
    "# ========================================\n",
    "df = pd.read_csv('data/df01.csv', sep=',', na_filter=False, index_col=0, parse_dates=['launched_at'])"
   ]
  },
  {
   "cell_type": "code",
   "execution_count": 3,
   "metadata": {},
   "outputs": [
    {
     "data": {
      "text/plain": [
       "0"
      ]
     },
     "execution_count": 3,
     "metadata": {},
     "output_type": "execute_result"
    }
   ],
   "source": [
    "df.isnull().sum().sum()"
   ]
  },
  {
   "cell_type": "code",
   "execution_count": 4,
   "metadata": {},
   "outputs": [
    {
     "data": {
      "text/plain": [
       "0"
      ]
     },
     "execution_count": 4,
     "metadata": {},
     "output_type": "execute_result"
    }
   ],
   "source": [
    "df.isna().sum().sum()"
   ]
  },
  {
   "cell_type": "code",
   "execution_count": 13,
   "metadata": {},
   "outputs": [
    {
     "data": {
      "text/plain": [
       "0"
      ]
     },
     "execution_count": 13,
     "metadata": {},
     "output_type": "execute_result"
    }
   ],
   "source": [
    "(df == '').sum().sum()"
   ]
  },
  {
   "cell_type": "code",
   "execution_count": 14,
   "metadata": {},
   "outputs": [
    {
     "data": {
      "text/html": [
       "<div>\n",
       "<style scoped>\n",
       "    .dataframe tbody tr th:only-of-type {\n",
       "        vertical-align: middle;\n",
       "    }\n",
       "\n",
       "    .dataframe tbody tr th {\n",
       "        vertical-align: top;\n",
       "    }\n",
       "\n",
       "    .dataframe thead th {\n",
       "        text-align: right;\n",
       "    }\n",
       "</style>\n",
       "<table border=\"1\" class=\"dataframe\">\n",
       "  <thead>\n",
       "    <tr style=\"text-align: right;\">\n",
       "      <th></th>\n",
       "      <th>launch_state</th>\n",
       "      <th>id</th>\n",
       "      <th>launched_at</th>\n",
       "      <th>category</th>\n",
       "      <th>country</th>\n",
       "      <th>goal</th>\n",
       "      <th>backers_count</th>\n",
       "      <th>pledged_ratio</th>\n",
       "      <th>funding_days</th>\n",
       "      <th>staff_pick</th>\n",
       "      <th>...</th>\n",
       "      <th>VE</th>\n",
       "      <th>VI</th>\n",
       "      <th>VN</th>\n",
       "      <th>VU</th>\n",
       "      <th>WS</th>\n",
       "      <th>XK</th>\n",
       "      <th>YE</th>\n",
       "      <th>ZA</th>\n",
       "      <th>ZM</th>\n",
       "      <th>ZW</th>\n",
       "    </tr>\n",
       "  </thead>\n",
       "  <tbody>\n",
       "    <tr>\n",
       "      <th>0</th>\n",
       "      <td>0</td>\n",
       "      <td>895922629</td>\n",
       "      <td>2014-10-28 19:42:54</td>\n",
       "      <td>technology</td>\n",
       "      <td>US</td>\n",
       "      <td>3500.0</td>\n",
       "      <td>1</td>\n",
       "      <td>0.014286</td>\n",
       "      <td>30</td>\n",
       "      <td>0</td>\n",
       "      <td>...</td>\n",
       "      <td>0</td>\n",
       "      <td>0</td>\n",
       "      <td>0</td>\n",
       "      <td>0</td>\n",
       "      <td>0</td>\n",
       "      <td>0</td>\n",
       "      <td>0</td>\n",
       "      <td>0</td>\n",
       "      <td>0</td>\n",
       "      <td>0</td>\n",
       "    </tr>\n",
       "    <tr>\n",
       "      <th>1</th>\n",
       "      <td>1</td>\n",
       "      <td>1190376005</td>\n",
       "      <td>2011-10-17 18:39:11</td>\n",
       "      <td>games</td>\n",
       "      <td>US</td>\n",
       "      <td>225.0</td>\n",
       "      <td>63</td>\n",
       "      <td>7.170978</td>\n",
       "      <td>16</td>\n",
       "      <td>1</td>\n",
       "      <td>...</td>\n",
       "      <td>0</td>\n",
       "      <td>0</td>\n",
       "      <td>0</td>\n",
       "      <td>0</td>\n",
       "      <td>0</td>\n",
       "      <td>0</td>\n",
       "      <td>0</td>\n",
       "      <td>0</td>\n",
       "      <td>0</td>\n",
       "      <td>0</td>\n",
       "    </tr>\n",
       "  </tbody>\n",
       "</table>\n",
       "<p>2 rows × 213 columns</p>\n",
       "</div>"
      ],
      "text/plain": [
       "   launch_state          id         launched_at    category country    goal  \\\n",
       "0             0   895922629 2014-10-28 19:42:54  technology      US  3500.0   \n",
       "1             1  1190376005 2011-10-17 18:39:11       games      US   225.0   \n",
       "\n",
       "   backers_count  pledged_ratio  funding_days  staff_pick ...  VE  VI  VN  VU  \\\n",
       "0              1       0.014286            30           0 ...   0   0   0   0   \n",
       "1             63       7.170978            16           1 ...   0   0   0   0   \n",
       "\n",
       "   WS  XK  YE  ZA  ZM  ZW  \n",
       "0   0   0   0   0   0   0  \n",
       "1   0   0   0   0   0   0  \n",
       "\n",
       "[2 rows x 213 columns]"
      ]
     },
     "execution_count": 14,
     "metadata": {},
     "output_type": "execute_result"
    }
   ],
   "source": [
    "df.head(2)"
   ]
  },
  {
   "cell_type": "code",
   "execution_count": 16,
   "metadata": {},
   "outputs": [
    {
     "data": {
      "text/plain": [
       "Index(['launch_state', 'id', 'launched_at', 'category', 'country', 'goal',\n",
       "       'backers_count', 'pledged_ratio', 'funding_days', 'staff_pick',\n",
       "       'spotlight', 'comics'],\n",
       "      dtype='object')"
      ]
     },
     "execution_count": 16,
     "metadata": {},
     "output_type": "execute_result"
    }
   ],
   "source": [
    "df.columns[0:12]"
   ]
  },
  {
   "cell_type": "code",
   "execution_count": 17,
   "metadata": {},
   "outputs": [
    {
     "data": {
      "text/plain": [
       "(141447, 213)"
      ]
     },
     "execution_count": 17,
     "metadata": {},
     "output_type": "execute_result"
    }
   ],
   "source": [
    "df.shape"
   ]
  },
  {
   "cell_type": "code",
   "execution_count": 18,
   "metadata": {},
   "outputs": [],
   "source": [
    "# ========================================\n",
    "# VARIABLE REDUCTION\n",
    "# ========================================\n",
    "info_variables = ['id','launched_at','category','country'] # informational variables"
   ]
  },
  {
   "cell_type": "code",
   "execution_count": 19,
   "metadata": {},
   "outputs": [],
   "source": [
    "# ---- ZERO-VARIANCE ----\n",
    "sel = VarianceThreshold(threshold=0.0)"
   ]
  },
  {
   "cell_type": "code",
   "execution_count": 20,
   "metadata": {},
   "outputs": [
    {
     "data": {
      "text/plain": [
       "0"
      ]
     },
     "execution_count": 20,
     "metadata": {},
     "output_type": "execute_result"
    }
   ],
   "source": [
    "sel.fit_transform(X=df.drop(columns=info_variables)).shape[1] - df.drop(columns=info_variables).shape[1]"
   ]
  },
  {
   "cell_type": "code",
   "execution_count": 81,
   "metadata": {},
   "outputs": [],
   "source": [
    "# there are no zero-variance variables"
   ]
  },
  {
   "cell_type": "markdown",
   "metadata": {},
   "source": [
    "*\\# NEAR-ZERO VARIANCE*\n",
    "\n",
    "There is much discussion about whether such variables should be removed - there are times where even very low variance variables have a large effect in predicting the outcome. We will keep these."
   ]
  },
  {
   "cell_type": "code",
   "execution_count": 21,
   "metadata": {},
   "outputs": [],
   "source": [
    "# ---- VARIABLE-OUTCOME CORRELATIONS ----\n",
    "corr_threshold = 0.5"
   ]
  },
  {
   "cell_type": "code",
   "execution_count": 22,
   "metadata": {},
   "outputs": [
    {
     "data": {
      "text/plain": [
       "goal            -0.034705\n",
       "backers_count    0.114009\n",
       "pledged_ratio    0.016432\n",
       "funding_days    -0.092032\n",
       "staff_pick       0.250847\n",
       "spotlight        1.000000\n",
       "comics           0.103385\n",
       "crafts          -0.044790\n",
       "dance            0.064375\n",
       "design           0.026660\n",
       "fashion          0.016618\n",
       "film & video     0.009035\n",
       "food            -0.129185\n",
       "games            0.020691\n",
       "journalism      -0.093706\n",
       "music            0.075755\n",
       "photography     -0.026154\n",
       "publishing       0.085618\n",
       "technology      -0.145274\n",
       "theater          0.066612\n",
       "AF               0.003266\n",
       "AG              -0.000604\n",
       "AL              -0.000604\n",
       "AM              -0.003112\n",
       "AQ              -0.000112\n",
       "AR               0.003216\n",
       "AT              -0.011586\n",
       "AU              -0.042694\n",
       "AX               0.002266\n",
       "AZ              -0.003120\n",
       "                   ...   \n",
       "SR              -0.000604\n",
       "SS               0.000815\n",
       "SV              -0.000159\n",
       "SX              -0.004413\n",
       "SY               0.002658\n",
       "SZ               0.003925\n",
       "TC              -0.004413\n",
       "TH              -0.003686\n",
       "TL               0.002266\n",
       "TN              -0.001046\n",
       "TO              -0.005404\n",
       "TR               0.000150\n",
       "TT               0.000249\n",
       "TW               0.000781\n",
       "TZ               0.000981\n",
       "UA              -0.007740\n",
       "UG              -0.001567\n",
       "US               0.083532\n",
       "UY               0.000249\n",
       "VC              -0.003120\n",
       "VE              -0.003035\n",
       "VI              -0.002229\n",
       "VN              -0.004811\n",
       "VU               0.003925\n",
       "WS              -0.003120\n",
       "XK               0.003925\n",
       "YE               0.000815\n",
       "ZA              -0.000646\n",
       "ZM              -0.002179\n",
       "ZW              -0.005770\n",
       "Name: launch_state, Length: 208, dtype: float64"
      ]
     },
     "execution_count": 22,
     "metadata": {},
     "output_type": "execute_result"
    }
   ],
   "source": [
    "df.drop(columns=info_variables).corr().drop(columns='launch_state').iloc[0]"
   ]
  },
  {
   "cell_type": "code",
   "execution_count": 23,
   "metadata": {},
   "outputs": [],
   "source": [
    "df_corr_variable_outcome = pd.DataFrame(abs(df.drop(columns=info_variables).corr().drop(columns='launch_state').iloc[0])).reset_index()"
   ]
  },
  {
   "cell_type": "code",
   "execution_count": 24,
   "metadata": {},
   "outputs": [],
   "source": [
    "df_corr_variable_outcome.columns = ['variable','corr_launch_state']"
   ]
  },
  {
   "cell_type": "code",
   "execution_count": 25,
   "metadata": {},
   "outputs": [
    {
     "data": {
      "text/html": [
       "<div>\n",
       "<style scoped>\n",
       "    .dataframe tbody tr th:only-of-type {\n",
       "        vertical-align: middle;\n",
       "    }\n",
       "\n",
       "    .dataframe tbody tr th {\n",
       "        vertical-align: top;\n",
       "    }\n",
       "\n",
       "    .dataframe thead th {\n",
       "        text-align: right;\n",
       "    }\n",
       "</style>\n",
       "<table border=\"1\" class=\"dataframe\">\n",
       "  <thead>\n",
       "    <tr style=\"text-align: right;\">\n",
       "      <th></th>\n",
       "      <th>variable</th>\n",
       "      <th>corr_launch_state</th>\n",
       "    </tr>\n",
       "  </thead>\n",
       "  <tbody>\n",
       "    <tr>\n",
       "      <th>0</th>\n",
       "      <td>goal</td>\n",
       "      <td>0.034705</td>\n",
       "    </tr>\n",
       "    <tr>\n",
       "      <th>1</th>\n",
       "      <td>backers_count</td>\n",
       "      <td>0.114009</td>\n",
       "    </tr>\n",
       "    <tr>\n",
       "      <th>2</th>\n",
       "      <td>pledged_ratio</td>\n",
       "      <td>0.016432</td>\n",
       "    </tr>\n",
       "    <tr>\n",
       "      <th>3</th>\n",
       "      <td>funding_days</td>\n",
       "      <td>0.092032</td>\n",
       "    </tr>\n",
       "    <tr>\n",
       "      <th>4</th>\n",
       "      <td>staff_pick</td>\n",
       "      <td>0.250847</td>\n",
       "    </tr>\n",
       "  </tbody>\n",
       "</table>\n",
       "</div>"
      ],
      "text/plain": [
       "        variable  corr_launch_state\n",
       "0           goal           0.034705\n",
       "1  backers_count           0.114009\n",
       "2  pledged_ratio           0.016432\n",
       "3   funding_days           0.092032\n",
       "4     staff_pick           0.250847"
      ]
     },
     "execution_count": 25,
     "metadata": {},
     "output_type": "execute_result"
    }
   ],
   "source": [
    "df_corr_variable_outcome.head()"
   ]
  },
  {
   "cell_type": "code",
   "execution_count": 26,
   "metadata": {},
   "outputs": [
    {
     "data": {
      "text/html": [
       "<div>\n",
       "<style scoped>\n",
       "    .dataframe tbody tr th:only-of-type {\n",
       "        vertical-align: middle;\n",
       "    }\n",
       "\n",
       "    .dataframe tbody tr th {\n",
       "        vertical-align: top;\n",
       "    }\n",
       "\n",
       "    .dataframe thead th {\n",
       "        text-align: right;\n",
       "    }\n",
       "</style>\n",
       "<table border=\"1\" class=\"dataframe\">\n",
       "  <thead>\n",
       "    <tr style=\"text-align: right;\">\n",
       "      <th></th>\n",
       "      <th>variable</th>\n",
       "      <th>corr_launch_state</th>\n",
       "    </tr>\n",
       "  </thead>\n",
       "  <tbody>\n",
       "    <tr>\n",
       "      <th>5</th>\n",
       "      <td>spotlight</td>\n",
       "      <td>1.000000</td>\n",
       "    </tr>\n",
       "    <tr>\n",
       "      <th>4</th>\n",
       "      <td>staff_pick</td>\n",
       "      <td>0.250847</td>\n",
       "    </tr>\n",
       "    <tr>\n",
       "      <th>18</th>\n",
       "      <td>technology</td>\n",
       "      <td>0.145274</td>\n",
       "    </tr>\n",
       "    <tr>\n",
       "      <th>12</th>\n",
       "      <td>food</td>\n",
       "      <td>0.129185</td>\n",
       "    </tr>\n",
       "    <tr>\n",
       "      <th>1</th>\n",
       "      <td>backers_count</td>\n",
       "      <td>0.114009</td>\n",
       "    </tr>\n",
       "  </tbody>\n",
       "</table>\n",
       "</div>"
      ],
      "text/plain": [
       "         variable  corr_launch_state\n",
       "5       spotlight           1.000000\n",
       "4      staff_pick           0.250847\n",
       "18     technology           0.145274\n",
       "12           food           0.129185\n",
       "1   backers_count           0.114009"
      ]
     },
     "execution_count": 26,
     "metadata": {},
     "output_type": "execute_result"
    }
   ],
   "source": [
    "df_corr_variable_outcome.sort_values(by='corr_launch_state', ascending=False).head()"
   ]
  },
  {
   "cell_type": "code",
   "execution_count": 27,
   "metadata": {},
   "outputs": [],
   "source": [
    "# Looks like we do have some high correlation."
   ]
  },
  {
   "cell_type": "code",
   "execution_count": 28,
   "metadata": {},
   "outputs": [
    {
     "data": {
      "text/plain": [
       "<matplotlib.lines.Line2D at 0x22e8f2f8ac8>"
      ]
     },
     "execution_count": 28,
     "metadata": {},
     "output_type": "execute_result"
    },
    {
     "data": {
      "image/png": "[encoded data removed]",
      "text/plain": [
       "<Figure size 432x288 with 1 Axes>"
      ]
     },
     "metadata": {},
     "output_type": "display_data"
    }
   ],
   "source": [
    "plt.scatter(x=df_corr_variable_outcome.index,y=df_corr_variable_outcome['corr_launch_state'], s=100)\n",
    "plt.axhline(y=0.5, color='r', linestyle='--', linewidth=4)"
   ]
  },
  {
   "cell_type": "code",
   "execution_count": 29,
   "metadata": {},
   "outputs": [
    {
     "data": {
      "text/plain": [
       "5    spotlight\n",
       "Name: variable, dtype: object"
      ]
     },
     "execution_count": 29,
     "metadata": {},
     "output_type": "execute_result"
    }
   ],
   "source": [
    "df_corr_variable_outcome[df_corr_variable_outcome['corr_launch_state'] > 0.5]['variable']"
   ]
  },
  {
   "cell_type": "code",
   "execution_count": 30,
   "metadata": {},
   "outputs": [],
   "source": [
    "# The only variable of interest here is spotlight. From https://techcrunch.com/2015/03/25/kickstarter-spotlight/, \n",
    "# we see that spotlight happens for successfully funded projects and acts as a way to update the project timeline.\n",
    "# It clearly does nothing in helping predict funding success; drop it."
   ]
  },
  {
   "cell_type": "code",
   "execution_count": 31,
   "metadata": {},
   "outputs": [
    {
     "data": {
      "text/plain": [
       "(213,)"
      ]
     },
     "execution_count": 31,
     "metadata": {},
     "output_type": "execute_result"
    }
   ],
   "source": [
    "df.columns.shape"
   ]
  },
  {
   "cell_type": "code",
   "execution_count": 32,
   "metadata": {},
   "outputs": [
    {
     "data": {
      "text/plain": [
       "Index(['launch_state', 'id', 'launched_at', 'category', 'country', 'goal',\n",
       "       'backers_count', 'pledged_ratio', 'funding_days', 'staff_pick',\n",
       "       'spotlight', 'comics', 'crafts', 'dance'],\n",
       "      dtype='object')"
      ]
     },
     "execution_count": 32,
     "metadata": {},
     "output_type": "execute_result"
    }
   ],
   "source": [
    "df.columns[0:14]"
   ]
  },
  {
   "cell_type": "code",
   "execution_count": 33,
   "metadata": {},
   "outputs": [],
   "source": [
    "df.drop(columns='spotlight', inplace=True)"
   ]
  },
  {
   "cell_type": "code",
   "execution_count": 34,
   "metadata": {},
   "outputs": [
    {
     "data": {
      "text/plain": [
       "(141447, 212)"
      ]
     },
     "execution_count": 34,
     "metadata": {},
     "output_type": "execute_result"
    }
   ],
   "source": [
    "df.shape"
   ]
  },
  {
   "cell_type": "code",
   "execution_count": 37,
   "metadata": {},
   "outputs": [
    {
     "data": {
      "text/plain": [
       "Index(['launch_state', 'id', 'launched_at', 'category', 'country', 'goal',\n",
       "       'backers_count', 'pledged_ratio', 'funding_days', 'staff_pick',\n",
       "       'comics'],\n",
       "      dtype='object')"
      ]
     },
     "execution_count": 37,
     "metadata": {},
     "output_type": "execute_result"
    }
   ],
   "source": [
    "df.columns[0:11]"
   ]
  },
  {
   "cell_type": "code",
   "execution_count": 29,
   "metadata": {},
   "outputs": [],
   "source": [
    "# Variable-variable correlation data"
   ]
  },
  {
   "cell_type": "code",
   "execution_count": 38,
   "metadata": {},
   "outputs": [
    {
     "data": {
      "text/plain": [
       "Index(['launch_state', 'id', 'launched_at', 'category', 'country', 'goal',\n",
       "       'backers_count', 'pledged_ratio', 'funding_days', 'staff_pick',\n",
       "       ...\n",
       "       'VE', 'VI', 'VN', 'VU', 'WS', 'XK', 'YE', 'ZA', 'ZM', 'ZW'],\n",
       "      dtype='object', length=212)"
      ]
     },
     "execution_count": 38,
     "metadata": {},
     "output_type": "execute_result"
    }
   ],
   "source": [
    "df.columns"
   ]
  },
  {
   "cell_type": "code",
   "execution_count": 39,
   "metadata": {},
   "outputs": [
    {
     "data": {
      "text/plain": [
       "Index(['goal', 'backers_count', 'pledged_ratio', 'funding_days', 'staff_pick',\n",
       "       'comics', 'crafts', 'dance', 'design', 'fashion',\n",
       "       ...\n",
       "       'VE', 'VI', 'VN', 'VU', 'WS', 'XK', 'YE', 'ZA', 'ZM', 'ZW'],\n",
       "      dtype='object', length=207)"
      ]
     },
     "execution_count": 39,
     "metadata": {},
     "output_type": "execute_result"
    }
   ],
   "source": [
    "df.drop(columns=info_variables).drop(columns='launch_state').columns"
   ]
  },
  {
   "cell_type": "code",
   "execution_count": 40,
   "metadata": {},
   "outputs": [],
   "source": [
    "corMat = abs(df.drop(columns=info_variables).drop(columns='launch_state').corr())"
   ]
  },
  {
   "cell_type": "code",
   "execution_count": 41,
   "metadata": {},
   "outputs": [
    {
     "data": {
      "text/plain": [
       "(207, 207)"
      ]
     },
     "execution_count": 41,
     "metadata": {},
     "output_type": "execute_result"
    }
   ],
   "source": [
    "corMat.shape"
   ]
  },
  {
   "cell_type": "code",
   "execution_count": 42,
   "metadata": {},
   "outputs": [
    {
     "data": {
      "text/plain": [
       "(141447, 212)"
      ]
     },
     "execution_count": 42,
     "metadata": {},
     "output_type": "execute_result"
    }
   ],
   "source": [
    "df.shape"
   ]
  },
  {
   "cell_type": "code",
   "execution_count": 43,
   "metadata": {},
   "outputs": [
    {
     "data": {
      "text/html": [
       "<div>\n",
       "<style scoped>\n",
       "    .dataframe tbody tr th:only-of-type {\n",
       "        vertical-align: middle;\n",
       "    }\n",
       "\n",
       "    .dataframe tbody tr th {\n",
       "        vertical-align: top;\n",
       "    }\n",
       "\n",
       "    .dataframe thead th {\n",
       "        text-align: right;\n",
       "    }\n",
       "</style>\n",
       "<table border=\"1\" class=\"dataframe\">\n",
       "  <thead>\n",
       "    <tr style=\"text-align: right;\">\n",
       "      <th></th>\n",
       "      <th>goal</th>\n",
       "      <th>backers_count</th>\n",
       "      <th>pledged_ratio</th>\n",
       "      <th>funding_days</th>\n",
       "      <th>staff_pick</th>\n",
       "      <th>comics</th>\n",
       "      <th>crafts</th>\n",
       "      <th>dance</th>\n",
       "      <th>design</th>\n",
       "      <th>fashion</th>\n",
       "      <th>...</th>\n",
       "      <th>VE</th>\n",
       "      <th>VI</th>\n",
       "      <th>VN</th>\n",
       "      <th>VU</th>\n",
       "      <th>WS</th>\n",
       "      <th>XK</th>\n",
       "      <th>YE</th>\n",
       "      <th>ZA</th>\n",
       "      <th>ZM</th>\n",
       "      <th>ZW</th>\n",
       "    </tr>\n",
       "  </thead>\n",
       "  <tbody>\n",
       "    <tr>\n",
       "      <th>goal</th>\n",
       "      <td>1.000000</td>\n",
       "      <td>0.009843</td>\n",
       "      <td>0.000706</td>\n",
       "      <td>0.024363</td>\n",
       "      <td>0.006198</td>\n",
       "      <td>0.006645</td>\n",
       "      <td>0.005060</td>\n",
       "      <td>0.004416</td>\n",
       "      <td>0.003055</td>\n",
       "      <td>0.005542</td>\n",
       "      <td>...</td>\n",
       "      <td>0.000271</td>\n",
       "      <td>0.000100</td>\n",
       "      <td>0.000419</td>\n",
       "      <td>0.000150</td>\n",
       "      <td>0.000088</td>\n",
       "      <td>0.000152</td>\n",
       "      <td>0.000146</td>\n",
       "      <td>0.000720</td>\n",
       "      <td>0.000268</td>\n",
       "      <td>0.000251</td>\n",
       "    </tr>\n",
       "    <tr>\n",
       "      <th>backers_count</th>\n",
       "      <td>0.009843</td>\n",
       "      <td>1.000000</td>\n",
       "      <td>0.011010</td>\n",
       "      <td>0.006251</td>\n",
       "      <td>0.152675</td>\n",
       "      <td>0.011935</td>\n",
       "      <td>0.017957</td>\n",
       "      <td>0.012615</td>\n",
       "      <td>0.039037</td>\n",
       "      <td>0.000767</td>\n",
       "      <td>...</td>\n",
       "      <td>0.001221</td>\n",
       "      <td>0.001042</td>\n",
       "      <td>0.001424</td>\n",
       "      <td>0.000417</td>\n",
       "      <td>0.000265</td>\n",
       "      <td>0.000116</td>\n",
       "      <td>0.000268</td>\n",
       "      <td>0.000808</td>\n",
       "      <td>0.000864</td>\n",
       "      <td>0.000979</td>\n",
       "    </tr>\n",
       "    <tr>\n",
       "      <th>pledged_ratio</th>\n",
       "      <td>0.000706</td>\n",
       "      <td>0.011010</td>\n",
       "      <td>1.000000</td>\n",
       "      <td>0.004325</td>\n",
       "      <td>0.001162</td>\n",
       "      <td>0.007895</td>\n",
       "      <td>0.000795</td>\n",
       "      <td>0.001976</td>\n",
       "      <td>0.000234</td>\n",
       "      <td>0.001767</td>\n",
       "      <td>...</td>\n",
       "      <td>0.000157</td>\n",
       "      <td>0.000148</td>\n",
       "      <td>0.000218</td>\n",
       "      <td>0.000064</td>\n",
       "      <td>0.000043</td>\n",
       "      <td>0.000061</td>\n",
       "      <td>0.000073</td>\n",
       "      <td>0.000402</td>\n",
       "      <td>0.000134</td>\n",
       "      <td>0.000146</td>\n",
       "    </tr>\n",
       "    <tr>\n",
       "      <th>funding_days</th>\n",
       "      <td>0.024363</td>\n",
       "      <td>0.006251</td>\n",
       "      <td>0.004325</td>\n",
       "      <td>1.000000</td>\n",
       "      <td>0.007202</td>\n",
       "      <td>0.019172</td>\n",
       "      <td>0.035825</td>\n",
       "      <td>0.017790</td>\n",
       "      <td>0.005422</td>\n",
       "      <td>0.038868</td>\n",
       "      <td>...</td>\n",
       "      <td>0.007357</td>\n",
       "      <td>0.002513</td>\n",
       "      <td>0.001263</td>\n",
       "      <td>0.003162</td>\n",
       "      <td>0.000069</td>\n",
       "      <td>0.002068</td>\n",
       "      <td>0.001699</td>\n",
       "      <td>0.002322</td>\n",
       "      <td>0.000557</td>\n",
       "      <td>0.002881</td>\n",
       "    </tr>\n",
       "    <tr>\n",
       "      <th>staff_pick</th>\n",
       "      <td>0.006198</td>\n",
       "      <td>0.152675</td>\n",
       "      <td>0.001162</td>\n",
       "      <td>0.007202</td>\n",
       "      <td>1.000000</td>\n",
       "      <td>0.087722</td>\n",
       "      <td>0.020574</td>\n",
       "      <td>0.034634</td>\n",
       "      <td>0.013338</td>\n",
       "      <td>0.021632</td>\n",
       "      <td>...</td>\n",
       "      <td>0.003641</td>\n",
       "      <td>0.003486</td>\n",
       "      <td>0.000971</td>\n",
       "      <td>0.002670</td>\n",
       "      <td>0.006727</td>\n",
       "      <td>0.002670</td>\n",
       "      <td>0.001820</td>\n",
       "      <td>0.002328</td>\n",
       "      <td>0.003153</td>\n",
       "      <td>0.002032</td>\n",
       "    </tr>\n",
       "  </tbody>\n",
       "</table>\n",
       "<p>5 rows × 207 columns</p>\n",
       "</div>"
      ],
      "text/plain": [
       "                   goal  backers_count  pledged_ratio  funding_days  \\\n",
       "goal           1.000000       0.009843       0.000706      0.024363   \n",
       "backers_count  0.009843       1.000000       0.011010      0.006251   \n",
       "pledged_ratio  0.000706       0.011010       1.000000      0.004325   \n",
       "funding_days   0.024363       0.006251       0.004325      1.000000   \n",
       "staff_pick     0.006198       0.152675       0.001162      0.007202   \n",
       "\n",
       "               staff_pick    comics    crafts     dance    design   fashion  \\\n",
       "goal             0.006198  0.006645  0.005060  0.004416  0.003055  0.005542   \n",
       "backers_count    0.152675  0.011935  0.017957  0.012615  0.039037  0.000767   \n",
       "pledged_ratio    0.001162  0.007895  0.000795  0.001976  0.000234  0.001767   \n",
       "funding_days     0.007202  0.019172  0.035825  0.017790  0.005422  0.038868   \n",
       "staff_pick       1.000000  0.087722  0.020574  0.034634  0.013338  0.021632   \n",
       "\n",
       "                 ...           VE        VI        VN        VU        WS  \\\n",
       "goal             ...     0.000271  0.000100  0.000419  0.000150  0.000088   \n",
       "backers_count    ...     0.001221  0.001042  0.001424  0.000417  0.000265   \n",
       "pledged_ratio    ...     0.000157  0.000148  0.000218  0.000064  0.000043   \n",
       "funding_days     ...     0.007357  0.002513  0.001263  0.003162  0.000069   \n",
       "staff_pick       ...     0.003641  0.003486  0.000971  0.002670  0.006727   \n",
       "\n",
       "                     XK        YE        ZA        ZM        ZW  \n",
       "goal           0.000152  0.000146  0.000720  0.000268  0.000251  \n",
       "backers_count  0.000116  0.000268  0.000808  0.000864  0.000979  \n",
       "pledged_ratio  0.000061  0.000073  0.000402  0.000134  0.000146  \n",
       "funding_days   0.002068  0.001699  0.002322  0.000557  0.002881  \n",
       "staff_pick     0.002670  0.001820  0.002328  0.003153  0.002032  \n",
       "\n",
       "[5 rows x 207 columns]"
      ]
     },
     "execution_count": 43,
     "metadata": {},
     "output_type": "execute_result"
    }
   ],
   "source": [
    "corMat.head()"
   ]
  },
  {
   "cell_type": "code",
   "execution_count": 44,
   "metadata": {},
   "outputs": [
    {
     "data": {
      "text/plain": [
       "Index(['launch_state', 'id', 'launched_at', 'category', 'country', 'goal',\n",
       "       'backers_count', 'pledged_ratio', 'funding_days', 'staff_pick',\n",
       "       'comics'],\n",
       "      dtype='object')"
      ]
     },
     "execution_count": 44,
     "metadata": {},
     "output_type": "execute_result"
    }
   ],
   "source": [
    "df.columns[0:11]"
   ]
  },
  {
   "cell_type": "code",
   "execution_count": 45,
   "metadata": {},
   "outputs": [
    {
     "data": {
      "text/plain": [
       "Index(['goal', 'backers_count', 'pledged_ratio', 'funding_days', 'staff_pick',\n",
       "       'comics'],\n",
       "      dtype='object')"
      ]
     },
     "execution_count": 45,
     "metadata": {},
     "output_type": "execute_result"
    }
   ],
   "source": [
    "corMat.columns[0:6]"
   ]
  },
  {
   "cell_type": "code",
   "execution_count": 46,
   "metadata": {},
   "outputs": [],
   "source": [
    "# df = df.where(np.triu(np.ones(df.shape)).astype(np.bool))\n",
    "corMat_upper = corMat.where(np.triu(np.ones(corMat.shape), k=1).astype(np.bool))"
   ]
  },
  {
   "cell_type": "code",
   "execution_count": 47,
   "metadata": {},
   "outputs": [
    {
     "data": {
      "text/html": [
       "<div>\n",
       "<style scoped>\n",
       "    .dataframe tbody tr th:only-of-type {\n",
       "        vertical-align: middle;\n",
       "    }\n",
       "\n",
       "    .dataframe tbody tr th {\n",
       "        vertical-align: top;\n",
       "    }\n",
       "\n",
       "    .dataframe thead th {\n",
       "        text-align: right;\n",
       "    }\n",
       "</style>\n",
       "<table border=\"1\" class=\"dataframe\">\n",
       "  <thead>\n",
       "    <tr style=\"text-align: right;\">\n",
       "      <th></th>\n",
       "      <th>goal</th>\n",
       "      <th>backers_count</th>\n",
       "      <th>pledged_ratio</th>\n",
       "      <th>funding_days</th>\n",
       "      <th>staff_pick</th>\n",
       "      <th>comics</th>\n",
       "      <th>crafts</th>\n",
       "      <th>dance</th>\n",
       "      <th>design</th>\n",
       "      <th>fashion</th>\n",
       "      <th>...</th>\n",
       "      <th>VE</th>\n",
       "      <th>VI</th>\n",
       "      <th>VN</th>\n",
       "      <th>VU</th>\n",
       "      <th>WS</th>\n",
       "      <th>XK</th>\n",
       "      <th>YE</th>\n",
       "      <th>ZA</th>\n",
       "      <th>ZM</th>\n",
       "      <th>ZW</th>\n",
       "    </tr>\n",
       "  </thead>\n",
       "  <tbody>\n",
       "    <tr>\n",
       "      <th>goal</th>\n",
       "      <td>NaN</td>\n",
       "      <td>0.009843</td>\n",
       "      <td>0.000706</td>\n",
       "      <td>0.024363</td>\n",
       "      <td>0.006198</td>\n",
       "      <td>0.006645</td>\n",
       "      <td>0.005060</td>\n",
       "      <td>0.004416</td>\n",
       "      <td>0.003055</td>\n",
       "      <td>0.005542</td>\n",
       "      <td>...</td>\n",
       "      <td>0.000271</td>\n",
       "      <td>0.000100</td>\n",
       "      <td>0.000419</td>\n",
       "      <td>0.000150</td>\n",
       "      <td>0.000088</td>\n",
       "      <td>0.000152</td>\n",
       "      <td>0.000146</td>\n",
       "      <td>0.000720</td>\n",
       "      <td>0.000268</td>\n",
       "      <td>0.000251</td>\n",
       "    </tr>\n",
       "    <tr>\n",
       "      <th>backers_count</th>\n",
       "      <td>NaN</td>\n",
       "      <td>NaN</td>\n",
       "      <td>0.011010</td>\n",
       "      <td>0.006251</td>\n",
       "      <td>0.152675</td>\n",
       "      <td>0.011935</td>\n",
       "      <td>0.017957</td>\n",
       "      <td>0.012615</td>\n",
       "      <td>0.039037</td>\n",
       "      <td>0.000767</td>\n",
       "      <td>...</td>\n",
       "      <td>0.001221</td>\n",
       "      <td>0.001042</td>\n",
       "      <td>0.001424</td>\n",
       "      <td>0.000417</td>\n",
       "      <td>0.000265</td>\n",
       "      <td>0.000116</td>\n",
       "      <td>0.000268</td>\n",
       "      <td>0.000808</td>\n",
       "      <td>0.000864</td>\n",
       "      <td>0.000979</td>\n",
       "    </tr>\n",
       "    <tr>\n",
       "      <th>pledged_ratio</th>\n",
       "      <td>NaN</td>\n",
       "      <td>NaN</td>\n",
       "      <td>NaN</td>\n",
       "      <td>0.004325</td>\n",
       "      <td>0.001162</td>\n",
       "      <td>0.007895</td>\n",
       "      <td>0.000795</td>\n",
       "      <td>0.001976</td>\n",
       "      <td>0.000234</td>\n",
       "      <td>0.001767</td>\n",
       "      <td>...</td>\n",
       "      <td>0.000157</td>\n",
       "      <td>0.000148</td>\n",
       "      <td>0.000218</td>\n",
       "      <td>0.000064</td>\n",
       "      <td>0.000043</td>\n",
       "      <td>0.000061</td>\n",
       "      <td>0.000073</td>\n",
       "      <td>0.000402</td>\n",
       "      <td>0.000134</td>\n",
       "      <td>0.000146</td>\n",
       "    </tr>\n",
       "    <tr>\n",
       "      <th>funding_days</th>\n",
       "      <td>NaN</td>\n",
       "      <td>NaN</td>\n",
       "      <td>NaN</td>\n",
       "      <td>NaN</td>\n",
       "      <td>0.007202</td>\n",
       "      <td>0.019172</td>\n",
       "      <td>0.035825</td>\n",
       "      <td>0.017790</td>\n",
       "      <td>0.005422</td>\n",
       "      <td>0.038868</td>\n",
       "      <td>...</td>\n",
       "      <td>0.007357</td>\n",
       "      <td>0.002513</td>\n",
       "      <td>0.001263</td>\n",
       "      <td>0.003162</td>\n",
       "      <td>0.000069</td>\n",
       "      <td>0.002068</td>\n",
       "      <td>0.001699</td>\n",
       "      <td>0.002322</td>\n",
       "      <td>0.000557</td>\n",
       "      <td>0.002881</td>\n",
       "    </tr>\n",
       "    <tr>\n",
       "      <th>staff_pick</th>\n",
       "      <td>NaN</td>\n",
       "      <td>NaN</td>\n",
       "      <td>NaN</td>\n",
       "      <td>NaN</td>\n",
       "      <td>NaN</td>\n",
       "      <td>0.087722</td>\n",
       "      <td>0.020574</td>\n",
       "      <td>0.034634</td>\n",
       "      <td>0.013338</td>\n",
       "      <td>0.021632</td>\n",
       "      <td>...</td>\n",
       "      <td>0.003641</td>\n",
       "      <td>0.003486</td>\n",
       "      <td>0.000971</td>\n",
       "      <td>0.002670</td>\n",
       "      <td>0.006727</td>\n",
       "      <td>0.002670</td>\n",
       "      <td>0.001820</td>\n",
       "      <td>0.002328</td>\n",
       "      <td>0.003153</td>\n",
       "      <td>0.002032</td>\n",
       "    </tr>\n",
       "  </tbody>\n",
       "</table>\n",
       "<p>5 rows × 207 columns</p>\n",
       "</div>"
      ],
      "text/plain": [
       "               goal  backers_count  pledged_ratio  funding_days  staff_pick  \\\n",
       "goal            NaN       0.009843       0.000706      0.024363    0.006198   \n",
       "backers_count   NaN            NaN       0.011010      0.006251    0.152675   \n",
       "pledged_ratio   NaN            NaN            NaN      0.004325    0.001162   \n",
       "funding_days    NaN            NaN            NaN           NaN    0.007202   \n",
       "staff_pick      NaN            NaN            NaN           NaN         NaN   \n",
       "\n",
       "                 comics    crafts     dance    design   fashion    ...     \\\n",
       "goal           0.006645  0.005060  0.004416  0.003055  0.005542    ...      \n",
       "backers_count  0.011935  0.017957  0.012615  0.039037  0.000767    ...      \n",
       "pledged_ratio  0.007895  0.000795  0.001976  0.000234  0.001767    ...      \n",
       "funding_days   0.019172  0.035825  0.017790  0.005422  0.038868    ...      \n",
       "staff_pick     0.087722  0.020574  0.034634  0.013338  0.021632    ...      \n",
       "\n",
       "                     VE        VI        VN        VU        WS        XK  \\\n",
       "goal           0.000271  0.000100  0.000419  0.000150  0.000088  0.000152   \n",
       "backers_count  0.001221  0.001042  0.001424  0.000417  0.000265  0.000116   \n",
       "pledged_ratio  0.000157  0.000148  0.000218  0.000064  0.000043  0.000061   \n",
       "funding_days   0.007357  0.002513  0.001263  0.003162  0.000069  0.002068   \n",
       "staff_pick     0.003641  0.003486  0.000971  0.002670  0.006727  0.002670   \n",
       "\n",
       "                     YE        ZA        ZM        ZW  \n",
       "goal           0.000146  0.000720  0.000268  0.000251  \n",
       "backers_count  0.000268  0.000808  0.000864  0.000979  \n",
       "pledged_ratio  0.000073  0.000402  0.000134  0.000146  \n",
       "funding_days   0.001699  0.002322  0.000557  0.002881  \n",
       "staff_pick     0.001820  0.002328  0.003153  0.002032  \n",
       "\n",
       "[5 rows x 207 columns]"
      ]
     },
     "execution_count": 47,
     "metadata": {},
     "output_type": "execute_result"
    }
   ],
   "source": [
    "corMat_upper.head()"
   ]
  },
  {
   "cell_type": "code",
   "execution_count": 48,
   "metadata": {},
   "outputs": [
    {
     "data": {
      "text/plain": [
       "1.0"
      ]
     },
     "execution_count": 48,
     "metadata": {},
     "output_type": "execute_result"
    }
   ],
   "source": [
    "corMat.max().max()"
   ]
  },
  {
   "cell_type": "code",
   "execution_count": 49,
   "metadata": {},
   "outputs": [
    {
     "data": {
      "text/plain": [
       "0.5434833044701914"
      ]
     },
     "execution_count": 49,
     "metadata": {},
     "output_type": "execute_result"
    }
   ],
   "source": [
    "corMat_upper.max().max()"
   ]
  },
  {
   "cell_type": "code",
   "execution_count": 50,
   "metadata": {},
   "outputs": [
    {
     "data": {
      "text/plain": [
       "US  GB    0.543483\n",
       "dtype: float64"
      ]
     },
     "execution_count": 50,
     "metadata": {},
     "output_type": "execute_result"
    }
   ],
   "source": [
    "corMat_upper.unstack().sort_values(kind='quicksort')[corMat_upper.unstack().sort_values(kind='quicksort') > .5]"
   ]
  },
  {
   "cell_type": "code",
   "execution_count": 51,
   "metadata": {},
   "outputs": [],
   "source": [
    "# It looks like the countries US and GB are highly correlated."
   ]
  },
  {
   "cell_type": "code",
   "execution_count": 52,
   "metadata": {},
   "outputs": [
    {
     "data": {
      "text/plain": [
       "107797"
      ]
     },
     "execution_count": 52,
     "metadata": {},
     "output_type": "execute_result"
    }
   ],
   "source": [
    "df[df['country'] == 'US'].shape[0]"
   ]
  },
  {
   "cell_type": "code",
   "execution_count": 53,
   "metadata": {},
   "outputs": [
    {
     "data": {
      "text/plain": [
       "11941"
      ]
     },
     "execution_count": 53,
     "metadata": {},
     "output_type": "execute_result"
    }
   ],
   "source": [
    "df[df['country'] == 'GB'].shape[0]"
   ]
  },
  {
   "cell_type": "code",
   "execution_count": 54,
   "metadata": {},
   "outputs": [
    {
     "data": {
      "text/plain": [
       "9.027468386232309"
      ]
     },
     "execution_count": 54,
     "metadata": {},
     "output_type": "execute_result"
    }
   ],
   "source": [
    "df[df['country'] == 'US'].shape[0] / df[df['country'] == 'GB'].shape[0]"
   ]
  },
  {
   "cell_type": "code",
   "execution_count": 61,
   "metadata": {},
   "outputs": [],
   "source": [
    "# There are ~9x more US projects than GB"
   ]
  },
  {
   "cell_type": "code",
   "execution_count": 57,
   "metadata": {
    "scrolled": true
   },
   "outputs": [
    {
     "data": {
      "text/plain": [
       "107797"
      ]
     },
     "execution_count": 57,
     "metadata": {},
     "output_type": "execute_result"
    }
   ],
   "source": [
    "df[df['country'] == 'US'].shape[0]"
   ]
  },
  {
   "cell_type": "code",
   "execution_count": 58,
   "metadata": {},
   "outputs": [
    {
     "data": {
      "text/plain": [
       "107797"
      ]
     },
     "execution_count": 58,
     "metadata": {},
     "output_type": "execute_result"
    }
   ],
   "source": [
    "df[df['US'] == 1].shape[0]"
   ]
  },
  {
   "cell_type": "code",
   "execution_count": 59,
   "metadata": {},
   "outputs": [
    {
     "data": {
      "text/plain": [
       "11941"
      ]
     },
     "execution_count": 59,
     "metadata": {},
     "output_type": "execute_result"
    }
   ],
   "source": [
    "df[df['country'] == 'GB'].shape[0]"
   ]
  },
  {
   "cell_type": "code",
   "execution_count": 60,
   "metadata": {},
   "outputs": [
    {
     "data": {
      "text/plain": [
       "11941"
      ]
     },
     "execution_count": 60,
     "metadata": {},
     "output_type": "execute_result"
    }
   ],
   "source": [
    "df[df['GB'] == 1].shape[0]"
   ]
  },
  {
   "cell_type": "code",
   "execution_count": 62,
   "metadata": {},
   "outputs": [],
   "source": [
    "# While seemingly correlated, it doesn't actually make sense to drop one country because it's correlated with another. Let's keep everything!"
   ]
  },
  {
   "cell_type": "code",
   "execution_count": 63,
   "metadata": {},
   "outputs": [
    {
     "data": {
      "text/html": [
       "<div>\n",
       "<style scoped>\n",
       "    .dataframe tbody tr th:only-of-type {\n",
       "        vertical-align: middle;\n",
       "    }\n",
       "\n",
       "    .dataframe tbody tr th {\n",
       "        vertical-align: top;\n",
       "    }\n",
       "\n",
       "    .dataframe thead th {\n",
       "        text-align: right;\n",
       "    }\n",
       "</style>\n",
       "<table border=\"1\" class=\"dataframe\">\n",
       "  <thead>\n",
       "    <tr style=\"text-align: right;\">\n",
       "      <th></th>\n",
       "      <th>goal</th>\n",
       "      <th>backers_count</th>\n",
       "      <th>pledged_ratio</th>\n",
       "      <th>funding_days</th>\n",
       "      <th>staff_pick</th>\n",
       "      <th>comics</th>\n",
       "      <th>crafts</th>\n",
       "      <th>dance</th>\n",
       "      <th>design</th>\n",
       "      <th>fashion</th>\n",
       "      <th>...</th>\n",
       "      <th>VE</th>\n",
       "      <th>VI</th>\n",
       "      <th>VN</th>\n",
       "      <th>VU</th>\n",
       "      <th>WS</th>\n",
       "      <th>XK</th>\n",
       "      <th>YE</th>\n",
       "      <th>ZA</th>\n",
       "      <th>ZM</th>\n",
       "      <th>ZW</th>\n",
       "    </tr>\n",
       "  </thead>\n",
       "  <tbody>\n",
       "    <tr>\n",
       "      <th>goal</th>\n",
       "      <td>1.000000</td>\n",
       "      <td>0.009843</td>\n",
       "      <td>0.000706</td>\n",
       "      <td>0.024363</td>\n",
       "      <td>0.006198</td>\n",
       "      <td>0.006645</td>\n",
       "      <td>0.005060</td>\n",
       "      <td>0.004416</td>\n",
       "      <td>0.003055</td>\n",
       "      <td>0.005542</td>\n",
       "      <td>...</td>\n",
       "      <td>0.000271</td>\n",
       "      <td>0.000100</td>\n",
       "      <td>0.000419</td>\n",
       "      <td>0.000150</td>\n",
       "      <td>0.000088</td>\n",
       "      <td>0.000152</td>\n",
       "      <td>0.000146</td>\n",
       "      <td>0.000720</td>\n",
       "      <td>0.000268</td>\n",
       "      <td>0.000251</td>\n",
       "    </tr>\n",
       "    <tr>\n",
       "      <th>backers_count</th>\n",
       "      <td>0.009843</td>\n",
       "      <td>1.000000</td>\n",
       "      <td>0.011010</td>\n",
       "      <td>0.006251</td>\n",
       "      <td>0.152675</td>\n",
       "      <td>0.011935</td>\n",
       "      <td>0.017957</td>\n",
       "      <td>0.012615</td>\n",
       "      <td>0.039037</td>\n",
       "      <td>0.000767</td>\n",
       "      <td>...</td>\n",
       "      <td>0.001221</td>\n",
       "      <td>0.001042</td>\n",
       "      <td>0.001424</td>\n",
       "      <td>0.000417</td>\n",
       "      <td>0.000265</td>\n",
       "      <td>0.000116</td>\n",
       "      <td>0.000268</td>\n",
       "      <td>0.000808</td>\n",
       "      <td>0.000864</td>\n",
       "      <td>0.000979</td>\n",
       "    </tr>\n",
       "    <tr>\n",
       "      <th>pledged_ratio</th>\n",
       "      <td>0.000706</td>\n",
       "      <td>0.011010</td>\n",
       "      <td>1.000000</td>\n",
       "      <td>0.004325</td>\n",
       "      <td>0.001162</td>\n",
       "      <td>0.007895</td>\n",
       "      <td>0.000795</td>\n",
       "      <td>0.001976</td>\n",
       "      <td>0.000234</td>\n",
       "      <td>0.001767</td>\n",
       "      <td>...</td>\n",
       "      <td>0.000157</td>\n",
       "      <td>0.000148</td>\n",
       "      <td>0.000218</td>\n",
       "      <td>0.000064</td>\n",
       "      <td>0.000043</td>\n",
       "      <td>0.000061</td>\n",
       "      <td>0.000073</td>\n",
       "      <td>0.000402</td>\n",
       "      <td>0.000134</td>\n",
       "      <td>0.000146</td>\n",
       "    </tr>\n",
       "    <tr>\n",
       "      <th>funding_days</th>\n",
       "      <td>0.024363</td>\n",
       "      <td>0.006251</td>\n",
       "      <td>0.004325</td>\n",
       "      <td>1.000000</td>\n",
       "      <td>0.007202</td>\n",
       "      <td>0.019172</td>\n",
       "      <td>0.035825</td>\n",
       "      <td>0.017790</td>\n",
       "      <td>0.005422</td>\n",
       "      <td>0.038868</td>\n",
       "      <td>...</td>\n",
       "      <td>0.007357</td>\n",
       "      <td>0.002513</td>\n",
       "      <td>0.001263</td>\n",
       "      <td>0.003162</td>\n",
       "      <td>0.000069</td>\n",
       "      <td>0.002068</td>\n",
       "      <td>0.001699</td>\n",
       "      <td>0.002322</td>\n",
       "      <td>0.000557</td>\n",
       "      <td>0.002881</td>\n",
       "    </tr>\n",
       "    <tr>\n",
       "      <th>staff_pick</th>\n",
       "      <td>0.006198</td>\n",
       "      <td>0.152675</td>\n",
       "      <td>0.001162</td>\n",
       "      <td>0.007202</td>\n",
       "      <td>1.000000</td>\n",
       "      <td>0.087722</td>\n",
       "      <td>0.020574</td>\n",
       "      <td>0.034634</td>\n",
       "      <td>0.013338</td>\n",
       "      <td>0.021632</td>\n",
       "      <td>...</td>\n",
       "      <td>0.003641</td>\n",
       "      <td>0.003486</td>\n",
       "      <td>0.000971</td>\n",
       "      <td>0.002670</td>\n",
       "      <td>0.006727</td>\n",
       "      <td>0.002670</td>\n",
       "      <td>0.001820</td>\n",
       "      <td>0.002328</td>\n",
       "      <td>0.003153</td>\n",
       "      <td>0.002032</td>\n",
       "    </tr>\n",
       "  </tbody>\n",
       "</table>\n",
       "<p>5 rows × 207 columns</p>\n",
       "</div>"
      ],
      "text/plain": [
       "                   goal  backers_count  pledged_ratio  funding_days  \\\n",
       "goal           1.000000       0.009843       0.000706      0.024363   \n",
       "backers_count  0.009843       1.000000       0.011010      0.006251   \n",
       "pledged_ratio  0.000706       0.011010       1.000000      0.004325   \n",
       "funding_days   0.024363       0.006251       0.004325      1.000000   \n",
       "staff_pick     0.006198       0.152675       0.001162      0.007202   \n",
       "\n",
       "               staff_pick    comics    crafts     dance    design   fashion  \\\n",
       "goal             0.006198  0.006645  0.005060  0.004416  0.003055  0.005542   \n",
       "backers_count    0.152675  0.011935  0.017957  0.012615  0.039037  0.000767   \n",
       "pledged_ratio    0.001162  0.007895  0.000795  0.001976  0.000234  0.001767   \n",
       "funding_days     0.007202  0.019172  0.035825  0.017790  0.005422  0.038868   \n",
       "staff_pick       1.000000  0.087722  0.020574  0.034634  0.013338  0.021632   \n",
       "\n",
       "                 ...           VE        VI        VN        VU        WS  \\\n",
       "goal             ...     0.000271  0.000100  0.000419  0.000150  0.000088   \n",
       "backers_count    ...     0.001221  0.001042  0.001424  0.000417  0.000265   \n",
       "pledged_ratio    ...     0.000157  0.000148  0.000218  0.000064  0.000043   \n",
       "funding_days     ...     0.007357  0.002513  0.001263  0.003162  0.000069   \n",
       "staff_pick       ...     0.003641  0.003486  0.000971  0.002670  0.006727   \n",
       "\n",
       "                     XK        YE        ZA        ZM        ZW  \n",
       "goal           0.000152  0.000146  0.000720  0.000268  0.000251  \n",
       "backers_count  0.000116  0.000268  0.000808  0.000864  0.000979  \n",
       "pledged_ratio  0.000061  0.000073  0.000402  0.000134  0.000146  \n",
       "funding_days   0.002068  0.001699  0.002322  0.000557  0.002881  \n",
       "staff_pick     0.002670  0.001820  0.002328  0.003153  0.002032  \n",
       "\n",
       "[5 rows x 207 columns]"
      ]
     },
     "execution_count": 63,
     "metadata": {},
     "output_type": "execute_result"
    }
   ],
   "source": [
    "corMat.head()"
   ]
  },
  {
   "cell_type": "code",
   "execution_count": 64,
   "metadata": {},
   "outputs": [
    {
     "data": {
      "text/html": [
       "<div>\n",
       "<style scoped>\n",
       "    .dataframe tbody tr th:only-of-type {\n",
       "        vertical-align: middle;\n",
       "    }\n",
       "\n",
       "    .dataframe tbody tr th {\n",
       "        vertical-align: top;\n",
       "    }\n",
       "\n",
       "    .dataframe thead th {\n",
       "        text-align: right;\n",
       "    }\n",
       "</style>\n",
       "<table border=\"1\" class=\"dataframe\">\n",
       "  <thead>\n",
       "    <tr style=\"text-align: right;\">\n",
       "      <th></th>\n",
       "      <th>goal</th>\n",
       "      <th>backers_count</th>\n",
       "      <th>pledged_ratio</th>\n",
       "      <th>funding_days</th>\n",
       "      <th>staff_pick</th>\n",
       "      <th>comics</th>\n",
       "      <th>crafts</th>\n",
       "      <th>dance</th>\n",
       "      <th>design</th>\n",
       "      <th>fashion</th>\n",
       "      <th>...</th>\n",
       "      <th>VE</th>\n",
       "      <th>VI</th>\n",
       "      <th>VN</th>\n",
       "      <th>VU</th>\n",
       "      <th>WS</th>\n",
       "      <th>XK</th>\n",
       "      <th>YE</th>\n",
       "      <th>ZA</th>\n",
       "      <th>ZM</th>\n",
       "      <th>ZW</th>\n",
       "    </tr>\n",
       "  </thead>\n",
       "  <tbody>\n",
       "    <tr>\n",
       "      <th>goal</th>\n",
       "      <td>NaN</td>\n",
       "      <td>0.009843</td>\n",
       "      <td>0.000706</td>\n",
       "      <td>0.024363</td>\n",
       "      <td>0.006198</td>\n",
       "      <td>0.006645</td>\n",
       "      <td>0.005060</td>\n",
       "      <td>0.004416</td>\n",
       "      <td>0.003055</td>\n",
       "      <td>0.005542</td>\n",
       "      <td>...</td>\n",
       "      <td>0.000271</td>\n",
       "      <td>0.000100</td>\n",
       "      <td>0.000419</td>\n",
       "      <td>0.000150</td>\n",
       "      <td>0.000088</td>\n",
       "      <td>0.000152</td>\n",
       "      <td>0.000146</td>\n",
       "      <td>0.000720</td>\n",
       "      <td>0.000268</td>\n",
       "      <td>0.000251</td>\n",
       "    </tr>\n",
       "    <tr>\n",
       "      <th>backers_count</th>\n",
       "      <td>NaN</td>\n",
       "      <td>NaN</td>\n",
       "      <td>0.011010</td>\n",
       "      <td>0.006251</td>\n",
       "      <td>0.152675</td>\n",
       "      <td>0.011935</td>\n",
       "      <td>0.017957</td>\n",
       "      <td>0.012615</td>\n",
       "      <td>0.039037</td>\n",
       "      <td>0.000767</td>\n",
       "      <td>...</td>\n",
       "      <td>0.001221</td>\n",
       "      <td>0.001042</td>\n",
       "      <td>0.001424</td>\n",
       "      <td>0.000417</td>\n",
       "      <td>0.000265</td>\n",
       "      <td>0.000116</td>\n",
       "      <td>0.000268</td>\n",
       "      <td>0.000808</td>\n",
       "      <td>0.000864</td>\n",
       "      <td>0.000979</td>\n",
       "    </tr>\n",
       "    <tr>\n",
       "      <th>pledged_ratio</th>\n",
       "      <td>NaN</td>\n",
       "      <td>NaN</td>\n",
       "      <td>NaN</td>\n",
       "      <td>0.004325</td>\n",
       "      <td>0.001162</td>\n",
       "      <td>0.007895</td>\n",
       "      <td>0.000795</td>\n",
       "      <td>0.001976</td>\n",
       "      <td>0.000234</td>\n",
       "      <td>0.001767</td>\n",
       "      <td>...</td>\n",
       "      <td>0.000157</td>\n",
       "      <td>0.000148</td>\n",
       "      <td>0.000218</td>\n",
       "      <td>0.000064</td>\n",
       "      <td>0.000043</td>\n",
       "      <td>0.000061</td>\n",
       "      <td>0.000073</td>\n",
       "      <td>0.000402</td>\n",
       "      <td>0.000134</td>\n",
       "      <td>0.000146</td>\n",
       "    </tr>\n",
       "    <tr>\n",
       "      <th>funding_days</th>\n",
       "      <td>NaN</td>\n",
       "      <td>NaN</td>\n",
       "      <td>NaN</td>\n",
       "      <td>NaN</td>\n",
       "      <td>0.007202</td>\n",
       "      <td>0.019172</td>\n",
       "      <td>0.035825</td>\n",
       "      <td>0.017790</td>\n",
       "      <td>0.005422</td>\n",
       "      <td>0.038868</td>\n",
       "      <td>...</td>\n",
       "      <td>0.007357</td>\n",
       "      <td>0.002513</td>\n",
       "      <td>0.001263</td>\n",
       "      <td>0.003162</td>\n",
       "      <td>0.000069</td>\n",
       "      <td>0.002068</td>\n",
       "      <td>0.001699</td>\n",
       "      <td>0.002322</td>\n",
       "      <td>0.000557</td>\n",
       "      <td>0.002881</td>\n",
       "    </tr>\n",
       "    <tr>\n",
       "      <th>staff_pick</th>\n",
       "      <td>NaN</td>\n",
       "      <td>NaN</td>\n",
       "      <td>NaN</td>\n",
       "      <td>NaN</td>\n",
       "      <td>NaN</td>\n",
       "      <td>0.087722</td>\n",
       "      <td>0.020574</td>\n",
       "      <td>0.034634</td>\n",
       "      <td>0.013338</td>\n",
       "      <td>0.021632</td>\n",
       "      <td>...</td>\n",
       "      <td>0.003641</td>\n",
       "      <td>0.003486</td>\n",
       "      <td>0.000971</td>\n",
       "      <td>0.002670</td>\n",
       "      <td>0.006727</td>\n",
       "      <td>0.002670</td>\n",
       "      <td>0.001820</td>\n",
       "      <td>0.002328</td>\n",
       "      <td>0.003153</td>\n",
       "      <td>0.002032</td>\n",
       "    </tr>\n",
       "  </tbody>\n",
       "</table>\n",
       "<p>5 rows × 207 columns</p>\n",
       "</div>"
      ],
      "text/plain": [
       "               goal  backers_count  pledged_ratio  funding_days  staff_pick  \\\n",
       "goal            NaN       0.009843       0.000706      0.024363    0.006198   \n",
       "backers_count   NaN            NaN       0.011010      0.006251    0.152675   \n",
       "pledged_ratio   NaN            NaN            NaN      0.004325    0.001162   \n",
       "funding_days    NaN            NaN            NaN           NaN    0.007202   \n",
       "staff_pick      NaN            NaN            NaN           NaN         NaN   \n",
       "\n",
       "                 comics    crafts     dance    design   fashion    ...     \\\n",
       "goal           0.006645  0.005060  0.004416  0.003055  0.005542    ...      \n",
       "backers_count  0.011935  0.017957  0.012615  0.039037  0.000767    ...      \n",
       "pledged_ratio  0.007895  0.000795  0.001976  0.000234  0.001767    ...      \n",
       "funding_days   0.019172  0.035825  0.017790  0.005422  0.038868    ...      \n",
       "staff_pick     0.087722  0.020574  0.034634  0.013338  0.021632    ...      \n",
       "\n",
       "                     VE        VI        VN        VU        WS        XK  \\\n",
       "goal           0.000271  0.000100  0.000419  0.000150  0.000088  0.000152   \n",
       "backers_count  0.001221  0.001042  0.001424  0.000417  0.000265  0.000116   \n",
       "pledged_ratio  0.000157  0.000148  0.000218  0.000064  0.000043  0.000061   \n",
       "funding_days   0.007357  0.002513  0.001263  0.003162  0.000069  0.002068   \n",
       "staff_pick     0.003641  0.003486  0.000971  0.002670  0.006727  0.002670   \n",
       "\n",
       "                     YE        ZA        ZM        ZW  \n",
       "goal           0.000146  0.000720  0.000268  0.000251  \n",
       "backers_count  0.000268  0.000808  0.000864  0.000979  \n",
       "pledged_ratio  0.000073  0.000402  0.000134  0.000146  \n",
       "funding_days   0.001699  0.002322  0.000557  0.002881  \n",
       "staff_pick     0.001820  0.002328  0.003153  0.002032  \n",
       "\n",
       "[5 rows x 207 columns]"
      ]
     },
     "execution_count": 64,
     "metadata": {},
     "output_type": "execute_result"
    }
   ],
   "source": [
    "corMat_upper.head()"
   ]
  },
  {
   "cell_type": "code",
   "execution_count": 65,
   "metadata": {},
   "outputs": [],
   "source": [
    "corMat_values = corMat_upper.values[np.triu_indices(corMat_upper.shape[1], k=1)]"
   ]
  },
  {
   "cell_type": "code",
   "execution_count": 66,
   "metadata": {},
   "outputs": [
    {
     "data": {
      "text/plain": [
       "<matplotlib.lines.Line2D at 0x22e905c89b0>"
      ]
     },
     "execution_count": 66,
     "metadata": {},
     "output_type": "execute_result"
    },
    {
     "data": {
      "image/png": "[encoded data removed]",
      "text/plain": [
       "<Figure size 432x288 with 1 Axes>"
      ]
     },
     "metadata": {},
     "output_type": "display_data"
    }
   ],
   "source": [
    "plt.scatter(x=range(0,len(corMat_values)),y=corMat_values, s=100)\n",
    "plt.axhline(y=0.5, color='r', linestyle='--', linewidth=4)"
   ]
  },
  {
   "cell_type": "code",
   "execution_count": 67,
   "metadata": {},
   "outputs": [],
   "source": [
    "# ========================================\n",
    "# SAVE CSV\n",
    "# ========================================\n",
    "#df.to_csv('data/df02.csv', sep=\",\")"
   ]
  },
  {
   "cell_type": "code",
   "execution_count": null,
   "metadata": {},
   "outputs": [],
   "source": []
  }
 ],
 "metadata": {
  "kernelspec": {
   "display_name": "Python 3",
   "language": "python",
   "name": "python3"
  },
  "language_info": {
   "codemirror_mode": {
    "name": "ipython",
    "version": 3
   },
   "file_extension": ".py",
   "mimetype": "text/x-python",
   "name": "python",
   "nbconvert_exporter": "python",
   "pygments_lexer": "ipython3",
   "version": "3.6.5"
  }
 },
 "nbformat": 4,
 "nbformat_minor": 2
}
