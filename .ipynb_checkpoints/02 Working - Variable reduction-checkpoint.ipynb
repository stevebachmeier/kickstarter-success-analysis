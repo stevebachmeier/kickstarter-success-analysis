{
 "cells": [
  {
   "cell_type": "code",
   "execution_count": 1,
   "metadata": {},
   "outputs": [],
   "source": [
    "# ========================================\n",
    "# IMPORT LIBRARIES\n",
    "# ========================================\n",
    "import pandas as pd\n",
    "import numpy as np\n",
    "\n",
    "import seaborn as sns\n",
    "import matplotlib.pyplot as plt\n",
    "%matplotlib inline\n",
    "\n",
    "from sklearn.feature_selection import VarianceThreshold"
   ]
  },
  {
   "cell_type": "code",
   "execution_count": 2,
   "metadata": {},
   "outputs": [],
   "source": [
    "# ========================================\n",
    "# IMPORT DATAFRAME\n",
    "# ========================================\n",
    "df = pd.read_csv('data/df01.csv', sep=',', na_filter=False, index_col=0, parse_dates=['launched_at'])"
   ]
  },
  {
   "cell_type": "code",
   "execution_count": 3,
   "metadata": {},
   "outputs": [
    {
     "data": {
      "text/plain": [
       "0"
      ]
     },
     "execution_count": 3,
     "metadata": {},
     "output_type": "execute_result"
    }
   ],
   "source": [
    "df.isnull().sum().sum()"
   ]
  },
  {
   "cell_type": "code",
   "execution_count": 4,
   "metadata": {},
   "outputs": [
    {
     "data": {
      "text/plain": [
       "0"
      ]
     },
     "execution_count": 4,
     "metadata": {},
     "output_type": "execute_result"
    }
   ],
   "source": [
    "df.isna().sum().sum()"
   ]
  },
  {
   "cell_type": "code",
   "execution_count": 5,
   "metadata": {},
   "outputs": [
    {
     "data": {
      "text/plain": [
       "Index(['id', 'launch_state', 'launched_at', 'category', 'country', 'goal',\n",
       "       'backers_count', 'pledged_ratio', 'funding_days', 'staff_pick',\n",
       "       'spotlight', 'comics', 'crafts', 'dance'],\n",
       "      dtype='object')"
      ]
     },
     "execution_count": 5,
     "metadata": {},
     "output_type": "execute_result"
    }
   ],
   "source": [
    "df.columns[0:14]"
   ]
  },
  {
   "cell_type": "code",
   "execution_count": null,
   "metadata": {},
   "outputs": [],
   "source": []
  },
  {
   "cell_type": "code",
   "execution_count": 47,
   "metadata": {},
   "outputs": [],
   "source": [
    "# ========================================\n",
    "# VARIABLE REDUCTION\n",
    "# ========================================\n",
    "info_variables = ['id','launched_at','category','country']"
   ]
  },
  {
   "cell_type": "code",
   "execution_count": 7,
   "metadata": {},
   "outputs": [],
   "source": [
    "# ---- ZERO-VARIANCE ----\n",
    "sel = VarianceThreshold(threshold=0.0)"
   ]
  },
  {
   "cell_type": "code",
   "execution_count": 12,
   "metadata": {},
   "outputs": [
    {
     "data": {
      "text/plain": [
       "0"
      ]
     },
     "execution_count": 12,
     "metadata": {},
     "output_type": "execute_result"
    }
   ],
   "source": [
    "sel.fit_transform(X=df.drop(columns=info_variables)).shape[1] - df.drop(columns=info_variables).shape[1]"
   ]
  },
  {
   "cell_type": "code",
   "execution_count": 81,
   "metadata": {},
   "outputs": [],
   "source": [
    "# there are no zero-variance variables"
   ]
  },
  {
   "cell_type": "code",
   "execution_count": null,
   "metadata": {},
   "outputs": [],
   "source": []
  },
  {
   "cell_type": "markdown",
   "metadata": {},
   "source": [
    "*\\# NEAR-ZERO VARIANCE*\n",
    "\n",
    "There is much discussion about whether such variables should be removed - there are times where even very low variance variables have a large effect in predicting the outcome. We will keep these."
   ]
  },
  {
   "cell_type": "code",
   "execution_count": null,
   "metadata": {},
   "outputs": [],
   "source": []
  },
  {
   "cell_type": "code",
   "execution_count": 13,
   "metadata": {},
   "outputs": [],
   "source": [
    "# ---- VARIABLE-OUTCOME CORRELATIONS ----\n",
    "corr_threshold = 0.5"
   ]
  },
  {
   "cell_type": "code",
   "execution_count": 14,
   "metadata": {},
   "outputs": [
    {
     "data": {
      "text/html": [
       "<div>\n",
       "<style scoped>\n",
       "    .dataframe tbody tr th:only-of-type {\n",
       "        vertical-align: middle;\n",
       "    }\n",
       "\n",
       "    .dataframe tbody tr th {\n",
       "        vertical-align: top;\n",
       "    }\n",
       "\n",
       "    .dataframe thead th {\n",
       "        text-align: right;\n",
       "    }\n",
       "</style>\n",
       "<table border=\"1\" class=\"dataframe\">\n",
       "  <thead>\n",
       "    <tr style=\"text-align: right;\">\n",
       "      <th></th>\n",
       "      <th>state</th>\n",
       "      <th>spotlight</th>\n",
       "      <th>days</th>\n",
       "    </tr>\n",
       "  </thead>\n",
       "  <tbody>\n",
       "    <tr>\n",
       "      <th>0</th>\n",
       "      <td>0</td>\n",
       "      <td>0</td>\n",
       "      <td>1</td>\n",
       "    </tr>\n",
       "    <tr>\n",
       "      <th>1</th>\n",
       "      <td>1</td>\n",
       "      <td>1</td>\n",
       "      <td>10</td>\n",
       "    </tr>\n",
       "    <tr>\n",
       "      <th>2</th>\n",
       "      <td>0</td>\n",
       "      <td>0</td>\n",
       "      <td>100</td>\n",
       "    </tr>\n",
       "    <tr>\n",
       "      <th>3</th>\n",
       "      <td>1</td>\n",
       "      <td>1</td>\n",
       "      <td>1000</td>\n",
       "    </tr>\n",
       "  </tbody>\n",
       "</table>\n",
       "</div>"
      ],
      "text/plain": [
       "   state  spotlight  days\n",
       "0      0          0     1\n",
       "1      1          1    10\n",
       "2      0          0   100\n",
       "3      1          1  1000"
      ]
     },
     "execution_count": 14,
     "metadata": {},
     "output_type": "execute_result"
    }
   ],
   "source": [
    "dftest = pd.DataFrame({'state':[0,1,0,1], 'spotlight':[0,1,0,1], 'days':[1,10,100,1000]})\n",
    "dftest"
   ]
  },
  {
   "cell_type": "code",
   "execution_count": 15,
   "metadata": {},
   "outputs": [
    {
     "data": {
      "text/html": [
       "<div>\n",
       "<style scoped>\n",
       "    .dataframe tbody tr th:only-of-type {\n",
       "        vertical-align: middle;\n",
       "    }\n",
       "\n",
       "    .dataframe tbody tr th {\n",
       "        vertical-align: top;\n",
       "    }\n",
       "\n",
       "    .dataframe thead th {\n",
       "        text-align: right;\n",
       "    }\n",
       "</style>\n",
       "<table border=\"1\" class=\"dataframe\">\n",
       "  <thead>\n",
       "    <tr style=\"text-align: right;\">\n",
       "      <th></th>\n",
       "      <th>state</th>\n",
       "      <th>spotlight</th>\n",
       "      <th>days</th>\n",
       "    </tr>\n",
       "  </thead>\n",
       "  <tbody>\n",
       "    <tr>\n",
       "      <th>state</th>\n",
       "      <td>1.000000</td>\n",
       "      <td>1.000000</td>\n",
       "      <td>0.542642</td>\n",
       "    </tr>\n",
       "    <tr>\n",
       "      <th>spotlight</th>\n",
       "      <td>1.000000</td>\n",
       "      <td>1.000000</td>\n",
       "      <td>0.542642</td>\n",
       "    </tr>\n",
       "    <tr>\n",
       "      <th>days</th>\n",
       "      <td>0.542642</td>\n",
       "      <td>0.542642</td>\n",
       "      <td>1.000000</td>\n",
       "    </tr>\n",
       "  </tbody>\n",
       "</table>\n",
       "</div>"
      ],
      "text/plain": [
       "              state  spotlight      days\n",
       "state      1.000000   1.000000  0.542642\n",
       "spotlight  1.000000   1.000000  0.542642\n",
       "days       0.542642   0.542642  1.000000"
      ]
     },
     "execution_count": 15,
     "metadata": {},
     "output_type": "execute_result"
    }
   ],
   "source": [
    "dftest.corr()"
   ]
  },
  {
   "cell_type": "code",
   "execution_count": 96,
   "metadata": {},
   "outputs": [
    {
     "data": {
      "text/plain": [
       "1.0"
      ]
     },
     "execution_count": 96,
     "metadata": {},
     "output_type": "execute_result"
    }
   ],
   "source": [
    "dftest['state'].corr(dftest['spotlight'])"
   ]
  },
  {
   "cell_type": "code",
   "execution_count": 97,
   "metadata": {},
   "outputs": [
    {
     "data": {
      "text/plain": [
       "0.5426422775636054"
      ]
     },
     "execution_count": 97,
     "metadata": {},
     "output_type": "execute_result"
    }
   ],
   "source": [
    "dftest['state'].corr(dftest['days'])"
   ]
  },
  {
   "cell_type": "code",
   "execution_count": 138,
   "metadata": {},
   "outputs": [
    {
     "data": {
      "text/plain": [
       "spotlight    1.000000\n",
       "days         0.542642\n",
       "Name: state, dtype: float64"
      ]
     },
     "execution_count": 138,
     "metadata": {},
     "output_type": "execute_result"
    }
   ],
   "source": [
    "dftest.corr().drop(columns='state').iloc[0]"
   ]
  },
  {
   "cell_type": "code",
   "execution_count": null,
   "metadata": {},
   "outputs": [],
   "source": []
  },
  {
   "cell_type": "code",
   "execution_count": 209,
   "metadata": {},
   "outputs": [
    {
     "data": {
      "text/plain": [
       "goal            -0.034373\n",
       "backers_count    0.115215\n",
       "pledged_ratio    0.016668\n",
       "funding_days    -0.098283\n",
       "staff_pick       0.251567\n",
       "spotlight        1.000000\n",
       "comics           0.106614\n",
       "crafts          -0.048837\n",
       "dance            0.061359\n",
       "design           0.020498\n",
       "fashion          0.016958\n",
       "film & video     0.009997\n",
       "food            -0.126937\n",
       "games            0.019431\n",
       "journalism      -0.093388\n",
       "music            0.078656\n",
       "photography     -0.026630\n",
       "publishing       0.085045\n",
       "technology      -0.145246\n",
       "theater          0.067869\n",
       "AF               0.003649\n",
       "AG               0.000795\n",
       "AL              -0.000494\n",
       "AM              -0.001888\n",
       "AQ               0.001962\n",
       "AR               0.001122\n",
       "AT              -0.011944\n",
       "AU              -0.041496\n",
       "AX               0.002934\n",
       "AZ              -0.002772\n",
       "                   ...   \n",
       "SV              -0.000726\n",
       "SX              -0.003921\n",
       "SY               0.001124\n",
       "SZ               0.004149\n",
       "TC              -0.003921\n",
       "TH              -0.004759\n",
       "TJ               0.002074\n",
       "TL               0.002074\n",
       "TN              -0.000007\n",
       "TO              -0.004802\n",
       "TR               0.000588\n",
       "TT              -0.000855\n",
       "TW               0.002298\n",
       "TZ               0.001974\n",
       "UA              -0.006884\n",
       "UG              -0.000441\n",
       "US               0.081709\n",
       "UY               0.001124\n",
       "VA              -0.002772\n",
       "VC              -0.002772\n",
       "VE              -0.003275\n",
       "VI              -0.003229\n",
       "VN              -0.006002\n",
       "VU               0.003593\n",
       "WS              -0.003921\n",
       "XK               0.003593\n",
       "YE               0.001725\n",
       "ZA               0.000110\n",
       "ZM              -0.001855\n",
       "ZW              -0.005086\n",
       "Name: launch_state, Length: 214, dtype: float64"
      ]
     },
     "execution_count": 209,
     "metadata": {},
     "output_type": "execute_result"
    }
   ],
   "source": [
    "df.drop(columns=info_variables).corr().drop(columns='launch_state').iloc[0]"
   ]
  },
  {
   "cell_type": "code",
   "execution_count": 16,
   "metadata": {},
   "outputs": [],
   "source": [
    "df_corr_variable_outcome = pd.DataFrame(abs(df.drop(columns=info_variables).corr().drop(columns='launch_state').iloc[0])).reset_index()"
   ]
  },
  {
   "cell_type": "code",
   "execution_count": 17,
   "metadata": {},
   "outputs": [],
   "source": [
    "df_corr_variable_outcome.columns = ['variable','corr_launch_state']"
   ]
  },
  {
   "cell_type": "code",
   "execution_count": 18,
   "metadata": {},
   "outputs": [
    {
     "data": {
      "text/html": [
       "<div>\n",
       "<style scoped>\n",
       "    .dataframe tbody tr th:only-of-type {\n",
       "        vertical-align: middle;\n",
       "    }\n",
       "\n",
       "    .dataframe tbody tr th {\n",
       "        vertical-align: top;\n",
       "    }\n",
       "\n",
       "    .dataframe thead th {\n",
       "        text-align: right;\n",
       "    }\n",
       "</style>\n",
       "<table border=\"1\" class=\"dataframe\">\n",
       "  <thead>\n",
       "    <tr style=\"text-align: right;\">\n",
       "      <th></th>\n",
       "      <th>variable</th>\n",
       "      <th>corr_launch_state</th>\n",
       "    </tr>\n",
       "  </thead>\n",
       "  <tbody>\n",
       "    <tr>\n",
       "      <th>0</th>\n",
       "      <td>goal</td>\n",
       "      <td>0.034373</td>\n",
       "    </tr>\n",
       "    <tr>\n",
       "      <th>1</th>\n",
       "      <td>backers_count</td>\n",
       "      <td>0.115215</td>\n",
       "    </tr>\n",
       "    <tr>\n",
       "      <th>2</th>\n",
       "      <td>pledged_ratio</td>\n",
       "      <td>0.016668</td>\n",
       "    </tr>\n",
       "    <tr>\n",
       "      <th>3</th>\n",
       "      <td>funding_days</td>\n",
       "      <td>0.098283</td>\n",
       "    </tr>\n",
       "    <tr>\n",
       "      <th>4</th>\n",
       "      <td>staff_pick</td>\n",
       "      <td>0.251567</td>\n",
       "    </tr>\n",
       "  </tbody>\n",
       "</table>\n",
       "</div>"
      ],
      "text/plain": [
       "        variable  corr_launch_state\n",
       "0           goal           0.034373\n",
       "1  backers_count           0.115215\n",
       "2  pledged_ratio           0.016668\n",
       "3   funding_days           0.098283\n",
       "4     staff_pick           0.251567"
      ]
     },
     "execution_count": 18,
     "metadata": {},
     "output_type": "execute_result"
    }
   ],
   "source": [
    "df_corr_variable_outcome.head()"
   ]
  },
  {
   "cell_type": "code",
   "execution_count": null,
   "metadata": {},
   "outputs": [],
   "source": []
  },
  {
   "cell_type": "code",
   "execution_count": 19,
   "metadata": {},
   "outputs": [
    {
     "data": {
      "text/html": [
       "<div>\n",
       "<style scoped>\n",
       "    .dataframe tbody tr th:only-of-type {\n",
       "        vertical-align: middle;\n",
       "    }\n",
       "\n",
       "    .dataframe tbody tr th {\n",
       "        vertical-align: top;\n",
       "    }\n",
       "\n",
       "    .dataframe thead th {\n",
       "        text-align: right;\n",
       "    }\n",
       "</style>\n",
       "<table border=\"1\" class=\"dataframe\">\n",
       "  <thead>\n",
       "    <tr style=\"text-align: right;\">\n",
       "      <th></th>\n",
       "      <th>variable</th>\n",
       "      <th>corr_launch_state</th>\n",
       "    </tr>\n",
       "  </thead>\n",
       "  <tbody>\n",
       "    <tr>\n",
       "      <th>5</th>\n",
       "      <td>spotlight</td>\n",
       "      <td>1.000000</td>\n",
       "    </tr>\n",
       "    <tr>\n",
       "      <th>4</th>\n",
       "      <td>staff_pick</td>\n",
       "      <td>0.251567</td>\n",
       "    </tr>\n",
       "    <tr>\n",
       "      <th>18</th>\n",
       "      <td>technology</td>\n",
       "      <td>0.145246</td>\n",
       "    </tr>\n",
       "    <tr>\n",
       "      <th>12</th>\n",
       "      <td>food</td>\n",
       "      <td>0.126937</td>\n",
       "    </tr>\n",
       "    <tr>\n",
       "      <th>1</th>\n",
       "      <td>backers_count</td>\n",
       "      <td>0.115215</td>\n",
       "    </tr>\n",
       "  </tbody>\n",
       "</table>\n",
       "</div>"
      ],
      "text/plain": [
       "         variable  corr_launch_state\n",
       "5       spotlight           1.000000\n",
       "4      staff_pick           0.251567\n",
       "18     technology           0.145246\n",
       "12           food           0.126937\n",
       "1   backers_count           0.115215"
      ]
     },
     "execution_count": 19,
     "metadata": {},
     "output_type": "execute_result"
    }
   ],
   "source": [
    "df_corr_variable_outcome.sort_values(by='corr_launch_state', ascending=False).head()"
   ]
  },
  {
   "cell_type": "code",
   "execution_count": 152,
   "metadata": {},
   "outputs": [],
   "source": [
    "# Looks like we do have some high correlation."
   ]
  },
  {
   "cell_type": "code",
   "execution_count": 20,
   "metadata": {},
   "outputs": [
    {
     "data": {
      "text/plain": [
       "<matplotlib.lines.Line2D at 0x2472cdf8da0>"
      ]
     },
     "execution_count": 20,
     "metadata": {},
     "output_type": "execute_result"
    },
    {
     "data": {
      "image/png": "[encoded data removed]",
      "text/plain": [
       "<Figure size 432x288 with 1 Axes>"
      ]
     },
     "metadata": {},
     "output_type": "display_data"
    }
   ],
   "source": [
    "plt.scatter(x=df_corr_variable_outcome.index,y=df_corr_variable_outcome['corr_launch_state'], s=100)\n",
    "plt.axhline(y=0.5, color='r', linestyle='--', linewidth=4)"
   ]
  },
  {
   "cell_type": "code",
   "execution_count": 21,
   "metadata": {},
   "outputs": [
    {
     "data": {
      "text/plain": [
       "5    spotlight\n",
       "Name: variable, dtype: object"
      ]
     },
     "execution_count": 21,
     "metadata": {},
     "output_type": "execute_result"
    }
   ],
   "source": [
    "df_corr_variable_outcome[df_corr_variable_outcome['corr_launch_state'] > 0.5]['variable']"
   ]
  },
  {
   "cell_type": "code",
   "execution_count": 195,
   "metadata": {},
   "outputs": [],
   "source": [
    "# The only variable of interest here is spotlight. From https://techcrunch.com/2015/03/25/kickstarter-spotlight/, \n",
    "# we see that spotlight happens for successfully funded projects and acts as a way to update the project timeline.\n",
    "# It clearly does nothing in helping predict funding success; drop it."
   ]
  },
  {
   "cell_type": "code",
   "execution_count": 22,
   "metadata": {},
   "outputs": [
    {
     "data": {
      "text/plain": [
       "(219,)"
      ]
     },
     "execution_count": 22,
     "metadata": {},
     "output_type": "execute_result"
    }
   ],
   "source": [
    "df.columns.shape"
   ]
  },
  {
   "cell_type": "code",
   "execution_count": 23,
   "metadata": {},
   "outputs": [
    {
     "data": {
      "text/plain": [
       "Index(['id', 'launch_state', 'launched_at', 'category', 'country', 'goal',\n",
       "       'backers_count', 'pledged_ratio', 'funding_days', 'staff_pick',\n",
       "       'spotlight', 'comics', 'crafts', 'dance'],\n",
       "      dtype='object')"
      ]
     },
     "execution_count": 23,
     "metadata": {},
     "output_type": "execute_result"
    }
   ],
   "source": [
    "df.columns[0:14]"
   ]
  },
  {
   "cell_type": "code",
   "execution_count": 24,
   "metadata": {},
   "outputs": [],
   "source": [
    "df.drop(columns='spotlight', inplace=True)"
   ]
  },
  {
   "cell_type": "code",
   "execution_count": 25,
   "metadata": {},
   "outputs": [
    {
     "data": {
      "text/plain": [
       "(218,)"
      ]
     },
     "execution_count": 25,
     "metadata": {},
     "output_type": "execute_result"
    }
   ],
   "source": [
    "df.columns.shape"
   ]
  },
  {
   "cell_type": "code",
   "execution_count": 26,
   "metadata": {},
   "outputs": [
    {
     "data": {
      "text/plain": [
       "Index(['id', 'launch_state', 'launched_at', 'category', 'country', 'goal',\n",
       "       'backers_count', 'pledged_ratio', 'funding_days', 'staff_pick',\n",
       "       'comics', 'crafts', 'dance', 'design'],\n",
       "      dtype='object')"
      ]
     },
     "execution_count": 26,
     "metadata": {},
     "output_type": "execute_result"
    }
   ],
   "source": [
    "df.columns[0:14]"
   ]
  },
  {
   "cell_type": "code",
   "execution_count": null,
   "metadata": {},
   "outputs": [],
   "source": []
  },
  {
   "cell_type": "code",
   "execution_count": 29,
   "metadata": {},
   "outputs": [],
   "source": [
    "# Variable-variable correlation data"
   ]
  },
  {
   "cell_type": "code",
   "execution_count": 38,
   "metadata": {},
   "outputs": [
    {
     "data": {
      "text/plain": [
       "Index(['id', 'launch_state', 'launched_at', 'category', 'country', 'goal',\n",
       "       'backers_count', 'pledged_ratio', 'funding_days', 'staff_pick',\n",
       "       ...\n",
       "       'VE', 'VI', 'VN', 'VU', 'WS', 'XK', 'YE', 'ZA', 'ZM', 'ZW'],\n",
       "      dtype='object', length=218)"
      ]
     },
     "execution_count": 38,
     "metadata": {},
     "output_type": "execute_result"
    }
   ],
   "source": [
    "df.columns"
   ]
  },
  {
   "cell_type": "code",
   "execution_count": null,
   "metadata": {},
   "outputs": [],
   "source": []
  },
  {
   "cell_type": "code",
   "execution_count": null,
   "metadata": {},
   "outputs": [],
   "source": []
  },
  {
   "cell_type": "code",
   "execution_count": null,
   "metadata": {},
   "outputs": [],
   "source": []
  },
  {
   "cell_type": "code",
   "execution_count": 72,
   "metadata": {},
   "outputs": [
    {
     "data": {
      "text/plain": [
       "Index(['goal', 'backers_count', 'pledged_ratio', 'funding_days', 'staff_pick',\n",
       "       'comics', 'crafts', 'dance', 'design', 'fashion',\n",
       "       ...\n",
       "       'VE', 'VI', 'VN', 'VU', 'WS', 'XK', 'YE', 'ZA', 'ZM', 'ZW'],\n",
       "      dtype='object', length=213)"
      ]
     },
     "execution_count": 72,
     "metadata": {},
     "output_type": "execute_result"
    }
   ],
   "source": [
    "df.drop(columns=info_variables).drop(columns='launch_state').columns"
   ]
  },
  {
   "cell_type": "code",
   "execution_count": 274,
   "metadata": {},
   "outputs": [],
   "source": [
    "corMat = abs(df.drop(columns=info_variables).drop(columns='launch_state').corr())"
   ]
  },
  {
   "cell_type": "code",
   "execution_count": 275,
   "metadata": {},
   "outputs": [
    {
     "data": {
      "text/plain": [
       "(213, 213)"
      ]
     },
     "execution_count": 275,
     "metadata": {},
     "output_type": "execute_result"
    }
   ],
   "source": [
    "corMat.shape"
   ]
  },
  {
   "cell_type": "code",
   "execution_count": 276,
   "metadata": {},
   "outputs": [
    {
     "data": {
      "text/plain": [
       "(173887, 218)"
      ]
     },
     "execution_count": 276,
     "metadata": {},
     "output_type": "execute_result"
    }
   ],
   "source": [
    "df.shape"
   ]
  },
  {
   "cell_type": "code",
   "execution_count": 277,
   "metadata": {},
   "outputs": [
    {
     "data": {
      "text/html": [
       "<div>\n",
       "<style scoped>\n",
       "    .dataframe tbody tr th:only-of-type {\n",
       "        vertical-align: middle;\n",
       "    }\n",
       "\n",
       "    .dataframe tbody tr th {\n",
       "        vertical-align: top;\n",
       "    }\n",
       "\n",
       "    .dataframe thead th {\n",
       "        text-align: right;\n",
       "    }\n",
       "</style>\n",
       "<table border=\"1\" class=\"dataframe\">\n",
       "  <thead>\n",
       "    <tr style=\"text-align: right;\">\n",
       "      <th></th>\n",
       "      <th>goal</th>\n",
       "      <th>backers_count</th>\n",
       "      <th>pledged_ratio</th>\n",
       "      <th>funding_days</th>\n",
       "      <th>staff_pick</th>\n",
       "      <th>comics</th>\n",
       "      <th>crafts</th>\n",
       "      <th>dance</th>\n",
       "      <th>design</th>\n",
       "      <th>fashion</th>\n",
       "      <th>...</th>\n",
       "      <th>VE</th>\n",
       "      <th>VI</th>\n",
       "      <th>VN</th>\n",
       "      <th>VU</th>\n",
       "      <th>WS</th>\n",
       "      <th>XK</th>\n",
       "      <th>YE</th>\n",
       "      <th>ZA</th>\n",
       "      <th>ZM</th>\n",
       "      <th>ZW</th>\n",
       "    </tr>\n",
       "  </thead>\n",
       "  <tbody>\n",
       "    <tr>\n",
       "      <th>goal</th>\n",
       "      <td>1.000000</td>\n",
       "      <td>0.009228</td>\n",
       "      <td>0.000705</td>\n",
       "      <td>0.026012</td>\n",
       "      <td>0.006075</td>\n",
       "      <td>0.006768</td>\n",
       "      <td>0.005136</td>\n",
       "      <td>0.004320</td>\n",
       "      <td>0.003572</td>\n",
       "      <td>0.005840</td>\n",
       "      <td>...</td>\n",
       "      <td>0.000238</td>\n",
       "      <td>0.000079</td>\n",
       "      <td>0.000070</td>\n",
       "      <td>0.000136</td>\n",
       "      <td>0.000107</td>\n",
       "      <td>0.000137</td>\n",
       "      <td>0.000158</td>\n",
       "      <td>0.000675</td>\n",
       "      <td>0.000243</td>\n",
       "      <td>0.000228</td>\n",
       "    </tr>\n",
       "    <tr>\n",
       "      <th>backers_count</th>\n",
       "      <td>0.009228</td>\n",
       "      <td>1.000000</td>\n",
       "      <td>0.010888</td>\n",
       "      <td>0.006374</td>\n",
       "      <td>0.152003</td>\n",
       "      <td>0.012221</td>\n",
       "      <td>0.017867</td>\n",
       "      <td>0.012263</td>\n",
       "      <td>0.035396</td>\n",
       "      <td>0.001989</td>\n",
       "      <td>...</td>\n",
       "      <td>0.001146</td>\n",
       "      <td>0.001133</td>\n",
       "      <td>0.001597</td>\n",
       "      <td>0.000368</td>\n",
       "      <td>0.000416</td>\n",
       "      <td>0.000089</td>\n",
       "      <td>0.000278</td>\n",
       "      <td>0.000396</td>\n",
       "      <td>0.000770</td>\n",
       "      <td>0.000876</td>\n",
       "    </tr>\n",
       "    <tr>\n",
       "      <th>pledged_ratio</th>\n",
       "      <td>0.000705</td>\n",
       "      <td>0.010888</td>\n",
       "      <td>1.000000</td>\n",
       "      <td>0.004361</td>\n",
       "      <td>0.001973</td>\n",
       "      <td>0.007921</td>\n",
       "      <td>0.000607</td>\n",
       "      <td>0.001886</td>\n",
       "      <td>0.000200</td>\n",
       "      <td>0.001622</td>\n",
       "      <td>...</td>\n",
       "      <td>0.000147</td>\n",
       "      <td>0.000158</td>\n",
       "      <td>0.000251</td>\n",
       "      <td>0.000055</td>\n",
       "      <td>0.000060</td>\n",
       "      <td>0.000053</td>\n",
       "      <td>0.000072</td>\n",
       "      <td>0.000374</td>\n",
       "      <td>0.000119</td>\n",
       "      <td>0.000131</td>\n",
       "    </tr>\n",
       "    <tr>\n",
       "      <th>funding_days</th>\n",
       "      <td>0.026012</td>\n",
       "      <td>0.006374</td>\n",
       "      <td>0.004361</td>\n",
       "      <td>1.000000</td>\n",
       "      <td>0.009698</td>\n",
       "      <td>0.020172</td>\n",
       "      <td>0.035283</td>\n",
       "      <td>0.016211</td>\n",
       "      <td>0.006213</td>\n",
       "      <td>0.037684</td>\n",
       "      <td>...</td>\n",
       "      <td>0.007849</td>\n",
       "      <td>0.002725</td>\n",
       "      <td>0.000736</td>\n",
       "      <td>0.002881</td>\n",
       "      <td>0.000867</td>\n",
       "      <td>0.001889</td>\n",
       "      <td>0.001922</td>\n",
       "      <td>0.001408</td>\n",
       "      <td>0.000482</td>\n",
       "      <td>0.002635</td>\n",
       "    </tr>\n",
       "    <tr>\n",
       "      <th>staff_pick</th>\n",
       "      <td>0.006075</td>\n",
       "      <td>0.152003</td>\n",
       "      <td>0.001973</td>\n",
       "      <td>0.009698</td>\n",
       "      <td>1.000000</td>\n",
       "      <td>0.088465</td>\n",
       "      <td>0.021553</td>\n",
       "      <td>0.030920</td>\n",
       "      <td>0.013350</td>\n",
       "      <td>0.022998</td>\n",
       "      <td>...</td>\n",
       "      <td>0.003399</td>\n",
       "      <td>0.003652</td>\n",
       "      <td>0.000677</td>\n",
       "      <td>0.002433</td>\n",
       "      <td>0.003646</td>\n",
       "      <td>0.002433</td>\n",
       "      <td>0.001636</td>\n",
       "      <td>0.002438</td>\n",
       "      <td>0.002829</td>\n",
       "      <td>0.001867</td>\n",
       "    </tr>\n",
       "  </tbody>\n",
       "</table>\n",
       "<p>5 rows × 213 columns</p>\n",
       "</div>"
      ],
      "text/plain": [
       "                   goal  backers_count  pledged_ratio  funding_days  \\\n",
       "goal           1.000000       0.009228       0.000705      0.026012   \n",
       "backers_count  0.009228       1.000000       0.010888      0.006374   \n",
       "pledged_ratio  0.000705       0.010888       1.000000      0.004361   \n",
       "funding_days   0.026012       0.006374       0.004361      1.000000   \n",
       "staff_pick     0.006075       0.152003       0.001973      0.009698   \n",
       "\n",
       "               staff_pick    comics    crafts     dance    design   fashion  \\\n",
       "goal             0.006075  0.006768  0.005136  0.004320  0.003572  0.005840   \n",
       "backers_count    0.152003  0.012221  0.017867  0.012263  0.035396  0.001989   \n",
       "pledged_ratio    0.001973  0.007921  0.000607  0.001886  0.000200  0.001622   \n",
       "funding_days     0.009698  0.020172  0.035283  0.016211  0.006213  0.037684   \n",
       "staff_pick       1.000000  0.088465  0.021553  0.030920  0.013350  0.022998   \n",
       "\n",
       "                 ...           VE        VI        VN        VU        WS  \\\n",
       "goal             ...     0.000238  0.000079  0.000070  0.000136  0.000107   \n",
       "backers_count    ...     0.001146  0.001133  0.001597  0.000368  0.000416   \n",
       "pledged_ratio    ...     0.000147  0.000158  0.000251  0.000055  0.000060   \n",
       "funding_days     ...     0.007849  0.002725  0.000736  0.002881  0.000867   \n",
       "staff_pick       ...     0.003399  0.003652  0.000677  0.002433  0.003646   \n",
       "\n",
       "                     XK        YE        ZA        ZM        ZW  \n",
       "goal           0.000137  0.000158  0.000675  0.000243  0.000228  \n",
       "backers_count  0.000089  0.000278  0.000396  0.000770  0.000876  \n",
       "pledged_ratio  0.000053  0.000072  0.000374  0.000119  0.000131  \n",
       "funding_days   0.001889  0.001922  0.001408  0.000482  0.002635  \n",
       "staff_pick     0.002433  0.001636  0.002438  0.002829  0.001867  \n",
       "\n",
       "[5 rows x 213 columns]"
      ]
     },
     "execution_count": 277,
     "metadata": {},
     "output_type": "execute_result"
    }
   ],
   "source": [
    "corMat.head()"
   ]
  },
  {
   "cell_type": "code",
   "execution_count": 278,
   "metadata": {},
   "outputs": [
    {
     "data": {
      "text/plain": [
       "Index(['id', 'launch_state', 'launched_at', 'category', 'country', 'goal',\n",
       "       'backers_count', 'pledged_ratio', 'funding_days', 'staff_pick',\n",
       "       'comics', 'crafts', 'dance', 'design'],\n",
       "      dtype='object')"
      ]
     },
     "execution_count": 278,
     "metadata": {},
     "output_type": "execute_result"
    }
   ],
   "source": [
    "df.columns[0:14]"
   ]
  },
  {
   "cell_type": "code",
   "execution_count": 279,
   "metadata": {},
   "outputs": [
    {
     "data": {
      "text/plain": [
       "Index(['goal', 'backers_count', 'pledged_ratio', 'funding_days', 'staff_pick',\n",
       "       'comics', 'crafts', 'dance', 'design', 'fashion', 'film & video',\n",
       "       'food', 'games', 'journalism'],\n",
       "      dtype='object')"
      ]
     },
     "execution_count": 279,
     "metadata": {},
     "output_type": "execute_result"
    }
   ],
   "source": [
    "corMat.columns[0:14]"
   ]
  },
  {
   "cell_type": "code",
   "execution_count": 280,
   "metadata": {},
   "outputs": [],
   "source": [
    "# df = df.where(np.triu(np.ones(df.shape)).astype(np.bool))\n",
    "corMat_upper = corMat.where(np.triu(np.ones(corMat.shape), k=1).astype(np.bool))"
   ]
  },
  {
   "cell_type": "code",
   "execution_count": 337,
   "metadata": {},
   "outputs": [
    {
     "data": {
      "text/html": [
       "<div>\n",
       "<style scoped>\n",
       "    .dataframe tbody tr th:only-of-type {\n",
       "        vertical-align: middle;\n",
       "    }\n",
       "\n",
       "    .dataframe tbody tr th {\n",
       "        vertical-align: top;\n",
       "    }\n",
       "\n",
       "    .dataframe thead th {\n",
       "        text-align: right;\n",
       "    }\n",
       "</style>\n",
       "<table border=\"1\" class=\"dataframe\">\n",
       "  <thead>\n",
       "    <tr style=\"text-align: right;\">\n",
       "      <th></th>\n",
       "      <th>goal</th>\n",
       "      <th>backers_count</th>\n",
       "      <th>pledged_ratio</th>\n",
       "      <th>funding_days</th>\n",
       "      <th>staff_pick</th>\n",
       "      <th>comics</th>\n",
       "      <th>crafts</th>\n",
       "      <th>dance</th>\n",
       "      <th>design</th>\n",
       "      <th>fashion</th>\n",
       "      <th>...</th>\n",
       "      <th>VE</th>\n",
       "      <th>VI</th>\n",
       "      <th>VN</th>\n",
       "      <th>VU</th>\n",
       "      <th>WS</th>\n",
       "      <th>XK</th>\n",
       "      <th>YE</th>\n",
       "      <th>ZA</th>\n",
       "      <th>ZM</th>\n",
       "      <th>ZW</th>\n",
       "    </tr>\n",
       "  </thead>\n",
       "  <tbody>\n",
       "    <tr>\n",
       "      <th>goal</th>\n",
       "      <td>NaN</td>\n",
       "      <td>0.009228</td>\n",
       "      <td>0.000705</td>\n",
       "      <td>0.026012</td>\n",
       "      <td>0.006075</td>\n",
       "      <td>0.006768</td>\n",
       "      <td>0.005136</td>\n",
       "      <td>0.004320</td>\n",
       "      <td>0.003572</td>\n",
       "      <td>0.005840</td>\n",
       "      <td>...</td>\n",
       "      <td>0.000238</td>\n",
       "      <td>0.000079</td>\n",
       "      <td>0.000070</td>\n",
       "      <td>0.000136</td>\n",
       "      <td>0.000107</td>\n",
       "      <td>0.000137</td>\n",
       "      <td>0.000158</td>\n",
       "      <td>0.000675</td>\n",
       "      <td>0.000243</td>\n",
       "      <td>0.000228</td>\n",
       "    </tr>\n",
       "    <tr>\n",
       "      <th>backers_count</th>\n",
       "      <td>NaN</td>\n",
       "      <td>NaN</td>\n",
       "      <td>0.010888</td>\n",
       "      <td>0.006374</td>\n",
       "      <td>0.152003</td>\n",
       "      <td>0.012221</td>\n",
       "      <td>0.017867</td>\n",
       "      <td>0.012263</td>\n",
       "      <td>0.035396</td>\n",
       "      <td>0.001989</td>\n",
       "      <td>...</td>\n",
       "      <td>0.001146</td>\n",
       "      <td>0.001133</td>\n",
       "      <td>0.001597</td>\n",
       "      <td>0.000368</td>\n",
       "      <td>0.000416</td>\n",
       "      <td>0.000089</td>\n",
       "      <td>0.000278</td>\n",
       "      <td>0.000396</td>\n",
       "      <td>0.000770</td>\n",
       "      <td>0.000876</td>\n",
       "    </tr>\n",
       "    <tr>\n",
       "      <th>pledged_ratio</th>\n",
       "      <td>NaN</td>\n",
       "      <td>NaN</td>\n",
       "      <td>NaN</td>\n",
       "      <td>0.004361</td>\n",
       "      <td>0.001973</td>\n",
       "      <td>0.007921</td>\n",
       "      <td>0.000607</td>\n",
       "      <td>0.001886</td>\n",
       "      <td>0.000200</td>\n",
       "      <td>0.001622</td>\n",
       "      <td>...</td>\n",
       "      <td>0.000147</td>\n",
       "      <td>0.000158</td>\n",
       "      <td>0.000251</td>\n",
       "      <td>0.000055</td>\n",
       "      <td>0.000060</td>\n",
       "      <td>0.000053</td>\n",
       "      <td>0.000072</td>\n",
       "      <td>0.000374</td>\n",
       "      <td>0.000119</td>\n",
       "      <td>0.000131</td>\n",
       "    </tr>\n",
       "    <tr>\n",
       "      <th>funding_days</th>\n",
       "      <td>NaN</td>\n",
       "      <td>NaN</td>\n",
       "      <td>NaN</td>\n",
       "      <td>NaN</td>\n",
       "      <td>0.009698</td>\n",
       "      <td>0.020172</td>\n",
       "      <td>0.035283</td>\n",
       "      <td>0.016211</td>\n",
       "      <td>0.006213</td>\n",
       "      <td>0.037684</td>\n",
       "      <td>...</td>\n",
       "      <td>0.007849</td>\n",
       "      <td>0.002725</td>\n",
       "      <td>0.000736</td>\n",
       "      <td>0.002881</td>\n",
       "      <td>0.000867</td>\n",
       "      <td>0.001889</td>\n",
       "      <td>0.001922</td>\n",
       "      <td>0.001408</td>\n",
       "      <td>0.000482</td>\n",
       "      <td>0.002635</td>\n",
       "    </tr>\n",
       "    <tr>\n",
       "      <th>staff_pick</th>\n",
       "      <td>NaN</td>\n",
       "      <td>NaN</td>\n",
       "      <td>NaN</td>\n",
       "      <td>NaN</td>\n",
       "      <td>NaN</td>\n",
       "      <td>0.088465</td>\n",
       "      <td>0.021553</td>\n",
       "      <td>0.030920</td>\n",
       "      <td>0.013350</td>\n",
       "      <td>0.022998</td>\n",
       "      <td>...</td>\n",
       "      <td>0.003399</td>\n",
       "      <td>0.003652</td>\n",
       "      <td>0.000677</td>\n",
       "      <td>0.002433</td>\n",
       "      <td>0.003646</td>\n",
       "      <td>0.002433</td>\n",
       "      <td>0.001636</td>\n",
       "      <td>0.002438</td>\n",
       "      <td>0.002829</td>\n",
       "      <td>0.001867</td>\n",
       "    </tr>\n",
       "  </tbody>\n",
       "</table>\n",
       "<p>5 rows × 213 columns</p>\n",
       "</div>"
      ],
      "text/plain": [
       "               goal  backers_count  pledged_ratio  funding_days  staff_pick  \\\n",
       "goal            NaN       0.009228       0.000705      0.026012    0.006075   \n",
       "backers_count   NaN            NaN       0.010888      0.006374    0.152003   \n",
       "pledged_ratio   NaN            NaN            NaN      0.004361    0.001973   \n",
       "funding_days    NaN            NaN            NaN           NaN    0.009698   \n",
       "staff_pick      NaN            NaN            NaN           NaN         NaN   \n",
       "\n",
       "                 comics    crafts     dance    design   fashion    ...     \\\n",
       "goal           0.006768  0.005136  0.004320  0.003572  0.005840    ...      \n",
       "backers_count  0.012221  0.017867  0.012263  0.035396  0.001989    ...      \n",
       "pledged_ratio  0.007921  0.000607  0.001886  0.000200  0.001622    ...      \n",
       "funding_days   0.020172  0.035283  0.016211  0.006213  0.037684    ...      \n",
       "staff_pick     0.088465  0.021553  0.030920  0.013350  0.022998    ...      \n",
       "\n",
       "                     VE        VI        VN        VU        WS        XK  \\\n",
       "goal           0.000238  0.000079  0.000070  0.000136  0.000107  0.000137   \n",
       "backers_count  0.001146  0.001133  0.001597  0.000368  0.000416  0.000089   \n",
       "pledged_ratio  0.000147  0.000158  0.000251  0.000055  0.000060  0.000053   \n",
       "funding_days   0.007849  0.002725  0.000736  0.002881  0.000867  0.001889   \n",
       "staff_pick     0.003399  0.003652  0.000677  0.002433  0.003646  0.002433   \n",
       "\n",
       "                     YE        ZA        ZM        ZW  \n",
       "goal           0.000158  0.000675  0.000243  0.000228  \n",
       "backers_count  0.000278  0.000396  0.000770  0.000876  \n",
       "pledged_ratio  0.000072  0.000374  0.000119  0.000131  \n",
       "funding_days   0.001922  0.001408  0.000482  0.002635  \n",
       "staff_pick     0.001636  0.002438  0.002829  0.001867  \n",
       "\n",
       "[5 rows x 213 columns]"
      ]
     },
     "execution_count": 337,
     "metadata": {},
     "output_type": "execute_result"
    }
   ],
   "source": [
    "corMat_upper.head()"
   ]
  },
  {
   "cell_type": "code",
   "execution_count": 292,
   "metadata": {},
   "outputs": [
    {
     "data": {
      "text/plain": [
       "1.0"
      ]
     },
     "execution_count": 292,
     "metadata": {},
     "output_type": "execute_result"
    }
   ],
   "source": [
    "corMat.max().max()"
   ]
  },
  {
   "cell_type": "code",
   "execution_count": 285,
   "metadata": {},
   "outputs": [
    {
     "data": {
      "text/plain": [
       "0.5426473224100894"
      ]
     },
     "execution_count": 285,
     "metadata": {},
     "output_type": "execute_result"
    }
   ],
   "source": [
    "corMat_upper.max().max()"
   ]
  },
  {
   "cell_type": "code",
   "execution_count": null,
   "metadata": {},
   "outputs": [],
   "source": []
  },
  {
   "cell_type": "code",
   "execution_count": 317,
   "metadata": {},
   "outputs": [
    {
     "data": {
      "text/plain": [
       "US  GB    0.542647\n",
       "dtype: float64"
      ]
     },
     "execution_count": 317,
     "metadata": {},
     "output_type": "execute_result"
    }
   ],
   "source": [
    "corMat_upper.unstack().sort_values(kind='quicksort')[corMat_upper.unstack().sort_values(kind='quicksort') > .5]"
   ]
  },
  {
   "cell_type": "code",
   "execution_count": 318,
   "metadata": {},
   "outputs": [],
   "source": [
    "# It looks like the countries US and GB are highly correlated."
   ]
  },
  {
   "cell_type": "code",
   "execution_count": 322,
   "metadata": {},
   "outputs": [
    {
     "data": {
      "text/plain": [
       "132065"
      ]
     },
     "execution_count": 322,
     "metadata": {},
     "output_type": "execute_result"
    }
   ],
   "source": [
    "df[df['country'] == 'US'].shape[0]"
   ]
  },
  {
   "cell_type": "code",
   "execution_count": 323,
   "metadata": {},
   "outputs": [
    {
     "data": {
      "text/plain": [
       "14832"
      ]
     },
     "execution_count": 323,
     "metadata": {},
     "output_type": "execute_result"
    }
   ],
   "source": [
    "df[df['country'] == 'GB'].shape[0]"
   ]
  },
  {
   "cell_type": "code",
   "execution_count": 324,
   "metadata": {},
   "outputs": [
    {
     "data": {
      "text/plain": [
       "8.90405879180151"
      ]
     },
     "execution_count": 324,
     "metadata": {},
     "output_type": "execute_result"
    }
   ],
   "source": [
    "df[df['country'] == 'US'].shape[0] / df[df['country'] == 'GB'].shape[0]"
   ]
  },
  {
   "cell_type": "code",
   "execution_count": null,
   "metadata": {},
   "outputs": [],
   "source": [
    "# There are ~9x more US projects than GB - keep US and drop GP as a "
   ]
  },
  {
   "cell_type": "code",
   "execution_count": 332,
   "metadata": {
    "scrolled": true
   },
   "outputs": [
    {
     "data": {
      "text/plain": [
       "132065"
      ]
     },
     "execution_count": 332,
     "metadata": {},
     "output_type": "execute_result"
    }
   ],
   "source": [
    "df[df['country'] == 'US'].shape[0]"
   ]
  },
  {
   "cell_type": "code",
   "execution_count": 333,
   "metadata": {},
   "outputs": [
    {
     "data": {
      "text/plain": [
       "132065"
      ]
     },
     "execution_count": 333,
     "metadata": {},
     "output_type": "execute_result"
    }
   ],
   "source": [
    "df[df['US'] == 1].shape[0]"
   ]
  },
  {
   "cell_type": "code",
   "execution_count": 334,
   "metadata": {},
   "outputs": [
    {
     "data": {
      "text/plain": [
       "14832"
      ]
     },
     "execution_count": 334,
     "metadata": {},
     "output_type": "execute_result"
    }
   ],
   "source": [
    "df[df['country'] == 'GB'].shape[0]"
   ]
  },
  {
   "cell_type": "code",
   "execution_count": 346,
   "metadata": {},
   "outputs": [
    {
     "data": {
      "text/plain": [
       "14832"
      ]
     },
     "execution_count": 346,
     "metadata": {},
     "output_type": "execute_result"
    }
   ],
   "source": [
    "df[df['GB'] == 1].shape[0]"
   ]
  },
  {
   "cell_type": "code",
   "execution_count": 336,
   "metadata": {},
   "outputs": [],
   "source": [
    "# While seemingly correlated, it doesn't actually make sense to drop one country because it's correlated with another. Let's keep everything!"
   ]
  },
  {
   "cell_type": "code",
   "execution_count": 347,
   "metadata": {},
   "outputs": [
    {
     "data": {
      "text/html": [
       "<div>\n",
       "<style scoped>\n",
       "    .dataframe tbody tr th:only-of-type {\n",
       "        vertical-align: middle;\n",
       "    }\n",
       "\n",
       "    .dataframe tbody tr th {\n",
       "        vertical-align: top;\n",
       "    }\n",
       "\n",
       "    .dataframe thead th {\n",
       "        text-align: right;\n",
       "    }\n",
       "</style>\n",
       "<table border=\"1\" class=\"dataframe\">\n",
       "  <thead>\n",
       "    <tr style=\"text-align: right;\">\n",
       "      <th></th>\n",
       "      <th>goal</th>\n",
       "      <th>backers_count</th>\n",
       "      <th>pledged_ratio</th>\n",
       "      <th>funding_days</th>\n",
       "      <th>staff_pick</th>\n",
       "      <th>comics</th>\n",
       "      <th>crafts</th>\n",
       "      <th>dance</th>\n",
       "      <th>design</th>\n",
       "      <th>fashion</th>\n",
       "      <th>...</th>\n",
       "      <th>VE</th>\n",
       "      <th>VI</th>\n",
       "      <th>VN</th>\n",
       "      <th>VU</th>\n",
       "      <th>WS</th>\n",
       "      <th>XK</th>\n",
       "      <th>YE</th>\n",
       "      <th>ZA</th>\n",
       "      <th>ZM</th>\n",
       "      <th>ZW</th>\n",
       "    </tr>\n",
       "  </thead>\n",
       "  <tbody>\n",
       "    <tr>\n",
       "      <th>goal</th>\n",
       "      <td>1.000000</td>\n",
       "      <td>0.009228</td>\n",
       "      <td>0.000705</td>\n",
       "      <td>0.026012</td>\n",
       "      <td>0.006075</td>\n",
       "      <td>0.006768</td>\n",
       "      <td>0.005136</td>\n",
       "      <td>0.004320</td>\n",
       "      <td>0.003572</td>\n",
       "      <td>0.005840</td>\n",
       "      <td>...</td>\n",
       "      <td>0.000238</td>\n",
       "      <td>0.000079</td>\n",
       "      <td>0.000070</td>\n",
       "      <td>0.000136</td>\n",
       "      <td>0.000107</td>\n",
       "      <td>0.000137</td>\n",
       "      <td>0.000158</td>\n",
       "      <td>0.000675</td>\n",
       "      <td>0.000243</td>\n",
       "      <td>0.000228</td>\n",
       "    </tr>\n",
       "    <tr>\n",
       "      <th>backers_count</th>\n",
       "      <td>0.009228</td>\n",
       "      <td>1.000000</td>\n",
       "      <td>0.010888</td>\n",
       "      <td>0.006374</td>\n",
       "      <td>0.152003</td>\n",
       "      <td>0.012221</td>\n",
       "      <td>0.017867</td>\n",
       "      <td>0.012263</td>\n",
       "      <td>0.035396</td>\n",
       "      <td>0.001989</td>\n",
       "      <td>...</td>\n",
       "      <td>0.001146</td>\n",
       "      <td>0.001133</td>\n",
       "      <td>0.001597</td>\n",
       "      <td>0.000368</td>\n",
       "      <td>0.000416</td>\n",
       "      <td>0.000089</td>\n",
       "      <td>0.000278</td>\n",
       "      <td>0.000396</td>\n",
       "      <td>0.000770</td>\n",
       "      <td>0.000876</td>\n",
       "    </tr>\n",
       "    <tr>\n",
       "      <th>pledged_ratio</th>\n",
       "      <td>0.000705</td>\n",
       "      <td>0.010888</td>\n",
       "      <td>1.000000</td>\n",
       "      <td>0.004361</td>\n",
       "      <td>0.001973</td>\n",
       "      <td>0.007921</td>\n",
       "      <td>0.000607</td>\n",
       "      <td>0.001886</td>\n",
       "      <td>0.000200</td>\n",
       "      <td>0.001622</td>\n",
       "      <td>...</td>\n",
       "      <td>0.000147</td>\n",
       "      <td>0.000158</td>\n",
       "      <td>0.000251</td>\n",
       "      <td>0.000055</td>\n",
       "      <td>0.000060</td>\n",
       "      <td>0.000053</td>\n",
       "      <td>0.000072</td>\n",
       "      <td>0.000374</td>\n",
       "      <td>0.000119</td>\n",
       "      <td>0.000131</td>\n",
       "    </tr>\n",
       "    <tr>\n",
       "      <th>funding_days</th>\n",
       "      <td>0.026012</td>\n",
       "      <td>0.006374</td>\n",
       "      <td>0.004361</td>\n",
       "      <td>1.000000</td>\n",
       "      <td>0.009698</td>\n",
       "      <td>0.020172</td>\n",
       "      <td>0.035283</td>\n",
       "      <td>0.016211</td>\n",
       "      <td>0.006213</td>\n",
       "      <td>0.037684</td>\n",
       "      <td>...</td>\n",
       "      <td>0.007849</td>\n",
       "      <td>0.002725</td>\n",
       "      <td>0.000736</td>\n",
       "      <td>0.002881</td>\n",
       "      <td>0.000867</td>\n",
       "      <td>0.001889</td>\n",
       "      <td>0.001922</td>\n",
       "      <td>0.001408</td>\n",
       "      <td>0.000482</td>\n",
       "      <td>0.002635</td>\n",
       "    </tr>\n",
       "    <tr>\n",
       "      <th>staff_pick</th>\n",
       "      <td>0.006075</td>\n",
       "      <td>0.152003</td>\n",
       "      <td>0.001973</td>\n",
       "      <td>0.009698</td>\n",
       "      <td>1.000000</td>\n",
       "      <td>0.088465</td>\n",
       "      <td>0.021553</td>\n",
       "      <td>0.030920</td>\n",
       "      <td>0.013350</td>\n",
       "      <td>0.022998</td>\n",
       "      <td>...</td>\n",
       "      <td>0.003399</td>\n",
       "      <td>0.003652</td>\n",
       "      <td>0.000677</td>\n",
       "      <td>0.002433</td>\n",
       "      <td>0.003646</td>\n",
       "      <td>0.002433</td>\n",
       "      <td>0.001636</td>\n",
       "      <td>0.002438</td>\n",
       "      <td>0.002829</td>\n",
       "      <td>0.001867</td>\n",
       "    </tr>\n",
       "  </tbody>\n",
       "</table>\n",
       "<p>5 rows × 213 columns</p>\n",
       "</div>"
      ],
      "text/plain": [
       "                   goal  backers_count  pledged_ratio  funding_days  \\\n",
       "goal           1.000000       0.009228       0.000705      0.026012   \n",
       "backers_count  0.009228       1.000000       0.010888      0.006374   \n",
       "pledged_ratio  0.000705       0.010888       1.000000      0.004361   \n",
       "funding_days   0.026012       0.006374       0.004361      1.000000   \n",
       "staff_pick     0.006075       0.152003       0.001973      0.009698   \n",
       "\n",
       "               staff_pick    comics    crafts     dance    design   fashion  \\\n",
       "goal             0.006075  0.006768  0.005136  0.004320  0.003572  0.005840   \n",
       "backers_count    0.152003  0.012221  0.017867  0.012263  0.035396  0.001989   \n",
       "pledged_ratio    0.001973  0.007921  0.000607  0.001886  0.000200  0.001622   \n",
       "funding_days     0.009698  0.020172  0.035283  0.016211  0.006213  0.037684   \n",
       "staff_pick       1.000000  0.088465  0.021553  0.030920  0.013350  0.022998   \n",
       "\n",
       "                 ...           VE        VI        VN        VU        WS  \\\n",
       "goal             ...     0.000238  0.000079  0.000070  0.000136  0.000107   \n",
       "backers_count    ...     0.001146  0.001133  0.001597  0.000368  0.000416   \n",
       "pledged_ratio    ...     0.000147  0.000158  0.000251  0.000055  0.000060   \n",
       "funding_days     ...     0.007849  0.002725  0.000736  0.002881  0.000867   \n",
       "staff_pick       ...     0.003399  0.003652  0.000677  0.002433  0.003646   \n",
       "\n",
       "                     XK        YE        ZA        ZM        ZW  \n",
       "goal           0.000137  0.000158  0.000675  0.000243  0.000228  \n",
       "backers_count  0.000089  0.000278  0.000396  0.000770  0.000876  \n",
       "pledged_ratio  0.000053  0.000072  0.000374  0.000119  0.000131  \n",
       "funding_days   0.001889  0.001922  0.001408  0.000482  0.002635  \n",
       "staff_pick     0.002433  0.001636  0.002438  0.002829  0.001867  \n",
       "\n",
       "[5 rows x 213 columns]"
      ]
     },
     "execution_count": 347,
     "metadata": {},
     "output_type": "execute_result"
    }
   ],
   "source": [
    "corMat.head()"
   ]
  },
  {
   "cell_type": "code",
   "execution_count": 364,
   "metadata": {},
   "outputs": [
    {
     "data": {
      "text/html": [
       "<div>\n",
       "<style scoped>\n",
       "    .dataframe tbody tr th:only-of-type {\n",
       "        vertical-align: middle;\n",
       "    }\n",
       "\n",
       "    .dataframe tbody tr th {\n",
       "        vertical-align: top;\n",
       "    }\n",
       "\n",
       "    .dataframe thead th {\n",
       "        text-align: right;\n",
       "    }\n",
       "</style>\n",
       "<table border=\"1\" class=\"dataframe\">\n",
       "  <thead>\n",
       "    <tr style=\"text-align: right;\">\n",
       "      <th></th>\n",
       "      <th>goal</th>\n",
       "      <th>backers_count</th>\n",
       "      <th>pledged_ratio</th>\n",
       "      <th>funding_days</th>\n",
       "      <th>staff_pick</th>\n",
       "      <th>comics</th>\n",
       "      <th>crafts</th>\n",
       "      <th>dance</th>\n",
       "      <th>design</th>\n",
       "      <th>fashion</th>\n",
       "      <th>...</th>\n",
       "      <th>VE</th>\n",
       "      <th>VI</th>\n",
       "      <th>VN</th>\n",
       "      <th>VU</th>\n",
       "      <th>WS</th>\n",
       "      <th>XK</th>\n",
       "      <th>YE</th>\n",
       "      <th>ZA</th>\n",
       "      <th>ZM</th>\n",
       "      <th>ZW</th>\n",
       "    </tr>\n",
       "  </thead>\n",
       "  <tbody>\n",
       "    <tr>\n",
       "      <th>goal</th>\n",
       "      <td>NaN</td>\n",
       "      <td>0.009228</td>\n",
       "      <td>0.000705</td>\n",
       "      <td>0.026012</td>\n",
       "      <td>0.006075</td>\n",
       "      <td>0.006768</td>\n",
       "      <td>0.005136</td>\n",
       "      <td>0.004320</td>\n",
       "      <td>0.003572</td>\n",
       "      <td>0.005840</td>\n",
       "      <td>...</td>\n",
       "      <td>0.000238</td>\n",
       "      <td>0.000079</td>\n",
       "      <td>0.000070</td>\n",
       "      <td>0.000136</td>\n",
       "      <td>0.000107</td>\n",
       "      <td>0.000137</td>\n",
       "      <td>0.000158</td>\n",
       "      <td>0.000675</td>\n",
       "      <td>0.000243</td>\n",
       "      <td>0.000228</td>\n",
       "    </tr>\n",
       "    <tr>\n",
       "      <th>backers_count</th>\n",
       "      <td>NaN</td>\n",
       "      <td>NaN</td>\n",
       "      <td>0.010888</td>\n",
       "      <td>0.006374</td>\n",
       "      <td>0.152003</td>\n",
       "      <td>0.012221</td>\n",
       "      <td>0.017867</td>\n",
       "      <td>0.012263</td>\n",
       "      <td>0.035396</td>\n",
       "      <td>0.001989</td>\n",
       "      <td>...</td>\n",
       "      <td>0.001146</td>\n",
       "      <td>0.001133</td>\n",
       "      <td>0.001597</td>\n",
       "      <td>0.000368</td>\n",
       "      <td>0.000416</td>\n",
       "      <td>0.000089</td>\n",
       "      <td>0.000278</td>\n",
       "      <td>0.000396</td>\n",
       "      <td>0.000770</td>\n",
       "      <td>0.000876</td>\n",
       "    </tr>\n",
       "    <tr>\n",
       "      <th>pledged_ratio</th>\n",
       "      <td>NaN</td>\n",
       "      <td>NaN</td>\n",
       "      <td>NaN</td>\n",
       "      <td>0.004361</td>\n",
       "      <td>0.001973</td>\n",
       "      <td>0.007921</td>\n",
       "      <td>0.000607</td>\n",
       "      <td>0.001886</td>\n",
       "      <td>0.000200</td>\n",
       "      <td>0.001622</td>\n",
       "      <td>...</td>\n",
       "      <td>0.000147</td>\n",
       "      <td>0.000158</td>\n",
       "      <td>0.000251</td>\n",
       "      <td>0.000055</td>\n",
       "      <td>0.000060</td>\n",
       "      <td>0.000053</td>\n",
       "      <td>0.000072</td>\n",
       "      <td>0.000374</td>\n",
       "      <td>0.000119</td>\n",
       "      <td>0.000131</td>\n",
       "    </tr>\n",
       "    <tr>\n",
       "      <th>funding_days</th>\n",
       "      <td>NaN</td>\n",
       "      <td>NaN</td>\n",
       "      <td>NaN</td>\n",
       "      <td>NaN</td>\n",
       "      <td>0.009698</td>\n",
       "      <td>0.020172</td>\n",
       "      <td>0.035283</td>\n",
       "      <td>0.016211</td>\n",
       "      <td>0.006213</td>\n",
       "      <td>0.037684</td>\n",
       "      <td>...</td>\n",
       "      <td>0.007849</td>\n",
       "      <td>0.002725</td>\n",
       "      <td>0.000736</td>\n",
       "      <td>0.002881</td>\n",
       "      <td>0.000867</td>\n",
       "      <td>0.001889</td>\n",
       "      <td>0.001922</td>\n",
       "      <td>0.001408</td>\n",
       "      <td>0.000482</td>\n",
       "      <td>0.002635</td>\n",
       "    </tr>\n",
       "    <tr>\n",
       "      <th>staff_pick</th>\n",
       "      <td>NaN</td>\n",
       "      <td>NaN</td>\n",
       "      <td>NaN</td>\n",
       "      <td>NaN</td>\n",
       "      <td>NaN</td>\n",
       "      <td>0.088465</td>\n",
       "      <td>0.021553</td>\n",
       "      <td>0.030920</td>\n",
       "      <td>0.013350</td>\n",
       "      <td>0.022998</td>\n",
       "      <td>...</td>\n",
       "      <td>0.003399</td>\n",
       "      <td>0.003652</td>\n",
       "      <td>0.000677</td>\n",
       "      <td>0.002433</td>\n",
       "      <td>0.003646</td>\n",
       "      <td>0.002433</td>\n",
       "      <td>0.001636</td>\n",
       "      <td>0.002438</td>\n",
       "      <td>0.002829</td>\n",
       "      <td>0.001867</td>\n",
       "    </tr>\n",
       "  </tbody>\n",
       "</table>\n",
       "<p>5 rows × 213 columns</p>\n",
       "</div>"
      ],
      "text/plain": [
       "               goal  backers_count  pledged_ratio  funding_days  staff_pick  \\\n",
       "goal            NaN       0.009228       0.000705      0.026012    0.006075   \n",
       "backers_count   NaN            NaN       0.010888      0.006374    0.152003   \n",
       "pledged_ratio   NaN            NaN            NaN      0.004361    0.001973   \n",
       "funding_days    NaN            NaN            NaN           NaN    0.009698   \n",
       "staff_pick      NaN            NaN            NaN           NaN         NaN   \n",
       "\n",
       "                 comics    crafts     dance    design   fashion    ...     \\\n",
       "goal           0.006768  0.005136  0.004320  0.003572  0.005840    ...      \n",
       "backers_count  0.012221  0.017867  0.012263  0.035396  0.001989    ...      \n",
       "pledged_ratio  0.007921  0.000607  0.001886  0.000200  0.001622    ...      \n",
       "funding_days   0.020172  0.035283  0.016211  0.006213  0.037684    ...      \n",
       "staff_pick     0.088465  0.021553  0.030920  0.013350  0.022998    ...      \n",
       "\n",
       "                     VE        VI        VN        VU        WS        XK  \\\n",
       "goal           0.000238  0.000079  0.000070  0.000136  0.000107  0.000137   \n",
       "backers_count  0.001146  0.001133  0.001597  0.000368  0.000416  0.000089   \n",
       "pledged_ratio  0.000147  0.000158  0.000251  0.000055  0.000060  0.000053   \n",
       "funding_days   0.007849  0.002725  0.000736  0.002881  0.000867  0.001889   \n",
       "staff_pick     0.003399  0.003652  0.000677  0.002433  0.003646  0.002433   \n",
       "\n",
       "                     YE        ZA        ZM        ZW  \n",
       "goal           0.000158  0.000675  0.000243  0.000228  \n",
       "backers_count  0.000278  0.000396  0.000770  0.000876  \n",
       "pledged_ratio  0.000072  0.000374  0.000119  0.000131  \n",
       "funding_days   0.001922  0.001408  0.000482  0.002635  \n",
       "staff_pick     0.001636  0.002438  0.002829  0.001867  \n",
       "\n",
       "[5 rows x 213 columns]"
      ]
     },
     "execution_count": 364,
     "metadata": {},
     "output_type": "execute_result"
    }
   ],
   "source": [
    "corMat_upper.head()"
   ]
  },
  {
   "cell_type": "code",
   "execution_count": 365,
   "metadata": {},
   "outputs": [],
   "source": [
    "corMat_values = corMat_upper.values[np.triu_indices(corMat_upper.shape[1], k=1)]"
   ]
  },
  {
   "cell_type": "code",
   "execution_count": 366,
   "metadata": {},
   "outputs": [
    {
     "data": {
      "text/plain": [
       "<matplotlib.lines.Line2D at 0x2472e0c5c18>"
      ]
     },
     "execution_count": 366,
     "metadata": {},
     "output_type": "execute_result"
    },
    {
     "data": {
      "image/png": "[encoded data removed]",
      "text/plain": [
       "<Figure size 432x288 with 1 Axes>"
      ]
     },
     "metadata": {},
     "output_type": "display_data"
    }
   ],
   "source": [
    "plt.scatter(x=range(0,len(corMat_values)),y=corMat_values, s=100)\n",
    "plt.axhline(y=0.5, color='r', linestyle='--', linewidth=4)"
   ]
  },
  {
   "cell_type": "code",
   "execution_count": null,
   "metadata": {},
   "outputs": [],
   "source": []
  },
  {
   "cell_type": "code",
   "execution_count": 367,
   "metadata": {},
   "outputs": [],
   "source": [
    "# ========================================\n",
    "# SAVE CSV\n",
    "# ========================================\n",
    "df.to_csv('data/df02.csv', sep=\",\")"
   ]
  }
 ],
 "metadata": {
  "kernelspec": {
   "display_name": "Python 3",
   "language": "python",
   "name": "python3"
  },
  "language_info": {
   "codemirror_mode": {
    "name": "ipython",
    "version": 3
   },
   "file_extension": ".py",
   "mimetype": "text/x-python",
   "name": "python",
   "nbconvert_exporter": "python",
   "pygments_lexer": "ipython3",
   "version": "3.6.5"
  }
 },
 "nbformat": 4,
 "nbformat_minor": 2
}
