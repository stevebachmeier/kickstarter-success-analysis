{
 "cells": [
  {
   "cell_type": "markdown",
   "metadata": {},
   "source": [
    "This is a supervised classification problem; the dependent variable is binary, 0 (for failure) and 1 (for success). As such, we will consider the following classification techniques:\n",
    "* X Naive-Bays\n",
    "* X logistic regression\n",
    "* X KNN\n",
    "* X SVM\n",
    "* X kernel SVM\n",
    "* X decision tree classification\n",
    "* X random forest classification\n",
    "\n",
    "Validation curves and learning curves will be considered when picking the best model for the project.\n",
    "\n",
    "Optional:\n",
    "* XGBoost\n",
    "* Reduce variables (eg PCA, LDA)\n",
    "* Optimize parameters (eg grid_search)\n",
    "* Look into SGD Classifier"
   ]
  },
  {
   "cell_type": "code",
   "execution_count": 2,
   "metadata": {},
   "outputs": [],
   "source": [
    "#-----------------------------------------\n",
    "# USER INPUTS\n"
   ]
  },
  {
   "cell_type": "code",
   "execution_count": 2,
   "metadata": {},
   "outputs": [],
   "source": [
    "#-----------------------------------------\n",
    "# IMPORT LIBRARIES\n",
    "\n",
    "import numpy as np\n",
    "import pandas as pd\n",
    "import matplotlib.pyplot as plt\n",
    "import seaborn as sns\n",
    "import time\n",
    "\n",
    "pd.options.display.max_columns = None # Shows all columns\n",
    "\n",
    "from sklearn.model_selection import train_test_split\n",
    "from sklearn.preprocessing import StandardScaler\n",
    "from sklearn.metrics import confusion_matrix, classification_report\n",
    "from sklearn.model_selection import cross_val_score\n",
    "\n",
    "from sklearn.naive_bayes import GaussianNB\n",
    "from sklearn.linear_model import LogisticRegression\n",
    "from sklearn.neighbors import KNeighborsClassifier\n",
    "from sklearn.svm import SVC\n",
    "from sklearn.tree import DecisionTreeClassifier\n",
    "from sklearn.ensemble import RandomForestClassifier\n",
    "from sklearn.decomposition import PCA\n",
    "from sklearn.model_selection import GridSearchCV"
   ]
  },
  {
   "cell_type": "code",
   "execution_count": 140,
   "metadata": {},
   "outputs": [],
   "source": [
    "#-----------------------------------------\n",
    "# DUMP/LOAD SESSION\n",
    "\n",
    "import dill\n",
    "\n",
    "# ---- DUMP ----\n",
    "#dill.dump_session('./04 Working - Models.db')\n",
    "\n",
    "# ---- LOAD ----\n",
    "#dill.load_session('./04 Working - Models.db')"
   ]
  },
  {
   "cell_type": "code",
   "execution_count": 4,
   "metadata": {},
   "outputs": [],
   "source": [
    "#-----------------------------------------\n",
    "# IMPORT DATAFRAME\n",
    "\n",
    "df = pd.read_csv('data/df02.csv', sep=',', na_filter=False, index_col=0, \n",
    "                 parse_dates=['launched_at'])\n",
    "\n",
    "# Checks\n",
    "if (df.isnull().sum().sum() != 0):\n",
    "    print('*** WARNING: Null values introduced with read_csv ***')\n",
    "if (df.isna().sum().sum() != 0):\n",
    "    print('*** WARNING: NA values introduced with read_csv ***')\n",
    "if (df=='').sum().sum() != 0:\n",
    "    print('*** WARNING: Empty string (\\'\\') values introduced with read_csv ***')"
   ]
  },
  {
   "cell_type": "code",
   "execution_count": 5,
   "metadata": {},
   "outputs": [
    {
     "data": {
      "text/plain": [
       "0"
      ]
     },
     "execution_count": 5,
     "metadata": {},
     "output_type": "execute_result"
    }
   ],
   "source": [
    "df.isnull().sum().sum()"
   ]
  },
  {
   "cell_type": "code",
   "execution_count": 6,
   "metadata": {},
   "outputs": [
    {
     "data": {
      "text/plain": [
       "0"
      ]
     },
     "execution_count": 6,
     "metadata": {},
     "output_type": "execute_result"
    }
   ],
   "source": [
    "df.isna().sum().sum()"
   ]
  },
  {
   "cell_type": "code",
   "execution_count": 7,
   "metadata": {},
   "outputs": [
    {
     "data": {
      "text/plain": [
       "0"
      ]
     },
     "execution_count": 7,
     "metadata": {},
     "output_type": "execute_result"
    }
   ],
   "source": [
    "(df == '').sum().sum()"
   ]
  },
  {
   "cell_type": "code",
   "execution_count": 8,
   "metadata": {},
   "outputs": [
    {
     "data": {
      "text/plain": [
       "Index(['launch_state', 'id', 'launched_at', 'category', 'country', 'goal',\n",
       "       'backers_count', 'pledged_ratio', 'funding_days', 'staff_pick',\n",
       "       'comics', 'crafts', 'dance', 'design', 'fashion', 'film & video',\n",
       "       'food', 'games', 'journalism', 'music', 'photography', 'publishing',\n",
       "       'technology', 'theater', 'AU', 'BE', 'CA', 'CH', 'DE', 'DK', 'ES', 'FR',\n",
       "       'GB', 'HK', 'IE', 'IT', 'JP', 'LU', 'MX', 'NL', 'NO', 'NZ', 'SE', 'SG',\n",
       "       'US'],\n",
       "      dtype='object')"
      ]
     },
     "execution_count": 8,
     "metadata": {},
     "output_type": "execute_result"
    }
   ],
   "source": [
    "df.columns"
   ]
  },
  {
   "cell_type": "code",
   "execution_count": 9,
   "metadata": {},
   "outputs": [],
   "source": [
    "info_variables = ['id','launched_at','category','country', 'pledged_ratio', 'backers_count']"
   ]
  },
  {
   "cell_type": "code",
   "execution_count": 10,
   "metadata": {},
   "outputs": [],
   "source": [
    "X = df.drop(columns=info_variables).drop(columns='launch_state')\n",
    "y = df['launch_state']"
   ]
  },
  {
   "cell_type": "code",
   "execution_count": 11,
   "metadata": {},
   "outputs": [],
   "source": [
    "#-----------------------------------------\n",
    "# TRAIN/TEST SPLIT\n",
    "\n",
    "X_train, X_test, y_train, y_test = train_test_split(\n",
    "    X, y, test_size=0.25, random_state=101)"
   ]
  },
  {
   "cell_type": "code",
   "execution_count": 12,
   "metadata": {},
   "outputs": [],
   "source": [
    "#-----------------------------------------\n",
    "# FEATURE SCALING\n",
    "\n",
    "sc_X = StandardScaler()\n",
    "X_train = sc_X.fit_transform(X_train)\n",
    "X_test = sc_X.transform(X_test)"
   ]
  },
  {
   "cell_type": "code",
   "execution_count": 13,
   "metadata": {},
   "outputs": [
    {
     "data": {
      "text/plain": [
       "(106085, 38)"
      ]
     },
     "execution_count": 13,
     "metadata": {},
     "output_type": "execute_result"
    }
   ],
   "source": [
    "X_train.shape"
   ]
  },
  {
   "cell_type": "code",
   "execution_count": 14,
   "metadata": {},
   "outputs": [
    {
     "data": {
      "text/plain": [
       "(106085,)"
      ]
     },
     "execution_count": 14,
     "metadata": {},
     "output_type": "execute_result"
    }
   ],
   "source": [
    "y_train.shape"
   ]
  },
  {
   "cell_type": "code",
   "execution_count": 15,
   "metadata": {},
   "outputs": [
    {
     "data": {
      "text/plain": [
       "(35362, 38)"
      ]
     },
     "execution_count": 15,
     "metadata": {},
     "output_type": "execute_result"
    }
   ],
   "source": [
    "X_test.shape"
   ]
  },
  {
   "cell_type": "code",
   "execution_count": 16,
   "metadata": {},
   "outputs": [
    {
     "data": {
      "text/plain": [
       "(35362,)"
      ]
     },
     "execution_count": 16,
     "metadata": {},
     "output_type": "execute_result"
    }
   ],
   "source": [
    "y_test.shape"
   ]
  },
  {
   "cell_type": "code",
   "execution_count": 17,
   "metadata": {},
   "outputs": [
    {
     "data": {
      "text/plain": [
       "0.7499982325535359"
      ]
     },
     "execution_count": 17,
     "metadata": {},
     "output_type": "execute_result"
    }
   ],
   "source": [
    "len(X_train) / (len(X_train) + len(X_test)) "
   ]
  },
  {
   "cell_type": "code",
   "execution_count": null,
   "metadata": {},
   "outputs": [],
   "source": [
    "#==============================================================================\n",
    "#\n",
    "# NAIVE BAYES\n",
    "#\n",
    "#=============================================================================="
   ]
  },
  {
   "cell_type": "code",
   "execution_count": 18,
   "metadata": {},
   "outputs": [
    {
     "name": "stdout",
     "output_type": "stream",
     "text": [
      "Runtime, fit: 0.1 sec\n"
     ]
    }
   ],
   "source": [
    "#-----------------------------------------\n",
    "# FIT MODEL\n",
    "\n",
    "start_clock = time.clock()\n",
    "\n",
    "# Naive-Bayes\n",
    "classifier_nb = GaussianNB()\n",
    "classifier_nb.fit(X_train, y_train)\n",
    "\n",
    "end_clock = time.clock()\n",
    "\n",
    "clock_fit_nb = end_clock - start_clock\n",
    "print('Runtime, fit: ', round(clock_fit_nb, 2), ' sec', sep='')"
   ]
  },
  {
   "cell_type": "code",
   "execution_count": 19,
   "metadata": {},
   "outputs": [
    {
     "name": "stdout",
     "output_type": "stream",
     "text": [
      "Runtime, predict: 0.04 sec\n"
     ]
    }
   ],
   "source": [
    "#-----------------------------------------\n",
    "# PREDICT TEST RESULTS\n",
    "\n",
    "start_clock = time.clock()\n",
    "\n",
    "y_pred_nb = classifier_nb.predict(X_test)\n",
    "\n",
    "end_clock = time.clock()\n",
    "\n",
    "clock_predict_nb = end_clock - start_clock\n",
    "print('Runtime, predict: ', round(clock_predict_nb, 2), ' sec', sep='')"
   ]
  },
  {
   "cell_type": "code",
   "execution_count": 20,
   "metadata": {},
   "outputs": [
    {
     "name": "stdout",
     "output_type": "stream",
     "text": [
      "[[ 3429 11525]\n",
      " [ 1787 18621]]\n",
      "\n",
      "\n",
      "             precision    recall  f1-score   support\n",
      "\n",
      "          0       0.66      0.23      0.34     14954\n",
      "          1       0.62      0.91      0.74     20408\n",
      "\n",
      "avg / total       0.63      0.62      0.57     35362\n",
      "\n"
     ]
    }
   ],
   "source": [
    "#-----------------------------------------\n",
    "# EVALUATE MODEL\n",
    "\n",
    "# Confusion matrix\n",
    "cm_nb = confusion_matrix(y_test, y_pred_nb)\n",
    "\n",
    "# Classification report\n",
    "cr_nb = classification_report(y_test, y_pred_nb)\n",
    "\n",
    "print(cm_nb)\n",
    "print(\"\\n\")\n",
    "print(cr_nb)"
   ]
  },
  {
   "cell_type": "code",
   "execution_count": 21,
   "metadata": {},
   "outputs": [
    {
     "data": {
      "text/plain": [
       "0.6235507041456931"
      ]
     },
     "execution_count": 21,
     "metadata": {},
     "output_type": "execute_result"
    }
   ],
   "source": [
    "acc_nb = cm_nb.diagonal().sum() / cm_nb.sum()\n",
    "acc_nb"
   ]
  },
  {
   "cell_type": "code",
   "execution_count": 22,
   "metadata": {},
   "outputs": [
    {
     "name": "stdout",
     "output_type": "stream",
     "text": [
      "Runtime, 10-fold CV: 1.54 sec\n"
     ]
    }
   ],
   "source": [
    "#-----------------------------------------\n",
    "# APPLY K-FOLD CROSS VALIDATION\n",
    "\n",
    "start_clock = time.clock()\n",
    "\n",
    "accuracies_nb = cross_val_score(\n",
    "    estimator=classifier_nb, X=X_train, y=y_train,\n",
    "    cv=10)\n",
    "\n",
    "end_clock = time.clock()\n",
    "\n",
    "clock_10FCV_nb = end_clock - start_clock\n",
    "print('Runtime, 10-fold CV: ', round(clock_10FCV_nb, 2), ' sec', sep='')"
   ]
  },
  {
   "cell_type": "code",
   "execution_count": 23,
   "metadata": {},
   "outputs": [
    {
     "name": "stdout",
     "output_type": "stream",
     "text": [
      "Accuracies:\n",
      "[0.6269557  0.62130066 0.63163352 0.62188914 0.625      0.62886501\n",
      " 0.62292609 0.61981523 0.62207768 0.6267911 ]\n",
      "\n",
      "\n",
      "RESULTS:\n",
      "  - Mean accuracy: 62.0%\n",
      "  - Accuracy std dev: 0.0%\n"
     ]
    }
   ],
   "source": [
    "print(\"Accuracies:\")\n",
    "print(accuracies_nb)\n",
    "print('\\n')\n",
    "print(\"RESULTS:\")\n",
    "print(f\"  - Mean accuracy: {round(accuracies_nb.mean(), 2)*100}%\")\n",
    "print(f\"  - Accuracy std dev: {round(accuracies_nb.std(), 2)*100}%\")"
   ]
  },
  {
   "cell_type": "code",
   "execution_count": 24,
   "metadata": {},
   "outputs": [],
   "source": [
    "df_results_nb = pd.DataFrame([{\n",
    "    'model':'Naive Bayes', \n",
    "    'time_fit':clock_fit_nb, 'time_predict':clock_predict_nb,\n",
    "    'time_10_fold_CV':clock_10FCV_nb,\n",
    "    'accuracy':acc_nb, 'acc_10_fold':accuracies_nb.mean()}])"
   ]
  },
  {
   "cell_type": "code",
   "execution_count": 25,
   "metadata": {},
   "outputs": [],
   "source": [
    "df_results_nb = df_results_nb[['model','time_fit','time_predict','time_10_fold_CV','accuracy','acc_10_fold']]"
   ]
  },
  {
   "cell_type": "code",
   "execution_count": 26,
   "metadata": {},
   "outputs": [],
   "source": [
    "df_results = df_results_nb"
   ]
  },
  {
   "cell_type": "code",
   "execution_count": 27,
   "metadata": {
    "scrolled": true
   },
   "outputs": [
    {
     "data": {
      "text/html": [
       "<div>\n",
       "<style scoped>\n",
       "    .dataframe tbody tr th:only-of-type {\n",
       "        vertical-align: middle;\n",
       "    }\n",
       "\n",
       "    .dataframe tbody tr th {\n",
       "        vertical-align: top;\n",
       "    }\n",
       "\n",
       "    .dataframe thead th {\n",
       "        text-align: right;\n",
       "    }\n",
       "</style>\n",
       "<table border=\"1\" class=\"dataframe\">\n",
       "  <thead>\n",
       "    <tr style=\"text-align: right;\">\n",
       "      <th></th>\n",
       "      <th>model</th>\n",
       "      <th>time_fit</th>\n",
       "      <th>time_predict</th>\n",
       "      <th>time_10_fold_CV</th>\n",
       "      <th>accuracy</th>\n",
       "      <th>acc_10_fold</th>\n",
       "    </tr>\n",
       "  </thead>\n",
       "  <tbody>\n",
       "    <tr>\n",
       "      <th>0</th>\n",
       "      <td>Naive Bayes</td>\n",
       "      <td>0.101767</td>\n",
       "      <td>0.03627</td>\n",
       "      <td>1.535787</td>\n",
       "      <td>0.623551</td>\n",
       "      <td>0.624725</td>\n",
       "    </tr>\n",
       "  </tbody>\n",
       "</table>\n",
       "</div>"
      ],
      "text/plain": [
       "         model  time_fit  time_predict  time_10_fold_CV  accuracy  acc_10_fold\n",
       "0  Naive Bayes  0.101767       0.03627         1.535787  0.623551     0.624725"
      ]
     },
     "execution_count": 27,
     "metadata": {},
     "output_type": "execute_result"
    }
   ],
   "source": [
    "df_results"
   ]
  },
  {
   "cell_type": "code",
   "execution_count": 48,
   "metadata": {},
   "outputs": [],
   "source": [
    "#==============================================================================\n",
    "#\n",
    "# LOGISTIC REGRESSION\n",
    "#\n",
    "#=============================================================================="
   ]
  },
  {
   "cell_type": "code",
   "execution_count": 28,
   "metadata": {},
   "outputs": [
    {
     "name": "stdout",
     "output_type": "stream",
     "text": [
      "Runtime, fit: 1.82 sec\n"
     ]
    }
   ],
   "source": [
    "#-----------------------------------------\n",
    "# FIT MODEL\n",
    "\n",
    "start_clock = time.clock()\n",
    "\n",
    "# Logistic regression\n",
    "classifier_LogReg = LogisticRegression(random_state=101)\n",
    "classifier_LogReg.fit(X_train, y_train)\n",
    "\n",
    "end_clock = time.clock()\n",
    "\n",
    "clock_fit_LogReg = end_clock - start_clock\n",
    "print('Runtime, fit: ', round(clock_fit_LogReg, 2), ' sec', sep='')"
   ]
  },
  {
   "cell_type": "code",
   "execution_count": 29,
   "metadata": {},
   "outputs": [
    {
     "name": "stdout",
     "output_type": "stream",
     "text": [
      "Runtime, predict: 0.01 sec\n"
     ]
    }
   ],
   "source": [
    "#-----------------------------------------\n",
    "# PREDICT TEST RESULTS\n",
    "\n",
    "start_clock = time.clock()\n",
    "\n",
    "y_pred_LogReg = classifier_LogReg.predict(X_test)\n",
    "\n",
    "end_clock = time.clock()\n",
    "\n",
    "clock_predict_LogReg = end_clock - start_clock\n",
    "print('Runtime, predict: ', round(clock_predict_LogReg, 2), ' sec', sep='')"
   ]
  },
  {
   "cell_type": "code",
   "execution_count": 30,
   "metadata": {},
   "outputs": [
    {
     "name": "stdout",
     "output_type": "stream",
     "text": [
      "[[ 7640  7314]\n",
      " [ 3495 16913]]\n",
      "\n",
      "\n",
      "             precision    recall  f1-score   support\n",
      "\n",
      "          0       0.69      0.51      0.59     14954\n",
      "          1       0.70      0.83      0.76     20408\n",
      "\n",
      "avg / total       0.69      0.69      0.69     35362\n",
      "\n"
     ]
    }
   ],
   "source": [
    "#-----------------------------------------\n",
    "# EVALUATE MODEL\n",
    "\n",
    "# Confusion matrix\n",
    "cm_LogReg = confusion_matrix(y_test, y_pred_LogReg)\n",
    "\n",
    "# Classification report\n",
    "cr_LogReg = classification_report(y_test, y_pred_LogReg)\n",
    "\n",
    "print(cm_LogReg)\n",
    "print(\"\\n\")\n",
    "print(cr_LogReg)"
   ]
  },
  {
   "cell_type": "code",
   "execution_count": 31,
   "metadata": {},
   "outputs": [],
   "source": [
    "acc_LogReg = cm_LogReg.diagonal().sum() / cm_LogReg.sum()"
   ]
  },
  {
   "cell_type": "code",
   "execution_count": 32,
   "metadata": {},
   "outputs": [
    {
     "data": {
      "text/plain": [
       "0.6943328997228664"
      ]
     },
     "execution_count": 32,
     "metadata": {},
     "output_type": "execute_result"
    }
   ],
   "source": [
    "acc_LogReg"
   ]
  },
  {
   "cell_type": "code",
   "execution_count": 33,
   "metadata": {},
   "outputs": [
    {
     "name": "stdout",
     "output_type": "stream",
     "text": [
      "Runtime, 10-fold CV: 17.07 sec\n"
     ]
    }
   ],
   "source": [
    "#-----------------------------------------\n",
    "# APPLY K-FOLD CROSS VALIDATION\n",
    "\n",
    "start_clock = time.clock()\n",
    "\n",
    "accuracies_LogReg = cross_val_score(\n",
    "    estimator=classifier_LogReg, X=X_train, y=y_train,\n",
    "    cv=10)\n",
    "\n",
    "end_clock = time.clock()\n",
    "\n",
    "clock_10FCV_LogReg = end_clock - start_clock\n",
    "print('Runtime, 10-fold CV: ', round(clock_10FCV_LogReg, 2), ' sec', sep='')"
   ]
  },
  {
   "cell_type": "code",
   "execution_count": 34,
   "metadata": {},
   "outputs": [
    {
     "name": "stdout",
     "output_type": "stream",
     "text": [
      "Accuracies:\n",
      "[0.68840716 0.69189444 0.69111132 0.68052413 0.69051659 0.69504148\n",
      " 0.69334465 0.68344646 0.69692685 0.68863122]\n",
      "\n",
      "\n",
      "RESULTS:\n",
      "  - Mean accuracy: 69.0%\n",
      "  - Accuracy std dev: 0.0%\n"
     ]
    }
   ],
   "source": [
    "print(\"Accuracies:\")\n",
    "print(accuracies_LogReg)\n",
    "print('\\n')\n",
    "print(\"RESULTS:\")\n",
    "print(f\"  - Mean accuracy: {round(accuracies_LogReg.mean(), 2)*100}%\")\n",
    "print(f\"  - Accuracy std dev: {round(accuracies_LogReg.std(), 2)*100}%\")"
   ]
  },
  {
   "cell_type": "code",
   "execution_count": 35,
   "metadata": {},
   "outputs": [],
   "source": [
    "df_results_LogReg = pd.DataFrame([{\n",
    "    'model':'Logistic Regression', \n",
    "    'time_fit':clock_fit_LogReg, 'time_predict':clock_predict_LogReg,\n",
    "    'time_10_fold_CV':clock_10FCV_LogReg,\n",
    "    'accuracy':acc_LogReg, 'acc_10_fold':accuracies_LogReg.mean()}])\n",
    "df_results_LogReg = df_results_LogReg[['model','time_fit','time_predict','time_10_fold_CV','accuracy','acc_10_fold']]"
   ]
  },
  {
   "cell_type": "code",
   "execution_count": 36,
   "metadata": {},
   "outputs": [],
   "source": [
    "df_results = pd.DataFrame.append(df_results, df_results_LogReg).reset_index(drop=True)"
   ]
  },
  {
   "cell_type": "code",
   "execution_count": 37,
   "metadata": {
    "scrolled": true
   },
   "outputs": [
    {
     "data": {
      "text/html": [
       "<div>\n",
       "<style scoped>\n",
       "    .dataframe tbody tr th:only-of-type {\n",
       "        vertical-align: middle;\n",
       "    }\n",
       "\n",
       "    .dataframe tbody tr th {\n",
       "        vertical-align: top;\n",
       "    }\n",
       "\n",
       "    .dataframe thead th {\n",
       "        text-align: right;\n",
       "    }\n",
       "</style>\n",
       "<table border=\"1\" class=\"dataframe\">\n",
       "  <thead>\n",
       "    <tr style=\"text-align: right;\">\n",
       "      <th></th>\n",
       "      <th>model</th>\n",
       "      <th>time_fit</th>\n",
       "      <th>time_predict</th>\n",
       "      <th>time_10_fold_CV</th>\n",
       "      <th>accuracy</th>\n",
       "      <th>acc_10_fold</th>\n",
       "    </tr>\n",
       "  </thead>\n",
       "  <tbody>\n",
       "    <tr>\n",
       "      <th>0</th>\n",
       "      <td>Naive Bayes</td>\n",
       "      <td>0.101767</td>\n",
       "      <td>0.036270</td>\n",
       "      <td>1.535787</td>\n",
       "      <td>0.623551</td>\n",
       "      <td>0.624725</td>\n",
       "    </tr>\n",
       "    <tr>\n",
       "      <th>1</th>\n",
       "      <td>Logistic Regression</td>\n",
       "      <td>1.822522</td>\n",
       "      <td>0.009085</td>\n",
       "      <td>17.069607</td>\n",
       "      <td>0.694333</td>\n",
       "      <td>0.689984</td>\n",
       "    </tr>\n",
       "  </tbody>\n",
       "</table>\n",
       "</div>"
      ],
      "text/plain": [
       "                 model  time_fit  time_predict  time_10_fold_CV  accuracy  \\\n",
       "0          Naive Bayes  0.101767      0.036270         1.535787  0.623551   \n",
       "1  Logistic Regression  1.822522      0.009085        17.069607  0.694333   \n",
       "\n",
       "   acc_10_fold  \n",
       "0     0.624725  \n",
       "1     0.689984  "
      ]
     },
     "execution_count": 37,
     "metadata": {},
     "output_type": "execute_result"
    }
   ],
   "source": [
    "df_results"
   ]
  },
  {
   "cell_type": "code",
   "execution_count": null,
   "metadata": {},
   "outputs": [],
   "source": [
    "#==============================================================================\n",
    "#\n",
    "# K NEAREST NEIGHBORS\n",
    "#\n",
    "#=============================================================================="
   ]
  },
  {
   "cell_type": "code",
   "execution_count": 38,
   "metadata": {},
   "outputs": [
    {
     "name": "stdout",
     "output_type": "stream",
     "text": [
      "Runtime, fit: 7.34 sec\n"
     ]
    }
   ],
   "source": [
    "#-----------------------------------------\n",
    "# FIT MODEL\n",
    "\n",
    "start_clock = time.clock()\n",
    "\n",
    "# KNN\n",
    "classifier_knn = KNeighborsClassifier(n_neighbors=5, metric=\"minkowski\", p=2)\n",
    "classifier_knn.fit(X_train, y_train)\n",
    "\n",
    "end_clock = time.clock()\n",
    "\n",
    "clock_fit_knn = end_clock - start_clock\n",
    "print('Runtime, fit: ', round(clock_fit_knn, 2), ' sec', sep='')"
   ]
  },
  {
   "cell_type": "code",
   "execution_count": 39,
   "metadata": {},
   "outputs": [
    {
     "name": "stdout",
     "output_type": "stream",
     "text": [
      "Runtime, predict: 101.32 sec\n"
     ]
    }
   ],
   "source": [
    "#-----------------------------------------\n",
    "# PREDICT TEST RESULTS\n",
    "\n",
    "start_clock = time.clock()\n",
    "\n",
    "y_pred_knn = classifier_knn.predict(X_test)\n",
    "\n",
    "end_clock = time.clock()\n",
    "\n",
    "clock_predict_knn = end_clock - start_clock\n",
    "print('Runtime, predict: ', round(clock_predict_knn, 2), ' sec', sep='')"
   ]
  },
  {
   "cell_type": "code",
   "execution_count": 40,
   "metadata": {},
   "outputs": [
    {
     "name": "stdout",
     "output_type": "stream",
     "text": [
      "[[ 8483  6471]\n",
      " [ 4748 15660]]\n",
      "\n",
      "\n",
      "             precision    recall  f1-score   support\n",
      "\n",
      "          0       0.64      0.57      0.60     14954\n",
      "          1       0.71      0.77      0.74     20408\n",
      "\n",
      "avg / total       0.68      0.68      0.68     35362\n",
      "\n"
     ]
    }
   ],
   "source": [
    "#-----------------------------------------\n",
    "# EVALUATE MODEL\n",
    "\n",
    "# Confusion matrix\n",
    "cm_knn = confusion_matrix(y_test, y_pred_knn)\n",
    "\n",
    "# Classification report\n",
    "cr_knn = classification_report(y_test, y_pred_knn)\n",
    "\n",
    "print(cm_knn)\n",
    "print(\"\\n\")\n",
    "print(cr_knn)"
   ]
  },
  {
   "cell_type": "code",
   "execution_count": 41,
   "metadata": {},
   "outputs": [
    {
     "data": {
      "text/plain": [
       "0.6827385328884112"
      ]
     },
     "execution_count": 41,
     "metadata": {},
     "output_type": "execute_result"
    }
   ],
   "source": [
    "acc_knn = cm_knn.diagonal().sum() / cm_knn.sum()\n",
    "acc_knn"
   ]
  },
  {
   "cell_type": "code",
   "execution_count": 43,
   "metadata": {},
   "outputs": [
    {
     "name": "stdout",
     "output_type": "stream",
     "text": [
      "10-fold CV estimated time:  18.11  min\n"
     ]
    }
   ],
   "source": [
    "#-----------------------------------------\n",
    "# APPLY K-FOLD CROSS VALIDATION\n",
    "\n",
    "# 10-fold cross validation time estimate:\n",
    "print('10-fold CV estimated time: ', \n",
    "      round((clock_fit_knn + clock_predict_knn)*10/60, 2), \n",
    "      ' min')"
   ]
  },
  {
   "cell_type": "code",
   "execution_count": 44,
   "metadata": {},
   "outputs": [
    {
     "name": "stdout",
     "output_type": "stream",
     "text": [
      "Runtime, 10-fold CV: 344.23 sec\n"
     ]
    }
   ],
   "source": [
    "start_clock = time.clock()\n",
    "\n",
    "accuracies_knn = cross_val_score(\n",
    "    estimator=classifier_knn, X=X_train, y=y_train,\n",
    "    cv=10)\n",
    "\n",
    "end_clock = time.clock()\n",
    "\n",
    "clock_10FCV_knn = end_clock - start_clock\n",
    "print('Runtime, 10-fold CV: ', round(clock_10FCV_knn, 2), ' sec', sep='')"
   ]
  },
  {
   "cell_type": "code",
   "execution_count": 45,
   "metadata": {},
   "outputs": [
    {
     "name": "stdout",
     "output_type": "stream",
     "text": [
      "Accuracies:\n",
      "[0.6736098  0.66993402 0.6820624  0.66355581 0.68231523 0.68137255\n",
      " 0.67458522 0.6770362  0.67449095 0.67911011]\n",
      "\n",
      "\n",
      "RESULTS:\n",
      "  - Mean accuracy: 68.0%\n",
      "  - Accuracy std dev: 1.0%\n"
     ]
    }
   ],
   "source": [
    "print(\"Accuracies:\")\n",
    "print(accuracies_knn)\n",
    "print('\\n')\n",
    "print(\"RESULTS:\")\n",
    "print(f\"  - Mean accuracy: {round(accuracies_knn.mean(), 2)*100}%\")\n",
    "print(f\"  - Accuracy std dev: {round(accuracies_knn.std(), 2)*100}%\")"
   ]
  },
  {
   "cell_type": "code",
   "execution_count": 46,
   "metadata": {},
   "outputs": [],
   "source": [
    "df_results_knn = pd.DataFrame([{\n",
    "    'model':'K Nearest Neighbors', \n",
    "    'time_fit':clock_fit_knn, 'time_predict':clock_predict_knn,\n",
    "    'time_10_fold_CV':clock_10FCV_knn,\n",
    "    'accuracy':acc_knn, 'acc_10_fold':accuracies_knn.mean()}])\n",
    "df_results_knn = df_results_knn[['model','time_fit','time_predict','time_10_fold_CV','accuracy','acc_10_fold']]"
   ]
  },
  {
   "cell_type": "code",
   "execution_count": 47,
   "metadata": {},
   "outputs": [],
   "source": [
    "df_results = pd.DataFrame.append(df_results, df_results_knn).reset_index(drop=True)"
   ]
  },
  {
   "cell_type": "code",
   "execution_count": 48,
   "metadata": {
    "scrolled": true
   },
   "outputs": [
    {
     "data": {
      "text/html": [
       "<div>\n",
       "<style scoped>\n",
       "    .dataframe tbody tr th:only-of-type {\n",
       "        vertical-align: middle;\n",
       "    }\n",
       "\n",
       "    .dataframe tbody tr th {\n",
       "        vertical-align: top;\n",
       "    }\n",
       "\n",
       "    .dataframe thead th {\n",
       "        text-align: right;\n",
       "    }\n",
       "</style>\n",
       "<table border=\"1\" class=\"dataframe\">\n",
       "  <thead>\n",
       "    <tr style=\"text-align: right;\">\n",
       "      <th></th>\n",
       "      <th>model</th>\n",
       "      <th>time_fit</th>\n",
       "      <th>time_predict</th>\n",
       "      <th>time_10_fold_CV</th>\n",
       "      <th>accuracy</th>\n",
       "      <th>acc_10_fold</th>\n",
       "    </tr>\n",
       "  </thead>\n",
       "  <tbody>\n",
       "    <tr>\n",
       "      <th>0</th>\n",
       "      <td>Naive Bayes</td>\n",
       "      <td>0.101767</td>\n",
       "      <td>0.036270</td>\n",
       "      <td>1.535787</td>\n",
       "      <td>0.623551</td>\n",
       "      <td>0.624725</td>\n",
       "    </tr>\n",
       "    <tr>\n",
       "      <th>1</th>\n",
       "      <td>Logistic Regression</td>\n",
       "      <td>1.822522</td>\n",
       "      <td>0.009085</td>\n",
       "      <td>17.069607</td>\n",
       "      <td>0.694333</td>\n",
       "      <td>0.689984</td>\n",
       "    </tr>\n",
       "    <tr>\n",
       "      <th>2</th>\n",
       "      <td>K Nearest Neighbors</td>\n",
       "      <td>7.340739</td>\n",
       "      <td>101.319590</td>\n",
       "      <td>344.234214</td>\n",
       "      <td>0.682739</td>\n",
       "      <td>0.675807</td>\n",
       "    </tr>\n",
       "  </tbody>\n",
       "</table>\n",
       "</div>"
      ],
      "text/plain": [
       "                 model  time_fit  time_predict  time_10_fold_CV  accuracy  \\\n",
       "0          Naive Bayes  0.101767      0.036270         1.535787  0.623551   \n",
       "1  Logistic Regression  1.822522      0.009085        17.069607  0.694333   \n",
       "2  K Nearest Neighbors  7.340739    101.319590       344.234214  0.682739   \n",
       "\n",
       "   acc_10_fold  \n",
       "0     0.624725  \n",
       "1     0.689984  \n",
       "2     0.675807  "
      ]
     },
     "execution_count": 48,
     "metadata": {},
     "output_type": "execute_result"
    }
   ],
   "source": [
    "df_results"
   ]
  },
  {
   "cell_type": "code",
   "execution_count": 49,
   "metadata": {},
   "outputs": [],
   "source": [
    "#==============================================================================\n",
    "#\n",
    "# SUPPORT VECTOR MACHINE\n",
    "#\n",
    "#=============================================================================="
   ]
  },
  {
   "cell_type": "code",
   "execution_count": 54,
   "metadata": {},
   "outputs": [
    {
     "name": "stdout",
     "output_type": "stream",
     "text": [
      "Runtime, fit: 954.38 sec\n"
     ]
    }
   ],
   "source": [
    "#-----------------------------------------\n",
    "# FIT MODEL\n",
    "\n",
    "start_clock = time.clock()\n",
    "\n",
    "# SVM\n",
    "classifier_svm_linear = SVC(kernel=\"linear\", random_state=101)\n",
    "classifier_svm_linear.fit(X_train, y_train)\n",
    "\n",
    "end_clock = time.clock()\n",
    "\n",
    "clock_fit_svm_linear = end_clock - start_clock\n",
    "print('Runtime, fit: ', round(clock_fit_svm_linear, 2), ' sec', sep='')"
   ]
  },
  {
   "cell_type": "code",
   "execution_count": 55,
   "metadata": {},
   "outputs": [
    {
     "name": "stdout",
     "output_type": "stream",
     "text": [
      "Runtime, predict: 90.73 sec\n"
     ]
    }
   ],
   "source": [
    "#-----------------------------------------\n",
    "# PREDICT TEST RESULTS\n",
    "\n",
    "start_clock = time.clock()\n",
    "\n",
    "y_pred_svm_linear = classifier_svm_linear.predict(X_test)\n",
    "\n",
    "end_clock = time.clock()\n",
    "\n",
    "clock_predict_svm_linear = end_clock - start_clock\n",
    "print('Runtime, predict: ', round(clock_predict_svm_linear, 2), ' sec', sep='')"
   ]
  },
  {
   "cell_type": "code",
   "execution_count": 56,
   "metadata": {},
   "outputs": [
    {
     "name": "stdout",
     "output_type": "stream",
     "text": [
      "[[ 6532  8422]\n",
      " [ 2994 17414]]\n",
      "\n",
      "\n",
      "             precision    recall  f1-score   support\n",
      "\n",
      "          0       0.69      0.44      0.53     14954\n",
      "          1       0.67      0.85      0.75     20408\n",
      "\n",
      "avg / total       0.68      0.68      0.66     35362\n",
      "\n"
     ]
    }
   ],
   "source": [
    "#-----------------------------------------\n",
    "# EVALUATE MODEL\n",
    "\n",
    "# Confusion matrix\n",
    "cm_svm_linear = confusion_matrix(y_test, y_pred_svm_linear)\n",
    "\n",
    "# Classification report\n",
    "cr_svm_linear = classification_report(y_test, y_pred_svm_linear)\n",
    "\n",
    "print(cm_svm_linear)\n",
    "print(\"\\n\")\n",
    "print(cr_svm_linear)"
   ]
  },
  {
   "cell_type": "code",
   "execution_count": 57,
   "metadata": {},
   "outputs": [
    {
     "data": {
      "text/plain": [
       "0.6771675810191731"
      ]
     },
     "execution_count": 57,
     "metadata": {},
     "output_type": "execute_result"
    }
   ],
   "source": [
    "acc_svm_linear = cm_svm_linear.diagonal().sum() / cm_svm_linear.sum()\n",
    "acc_svm_linear"
   ]
  },
  {
   "cell_type": "code",
   "execution_count": 58,
   "metadata": {},
   "outputs": [
    {
     "name": "stdout",
     "output_type": "stream",
     "text": [
      "10-fold CV estimated time:  2.9  hours\n"
     ]
    }
   ],
   "source": [
    "#-----------------------------------------\n",
    "# APPLY K-FOLD CROSS VALIDATION\n",
    "\n",
    "# 10-fold cross validation time estimate:\n",
    "print('10-fold CV estimated time: ', \n",
    "      round((clock_fit_svm_linear + clock_predict_svm_linear)*10/60/60, 2), \n",
    "      ' hours')"
   ]
  },
  {
   "cell_type": "code",
   "execution_count": null,
   "metadata": {},
   "outputs": [],
   "source": [
    "# *** TIME-INTENSIVE ***\n",
    "\"\"\"start_clock = time.clock()\n",
    "\n",
    "accuracies_svm = cross_val_score(\n",
    "    estimator=classifier_svm, X=X_train, y=y_train,\n",
    "    cv=10)\n",
    "\n",
    "end_clock = time.clock()\n",
    "\n",
    "clock_10FCV_svm = end_clock - start_clock\n",
    "print('Runtime, 10-fold CV: ', round(clock_10FCV_svm, 2), ' sec', sep='')\"\"\""
   ]
  },
  {
   "cell_type": "code",
   "execution_count": 59,
   "metadata": {},
   "outputs": [
    {
     "name": "stdout",
     "output_type": "stream",
     "text": [
      "No 10-fold CV time to report\n"
     ]
    }
   ],
   "source": [
    "try:\n",
    "    clock_10FCV_svm_linear\n",
    "except:\n",
    "    clock_10FCV_svm_linear = None\n",
    "    print(\"No 10-fold CV time to report\")"
   ]
  },
  {
   "cell_type": "code",
   "execution_count": 60,
   "metadata": {},
   "outputs": [
    {
     "name": "stdout",
     "output_type": "stream",
     "text": [
      "No K-fold CV accuracies to report\n"
     ]
    }
   ],
   "source": [
    "try:\n",
    "    accuracies_svm_linear\n",
    "except:\n",
    "    accuracy_10FCV_mean_svm_linear = None\n",
    "    print(\"No K-fold CV accuracies to report\")\n",
    "else:\n",
    "    accuracy_10FCV_mean_svm_linear = accuracies_svm_linear.mean()\n",
    "    print(\"Accuracies:\")\n",
    "    print(accuracies_svm_linear)\n",
    "    print('\\n')\n",
    "    print(\"RESULTS:\")\n",
    "    print(f\"  - Mean accuracy: {round(accuracies_svm_linear.mean(),4)*100}%\")\n",
    "    print(f\"  - Accuracy std dev: {round(accuracies_svm_linear.std(),4)*100}%\")"
   ]
  },
  {
   "cell_type": "code",
   "execution_count": 61,
   "metadata": {},
   "outputs": [],
   "source": [
    "df_results_svm_linear = pd.DataFrame([{\n",
    "    'model':'SVM, Linear', \n",
    "    'time_fit':clock_fit_svm_linear, 'time_predict':clock_predict_svm_linear,\n",
    "    'time_10_fold_CV':clock_10FCV_svm_linear,\n",
    "    'accuracy':acc_svm_linear, 'acc_10_fold':accuracy_10FCV_mean_svm_linear}])\n",
    "df_results_svm_linear = df_results_svm_linear[['model','time_fit','time_predict','time_10_fold_CV','accuracy','acc_10_fold']]"
   ]
  },
  {
   "cell_type": "code",
   "execution_count": 62,
   "metadata": {},
   "outputs": [],
   "source": [
    "df_results = pd.DataFrame.append(df_results, df_results_svm_linear).reset_index(drop=True)"
   ]
  },
  {
   "cell_type": "code",
   "execution_count": 63,
   "metadata": {
    "scrolled": true
   },
   "outputs": [
    {
     "data": {
      "text/html": [
       "<div>\n",
       "<style scoped>\n",
       "    .dataframe tbody tr th:only-of-type {\n",
       "        vertical-align: middle;\n",
       "    }\n",
       "\n",
       "    .dataframe tbody tr th {\n",
       "        vertical-align: top;\n",
       "    }\n",
       "\n",
       "    .dataframe thead th {\n",
       "        text-align: right;\n",
       "    }\n",
       "</style>\n",
       "<table border=\"1\" class=\"dataframe\">\n",
       "  <thead>\n",
       "    <tr style=\"text-align: right;\">\n",
       "      <th></th>\n",
       "      <th>model</th>\n",
       "      <th>time_fit</th>\n",
       "      <th>time_predict</th>\n",
       "      <th>time_10_fold_CV</th>\n",
       "      <th>accuracy</th>\n",
       "      <th>acc_10_fold</th>\n",
       "    </tr>\n",
       "  </thead>\n",
       "  <tbody>\n",
       "    <tr>\n",
       "      <th>0</th>\n",
       "      <td>Naive Bayes</td>\n",
       "      <td>0.101767</td>\n",
       "      <td>0.036270</td>\n",
       "      <td>1.53579</td>\n",
       "      <td>0.623551</td>\n",
       "      <td>0.624725</td>\n",
       "    </tr>\n",
       "    <tr>\n",
       "      <th>1</th>\n",
       "      <td>Logistic Regression</td>\n",
       "      <td>1.822522</td>\n",
       "      <td>0.009085</td>\n",
       "      <td>17.0696</td>\n",
       "      <td>0.694333</td>\n",
       "      <td>0.689984</td>\n",
       "    </tr>\n",
       "    <tr>\n",
       "      <th>2</th>\n",
       "      <td>K Nearest Neighbors</td>\n",
       "      <td>7.340739</td>\n",
       "      <td>101.319590</td>\n",
       "      <td>344.234</td>\n",
       "      <td>0.682739</td>\n",
       "      <td>0.675807</td>\n",
       "    </tr>\n",
       "    <tr>\n",
       "      <th>3</th>\n",
       "      <td>SVM, Linear</td>\n",
       "      <td>954.375944</td>\n",
       "      <td>90.726687</td>\n",
       "      <td>None</td>\n",
       "      <td>0.677168</td>\n",
       "      <td>None</td>\n",
       "    </tr>\n",
       "  </tbody>\n",
       "</table>\n",
       "</div>"
      ],
      "text/plain": [
       "                 model    time_fit  time_predict time_10_fold_CV  accuracy  \\\n",
       "0          Naive Bayes    0.101767      0.036270         1.53579  0.623551   \n",
       "1  Logistic Regression    1.822522      0.009085         17.0696  0.694333   \n",
       "2  K Nearest Neighbors    7.340739    101.319590         344.234  0.682739   \n",
       "3          SVM, Linear  954.375944     90.726687            None  0.677168   \n",
       "\n",
       "  acc_10_fold  \n",
       "0    0.624725  \n",
       "1    0.689984  \n",
       "2    0.675807  \n",
       "3        None  "
      ]
     },
     "execution_count": 63,
     "metadata": {},
     "output_type": "execute_result"
    }
   ],
   "source": [
    "df_results"
   ]
  },
  {
   "cell_type": "code",
   "execution_count": null,
   "metadata": {},
   "outputs": [],
   "source": [
    "#==============================================================================\n",
    "#\n",
    "# SUPPORT VECTOR MACHINE, KERNEL RBF\n",
    "#\n",
    "#=============================================================================="
   ]
  },
  {
   "cell_type": "code",
   "execution_count": 64,
   "metadata": {},
   "outputs": [
    {
     "name": "stdout",
     "output_type": "stream",
     "text": [
      "Runtime, fit: 1091.78 sec\n"
     ]
    }
   ],
   "source": [
    "#-----------------------------------------\n",
    "# FIT MODEL\n",
    "\n",
    "start_clock = time.clock()\n",
    "\n",
    "# SVM\n",
    "classifier_svm_rbf = SVC(kernel=\"rbf\", random_state=101)\n",
    "classifier_svm_rbf.fit(X_train, y_train)\n",
    "\n",
    "end_clock = time.clock()\n",
    "\n",
    "clock_fit_svm_rbf = end_clock - start_clock\n",
    "print('Runtime, fit: ', round(clock_fit_svm_rbf, 2), ' sec', sep='')"
   ]
  },
  {
   "cell_type": "code",
   "execution_count": 65,
   "metadata": {},
   "outputs": [
    {
     "name": "stdout",
     "output_type": "stream",
     "text": [
      "Runtime, predict: 120.43 sec\n"
     ]
    }
   ],
   "source": [
    "#-----------------------------------------\n",
    "# PREDICT TEST RESULTS\n",
    "\n",
    "start_clock = time.clock()\n",
    "\n",
    "y_pred_svm_rbf = classifier_svm_rbf.predict(X_test)\n",
    "\n",
    "end_clock = time.clock()\n",
    "\n",
    "clock_predict_svm_rbf = end_clock - start_clock\n",
    "print('Runtime, predict: ', round(clock_predict_svm_rbf, 2), ' sec', sep='')"
   ]
  },
  {
   "cell_type": "code",
   "execution_count": 66,
   "metadata": {},
   "outputs": [
    {
     "name": "stdout",
     "output_type": "stream",
     "text": [
      "[[ 7247  7707]\n",
      " [ 3506 16902]]\n",
      "\n",
      "\n",
      "             precision    recall  f1-score   support\n",
      "\n",
      "          0       0.67      0.48      0.56     14954\n",
      "          1       0.69      0.83      0.75     20408\n",
      "\n",
      "avg / total       0.68      0.68      0.67     35362\n",
      "\n"
     ]
    }
   ],
   "source": [
    "#-----------------------------------------\n",
    "# EVALUATE MODEL\n",
    "\n",
    "# Confusion matrix\n",
    "cm_svm_rbf = confusion_matrix(y_test, y_pred_svm_rbf)\n",
    "\n",
    "# Classification report\n",
    "cr_svm_rbf = classification_report(y_test, y_pred_svm_rbf)\n",
    "\n",
    "print(cm_svm_rbf)\n",
    "print(\"\\n\")\n",
    "print(cr_svm_rbf)"
   ]
  },
  {
   "cell_type": "code",
   "execution_count": 67,
   "metadata": {},
   "outputs": [
    {
     "data": {
      "text/plain": [
       "0.6829082065494033"
      ]
     },
     "execution_count": 67,
     "metadata": {},
     "output_type": "execute_result"
    }
   ],
   "source": [
    "acc_svm_rbf = cm_svm_rbf.diagonal().sum() / cm_svm_rbf.sum()\n",
    "acc_svm_rbf"
   ]
  },
  {
   "cell_type": "code",
   "execution_count": 68,
   "metadata": {},
   "outputs": [
    {
     "name": "stdout",
     "output_type": "stream",
     "text": [
      "10-fold CV estimated time:  3.37  hours\n"
     ]
    }
   ],
   "source": [
    "#-----------------------------------------\n",
    "# APPLY K-FOLD CROSS VALIDATION\n",
    "\n",
    "# 10-fold cross validation time estimate:\n",
    "print('10-fold CV estimated time: ', \n",
    "      round((clock_fit_svm_rbf + clock_predict_svm_rbf)*10/60/60, 2), \n",
    "      ' hours')"
   ]
  },
  {
   "cell_type": "code",
   "execution_count": 69,
   "metadata": {},
   "outputs": [
    {
     "data": {
      "text/plain": [
       "\"start_clock = time.clock()\\n\\naccuracies_svm_rbf = cross_val_score(\\n    estimator=classifier_svm_rbf, X=X_train, y=y_train,\\n    cv=10)\\n\\nend_clock = time.clock()\\n\\nclock_10FCV_svm_rbf = end_clock - start_clock\\nprint('Runtime, 10-fold CV: ', round(clock_10FCV_svm_rbf, 2), ' sec', sep='')\""
      ]
     },
     "execution_count": 69,
     "metadata": {},
     "output_type": "execute_result"
    }
   ],
   "source": [
    "# *** TIME-INTENSIVE ***\n",
    "\"\"\"start_clock = time.clock()\n",
    "\n",
    "accuracies_svm_rbf = cross_val_score(\n",
    "    estimator=classifier_svm_rbf, X=X_train, y=y_train,\n",
    "    cv=10)\n",
    "\n",
    "end_clock = time.clock()\n",
    "\n",
    "clock_10FCV_svm_rbf = end_clock - start_clock\n",
    "print('Runtime, 10-fold CV: ', round(clock_10FCV_svm_rbf, 2), ' sec', sep='')\"\"\""
   ]
  },
  {
   "cell_type": "code",
   "execution_count": 70,
   "metadata": {},
   "outputs": [
    {
     "name": "stdout",
     "output_type": "stream",
     "text": [
      "No 10-fold CV time to report\n"
     ]
    }
   ],
   "source": [
    "try:\n",
    "    clock_10FCV_svm_rbf\n",
    "except:\n",
    "    clock_10FCV_svm_rbf = None\n",
    "    print(\"No 10-fold CV time to report\")"
   ]
  },
  {
   "cell_type": "code",
   "execution_count": 71,
   "metadata": {},
   "outputs": [
    {
     "name": "stdout",
     "output_type": "stream",
     "text": [
      "No K-fold CV accuracies to report\n"
     ]
    }
   ],
   "source": [
    "try:\n",
    "    accuracies_svm_rbf\n",
    "except:\n",
    "    accuracy_10FCV_mean_svm_rbf = None\n",
    "    print(\"No K-fold CV accuracies to report\")\n",
    "else:\n",
    "    accuracy_10FCV_mean_svm_rbf = accuracies_svm_rbf.mean()\n",
    "    print(\"Accuracies:\")\n",
    "    print(accuracies_svm_rbf)\n",
    "    print('\\n')\n",
    "    print(\"RESULTS:\")\n",
    "    print(f\"  - Mean accuracy: {round(accuracies_svm_rbf.mean(), 2)*100}%\")\n",
    "    print(f\"  - Accuracy std dev: {round(accuracies_svm_rbf.std(), 2)*100}%\")"
   ]
  },
  {
   "cell_type": "code",
   "execution_count": 72,
   "metadata": {},
   "outputs": [],
   "source": [
    "df_results_svm_rbf = pd.DataFrame([{\n",
    "    'model':'SVM, RBF', \n",
    "    'time_fit':clock_fit_svm_rbf, 'time_predict':clock_predict_svm_rbf,\n",
    "    'time_10_fold_CV':clock_10FCV_svm_rbf,\n",
    "    'accuracy':acc_svm_rbf, 'acc_10_fold':accuracy_10FCV_mean_svm_rbf}])\n",
    "df_results_svm_rbf = df_results_svm_rbf[['model','time_fit','time_predict','time_10_fold_CV','accuracy','acc_10_fold']]"
   ]
  },
  {
   "cell_type": "code",
   "execution_count": 73,
   "metadata": {},
   "outputs": [],
   "source": [
    "df_results = pd.DataFrame.append(df_results, df_results_svm_rbf).reset_index(drop=True)"
   ]
  },
  {
   "cell_type": "code",
   "execution_count": 74,
   "metadata": {
    "scrolled": false
   },
   "outputs": [
    {
     "data": {
      "text/html": [
       "<div>\n",
       "<style scoped>\n",
       "    .dataframe tbody tr th:only-of-type {\n",
       "        vertical-align: middle;\n",
       "    }\n",
       "\n",
       "    .dataframe tbody tr th {\n",
       "        vertical-align: top;\n",
       "    }\n",
       "\n",
       "    .dataframe thead th {\n",
       "        text-align: right;\n",
       "    }\n",
       "</style>\n",
       "<table border=\"1\" class=\"dataframe\">\n",
       "  <thead>\n",
       "    <tr style=\"text-align: right;\">\n",
       "      <th></th>\n",
       "      <th>model</th>\n",
       "      <th>time_fit</th>\n",
       "      <th>time_predict</th>\n",
       "      <th>time_10_fold_CV</th>\n",
       "      <th>accuracy</th>\n",
       "      <th>acc_10_fold</th>\n",
       "    </tr>\n",
       "  </thead>\n",
       "  <tbody>\n",
       "    <tr>\n",
       "      <th>0</th>\n",
       "      <td>Naive Bayes</td>\n",
       "      <td>0.101767</td>\n",
       "      <td>0.036270</td>\n",
       "      <td>1.53579</td>\n",
       "      <td>0.623551</td>\n",
       "      <td>0.624725</td>\n",
       "    </tr>\n",
       "    <tr>\n",
       "      <th>1</th>\n",
       "      <td>Logistic Regression</td>\n",
       "      <td>1.822522</td>\n",
       "      <td>0.009085</td>\n",
       "      <td>17.0696</td>\n",
       "      <td>0.694333</td>\n",
       "      <td>0.689984</td>\n",
       "    </tr>\n",
       "    <tr>\n",
       "      <th>2</th>\n",
       "      <td>K Nearest Neighbors</td>\n",
       "      <td>7.340739</td>\n",
       "      <td>101.319590</td>\n",
       "      <td>344.234</td>\n",
       "      <td>0.682739</td>\n",
       "      <td>0.675807</td>\n",
       "    </tr>\n",
       "    <tr>\n",
       "      <th>3</th>\n",
       "      <td>SVM, Linear</td>\n",
       "      <td>954.375944</td>\n",
       "      <td>90.726687</td>\n",
       "      <td>None</td>\n",
       "      <td>0.677168</td>\n",
       "      <td>None</td>\n",
       "    </tr>\n",
       "    <tr>\n",
       "      <th>4</th>\n",
       "      <td>SVM, RBF</td>\n",
       "      <td>1091.777649</td>\n",
       "      <td>120.427602</td>\n",
       "      <td>None</td>\n",
       "      <td>0.682908</td>\n",
       "      <td>None</td>\n",
       "    </tr>\n",
       "  </tbody>\n",
       "</table>\n",
       "</div>"
      ],
      "text/plain": [
       "                 model     time_fit  time_predict time_10_fold_CV  accuracy  \\\n",
       "0          Naive Bayes     0.101767      0.036270         1.53579  0.623551   \n",
       "1  Logistic Regression     1.822522      0.009085         17.0696  0.694333   \n",
       "2  K Nearest Neighbors     7.340739    101.319590         344.234  0.682739   \n",
       "3          SVM, Linear   954.375944     90.726687            None  0.677168   \n",
       "4             SVM, RBF  1091.777649    120.427602            None  0.682908   \n",
       "\n",
       "  acc_10_fold  \n",
       "0    0.624725  \n",
       "1    0.689984  \n",
       "2    0.675807  \n",
       "3        None  \n",
       "4        None  "
      ]
     },
     "execution_count": 74,
     "metadata": {},
     "output_type": "execute_result"
    }
   ],
   "source": [
    "df_results"
   ]
  },
  {
   "cell_type": "code",
   "execution_count": null,
   "metadata": {},
   "outputs": [],
   "source": [
    "#==============================================================================\n",
    "#\n",
    "# DECISION TREE CLASSIFICATION\n",
    "#\n",
    "#=============================================================================="
   ]
  },
  {
   "cell_type": "code",
   "execution_count": 75,
   "metadata": {},
   "outputs": [
    {
     "name": "stdout",
     "output_type": "stream",
     "text": [
      "Runtime, fit: 0.44 sec\n"
     ]
    }
   ],
   "source": [
    "#-----------------------------------------\n",
    "# FIT MODEL\n",
    "\n",
    "start_clock = time.clock()\n",
    "\n",
    "# Decision tree\n",
    "classifier_dt = DecisionTreeClassifier(criterion=\"entropy\", random_state=101)\n",
    "classifier_dt.fit(X_train, y_train)\n",
    "\n",
    "end_clock = time.clock()\n",
    "\n",
    "clock_fit_dt = end_clock - start_clock\n",
    "print('Runtime, fit: ', round(clock_fit_dt, 2), ' sec', sep='')"
   ]
  },
  {
   "cell_type": "code",
   "execution_count": 76,
   "metadata": {},
   "outputs": [
    {
     "name": "stdout",
     "output_type": "stream",
     "text": [
      "Runtime, predict: 0.01 sec\n"
     ]
    }
   ],
   "source": [
    "#-----------------------------------------\n",
    "# PREDICT TEST RESULTS\n",
    "\n",
    "start_clock = time.clock()\n",
    "\n",
    "y_pred_dt = classifier_dt.predict(X_test)\n",
    "\n",
    "end_clock = time.clock()\n",
    "\n",
    "clock_predict_dt = end_clock - start_clock\n",
    "print('Runtime, predict: ', round(clock_predict_dt, 2), ' sec', sep='')"
   ]
  },
  {
   "cell_type": "code",
   "execution_count": 77,
   "metadata": {},
   "outputs": [
    {
     "name": "stdout",
     "output_type": "stream",
     "text": [
      "[[ 8893  6061]\n",
      " [ 5808 14600]]\n",
      "\n",
      "\n",
      "             precision    recall  f1-score   support\n",
      "\n",
      "          0       0.60      0.59      0.60     14954\n",
      "          1       0.71      0.72      0.71     20408\n",
      "\n",
      "avg / total       0.66      0.66      0.66     35362\n",
      "\n"
     ]
    }
   ],
   "source": [
    "#-----------------------------------------\n",
    "# EVALUATE MODEL\n",
    "\n",
    "# Confusion matrix\n",
    "cm_dt = confusion_matrix(y_test, y_pred_dt)\n",
    "\n",
    "# Classification report\n",
    "cr_dt = classification_report(y_test, y_pred_dt)\n",
    "\n",
    "print(cm_dt)\n",
    "print(\"\\n\")\n",
    "print(cr_dt)"
   ]
  },
  {
   "cell_type": "code",
   "execution_count": 78,
   "metadata": {},
   "outputs": [
    {
     "data": {
      "text/plain": [
       "0.6643572196142752"
      ]
     },
     "execution_count": 78,
     "metadata": {},
     "output_type": "execute_result"
    }
   ],
   "source": [
    "acc_dt = cm_dt.diagonal().sum() / cm_dt.sum()\n",
    "acc_dt"
   ]
  },
  {
   "cell_type": "code",
   "execution_count": 79,
   "metadata": {},
   "outputs": [
    {
     "name": "stdout",
     "output_type": "stream",
     "text": [
      "10-fold CV estimated time:  4.52  sec\n"
     ]
    }
   ],
   "source": [
    "#-----------------------------------------\n",
    "# APPLY K-FOLD CROSS VALIDATION\n",
    "\n",
    "# 10-fold cross validation time estimate:\n",
    "print('10-fold CV estimated time: ', \n",
    "      round((clock_fit_dt + clock_predict_dt)*10, 2), \n",
    "      ' sec')"
   ]
  },
  {
   "cell_type": "code",
   "execution_count": 80,
   "metadata": {},
   "outputs": [
    {
     "name": "stdout",
     "output_type": "stream",
     "text": [
      "Runtime, 10-fold CV: 4.83 sec\n"
     ]
    }
   ],
   "source": [
    "start_clock = time.clock()\n",
    "\n",
    "accuracies_dt = cross_val_score(\n",
    "    estimator=classifier_dt, X=X_train, y=y_train,\n",
    "    cv=10)\n",
    "\n",
    "end_clock = time.clock()\n",
    "\n",
    "clock_10FCV_dt = end_clock - start_clock\n",
    "print('Runtime, 10-fold CV: ', round(clock_10FCV_dt, 2), ' sec', sep='')"
   ]
  },
  {
   "cell_type": "code",
   "execution_count": 81,
   "metadata": {},
   "outputs": [],
   "source": [
    "try:\n",
    "    clock_10FCV_dt\n",
    "except:\n",
    "    clock_10FCV_dt = None\n",
    "    print(\"No 10-fold CV time to report\")"
   ]
  },
  {
   "cell_type": "code",
   "execution_count": 82,
   "metadata": {},
   "outputs": [
    {
     "name": "stdout",
     "output_type": "stream",
     "text": [
      "Accuracies:\n",
      "[0.65230914 0.66399623 0.66556697 0.65177225 0.66855204 0.66826923\n",
      " 0.6578997  0.66581825 0.6683635  0.66289593]\n",
      "\n",
      "\n",
      "RESULTS:\n",
      "  - Mean accuracy: 66.0%\n",
      "  - Accuracy std dev: 1.0%\n"
     ]
    }
   ],
   "source": [
    "try:\n",
    "    accuracies_dt\n",
    "except:\n",
    "    accuracy_10FCV_mean_dt = None\n",
    "    print(\"No K-fold CV accuracies to report\")\n",
    "else:\n",
    "    accuracy_10FCV_mean_dt = accuracies_dt.mean()\n",
    "    print(\"Accuracies:\")\n",
    "    print(accuracies_dt)\n",
    "    print('\\n')\n",
    "    print(\"RESULTS:\")\n",
    "    print(f\"  - Mean accuracy: {round(accuracies_dt.mean(), 2)*100}%\")\n",
    "    print(f\"  - Accuracy std dev: {round(accuracies_dt.std(), 2)*100}%\")"
   ]
  },
  {
   "cell_type": "code",
   "execution_count": 83,
   "metadata": {},
   "outputs": [],
   "source": [
    "df_results_dt = pd.DataFrame([{\n",
    "    'model':'Decision Tree', \n",
    "    'time_fit':clock_fit_dt, 'time_predict':clock_predict_dt,\n",
    "    'time_10_fold_CV':clock_10FCV_dt,\n",
    "    'accuracy':acc_dt, 'acc_10_fold':accuracy_10FCV_mean_dt}])\n",
    "df_results_dt = df_results_dt[['model','time_fit','time_predict','time_10_fold_CV','accuracy','acc_10_fold']]"
   ]
  },
  {
   "cell_type": "code",
   "execution_count": 84,
   "metadata": {},
   "outputs": [],
   "source": [
    "df_results = pd.DataFrame.append(df_results, df_results_dt).reset_index(drop=True)"
   ]
  },
  {
   "cell_type": "code",
   "execution_count": 85,
   "metadata": {
    "scrolled": false
   },
   "outputs": [
    {
     "data": {
      "text/html": [
       "<div>\n",
       "<style scoped>\n",
       "    .dataframe tbody tr th:only-of-type {\n",
       "        vertical-align: middle;\n",
       "    }\n",
       "\n",
       "    .dataframe tbody tr th {\n",
       "        vertical-align: top;\n",
       "    }\n",
       "\n",
       "    .dataframe thead th {\n",
       "        text-align: right;\n",
       "    }\n",
       "</style>\n",
       "<table border=\"1\" class=\"dataframe\">\n",
       "  <thead>\n",
       "    <tr style=\"text-align: right;\">\n",
       "      <th></th>\n",
       "      <th>model</th>\n",
       "      <th>time_fit</th>\n",
       "      <th>time_predict</th>\n",
       "      <th>time_10_fold_CV</th>\n",
       "      <th>accuracy</th>\n",
       "      <th>acc_10_fold</th>\n",
       "    </tr>\n",
       "  </thead>\n",
       "  <tbody>\n",
       "    <tr>\n",
       "      <th>0</th>\n",
       "      <td>Naive Bayes</td>\n",
       "      <td>0.101767</td>\n",
       "      <td>0.036270</td>\n",
       "      <td>1.53579</td>\n",
       "      <td>0.623551</td>\n",
       "      <td>0.624725</td>\n",
       "    </tr>\n",
       "    <tr>\n",
       "      <th>1</th>\n",
       "      <td>Logistic Regression</td>\n",
       "      <td>1.822522</td>\n",
       "      <td>0.009085</td>\n",
       "      <td>17.0696</td>\n",
       "      <td>0.694333</td>\n",
       "      <td>0.689984</td>\n",
       "    </tr>\n",
       "    <tr>\n",
       "      <th>2</th>\n",
       "      <td>K Nearest Neighbors</td>\n",
       "      <td>7.340739</td>\n",
       "      <td>101.319590</td>\n",
       "      <td>344.234</td>\n",
       "      <td>0.682739</td>\n",
       "      <td>0.675807</td>\n",
       "    </tr>\n",
       "    <tr>\n",
       "      <th>3</th>\n",
       "      <td>SVM, Linear</td>\n",
       "      <td>954.375944</td>\n",
       "      <td>90.726687</td>\n",
       "      <td>None</td>\n",
       "      <td>0.677168</td>\n",
       "      <td>None</td>\n",
       "    </tr>\n",
       "    <tr>\n",
       "      <th>4</th>\n",
       "      <td>SVM, RBF</td>\n",
       "      <td>1091.777649</td>\n",
       "      <td>120.427602</td>\n",
       "      <td>None</td>\n",
       "      <td>0.682908</td>\n",
       "      <td>None</td>\n",
       "    </tr>\n",
       "    <tr>\n",
       "      <th>5</th>\n",
       "      <td>Decision Tree</td>\n",
       "      <td>0.437127</td>\n",
       "      <td>0.014542</td>\n",
       "      <td>4.82765</td>\n",
       "      <td>0.664357</td>\n",
       "      <td>0.662544</td>\n",
       "    </tr>\n",
       "  </tbody>\n",
       "</table>\n",
       "</div>"
      ],
      "text/plain": [
       "                 model     time_fit  time_predict time_10_fold_CV  accuracy  \\\n",
       "0          Naive Bayes     0.101767      0.036270         1.53579  0.623551   \n",
       "1  Logistic Regression     1.822522      0.009085         17.0696  0.694333   \n",
       "2  K Nearest Neighbors     7.340739    101.319590         344.234  0.682739   \n",
       "3          SVM, Linear   954.375944     90.726687            None  0.677168   \n",
       "4             SVM, RBF  1091.777649    120.427602            None  0.682908   \n",
       "5        Decision Tree     0.437127      0.014542         4.82765  0.664357   \n",
       "\n",
       "  acc_10_fold  \n",
       "0    0.624725  \n",
       "1    0.689984  \n",
       "2    0.675807  \n",
       "3        None  \n",
       "4        None  \n",
       "5    0.662544  "
      ]
     },
     "execution_count": 85,
     "metadata": {},
     "output_type": "execute_result"
    }
   ],
   "source": [
    "df_results"
   ]
  },
  {
   "cell_type": "code",
   "execution_count": null,
   "metadata": {},
   "outputs": [],
   "source": [
    "#==============================================================================\n",
    "#\n",
    "# RANDOM FOREST CLASSIFICATION (10 fold)\n",
    "#\n",
    "#=============================================================================="
   ]
  },
  {
   "cell_type": "code",
   "execution_count": 86,
   "metadata": {},
   "outputs": [
    {
     "name": "stdout",
     "output_type": "stream",
     "text": [
      "Runtime, fit: 1.02 sec\n"
     ]
    }
   ],
   "source": [
    "#-----------------------------------------\n",
    "# FIT MODEL\n",
    "\n",
    "start_clock = time.clock()\n",
    "\n",
    "# Decision tree\n",
    "classifier_rf10 = RandomForestClassifier(n_estimators=10, criterion=\"entropy\", random_state=101)\n",
    "classifier_rf10.fit(X_train, y_train)\n",
    "\n",
    "end_clock = time.clock()\n",
    "\n",
    "clock_fit_rf10 = end_clock - start_clock\n",
    "print('Runtime, fit: ', round(clock_fit_rf10, 2), ' sec', sep='')"
   ]
  },
  {
   "cell_type": "code",
   "execution_count": 87,
   "metadata": {},
   "outputs": [
    {
     "name": "stdout",
     "output_type": "stream",
     "text": [
      "Runtime, predict: 0.1 sec\n"
     ]
    }
   ],
   "source": [
    "#-----------------------------------------\n",
    "# PREDICT TEST RESULTS\n",
    "\n",
    "start_clock = time.clock()\n",
    "\n",
    "y_pred_rf10 = classifier_rf10.predict(X_test)\n",
    "\n",
    "end_clock = time.clock()\n",
    "\n",
    "clock_predict_rf10 = end_clock - start_clock\n",
    "print('Runtime, predict: ', round(clock_predict_rf10, 2), ' sec', sep='')"
   ]
  },
  {
   "cell_type": "code",
   "execution_count": 88,
   "metadata": {},
   "outputs": [
    {
     "name": "stdout",
     "output_type": "stream",
     "text": [
      "[[ 8789  6165]\n",
      " [ 5036 15372]]\n",
      "\n",
      "\n",
      "             precision    recall  f1-score   support\n",
      "\n",
      "          0       0.64      0.59      0.61     14954\n",
      "          1       0.71      0.75      0.73     20408\n",
      "\n",
      "avg / total       0.68      0.68      0.68     35362\n",
      "\n"
     ]
    }
   ],
   "source": [
    "#-----------------------------------------\n",
    "# EVALUATE MODEL\n",
    "\n",
    "# Confusion matrix\n",
    "cm_rf10 = confusion_matrix(y_test, y_pred_rf10)\n",
    "\n",
    "# Classification report\n",
    "cr_rf10 = classification_report(y_test, y_pred_rf10)\n",
    "\n",
    "print(cm_rf10)\n",
    "print(\"\\n\")\n",
    "print(cr_rf10)"
   ]
  },
  {
   "cell_type": "code",
   "execution_count": 89,
   "metadata": {},
   "outputs": [
    {
     "data": {
      "text/plain": [
       "0.6832475538713874"
      ]
     },
     "execution_count": 89,
     "metadata": {},
     "output_type": "execute_result"
    }
   ],
   "source": [
    "acc_rf10 = cm_rf10.diagonal().sum() / cm_rf10.sum()\n",
    "acc_rf10"
   ]
  },
  {
   "cell_type": "code",
   "execution_count": 90,
   "metadata": {},
   "outputs": [
    {
     "name": "stdout",
     "output_type": "stream",
     "text": [
      "10-fold CV estimated time:  11.21  sec\n"
     ]
    }
   ],
   "source": [
    "#-----------------------------------------\n",
    "# APPLY K-FOLD CROSS VALIDATION\n",
    "\n",
    "# 10-fold cross validation time estimate:\n",
    "print('10-fold CV estimated time: ', \n",
    "      round((clock_fit_rf10 + clock_predict_rf10)*10, 2), \n",
    "      ' sec')"
   ]
  },
  {
   "cell_type": "code",
   "execution_count": 91,
   "metadata": {},
   "outputs": [
    {
     "name": "stdout",
     "output_type": "stream",
     "text": [
      "Runtime, 10-fold CV: 10.46 sec\n"
     ]
    }
   ],
   "source": [
    "start_clock = time.clock()\n",
    "\n",
    "accuracies_rf10 = cross_val_score(\n",
    "    estimator=classifier_rf10, X=X_train, y=y_train,\n",
    "    cv=10)\n",
    "\n",
    "end_clock = time.clock()\n",
    "\n",
    "clock_10FCV_rf10 = end_clock - start_clock\n",
    "print('Runtime, 10-fold CV: ', round(clock_10FCV_rf10, 2), ' sec', sep='')"
   ]
  },
  {
   "cell_type": "code",
   "execution_count": 92,
   "metadata": {},
   "outputs": [],
   "source": [
    "try:\n",
    "    clock_10FCV_rf10\n",
    "except:\n",
    "    clock_10FCV_rf10 = None\n",
    "    print(\"No 10-fold CV time to report\")"
   ]
  },
  {
   "cell_type": "code",
   "execution_count": 93,
   "metadata": {},
   "outputs": [
    {
     "name": "stdout",
     "output_type": "stream",
     "text": [
      "Accuracies:\n",
      "[0.6797361  0.67917059 0.68620982 0.67062594 0.68514329 0.68712293\n",
      " 0.67647059 0.68174962 0.68325792 0.67835596]\n",
      "\n",
      "\n",
      "RESULTS:\n",
      "  - Mean accuracy: 68.0%\n",
      "  - Accuracy std dev: 0.0%\n"
     ]
    }
   ],
   "source": [
    "try:\n",
    "    accuracies_rf10\n",
    "except:\n",
    "    accuracy_10FCV_mean_rf10 = None\n",
    "    print(\"No K-fold CV accuracies to report\")\n",
    "else:\n",
    "    accuracy_10FCV_mean_rf10 = accuracies_rf10.mean()\n",
    "    print(\"Accuracies:\")\n",
    "    print(accuracies_rf10)\n",
    "    print('\\n')\n",
    "    print(\"RESULTS:\")\n",
    "    print(f\"  - Mean accuracy: {round(accuracies_rf10.mean(), 2)*100}%\")\n",
    "    print(f\"  - Accuracy std dev: {round(accuracies_rf10.std(), 2)*100}%\")"
   ]
  },
  {
   "cell_type": "code",
   "execution_count": 94,
   "metadata": {},
   "outputs": [],
   "source": [
    "df_results_rf10 = pd.DataFrame([{\n",
    "    'model':'Random Forest (10-fold)', \n",
    "    'time_fit':clock_fit_rf10, 'time_predict':clock_predict_rf10,\n",
    "    'time_10_fold_CV':clock_10FCV_rf10,\n",
    "    'accuracy':acc_rf10, 'acc_10_fold':accuracy_10FCV_mean_rf10}])\n",
    "df_results_rf10 = df_results_rf10[['model','time_fit','time_predict','time_10_fold_CV','accuracy','acc_10_fold']]"
   ]
  },
  {
   "cell_type": "code",
   "execution_count": 95,
   "metadata": {},
   "outputs": [],
   "source": [
    "df_results = pd.DataFrame.append(df_results, df_results_rf10).reset_index(drop=True)"
   ]
  },
  {
   "cell_type": "code",
   "execution_count": 96,
   "metadata": {
    "scrolled": true
   },
   "outputs": [
    {
     "data": {
      "text/html": [
       "<div>\n",
       "<style scoped>\n",
       "    .dataframe tbody tr th:only-of-type {\n",
       "        vertical-align: middle;\n",
       "    }\n",
       "\n",
       "    .dataframe tbody tr th {\n",
       "        vertical-align: top;\n",
       "    }\n",
       "\n",
       "    .dataframe thead th {\n",
       "        text-align: right;\n",
       "    }\n",
       "</style>\n",
       "<table border=\"1\" class=\"dataframe\">\n",
       "  <thead>\n",
       "    <tr style=\"text-align: right;\">\n",
       "      <th></th>\n",
       "      <th>model</th>\n",
       "      <th>time_fit</th>\n",
       "      <th>time_predict</th>\n",
       "      <th>time_10_fold_CV</th>\n",
       "      <th>accuracy</th>\n",
       "      <th>acc_10_fold</th>\n",
       "    </tr>\n",
       "  </thead>\n",
       "  <tbody>\n",
       "    <tr>\n",
       "      <th>0</th>\n",
       "      <td>Naive Bayes</td>\n",
       "      <td>0.101767</td>\n",
       "      <td>0.036270</td>\n",
       "      <td>1.53579</td>\n",
       "      <td>0.623551</td>\n",
       "      <td>0.624725</td>\n",
       "    </tr>\n",
       "    <tr>\n",
       "      <th>1</th>\n",
       "      <td>Logistic Regression</td>\n",
       "      <td>1.822522</td>\n",
       "      <td>0.009085</td>\n",
       "      <td>17.0696</td>\n",
       "      <td>0.694333</td>\n",
       "      <td>0.689984</td>\n",
       "    </tr>\n",
       "    <tr>\n",
       "      <th>2</th>\n",
       "      <td>K Nearest Neighbors</td>\n",
       "      <td>7.340739</td>\n",
       "      <td>101.319590</td>\n",
       "      <td>344.234</td>\n",
       "      <td>0.682739</td>\n",
       "      <td>0.675807</td>\n",
       "    </tr>\n",
       "    <tr>\n",
       "      <th>3</th>\n",
       "      <td>SVM, Linear</td>\n",
       "      <td>954.375944</td>\n",
       "      <td>90.726687</td>\n",
       "      <td>None</td>\n",
       "      <td>0.677168</td>\n",
       "      <td>None</td>\n",
       "    </tr>\n",
       "    <tr>\n",
       "      <th>4</th>\n",
       "      <td>SVM, RBF</td>\n",
       "      <td>1091.777649</td>\n",
       "      <td>120.427602</td>\n",
       "      <td>None</td>\n",
       "      <td>0.682908</td>\n",
       "      <td>None</td>\n",
       "    </tr>\n",
       "    <tr>\n",
       "      <th>5</th>\n",
       "      <td>Decision Tree</td>\n",
       "      <td>0.437127</td>\n",
       "      <td>0.014542</td>\n",
       "      <td>4.82765</td>\n",
       "      <td>0.664357</td>\n",
       "      <td>0.662544</td>\n",
       "    </tr>\n",
       "    <tr>\n",
       "      <th>6</th>\n",
       "      <td>Random Forest (10-fold)</td>\n",
       "      <td>1.016743</td>\n",
       "      <td>0.104582</td>\n",
       "      <td>10.463</td>\n",
       "      <td>0.683248</td>\n",
       "      <td>0.680784</td>\n",
       "    </tr>\n",
       "  </tbody>\n",
       "</table>\n",
       "</div>"
      ],
      "text/plain": [
       "                     model     time_fit  time_predict time_10_fold_CV  \\\n",
       "0              Naive Bayes     0.101767      0.036270         1.53579   \n",
       "1      Logistic Regression     1.822522      0.009085         17.0696   \n",
       "2      K Nearest Neighbors     7.340739    101.319590         344.234   \n",
       "3              SVM, Linear   954.375944     90.726687            None   \n",
       "4                 SVM, RBF  1091.777649    120.427602            None   \n",
       "5            Decision Tree     0.437127      0.014542         4.82765   \n",
       "6  Random Forest (10-fold)     1.016743      0.104582          10.463   \n",
       "\n",
       "   accuracy acc_10_fold  \n",
       "0  0.623551    0.624725  \n",
       "1  0.694333    0.689984  \n",
       "2  0.682739    0.675807  \n",
       "3  0.677168        None  \n",
       "4  0.682908        None  \n",
       "5  0.664357    0.662544  \n",
       "6  0.683248    0.680784  "
      ]
     },
     "execution_count": 96,
     "metadata": {},
     "output_type": "execute_result"
    }
   ],
   "source": [
    "df_results"
   ]
  },
  {
   "cell_type": "code",
   "execution_count": null,
   "metadata": {},
   "outputs": [],
   "source": [
    "#==============================================================================\n",
    "#\n",
    "# PRINCIPAL COMPONENT ANALYSIS\n",
    "#\n",
    "#=============================================================================="
   ]
  },
  {
   "cell_type": "code",
   "execution_count": 97,
   "metadata": {},
   "outputs": [],
   "source": [
    "# Explore principal components\n",
    "pca = PCA(n_components=None, random_state=101)\n",
    "X_train_pca = pca.fit_transform(X_train)\n",
    "X_test_pca = pca.transform(X_test)\n",
    "explained_variance_pca = pca.explained_variance_ratio_"
   ]
  },
  {
   "cell_type": "code",
   "execution_count": 98,
   "metadata": {},
   "outputs": [
    {
     "data": {
      "text/plain": [
       "(106085, 38)"
      ]
     },
     "execution_count": 98,
     "metadata": {},
     "output_type": "execute_result"
    }
   ],
   "source": [
    "X_train_pca.shape"
   ]
  },
  {
   "cell_type": "code",
   "execution_count": 99,
   "metadata": {},
   "outputs": [
    {
     "data": {
      "text/plain": [
       "(35362, 38)"
      ]
     },
     "execution_count": 99,
     "metadata": {},
     "output_type": "execute_result"
    }
   ],
   "source": [
    "X_test_pca.shape"
   ]
  },
  {
   "cell_type": "code",
   "execution_count": 100,
   "metadata": {},
   "outputs": [
    {
     "name": "stdout",
     "output_type": "stream",
     "text": [
      "[0.04967563 0.0323651  0.03097407 0.03065522 0.02929117 0.02895901\n",
      " 0.02881396 0.02861282 0.02827069 0.0281527  0.02760661 0.02750211\n",
      " 0.02742789 0.02731728 0.02712207 0.02677776 0.02670148 0.02653106\n",
      " 0.02647415 0.02646121 0.0264245  0.026394   0.02636637 0.02634576\n",
      " 0.02632933 0.02631318 0.02630068 0.02625171 0.02622513 0.02604295\n",
      " 0.02591925 0.02569279 0.02494222 0.02451341 0.02421073 0.02306018\n",
      " 0.00287187 0.00010396]\n"
     ]
    }
   ],
   "source": [
    "print(explained_variance_pca)"
   ]
  },
  {
   "cell_type": "code",
   "execution_count": 101,
   "metadata": {},
   "outputs": [
    {
     "data": {
      "text/plain": [
       "Text(0,0.5,'Second Principal Component')"
      ]
     },
     "execution_count": 101,
     "metadata": {},
     "output_type": "execute_result"
    },
    {
     "data": {
      "image/png": "[encoded data removed]",
      "text/plain": [
       "<Figure size 576x432 with 1 Axes>"
      ]
     },
     "metadata": {},
     "output_type": "display_data"
    }
   ],
   "source": [
    "plt.figure(figsize=(8,6))\n",
    "plt.scatter(X_train_pca[:,0], X_train_pca[:,1], c=y_train, cmap='plasma')\n",
    "plt.xlabel('First principal component')\n",
    "plt.ylabel('Second Principal Component')"
   ]
  },
  {
   "cell_type": "code",
   "execution_count": 102,
   "metadata": {},
   "outputs": [],
   "source": [
    "# Explore top two principal components\n",
    "pca = PCA(n_components=2, random_state=101)\n",
    "X_train_pca = pca.fit_transform(X_train)\n",
    "X_test_pca = pca.transform(X_test)\n",
    "explained_variance_pca = pca.explained_variance_ratio_"
   ]
  },
  {
   "cell_type": "code",
   "execution_count": 103,
   "metadata": {},
   "outputs": [
    {
     "data": {
      "text/plain": [
       "Text(0,0.5,'Second Principal Component')"
      ]
     },
     "execution_count": 103,
     "metadata": {},
     "output_type": "execute_result"
    },
    {
     "data": {
      "image/png": "[encoded data removed]",
      "text/plain": [
       "<Figure size 576x432 with 1 Axes>"
      ]
     },
     "metadata": {},
     "output_type": "display_data"
    }
   ],
   "source": [
    "plt.figure(figsize=(8,6))\n",
    "plt.scatter(X_train_pca[:,0], X_train_pca[:,1], c=y_train, cmap='plasma')\n",
    "plt.xlabel('First principal component')\n",
    "plt.ylabel('Second Principal Component')"
   ]
  },
  {
   "cell_type": "code",
   "execution_count": 104,
   "metadata": {},
   "outputs": [
    {
     "data": {
      "text/html": [
       "<div>\n",
       "<style scoped>\n",
       "    .dataframe tbody tr th:only-of-type {\n",
       "        vertical-align: middle;\n",
       "    }\n",
       "\n",
       "    .dataframe tbody tr th {\n",
       "        vertical-align: top;\n",
       "    }\n",
       "\n",
       "    .dataframe thead th {\n",
       "        text-align: right;\n",
       "    }\n",
       "</style>\n",
       "<table border=\"1\" class=\"dataframe\">\n",
       "  <thead>\n",
       "    <tr style=\"text-align: right;\">\n",
       "      <th></th>\n",
       "      <th>model</th>\n",
       "      <th>time_fit</th>\n",
       "      <th>time_predict</th>\n",
       "      <th>time_10_fold_CV</th>\n",
       "      <th>accuracy</th>\n",
       "      <th>acc_10_fold</th>\n",
       "    </tr>\n",
       "  </thead>\n",
       "  <tbody>\n",
       "    <tr>\n",
       "      <th>0</th>\n",
       "      <td>Naive Bayes</td>\n",
       "      <td>0.101767</td>\n",
       "      <td>0.036270</td>\n",
       "      <td>1.53579</td>\n",
       "      <td>0.623551</td>\n",
       "      <td>0.624725</td>\n",
       "    </tr>\n",
       "    <tr>\n",
       "      <th>1</th>\n",
       "      <td>Logistic Regression</td>\n",
       "      <td>1.822522</td>\n",
       "      <td>0.009085</td>\n",
       "      <td>17.0696</td>\n",
       "      <td>0.694333</td>\n",
       "      <td>0.689984</td>\n",
       "    </tr>\n",
       "    <tr>\n",
       "      <th>2</th>\n",
       "      <td>K Nearest Neighbors</td>\n",
       "      <td>7.340739</td>\n",
       "      <td>101.319590</td>\n",
       "      <td>344.234</td>\n",
       "      <td>0.682739</td>\n",
       "      <td>0.675807</td>\n",
       "    </tr>\n",
       "    <tr>\n",
       "      <th>3</th>\n",
       "      <td>SVM, Linear</td>\n",
       "      <td>954.375944</td>\n",
       "      <td>90.726687</td>\n",
       "      <td>None</td>\n",
       "      <td>0.677168</td>\n",
       "      <td>None</td>\n",
       "    </tr>\n",
       "    <tr>\n",
       "      <th>4</th>\n",
       "      <td>SVM, RBF</td>\n",
       "      <td>1091.777649</td>\n",
       "      <td>120.427602</td>\n",
       "      <td>None</td>\n",
       "      <td>0.682908</td>\n",
       "      <td>None</td>\n",
       "    </tr>\n",
       "    <tr>\n",
       "      <th>5</th>\n",
       "      <td>Decision Tree</td>\n",
       "      <td>0.437127</td>\n",
       "      <td>0.014542</td>\n",
       "      <td>4.82765</td>\n",
       "      <td>0.664357</td>\n",
       "      <td>0.662544</td>\n",
       "    </tr>\n",
       "    <tr>\n",
       "      <th>6</th>\n",
       "      <td>Random Forest (10-fold)</td>\n",
       "      <td>1.016743</td>\n",
       "      <td>0.104582</td>\n",
       "      <td>10.463</td>\n",
       "      <td>0.683248</td>\n",
       "      <td>0.680784</td>\n",
       "    </tr>\n",
       "  </tbody>\n",
       "</table>\n",
       "</div>"
      ],
      "text/plain": [
       "                     model     time_fit  time_predict time_10_fold_CV  \\\n",
       "0              Naive Bayes     0.101767      0.036270         1.53579   \n",
       "1      Logistic Regression     1.822522      0.009085         17.0696   \n",
       "2      K Nearest Neighbors     7.340739    101.319590         344.234   \n",
       "3              SVM, Linear   954.375944     90.726687            None   \n",
       "4                 SVM, RBF  1091.777649    120.427602            None   \n",
       "5            Decision Tree     0.437127      0.014542         4.82765   \n",
       "6  Random Forest (10-fold)     1.016743      0.104582          10.463   \n",
       "\n",
       "   accuracy acc_10_fold  \n",
       "0  0.623551    0.624725  \n",
       "1  0.694333    0.689984  \n",
       "2  0.682739    0.675807  \n",
       "3  0.677168        None  \n",
       "4  0.682908        None  \n",
       "5  0.664357    0.662544  \n",
       "6  0.683248    0.680784  "
      ]
     },
     "execution_count": 104,
     "metadata": {},
     "output_type": "execute_result"
    }
   ],
   "source": [
    "df_results"
   ]
  },
  {
   "cell_type": "code",
   "execution_count": 105,
   "metadata": {},
   "outputs": [
    {
     "name": "stdout",
     "output_type": "stream",
     "text": [
      "Runtime, fit: 0.02 sec\n"
     ]
    }
   ],
   "source": [
    "#-----------------------------------------\n",
    "# FIT MODEL (NAIVE BAYES)\n",
    "\n",
    "start_clock = time.clock()\n",
    "\n",
    "# Naive-Bayes\n",
    "classifier_pca2_nb = GaussianNB()\n",
    "classifier_pca2_nb.fit(X_train_pca, y_train)\n",
    "\n",
    "end_clock = time.clock()\n",
    "\n",
    "clock_fit_pca2_nb = end_clock - start_clock\n",
    "print('Runtime, fit: ', round(clock_fit_pca2_nb, 2), ' sec', sep='')\n",
    "\n",
    "end_clock = time.clock()"
   ]
  },
  {
   "cell_type": "code",
   "execution_count": 106,
   "metadata": {},
   "outputs": [
    {
     "name": "stdout",
     "output_type": "stream",
     "text": [
      "Runtime, predict: 0.0 sec\n"
     ]
    }
   ],
   "source": [
    "#-----------------------------------------\n",
    "# PREDICT TEST RESULTS\n",
    "\n",
    "start_clock = time.clock()\n",
    "\n",
    "y_pred_pca2_nb = classifier_pca2_nb.predict(X_test_pca)\n",
    "\n",
    "end_clock = time.clock()\n",
    "\n",
    "clock_predict_pca2_nb = end_clock - start_clock\n",
    "print('Runtime, predict: ', round(clock_predict_pca2_nb, 2), ' sec', sep='')"
   ]
  },
  {
   "cell_type": "code",
   "execution_count": 107,
   "metadata": {},
   "outputs": [
    {
     "name": "stdout",
     "output_type": "stream",
     "text": [
      "[[ 4028 10926]\n",
      " [ 2888 17520]]\n",
      "\n",
      "\n",
      "             precision    recall  f1-score   support\n",
      "\n",
      "          0       0.58      0.27      0.37     14954\n",
      "          1       0.62      0.86      0.72     20408\n",
      "\n",
      "avg / total       0.60      0.61      0.57     35362\n",
      "\n"
     ]
    }
   ],
   "source": [
    "#-----------------------------------------\n",
    "# EVALUATE MODEL\n",
    "\n",
    "# Confusion matrix\n",
    "cm_pca2_nb = confusion_matrix(y_test, y_pred_pca2_nb)\n",
    "\n",
    "# Classification report\n",
    "cr_pca2_nb = classification_report(y_test, y_pred_pca2_nb)\n",
    "\n",
    "print(cm_pca2_nb)\n",
    "print(\"\\n\")\n",
    "print(cr_pca2_nb)"
   ]
  },
  {
   "cell_type": "code",
   "execution_count": 108,
   "metadata": {},
   "outputs": [
    {
     "data": {
      "text/plain": [
       "0.6093546745093603"
      ]
     },
     "execution_count": 108,
     "metadata": {},
     "output_type": "execute_result"
    }
   ],
   "source": [
    "acc_pca2_nb = cm_pca2_nb.diagonal().sum() / cm_pca2_nb.sum()\n",
    "acc_pca2_nb"
   ]
  },
  {
   "cell_type": "code",
   "execution_count": 109,
   "metadata": {},
   "outputs": [
    {
     "name": "stdout",
     "output_type": "stream",
     "text": [
      "Runtime, 10-fold CV: 0.28 sec\n"
     ]
    }
   ],
   "source": [
    "#-----------------------------------------\n",
    "# APPLY K-FOLD CROSS VALIDATION\n",
    "\n",
    "start_clock = time.clock()\n",
    "\n",
    "accuracies_pca2_nb = cross_val_score(\n",
    "    estimator=classifier_pca2_nb, X=X_train_pca, y=y_train,\n",
    "    cv=10)\n",
    "\n",
    "end_clock = time.clock()\n",
    "\n",
    "clock_10FCV_pca2_nb = end_clock - start_clock\n",
    "print('Runtime, 10-fold CV: ', round(clock_10FCV_pca2_nb, 2), ' sec', sep='')"
   ]
  },
  {
   "cell_type": "code",
   "execution_count": 110,
   "metadata": {},
   "outputs": [],
   "source": [
    "try:\n",
    "    clock_10FCV_pca2_nb\n",
    "except:\n",
    "    clock_10FCV_pca2_nb = None\n",
    "    print(\"No 10-fold CV time to report\")"
   ]
  },
  {
   "cell_type": "code",
   "execution_count": 111,
   "metadata": {},
   "outputs": [
    {
     "name": "stdout",
     "output_type": "stream",
     "text": [
      "Accuracies:\n",
      "[0.61140434 0.60245052 0.61136771 0.60633484 0.60831448 0.61283937\n",
      " 0.61189668 0.61076546 0.60690045 0.60699472]\n",
      "\n",
      "\n",
      "RESULTS:\n",
      "  - Mean accuracy: 61.0%\n",
      "  - Accuracy std dev: 0.0%\n"
     ]
    }
   ],
   "source": [
    "try:\n",
    "    accuracies_pca2_nb\n",
    "except:\n",
    "    accuracy_10FCV_mean_pca2_nb = None\n",
    "    print(\"No K-fold CV accuracies to report\")\n",
    "else:\n",
    "    accuracy_10FCV_mean_pca2_nb = accuracies_pca2_nb.mean()\n",
    "    print(\"Accuracies:\")\n",
    "    print(accuracies_pca2_nb)\n",
    "    print('\\n')\n",
    "    print(\"RESULTS:\")\n",
    "    print(f\"  - Mean accuracy: {round(accuracies_pca2_nb.mean(), 2)*100}%\")\n",
    "    print(f\"  - Accuracy std dev: {round(accuracies_pca2_nb.std(), 2)*100}%\")"
   ]
  },
  {
   "cell_type": "code",
   "execution_count": 112,
   "metadata": {},
   "outputs": [],
   "source": [
    "df_results_pca2_nb = pd.DataFrame([{\n",
    "    'model':'PCA (n=2), Naive Bayes', \n",
    "    'time_fit':clock_fit_pca2_nb, 'time_predict':clock_predict_pca2_nb,\n",
    "    'time_10_fold_CV':clock_10FCV_pca2_nb,\n",
    "    'accuracy':acc_pca2_nb, 'acc_10_fold':accuracy_10FCV_mean_pca2_nb}])\n",
    "df_results_pca2_nb = df_results_pca2_nb[['model','time_fit','time_predict','time_10_fold_CV','accuracy','acc_10_fold']]"
   ]
  },
  {
   "cell_type": "code",
   "execution_count": 113,
   "metadata": {},
   "outputs": [],
   "source": [
    "df_results = pd.DataFrame.append(df_results, df_results_pca2_nb).reset_index(drop=True)"
   ]
  },
  {
   "cell_type": "code",
   "execution_count": 114,
   "metadata": {},
   "outputs": [
    {
     "data": {
      "text/html": [
       "<div>\n",
       "<style scoped>\n",
       "    .dataframe tbody tr th:only-of-type {\n",
       "        vertical-align: middle;\n",
       "    }\n",
       "\n",
       "    .dataframe tbody tr th {\n",
       "        vertical-align: top;\n",
       "    }\n",
       "\n",
       "    .dataframe thead th {\n",
       "        text-align: right;\n",
       "    }\n",
       "</style>\n",
       "<table border=\"1\" class=\"dataframe\">\n",
       "  <thead>\n",
       "    <tr style=\"text-align: right;\">\n",
       "      <th></th>\n",
       "      <th>model</th>\n",
       "      <th>time_fit</th>\n",
       "      <th>time_predict</th>\n",
       "      <th>time_10_fold_CV</th>\n",
       "      <th>accuracy</th>\n",
       "      <th>acc_10_fold</th>\n",
       "    </tr>\n",
       "  </thead>\n",
       "  <tbody>\n",
       "    <tr>\n",
       "      <th>0</th>\n",
       "      <td>Naive Bayes</td>\n",
       "      <td>0.101767</td>\n",
       "      <td>0.036270</td>\n",
       "      <td>1.53579</td>\n",
       "      <td>0.623551</td>\n",
       "      <td>0.624725</td>\n",
       "    </tr>\n",
       "    <tr>\n",
       "      <th>1</th>\n",
       "      <td>Logistic Regression</td>\n",
       "      <td>1.822522</td>\n",
       "      <td>0.009085</td>\n",
       "      <td>17.0696</td>\n",
       "      <td>0.694333</td>\n",
       "      <td>0.689984</td>\n",
       "    </tr>\n",
       "    <tr>\n",
       "      <th>2</th>\n",
       "      <td>K Nearest Neighbors</td>\n",
       "      <td>7.340739</td>\n",
       "      <td>101.319590</td>\n",
       "      <td>344.234</td>\n",
       "      <td>0.682739</td>\n",
       "      <td>0.675807</td>\n",
       "    </tr>\n",
       "    <tr>\n",
       "      <th>3</th>\n",
       "      <td>SVM, Linear</td>\n",
       "      <td>954.375944</td>\n",
       "      <td>90.726687</td>\n",
       "      <td>None</td>\n",
       "      <td>0.677168</td>\n",
       "      <td>None</td>\n",
       "    </tr>\n",
       "    <tr>\n",
       "      <th>4</th>\n",
       "      <td>SVM, RBF</td>\n",
       "      <td>1091.777649</td>\n",
       "      <td>120.427602</td>\n",
       "      <td>None</td>\n",
       "      <td>0.682908</td>\n",
       "      <td>None</td>\n",
       "    </tr>\n",
       "    <tr>\n",
       "      <th>5</th>\n",
       "      <td>Decision Tree</td>\n",
       "      <td>0.437127</td>\n",
       "      <td>0.014542</td>\n",
       "      <td>4.82765</td>\n",
       "      <td>0.664357</td>\n",
       "      <td>0.662544</td>\n",
       "    </tr>\n",
       "    <tr>\n",
       "      <th>6</th>\n",
       "      <td>Random Forest (10-fold)</td>\n",
       "      <td>1.016743</td>\n",
       "      <td>0.104582</td>\n",
       "      <td>10.463</td>\n",
       "      <td>0.683248</td>\n",
       "      <td>0.680784</td>\n",
       "    </tr>\n",
       "    <tr>\n",
       "      <th>7</th>\n",
       "      <td>PCA (n=2), Naive Bayes</td>\n",
       "      <td>0.024343</td>\n",
       "      <td>0.003595</td>\n",
       "      <td>0.284533</td>\n",
       "      <td>0.609355</td>\n",
       "      <td>0.608927</td>\n",
       "    </tr>\n",
       "  </tbody>\n",
       "</table>\n",
       "</div>"
      ],
      "text/plain": [
       "                     model     time_fit  time_predict time_10_fold_CV  \\\n",
       "0              Naive Bayes     0.101767      0.036270         1.53579   \n",
       "1      Logistic Regression     1.822522      0.009085         17.0696   \n",
       "2      K Nearest Neighbors     7.340739    101.319590         344.234   \n",
       "3              SVM, Linear   954.375944     90.726687            None   \n",
       "4                 SVM, RBF  1091.777649    120.427602            None   \n",
       "5            Decision Tree     0.437127      0.014542         4.82765   \n",
       "6  Random Forest (10-fold)     1.016743      0.104582          10.463   \n",
       "7   PCA (n=2), Naive Bayes     0.024343      0.003595        0.284533   \n",
       "\n",
       "   accuracy acc_10_fold  \n",
       "0  0.623551    0.624725  \n",
       "1  0.694333    0.689984  \n",
       "2  0.682739    0.675807  \n",
       "3  0.677168        None  \n",
       "4  0.682908        None  \n",
       "5  0.664357    0.662544  \n",
       "6  0.683248    0.680784  \n",
       "7  0.609355    0.608927  "
      ]
     },
     "execution_count": 114,
     "metadata": {},
     "output_type": "execute_result"
    }
   ],
   "source": [
    "df_results"
   ]
  },
  {
   "cell_type": "code",
   "execution_count": 2,
   "metadata": {},
   "outputs": [],
   "source": [
    "#==============================================================================\n",
    "#\n",
    "# GRID SEARCH\n",
    "#\n",
    "#=============================================================================="
   ]
  },
  {
   "cell_type": "code",
   "execution_count": null,
   "metadata": {},
   "outputs": [],
   "source": [
    "# ---- RANDOM FOREST ----"
   ]
  },
  {
   "cell_type": "code",
   "execution_count": 115,
   "metadata": {},
   "outputs": [],
   "source": [
    "# FIT MODEL\n",
    "\n",
    "classifier_grid_rf = RandomForestClassifier(random_state=101)"
   ]
  },
  {
   "cell_type": "markdown",
   "metadata": {},
   "source": [
    "\\# ---- APPLY GRID SEARCH ----\n",
    "\n",
    "Options include\n",
    "* criterion\n",
    "* n_estimators\n",
    "* max_features\n",
    "* max_depth\n",
    "* min_samples_leaf\n",
    "* min_samples_split"
   ]
  },
  {
   "cell_type": "code",
   "execution_count": 126,
   "metadata": {},
   "outputs": [],
   "source": [
    "# Decide parameters to loop through\n",
    "parameters_rf = {\n",
    "    'min_samples_leaf':[1,10,100,1000],\n",
    "    'max_features': [None, 'sqrt', 'log2']\n",
    "}"
   ]
  },
  {
   "cell_type": "code",
   "execution_count": 127,
   "metadata": {},
   "outputs": [],
   "source": [
    "# Create grid search object\n",
    "grid_search_rf = GridSearchCV(estimator=classifier_grid_rf,\n",
    "    param_grid=parameters_rf, scoring=\"accuracy\", cv=10,\n",
    "    n_jobs=-1, verbose=10)"
   ]
  },
  {
   "cell_type": "code",
   "execution_count": 128,
   "metadata": {},
   "outputs": [
    {
     "name": "stdout",
     "output_type": "stream",
     "text": [
      "Fitting 10 folds for each of 12 candidates, totalling 120 fits\n"
     ]
    },
    {
     "name": "stderr",
     "output_type": "stream",
     "text": [
      "[Parallel(n_jobs=-1)]: Done   2 tasks      | elapsed:    7.0s\n",
      "[Parallel(n_jobs=-1)]: Done   9 tasks      | elapsed:   14.7s\n",
      "[Parallel(n_jobs=-1)]: Done  16 tasks      | elapsed:   22.8s\n",
      "[Parallel(n_jobs=-1)]: Done  25 tasks      | elapsed:   30.2s\n",
      "[Parallel(n_jobs=-1)]: Done  34 tasks      | elapsed:   35.8s\n",
      "[Parallel(n_jobs=-1)]: Done  45 tasks      | elapsed:   42.0s\n",
      "[Parallel(n_jobs=-1)]: Done  56 tasks      | elapsed:   46.3s\n",
      "[Parallel(n_jobs=-1)]: Done  69 tasks      | elapsed:   50.2s\n",
      "[Parallel(n_jobs=-1)]: Done  82 tasks      | elapsed:   55.2s\n",
      "[Parallel(n_jobs=-1)]: Done  97 tasks      | elapsed:  1.0min\n",
      "[Parallel(n_jobs=-1)]: Done 118 out of 120 | elapsed:  1.1min remaining:    1.0s\n",
      "[Parallel(n_jobs=-1)]: Done 120 out of 120 | elapsed:  1.1min finished\n"
     ]
    },
    {
     "name": "stdout",
     "output_type": "stream",
     "text": [
      "Runtime, grid search: 67.25 sec\n"
     ]
    }
   ],
   "source": [
    "# Fit grid search object to training set\n",
    "\n",
    "start_clock = time.clock()\n",
    "grid_search_rf = grid_search_rf.fit(X_train, y_train)\n",
    "end_clock = time.clock()\n",
    "\n",
    "clock_grid_search_rf = end_clock - start_clock\n",
    "\n",
    "print('Runtime, grid search: ', round(clock_grid_search_rf, 2), ' sec', sep='')"
   ]
  },
  {
   "cell_type": "code",
   "execution_count": 129,
   "metadata": {},
   "outputs": [
    {
     "name": "stdout",
     "output_type": "stream",
     "text": [
      "Best accuracy: 71.0%\n",
      "\n",
      "\n",
      "Best parameters: {'max_features': 'log2', 'min_samples_leaf': 10}\n"
     ]
    }
   ],
   "source": [
    "# Print results\n",
    "best_accuracy_grid_search_rf = grid_search_rf.best_score_\n",
    "best_parameters_grid_search_rf = grid_search_rf.best_params_\n",
    "print(f\"Best accuracy: {round(best_accuracy_grid_search_rf, 2)*100}%\")\n",
    "print(\"\\n\")\n",
    "print(f\"Best parameters: {best_parameters_grid_search_rf}\")"
   ]
  },
  {
   "cell_type": "code",
   "execution_count": 130,
   "metadata": {
    "scrolled": true
   },
   "outputs": [
    {
     "name": "stdout",
     "output_type": "stream",
     "text": [
      "Fitting 10 folds for each of 24 candidates, totalling 240 fits\n"
     ]
    },
    {
     "name": "stderr",
     "output_type": "stream",
     "text": [
      "[Parallel(n_jobs=-1)]: Done   2 tasks      | elapsed:    8.4s\n",
      "[Parallel(n_jobs=-1)]: Done   9 tasks      | elapsed:   15.5s\n",
      "[Parallel(n_jobs=-1)]: Done  16 tasks      | elapsed:   24.0s\n",
      "[Parallel(n_jobs=-1)]: Done  25 tasks      | elapsed:   32.9s\n",
      "[Parallel(n_jobs=-1)]: Done  34 tasks      | elapsed:   42.5s\n",
      "[Parallel(n_jobs=-1)]: Done  45 tasks      | elapsed:   53.2s\n",
      "[Parallel(n_jobs=-1)]: Done  56 tasks      | elapsed:  1.1min\n",
      "[Parallel(n_jobs=-1)]: Done  69 tasks      | elapsed:  1.3min\n",
      "[Parallel(n_jobs=-1)]: Done  82 tasks      | elapsed:  1.4min\n",
      "[Parallel(n_jobs=-1)]: Done  97 tasks      | elapsed:  1.5min\n",
      "[Parallel(n_jobs=-1)]: Done 112 tasks      | elapsed:  1.6min\n",
      "[Parallel(n_jobs=-1)]: Done 129 tasks      | elapsed:  1.7min\n",
      "[Parallel(n_jobs=-1)]: Done 146 tasks      | elapsed:  1.8min\n",
      "[Parallel(n_jobs=-1)]: Done 165 tasks      | elapsed:  2.0min\n",
      "[Parallel(n_jobs=-1)]: Done 184 tasks      | elapsed:  2.1min\n",
      "[Parallel(n_jobs=-1)]: Done 205 tasks      | elapsed:  2.2min\n",
      "[Parallel(n_jobs=-1)]: Done 240 out of 240 | elapsed:  2.4min finished\n"
     ]
    },
    {
     "name": "stdout",
     "output_type": "stream",
     "text": [
      "Runtime, grid search: 144.6 sec\n",
      "Best accuracy: 71.0%\n",
      "\n",
      "\n",
      "Best parameters: {'max_features': 'log2', 'min_samples_leaf': 20}\n"
     ]
    }
   ],
   "source": [
    "# Search again\n",
    "\n",
    "# Decide parameters to loop through\n",
    "parameters_rf = {\n",
    "    'min_samples_leaf':[1,5,10,15,20,30,50,75],\n",
    "    'max_features': [None, 'sqrt', 'log2']\n",
    "}\n",
    "\n",
    "# Create grid search object\n",
    "grid_search_rf = GridSearchCV(estimator=classifier_grid_rf,\n",
    "    param_grid=parameters_rf, scoring=\"accuracy\", cv=10,\n",
    "    n_jobs=-1, verbose=10)\n",
    "\n",
    "# Fit grid search object to training set\n",
    "start_clock = time.clock()\n",
    "grid_search_rf = grid_search_rf.fit(X_train, y_train)\n",
    "end_clock = time.clock()\n",
    "clock_grid_search_rf = end_clock - start_clock\n",
    "print('Runtime, grid search: ', round(clock_grid_search_rf, 2), ' sec', sep='')\n",
    "\n",
    "# Print results\n",
    "best_accuracy_grid_search_rf = grid_search_rf.best_score_\n",
    "best_parameters_grid_search_rf = grid_search_rf.best_params_\n",
    "print(f\"Best accuracy: {round(best_accuracy_grid_search_rf, 2)*100}%\")\n",
    "print(\"\\n\")\n",
    "print(f\"Best parameters: {best_parameters_grid_search_rf}\")"
   ]
  },
  {
   "cell_type": "code",
   "execution_count": 132,
   "metadata": {},
   "outputs": [
    {
     "name": "stdout",
     "output_type": "stream",
     "text": [
      "Fitting 10 folds for each of 21 candidates, totalling 210 fits\n"
     ]
    },
    {
     "name": "stderr",
     "output_type": "stream",
     "text": [
      "[Parallel(n_jobs=-1)]: Done   2 tasks      | elapsed:    6.4s\n",
      "[Parallel(n_jobs=-1)]: Done   9 tasks      | elapsed:   14.6s\n",
      "[Parallel(n_jobs=-1)]: Done  16 tasks      | elapsed:   22.8s\n",
      "[Parallel(n_jobs=-1)]: Done  25 tasks      | elapsed:   32.3s\n",
      "[Parallel(n_jobs=-1)]: Done  34 tasks      | elapsed:   41.9s\n",
      "[Parallel(n_jobs=-1)]: Done  45 tasks      | elapsed:   56.0s\n",
      "[Parallel(n_jobs=-1)]: Done  56 tasks      | elapsed:  1.1min\n",
      "[Parallel(n_jobs=-1)]: Done  69 tasks      | elapsed:  1.3min\n",
      "[Parallel(n_jobs=-1)]: Done  82 tasks      | elapsed:  1.4min\n",
      "[Parallel(n_jobs=-1)]: Done  97 tasks      | elapsed:  1.5min\n",
      "[Parallel(n_jobs=-1)]: Done 112 tasks      | elapsed:  1.6min\n",
      "[Parallel(n_jobs=-1)]: Done 129 tasks      | elapsed:  1.8min\n",
      "[Parallel(n_jobs=-1)]: Done 146 tasks      | elapsed:  1.9min\n",
      "[Parallel(n_jobs=-1)]: Done 165 tasks      | elapsed:  2.0min\n",
      "[Parallel(n_jobs=-1)]: Done 184 tasks      | elapsed:  2.1min\n",
      "[Parallel(n_jobs=-1)]: Done 210 out of 210 | elapsed:  2.2min finished\n"
     ]
    },
    {
     "name": "stdout",
     "output_type": "stream",
     "text": [
      "Runtime, grid search: 135.69 sec\n",
      "Best accuracy: 72.0%\n",
      "\n",
      "\n",
      "Best parameters: {'max_features': 'sqrt', 'min_samples_leaf': 22}\n"
     ]
    }
   ],
   "source": [
    "# Search again\n",
    "\n",
    "# Decide parameters to loop through\n",
    "parameters_rf = {\n",
    "    'min_samples_leaf':[16,18,20,22,24,26,28],\n",
    "    'max_features': [None, 'sqrt', 'log2']\n",
    "}\n",
    "\n",
    "# Create grid search object\n",
    "grid_search_rf = GridSearchCV(estimator=classifier_grid_rf,\n",
    "    param_grid=parameters_rf, scoring=\"accuracy\", cv=10,\n",
    "    n_jobs=-1, verbose=10)\n",
    "\n",
    "# Fit grid search object to training set\n",
    "start_clock = time.clock()\n",
    "grid_search_rf = grid_search_rf.fit(X_train, y_train)\n",
    "end_clock = time.clock()\n",
    "clock_grid_search_rf = end_clock - start_clock\n",
    "print('Runtime, grid search: ', round(clock_grid_search_rf, 2), ' sec', sep='')\n",
    "\n",
    "# Print results\n",
    "best_accuracy_grid_search_rf = grid_search_rf.best_score_\n",
    "best_parameters_grid_search_rf = grid_search_rf.best_params_\n",
    "print(f\"Best accuracy: {round(best_accuracy_grid_search_rf, 2)*100}%\")\n",
    "print(\"\\n\")\n",
    "print(f\"Best parameters: {best_parameters_grid_search_rf}\")"
   ]
  },
  {
   "cell_type": "code",
   "execution_count": 133,
   "metadata": {},
   "outputs": [
    {
     "name": "stdout",
     "output_type": "stream",
     "text": [
      "Fitting 10 folds for each of 9 candidates, totalling 90 fits\n"
     ]
    },
    {
     "name": "stderr",
     "output_type": "stream",
     "text": [
      "[Parallel(n_jobs=-1)]: Done   2 tasks      | elapsed:    7.3s\n",
      "[Parallel(n_jobs=-1)]: Done   9 tasks      | elapsed:   15.4s\n",
      "[Parallel(n_jobs=-1)]: Done  16 tasks      | elapsed:   23.7s\n",
      "[Parallel(n_jobs=-1)]: Done  25 tasks      | elapsed:   31.9s\n",
      "[Parallel(n_jobs=-1)]: Done  34 tasks      | elapsed:   36.7s\n",
      "[Parallel(n_jobs=-1)]: Done  45 tasks      | elapsed:   40.5s\n",
      "[Parallel(n_jobs=-1)]: Done  56 tasks      | elapsed:   44.7s\n",
      "[Parallel(n_jobs=-1)]: Done  69 tasks      | elapsed:   49.2s\n",
      "[Parallel(n_jobs=-1)]: Done  85 out of  90 | elapsed:   55.4s remaining:    3.2s\n",
      "[Parallel(n_jobs=-1)]: Done  90 out of  90 | elapsed:   56.4s finished\n"
     ]
    },
    {
     "name": "stdout",
     "output_type": "stream",
     "text": [
      "Runtime, grid search: 57.41 sec\n",
      "Best accuracy: 72.0%\n",
      "\n",
      "\n",
      "Best parameters: {'max_features': 'sqrt', 'min_samples_leaf': 22}\n"
     ]
    }
   ],
   "source": [
    "# Search again\n",
    "\n",
    "# Decide parameters to loop through\n",
    "parameters_rf = {\n",
    "    'min_samples_leaf':[21,22,23],\n",
    "    'max_features': [None, 'sqrt', 'log2']\n",
    "}\n",
    "\n",
    "# Create grid search object\n",
    "grid_search_rf = GridSearchCV(estimator=classifier_grid_rf,\n",
    "    param_grid=parameters_rf, scoring=\"accuracy\", cv=10,\n",
    "    n_jobs=-1, verbose=10)\n",
    "\n",
    "# Fit grid search object to training set\n",
    "start_clock = time.clock()\n",
    "grid_search_rf = grid_search_rf.fit(X_train, y_train)\n",
    "end_clock = time.clock()\n",
    "clock_grid_search_rf = end_clock - start_clock\n",
    "print('Runtime, grid search: ', round(clock_grid_search_rf, 2), ' sec', sep='')\n",
    "\n",
    "# Print results\n",
    "best_accuracy_grid_search_rf = grid_search_rf.best_score_\n",
    "best_parameters_grid_search_rf = grid_search_rf.best_params_\n",
    "print(f\"Best accuracy: {round(best_accuracy_grid_search_rf, 2)*100}%\")\n",
    "print(\"\\n\")\n",
    "print(f\"Best parameters: {best_parameters_grid_search_rf}\")"
   ]
  },
  {
   "cell_type": "code",
   "execution_count": 135,
   "metadata": {},
   "outputs": [
    {
     "name": "stdout",
     "output_type": "stream",
     "text": [
      "Fitting 10 folds for each of 8 candidates, totalling 80 fits\n"
     ]
    },
    {
     "name": "stderr",
     "output_type": "stream",
     "text": [
      "[Parallel(n_jobs=-1)]: Done   2 tasks      | elapsed:    1.7s\n",
      "[Parallel(n_jobs=-1)]: Done   9 tasks      | elapsed:    5.2s\n",
      "[Parallel(n_jobs=-1)]: Done  16 tasks      | elapsed:    7.0s\n",
      "[Parallel(n_jobs=-1)]: Done  25 tasks      | elapsed:   10.2s\n",
      "[Parallel(n_jobs=-1)]: Done  34 tasks      | elapsed:   17.2s\n",
      "[Parallel(n_jobs=-1)]: Done  45 tasks      | elapsed:   26.9s\n",
      "[Parallel(n_jobs=-1)]: Done  56 tasks      | elapsed:   47.6s\n",
      "[Parallel(n_jobs=-1)]: Done  74 out of  80 | elapsed:  1.6min remaining:    7.9s\n",
      "[Parallel(n_jobs=-1)]: Done  80 out of  80 | elapsed:  1.9min finished\n"
     ]
    },
    {
     "name": "stdout",
     "output_type": "stream",
     "text": [
      "Runtime, grid search: 116.88 sec\n",
      "Best accuracy: 72.0%\n",
      "\n",
      "\n",
      "Best parameters: {'max_features': 'sqrt', 'min_samples_leaf': 22, 'n_estimators': 50}\n"
     ]
    }
   ],
   "source": [
    "# Search again\n",
    "\n",
    "# Decide parameters to loop through\n",
    "parameters_rf = {\n",
    "    'min_samples_leaf':[22],\n",
    "    'max_features': ['sqrt'],\n",
    "    'n_estimators': [1,5,10,20,30,50,75,100]\n",
    "}\n",
    "\n",
    "# Create grid search object\n",
    "grid_search_rf = GridSearchCV(estimator=classifier_grid_rf,\n",
    "    param_grid=parameters_rf, scoring=\"accuracy\", cv=10,\n",
    "    n_jobs=-1, verbose=10)\n",
    "\n",
    "# Fit grid search object to training set\n",
    "start_clock = time.clock()\n",
    "grid_search_rf = grid_search_rf.fit(X_train, y_train)\n",
    "end_clock = time.clock()\n",
    "clock_grid_search_rf = end_clock - start_clock\n",
    "print('Runtime, grid search: ', round(clock_grid_search_rf, 2), ' sec', sep='')\n",
    "\n",
    "# Print results\n",
    "best_accuracy_grid_search_rf = grid_search_rf.best_score_\n",
    "best_parameters_grid_search_rf = grid_search_rf.best_params_\n",
    "print(f\"Best accuracy: {round(best_accuracy_grid_search_rf, 2)*100}%\")\n",
    "print(\"\\n\")\n",
    "print(f\"Best parameters: {best_parameters_grid_search_rf}\")"
   ]
  },
  {
   "cell_type": "code",
   "execution_count": 136,
   "metadata": {},
   "outputs": [
    {
     "name": "stdout",
     "output_type": "stream",
     "text": [
      "Fitting 10 folds for each of 7 candidates, totalling 70 fits\n"
     ]
    },
    {
     "name": "stderr",
     "output_type": "stream",
     "text": [
      "[Parallel(n_jobs=-1)]: Done   2 tasks      | elapsed:    7.5s\n",
      "[Parallel(n_jobs=-1)]: Done   9 tasks      | elapsed:   16.6s\n",
      "[Parallel(n_jobs=-1)]: Done  16 tasks      | elapsed:   27.6s\n",
      "[Parallel(n_jobs=-1)]: Done  25 tasks      | elapsed:   41.4s\n",
      "[Parallel(n_jobs=-1)]: Done  34 tasks      | elapsed:   54.8s\n",
      "[Parallel(n_jobs=-1)]: Done  45 tasks      | elapsed:  1.3min\n",
      "[Parallel(n_jobs=-1)]: Done  63 out of  70 | elapsed:  1.9min remaining:   12.7s\n",
      "[Parallel(n_jobs=-1)]: Done  70 out of  70 | elapsed:  2.1min finished\n"
     ]
    },
    {
     "name": "stdout",
     "output_type": "stream",
     "text": [
      "Runtime, grid search: 126.91 sec\n",
      "Best accuracy: 72.0%\n",
      "\n",
      "\n",
      "Best parameters: {'max_features': 'sqrt', 'min_samples_leaf': 22, 'n_estimators': 40}\n"
     ]
    }
   ],
   "source": [
    "# Search again\n",
    "\n",
    "# Decide parameters to loop through\n",
    "parameters_rf = {\n",
    "    'min_samples_leaf':[22],\n",
    "    'max_features': ['sqrt'],\n",
    "    'n_estimators': [35,40,45,50,55,60,65]\n",
    "}\n",
    "\n",
    "# Create grid search object\n",
    "grid_search_rf = GridSearchCV(estimator=classifier_grid_rf,\n",
    "    param_grid=parameters_rf, scoring=\"accuracy\", cv=10,\n",
    "    n_jobs=-1, verbose=10)\n",
    "\n",
    "# Fit grid search object to training set\n",
    "start_clock = time.clock()\n",
    "grid_search_rf = grid_search_rf.fit(X_train, y_train)\n",
    "end_clock = time.clock()\n",
    "clock_grid_search_rf = end_clock - start_clock\n",
    "print('Runtime, grid search: ', round(clock_grid_search_rf, 2), ' sec', sep='')\n",
    "\n",
    "# Print results\n",
    "best_accuracy_grid_search_rf = grid_search_rf.best_score_\n",
    "best_parameters_grid_search_rf = grid_search_rf.best_params_\n",
    "print(f\"Best accuracy: {round(best_accuracy_grid_search_rf, 2)*100}%\")\n",
    "print(\"\\n\")\n",
    "print(f\"Best parameters: {best_parameters_grid_search_rf}\")"
   ]
  },
  {
   "cell_type": "code",
   "execution_count": 137,
   "metadata": {},
   "outputs": [
    {
     "name": "stdout",
     "output_type": "stream",
     "text": [
      "Fitting 10 folds for each of 9 candidates, totalling 90 fits\n"
     ]
    },
    {
     "name": "stderr",
     "output_type": "stream",
     "text": [
      "[Parallel(n_jobs=-1)]: Done   2 tasks      | elapsed:    7.9s\n",
      "[Parallel(n_jobs=-1)]: Done   9 tasks      | elapsed:   16.6s\n",
      "[Parallel(n_jobs=-1)]: Done  16 tasks      | elapsed:   26.6s\n",
      "[Parallel(n_jobs=-1)]: Done  25 tasks      | elapsed:   39.7s\n",
      "[Parallel(n_jobs=-1)]: Done  34 tasks      | elapsed:   53.0s\n",
      "[Parallel(n_jobs=-1)]: Done  45 tasks      | elapsed:  1.2min\n",
      "[Parallel(n_jobs=-1)]: Done  56 tasks      | elapsed:  1.5min\n",
      "[Parallel(n_jobs=-1)]: Done  69 tasks      | elapsed:  1.8min\n",
      "[Parallel(n_jobs=-1)]: Done  85 out of  90 | elapsed:  2.3min remaining:    7.9s\n",
      "[Parallel(n_jobs=-1)]: Done  90 out of  90 | elapsed:  2.4min finished\n"
     ]
    },
    {
     "name": "stdout",
     "output_type": "stream",
     "text": [
      "Runtime, grid search: 145.42 sec\n",
      "Best accuracy: 72.0%\n",
      "\n",
      "\n",
      "Best parameters: {'max_features': 'sqrt', 'min_samples_leaf': 22, 'n_estimators': 40}\n"
     ]
    }
   ],
   "source": [
    "# Search again\n",
    "\n",
    "# Decide parameters to loop through\n",
    "parameters_rf = {\n",
    "    'min_samples_leaf':[22],\n",
    "    'max_features': ['sqrt'],\n",
    "    'n_estimators': [36,37,38,39,40,41,42,43,44]\n",
    "}\n",
    "\n",
    "# Create grid search object\n",
    "grid_search_rf = GridSearchCV(estimator=classifier_grid_rf,\n",
    "    param_grid=parameters_rf, scoring=\"accuracy\", cv=10,\n",
    "    n_jobs=-1, verbose=10)\n",
    "\n",
    "# Fit grid search object to training set\n",
    "start_clock = time.clock()\n",
    "grid_search_rf = grid_search_rf.fit(X_train, y_train)\n",
    "end_clock = time.clock()\n",
    "clock_grid_search_rf = end_clock - start_clock\n",
    "print('Runtime, grid search: ', round(clock_grid_search_rf, 2), ' sec', sep='')\n",
    "\n",
    "# Print results\n",
    "best_accuracy_grid_search_rf = grid_search_rf.best_score_\n",
    "best_parameters_grid_search_rf = grid_search_rf.best_params_\n",
    "print(f\"Best accuracy: {round(best_accuracy_grid_search_rf, 2)*100}%\")\n",
    "print(\"\\n\")\n",
    "print(f\"Best parameters: {best_parameters_grid_search_rf}\")"
   ]
  },
  {
   "cell_type": "code",
   "execution_count": 138,
   "metadata": {},
   "outputs": [
    {
     "name": "stdout",
     "output_type": "stream",
     "text": [
      "Fitting 10 folds for each of 7 candidates, totalling 70 fits\n"
     ]
    },
    {
     "name": "stderr",
     "output_type": "stream",
     "text": [
      "[Parallel(n_jobs=-1)]: Done   2 tasks      | elapsed:   13.4s\n",
      "[Parallel(n_jobs=-1)]: Done   9 tasks      | elapsed:   29.1s\n",
      "[Parallel(n_jobs=-1)]: Done  16 tasks      | elapsed:   42.4s\n",
      "[Parallel(n_jobs=-1)]: Done  25 tasks      | elapsed:   56.4s\n",
      "[Parallel(n_jobs=-1)]: Done  34 tasks      | elapsed:  1.2min\n",
      "[Parallel(n_jobs=-1)]: Done  45 tasks      | elapsed:  1.4min\n",
      "[Parallel(n_jobs=-1)]: Done  63 out of  70 | elapsed:  1.9min remaining:   12.6s\n",
      "[Parallel(n_jobs=-1)]: Done  70 out of  70 | elapsed:  2.0min finished\n"
     ]
    },
    {
     "name": "stdout",
     "output_type": "stream",
     "text": [
      "Runtime, grid search: 125.18 sec\n",
      "Best accuracy: 72.0%\n",
      "\n",
      "\n",
      "Best parameters: {'max_features': 'sqrt', 'min_samples_leaf': 25, 'n_estimators': 40}\n"
     ]
    }
   ],
   "source": [
    "# Search again\n",
    "RandomForestClassifier()\n",
    "# Decide parameters to loop through\n",
    "parameters_rf = {\n",
    "    'min_samples_leaf':[22],\n",
    "    'max_features': ['sqrt'],\n",
    "    'n_estimators': [40],\n",
    "    'min_samples_leaf': [1,2,5,10,25,50,100]\n",
    "}\n",
    "\n",
    "# Create grid search object\n",
    "grid_search_rf = GridSearchCV(estimator=classifier_grid_rf,\n",
    "    param_grid=parameters_rf, scoring=\"accuracy\", cv=10,\n",
    "    n_jobs=-1, verbose=10)\n",
    "\n",
    "# Fit grid search object to training set\n",
    "start_clock = time.clock()\n",
    "grid_search_rf = grid_search_rf.fit(X_train, y_train)\n",
    "end_clock = time.clock()\n",
    "clock_grid_search_rf = end_clock - start_clock\n",
    "print('Runtime, grid search: ', round(clock_grid_search_rf, 2), ' sec', sep='')\n",
    "\n",
    "# Print results\n",
    "best_accuracy_grid_search_rf = grid_search_rf.best_score_\n",
    "best_parameters_grid_search_rf = grid_search_rf.best_params_\n",
    "print(f\"Best accuracy: {round(best_accuracy_grid_search_rf, 2)*100}%\")\n",
    "print(\"\\n\")\n",
    "print(f\"Best parameters: {best_parameters_grid_search_rf}\")"
   ]
  },
  {
   "cell_type": "code",
   "execution_count": 139,
   "metadata": {},
   "outputs": [
    {
     "name": "stdout",
     "output_type": "stream",
     "text": [
      "Fitting 10 folds for each of 7 candidates, totalling 70 fits\n"
     ]
    },
    {
     "name": "stderr",
     "output_type": "stream",
     "text": [
      "[Parallel(n_jobs=-1)]: Done   2 tasks      | elapsed:    9.0s\n",
      "[Parallel(n_jobs=-1)]: Done   9 tasks      | elapsed:   19.8s\n",
      "[Parallel(n_jobs=-1)]: Done  16 tasks      | elapsed:   31.3s\n",
      "[Parallel(n_jobs=-1)]: Done  25 tasks      | elapsed:   42.8s\n",
      "[Parallel(n_jobs=-1)]: Done  34 tasks      | elapsed:   54.2s\n",
      "[Parallel(n_jobs=-1)]: Done  45 tasks      | elapsed:  1.1min\n",
      "[Parallel(n_jobs=-1)]: Done  63 out of  70 | elapsed:  1.5min remaining:   10.1s\n",
      "[Parallel(n_jobs=-1)]: Done  70 out of  70 | elapsed:  1.6min finished\n"
     ]
    },
    {
     "name": "stdout",
     "output_type": "stream",
     "text": [
      "Runtime, grid search: 100.99 sec\n",
      "Best accuracy: 72.0%\n",
      "\n",
      "\n",
      "Best parameters: {'max_features': 'sqrt', 'min_samples_leaf': 30, 'n_estimators': 40}\n"
     ]
    }
   ],
   "source": [
    "# Search again\n",
    "RandomForestClassifier()\n",
    "# Decide parameters to loop through\n",
    "parameters_rf = {\n",
    "    'min_samples_leaf':[22],\n",
    "    'max_features': ['sqrt'],\n",
    "    'n_estimators': [40],\n",
    "    'min_samples_leaf': [15,20,25,30,35,40,45]\n",
    "}\n",
    "\n",
    "# Create grid search object\n",
    "grid_search_rf = GridSearchCV(estimator=classifier_grid_rf,\n",
    "    param_grid=parameters_rf, scoring=\"accuracy\", cv=10,\n",
    "    n_jobs=-1, verbose=10)\n",
    "\n",
    "# Fit grid search object to training set\n",
    "start_clock = time.clock()\n",
    "grid_search_rf = grid_search_rf.fit(X_train, y_train)\n",
    "end_clock = time.clock()\n",
    "clock_grid_search_rf = end_clock - start_clock\n",
    "print('Runtime, grid search: ', round(clock_grid_search_rf, 2), ' sec', sep='')\n",
    "\n",
    "# Print results\n",
    "best_accuracy_grid_search_rf = grid_search_rf.best_score_\n",
    "best_parameters_grid_search_rf = grid_search_rf.best_params_\n",
    "print(f\"Best accuracy: {round(best_accuracy_grid_search_rf, 2)*100}%\")\n",
    "print(\"\\n\")\n",
    "print(f\"Best parameters: {best_parameters_grid_search_rf}\")"
   ]
  },
  {
   "cell_type": "code",
   "execution_count": null,
   "metadata": {},
   "outputs": [
    {
     "name": "stdout",
     "output_type": "stream",
     "text": [
      "Fitting 10 folds for each of 9 candidates, totalling 90 fits\n"
     ]
    }
   ],
   "source": [
    "# Search again\n",
    "RandomForestClassifier()\n",
    "# Decide parameters to loop through\n",
    "parameters_rf = {\n",
    "    'min_samples_leaf':[22],\n",
    "    'max_features': ['sqrt'],\n",
    "    'n_estimators': [40],\n",
    "    'min_samples_leaf': [36,37,38,39,40,41,42,43,44]\n",
    "}\n",
    "\n",
    "# Create grid search object\n",
    "grid_search_rf = GridSearchCV(estimator=classifier_grid_rf,\n",
    "    param_grid=parameters_rf, scoring=\"accuracy\", cv=10,\n",
    "    n_jobs=-1, verbose=10)\n",
    "\n",
    "# Fit grid search object to training set\n",
    "start_clock = time.clock()\n",
    "grid_search_rf = grid_search_rf.fit(X_train, y_train)\n",
    "end_clock = time.clock()\n",
    "clock_grid_search_rf = end_clock - start_clock\n",
    "print('Runtime, grid search: ', round(clock_grid_search_rf, 2), ' sec', sep='')\n",
    "\n",
    "# Print results\n",
    "best_accuracy_grid_search_rf = grid_search_rf.best_score_\n",
    "best_parameters_grid_search_rf = grid_search_rf.best_params_\n",
    "print(f\"Best accuracy: {round(best_accuracy_grid_search_rf, 2)*100}%\")\n",
    "print(\"\\n\")\n",
    "print(f\"Best parameters: {best_parameters_grid_search_rf}\")"
   ]
  },
  {
   "cell_type": "code",
   "execution_count": null,
   "metadata": {},
   "outputs": [],
   "source": []
  },
  {
   "cell_type": "code",
   "execution_count": 6,
   "metadata": {},
   "outputs": [],
   "source": [
    "# ---- K NEAREST NEIGHBORS ----"
   ]
  },
  {
   "cell_type": "code",
   "execution_count": 11,
   "metadata": {},
   "outputs": [],
   "source": [
    "classifier_knn_grid1 = KNeighborsClassifier()"
   ]
  },
  {
   "cell_type": "code",
   "execution_count": 12,
   "metadata": {},
   "outputs": [],
   "source": [
    "# Decide parameters to loop through\n",
    "parameters_knn1 = {\n",
    "    'n_neighbors': [1,10,100]\n",
    "#    'metric': ['minkowski'],\n",
    "#    'p': [1, 2],\n",
    "#    'weights': ['uniform', 'distance'],\n",
    "#    'algorithm': ['ball_tree', 'kd_tree']\n",
    "}"
   ]
  },
  {
   "cell_type": "code",
   "execution_count": 15,
   "metadata": {},
   "outputs": [],
   "source": [
    "# Create grid search object\n",
    "grid_search_knn1 = GridSearchCV(estimator=classifier_knn_grid1,\n",
    "    param_grid=parameters_knn1, scoring=\"accuracy\", cv=3,\n",
    "    n_jobs=-1, verbose=10)"
   ]
  },
  {
   "cell_type": "code",
   "execution_count": null,
   "metadata": {},
   "outputs": [
    {
     "name": "stdout",
     "output_type": "stream",
     "text": [
      "Fitting 3 folds for each of 3 candidates, totalling 9 fits\n"
     ]
    }
   ],
   "source": [
    "# Fit grid search object to training set\n",
    "\n",
    "start_clock = time.clock()\n",
    "grid_search_knn1 = grid_search_knn1.fit(X_train, y_train)\n",
    "end_clock = time.clock()\n",
    "\n",
    "clock_grid_search_knn1 = end_clock - start_clock\n",
    "\n",
    "print('Runtime, grid search: ', round(clock_grid_search_knn1, 2), ' sec', sep='')"
   ]
  },
  {
   "cell_type": "code",
   "execution_count": null,
   "metadata": {},
   "outputs": [],
   "source": []
  },
  {
   "cell_type": "code",
   "execution_count": null,
   "metadata": {},
   "outputs": [],
   "source": []
  },
  {
   "cell_type": "markdown",
   "metadata": {},
   "source": []
  },
  {
   "cell_type": "code",
   "execution_count": null,
   "metadata": {},
   "outputs": [],
   "source": []
  },
  {
   "cell_type": "code",
   "execution_count": null,
   "metadata": {},
   "outputs": [],
   "source": []
  },
  {
   "cell_type": "code",
   "execution_count": null,
   "metadata": {},
   "outputs": [],
   "source": []
  },
  {
   "cell_type": "code",
   "execution_count": null,
   "metadata": {},
   "outputs": [],
   "source": []
  },
  {
   "cell_type": "code",
   "execution_count": null,
   "metadata": {},
   "outputs": [],
   "source": []
  },
  {
   "cell_type": "code",
   "execution_count": null,
   "metadata": {},
   "outputs": [],
   "source": []
  },
  {
   "cell_type": "code",
   "execution_count": 33,
   "metadata": {},
   "outputs": [],
   "source": [
    "#==============================================================================\n",
    "#\n",
    "# VALIDATE\n",
    "#\n",
    "#=============================================================================="
   ]
  },
  {
   "cell_type": "code",
   "execution_count": 141,
   "metadata": {},
   "outputs": [],
   "source": [
    "# ---- LOAD DATA ----\n",
    "df_v = pd.read_csv('data/df_v.csv', sep=',', na_filter=False, index_col=0)"
   ]
  },
  {
   "cell_type": "code",
   "execution_count": 142,
   "metadata": {},
   "outputs": [
    {
     "data": {
      "text/plain": [
       "(41140, 96)"
      ]
     },
     "execution_count": 142,
     "metadata": {},
     "output_type": "execute_result"
    }
   ],
   "source": [
    "df_v.shape"
   ]
  },
  {
   "cell_type": "code",
   "execution_count": 143,
   "metadata": {
    "scrolled": true
   },
   "outputs": [
    {
     "data": {
      "text/html": [
       "<div>\n",
       "<style scoped>\n",
       "    .dataframe tbody tr th:only-of-type {\n",
       "        vertical-align: middle;\n",
       "    }\n",
       "\n",
       "    .dataframe tbody tr th {\n",
       "        vertical-align: top;\n",
       "    }\n",
       "\n",
       "    .dataframe thead th {\n",
       "        text-align: right;\n",
       "    }\n",
       "</style>\n",
       "<table border=\"1\" class=\"dataframe\">\n",
       "  <thead>\n",
       "    <tr style=\"text-align: right;\">\n",
       "      <th></th>\n",
       "      <th>state</th>\n",
       "      <th>backers_count</th>\n",
       "      <th>blurb</th>\n",
       "      <th>converted_pledged_amount</th>\n",
       "      <th>country</th>\n",
       "      <th>created_at</th>\n",
       "      <th>currency</th>\n",
       "      <th>currency_symbol</th>\n",
       "      <th>currency_trailing_code</th>\n",
       "      <th>current_currency</th>\n",
       "      <th>deadline</th>\n",
       "      <th>disable_communication</th>\n",
       "      <th>friends</th>\n",
       "      <th>fx_rate</th>\n",
       "      <th>goal</th>\n",
       "      <th>id</th>\n",
       "      <th>is_backing</th>\n",
       "      <th>is_starrable</th>\n",
       "      <th>is_starred</th>\n",
       "      <th>launched_at</th>\n",
       "      <th>name</th>\n",
       "      <th>permissions</th>\n",
       "      <th>pledged</th>\n",
       "      <th>slug</th>\n",
       "      <th>source_url</th>\n",
       "      <th>spotlight</th>\n",
       "      <th>staff_pick</th>\n",
       "      <th>state_changed_at</th>\n",
       "      <th>static_usd_rate</th>\n",
       "      <th>usd_pledged</th>\n",
       "      <th>usd_type</th>\n",
       "      <th>category_color</th>\n",
       "      <th>category_id</th>\n",
       "      <th>category_name</th>\n",
       "      <th>category_parent_id</th>\n",
       "      <th>category_position</th>\n",
       "      <th>category_slug</th>\n",
       "      <th>category_urls.web.discover</th>\n",
       "      <th>creator_avatar.medium</th>\n",
       "      <th>creator_avatar.small</th>\n",
       "      <th>creator_avatar.thumb</th>\n",
       "      <th>creator_chosen_currency</th>\n",
       "      <th>creator_id</th>\n",
       "      <th>creator_is_registered</th>\n",
       "      <th>creator_name</th>\n",
       "      <th>creator_slug</th>\n",
       "      <th>creator_urls.api.user</th>\n",
       "      <th>creator_urls.web.user</th>\n",
       "      <th>location_id</th>\n",
       "      <th>location_name</th>\n",
       "      <th>location_slug</th>\n",
       "      <th>location_short_name</th>\n",
       "      <th>location_displayable_name</th>\n",
       "      <th>location_localized_name</th>\n",
       "      <th>location_country</th>\n",
       "      <th>location_state</th>\n",
       "      <th>location_type</th>\n",
       "      <th>location_is_root</th>\n",
       "      <th>location_urls_web_discover</th>\n",
       "      <th>location_urls_web_location</th>\n",
       "      <th>location_urls_api_nearby_projects</th>\n",
       "      <th>photo_1024x576</th>\n",
       "      <th>photo_1536x864</th>\n",
       "      <th>photo_ed</th>\n",
       "      <th>photo_full</th>\n",
       "      <th>photo_key</th>\n",
       "      <th>photo_little</th>\n",
       "      <th>photo_med</th>\n",
       "      <th>photo_small</th>\n",
       "      <th>photo_thumb</th>\n",
       "      <th>profile_background_color</th>\n",
       "      <th>profile_background_image_attributes.id</th>\n",
       "      <th>profile_background_image_attributes.image_urls.baseball_card</th>\n",
       "      <th>profile_background_image_attributes.image_urls.default</th>\n",
       "      <th>profile_background_image_opacity</th>\n",
       "      <th>profile_blurb</th>\n",
       "      <th>profile_feature_image_attributes.id</th>\n",
       "      <th>profile_feature_image_attributes.image_urls.baseball_card</th>\n",
       "      <th>profile_feature_image_attributes.image_urls.default</th>\n",
       "      <th>profile_id</th>\n",
       "      <th>profile_link_background_color</th>\n",
       "      <th>profile_link_text</th>\n",
       "      <th>profile_link_text_color</th>\n",
       "      <th>profile_link_url</th>\n",
       "      <th>profile_name</th>\n",
       "      <th>profile_project_id</th>\n",
       "      <th>profile_should_show_feature_image_section</th>\n",
       "      <th>profile_show_feature_image</th>\n",
       "      <th>profile_state</th>\n",
       "      <th>profile_state_changed_at</th>\n",
       "      <th>profile_text_color</th>\n",
       "      <th>urls_api.message_creator</th>\n",
       "      <th>urls_api.star</th>\n",
       "      <th>urls_web.message_creator</th>\n",
       "      <th>urls_web.project</th>\n",
       "      <th>urls_web.rewards</th>\n",
       "    </tr>\n",
       "  </thead>\n",
       "  <tbody>\n",
       "    <tr>\n",
       "      <th>88147</th>\n",
       "      <td>canceled</td>\n",
       "      <td>14</td>\n",
       "      <td>An action/comedy film based in a world of unde...</td>\n",
       "      <td>657</td>\n",
       "      <td>US</td>\n",
       "      <td>1403916807</td>\n",
       "      <td>USD</td>\n",
       "      <td>$</td>\n",
       "      <td>True</td>\n",
       "      <td>USD</td>\n",
       "      <td>1407358364</td>\n",
       "      <td>False</td>\n",
       "      <td></td>\n",
       "      <td>1.0</td>\n",
       "      <td>7500.0</td>\n",
       "      <td>950768404</td>\n",
       "      <td></td>\n",
       "      <td>False</td>\n",
       "      <td></td>\n",
       "      <td>1404766364</td>\n",
       "      <td>LARPE DIEM (Canceled)</td>\n",
       "      <td></td>\n",
       "      <td>657.0</td>\n",
       "      <td>larpe-diem</td>\n",
       "      <td>https://www.kickstarter.com/discover/categorie...</td>\n",
       "      <td>False</td>\n",
       "      <td>False</td>\n",
       "      <td>1406487223</td>\n",
       "      <td>1.0</td>\n",
       "      <td>657.0</td>\n",
       "      <td>international</td>\n",
       "      <td>16734574</td>\n",
       "      <td>292</td>\n",
       "      <td>Comedy</td>\n",
       "      <td>11.0</td>\n",
       "      <td>3</td>\n",
       "      <td>film &amp; video/comedy</td>\n",
       "      <td>http://www.kickstarter.com/discover/categories...</td>\n",
       "      <td>https://ksr-ugc.imgix.net/assets/008/920/814/c...</td>\n",
       "      <td>https://ksr-ugc.imgix.net/assets/008/920/814/c...</td>\n",
       "      <td>https://ksr-ugc.imgix.net/assets/008/920/814/c...</td>\n",
       "      <td></td>\n",
       "      <td>1141640382</td>\n",
       "      <td>True</td>\n",
       "      <td>Fat Kids On The Block Film Crew</td>\n",
       "      <td></td>\n",
       "      <td>https://api.kickstarter.com/v1/users/114164038...</td>\n",
       "      <td>https://www.kickstarter.com/profile/1141640382</td>\n",
       "      <td>2424766.0</td>\n",
       "      <td>Houston</td>\n",
       "      <td>houston-tx</td>\n",
       "      <td>Houston, TX</td>\n",
       "      <td>Houston, TX</td>\n",
       "      <td>Houston</td>\n",
       "      <td>US</td>\n",
       "      <td>TX</td>\n",
       "      <td>Town</td>\n",
       "      <td>False</td>\n",
       "      <td>https://www.kickstarter.com/discover/places/ho...</td>\n",
       "      <td>https://www.kickstarter.com/locations/houston-tx</td>\n",
       "      <td>https://api.kickstarter.com/v1/discover?signat...</td>\n",
       "      <td>https://ksr-ugc.imgix.net/assets/011/734/576/3...</td>\n",
       "      <td>https://ksr-ugc.imgix.net/assets/011/734/576/3...</td>\n",
       "      <td>https://ksr-ugc.imgix.net/assets/011/734/576/3...</td>\n",
       "      <td>https://ksr-ugc.imgix.net/assets/011/734/576/3...</td>\n",
       "      <td>assets/011/734/576/357df2a68da6a9b411024dd13d6...</td>\n",
       "      <td>https://ksr-ugc.imgix.net/assets/011/734/576/3...</td>\n",
       "      <td>https://ksr-ugc.imgix.net/assets/011/734/576/3...</td>\n",
       "      <td>https://ksr-ugc.imgix.net/assets/011/734/576/3...</td>\n",
       "      <td>https://ksr-ugc.imgix.net/assets/011/734/576/3...</td>\n",
       "      <td></td>\n",
       "      <td></td>\n",
       "      <td></td>\n",
       "      <td></td>\n",
       "      <td>0.8</td>\n",
       "      <td></td>\n",
       "      <td></td>\n",
       "      <td>https://ksr-ugc.imgix.net/assets/011/734/576/3...</td>\n",
       "      <td>https://ksr-ugc.imgix.net/assets/011/734/576/3...</td>\n",
       "      <td>1088243</td>\n",
       "      <td></td>\n",
       "      <td></td>\n",
       "      <td></td>\n",
       "      <td></td>\n",
       "      <td></td>\n",
       "      <td>1088243</td>\n",
       "      <td>True</td>\n",
       "      <td>False</td>\n",
       "      <td>inactive</td>\n",
       "      <td>1425915860</td>\n",
       "      <td></td>\n",
       "      <td></td>\n",
       "      <td></td>\n",
       "      <td></td>\n",
       "      <td>https://www.kickstarter.com/projects/114164038...</td>\n",
       "      <td>https://www.kickstarter.com/projects/114164038...</td>\n",
       "    </tr>\n",
       "    <tr>\n",
       "      <th>171600</th>\n",
       "      <td>successful</td>\n",
       "      <td>198</td>\n",
       "      <td>Pindabear is our way of melding our love of ar...</td>\n",
       "      <td>5139</td>\n",
       "      <td>US</td>\n",
       "      <td>1500924807</td>\n",
       "      <td>USD</td>\n",
       "      <td>$</td>\n",
       "      <td>True</td>\n",
       "      <td>USD</td>\n",
       "      <td>1506282478</td>\n",
       "      <td>False</td>\n",
       "      <td></td>\n",
       "      <td>1.0</td>\n",
       "      <td>2000.0</td>\n",
       "      <td>1651888765</td>\n",
       "      <td></td>\n",
       "      <td>False</td>\n",
       "      <td></td>\n",
       "      <td>1502063144</td>\n",
       "      <td>Pindabear Enamel Pins: Initial Launch</td>\n",
       "      <td></td>\n",
       "      <td>5139.0</td>\n",
       "      <td>pindabear-enamel-pins-initial-launch</td>\n",
       "      <td>https://www.kickstarter.com/discover/categorie...</td>\n",
       "      <td>True</td>\n",
       "      <td>False</td>\n",
       "      <td>1506282478</td>\n",
       "      <td>1.0</td>\n",
       "      <td>5139.0</td>\n",
       "      <td>international</td>\n",
       "      <td>16760235</td>\n",
       "      <td>54</td>\n",
       "      <td>Mixed Media</td>\n",
       "      <td>1.0</td>\n",
       "      <td>6</td>\n",
       "      <td>art/mixed media</td>\n",
       "      <td>http://www.kickstarter.com/discover/categories...</td>\n",
       "      <td>https://ksr-ugc.imgix.net/assets/017/637/047/8...</td>\n",
       "      <td>https://ksr-ugc.imgix.net/assets/017/637/047/8...</td>\n",
       "      <td>https://ksr-ugc.imgix.net/assets/017/637/047/8...</td>\n",
       "      <td></td>\n",
       "      <td>1634039530</td>\n",
       "      <td>True</td>\n",
       "      <td>Pindabear Enamel Pins</td>\n",
       "      <td>pindabear</td>\n",
       "      <td>https://api.kickstarter.com/v1/users/163403953...</td>\n",
       "      <td>https://www.kickstarter.com/profile/pindabear</td>\n",
       "      <td>2478522.0</td>\n",
       "      <td>Rancho Cucamonga</td>\n",
       "      <td>rancho-cucamonga-ca</td>\n",
       "      <td>Rancho Cucamonga, CA</td>\n",
       "      <td>Rancho Cucamonga, CA</td>\n",
       "      <td>Rancho Cucamonga</td>\n",
       "      <td>US</td>\n",
       "      <td>CA</td>\n",
       "      <td>Town</td>\n",
       "      <td>False</td>\n",
       "      <td>https://www.kickstarter.com/discover/places/ra...</td>\n",
       "      <td>https://www.kickstarter.com/locations/rancho-c...</td>\n",
       "      <td>https://api.kickstarter.com/v1/discover?signat...</td>\n",
       "      <td>https://ksr-ugc.imgix.net/assets/017/636/469/8...</td>\n",
       "      <td>https://ksr-ugc.imgix.net/assets/017/636/469/8...</td>\n",
       "      <td>https://ksr-ugc.imgix.net/assets/017/636/469/8...</td>\n",
       "      <td>https://ksr-ugc.imgix.net/assets/017/636/469/8...</td>\n",
       "      <td>assets/017/636/469/86461b770f10aa8ebcf0e5e42cc...</td>\n",
       "      <td>https://ksr-ugc.imgix.net/assets/017/636/469/8...</td>\n",
       "      <td>https://ksr-ugc.imgix.net/assets/017/636/469/8...</td>\n",
       "      <td>https://ksr-ugc.imgix.net/assets/017/636/469/8...</td>\n",
       "      <td>https://ksr-ugc.imgix.net/assets/017/636/469/8...</td>\n",
       "      <td></td>\n",
       "      <td></td>\n",
       "      <td></td>\n",
       "      <td></td>\n",
       "      <td>0.8</td>\n",
       "      <td>Pindabear is our way of melding our love of ar...</td>\n",
       "      <td></td>\n",
       "      <td>https://ksr-ugc.imgix.net/assets/017/636/469/8...</td>\n",
       "      <td>https://ksr-ugc.imgix.net/assets/017/636/469/8...</td>\n",
       "      <td>3084733</td>\n",
       "      <td>000000</td>\n",
       "      <td>pindabear.com</td>\n",
       "      <td></td>\n",
       "      <td>http://pindabear.com</td>\n",
       "      <td>Pindabear Enamel Pins: Initial Launch</td>\n",
       "      <td>3084733</td>\n",
       "      <td>True</td>\n",
       "      <td>False</td>\n",
       "      <td>active</td>\n",
       "      <td>1506384050</td>\n",
       "      <td></td>\n",
       "      <td></td>\n",
       "      <td></td>\n",
       "      <td></td>\n",
       "      <td>https://www.kickstarter.com/projects/pindabear...</td>\n",
       "      <td>https://www.kickstarter.com/projects/pindabear...</td>\n",
       "    </tr>\n",
       "  </tbody>\n",
       "</table>\n",
       "</div>"
      ],
      "text/plain": [
       "             state  backers_count  \\\n",
       "88147     canceled             14   \n",
       "171600  successful            198   \n",
       "\n",
       "                                                    blurb  \\\n",
       "88147   An action/comedy film based in a world of unde...   \n",
       "171600  Pindabear is our way of melding our love of ar...   \n",
       "\n",
       "        converted_pledged_amount country  created_at currency currency_symbol  \\\n",
       "88147                        657      US  1403916807      USD               $   \n",
       "171600                      5139      US  1500924807      USD               $   \n",
       "\n",
       "        currency_trailing_code current_currency    deadline  \\\n",
       "88147                     True              USD  1407358364   \n",
       "171600                    True              USD  1506282478   \n",
       "\n",
       "        disable_communication friends  fx_rate    goal          id is_backing  \\\n",
       "88147                   False              1.0  7500.0   950768404              \n",
       "171600                  False              1.0  2000.0  1651888765              \n",
       "\n",
       "        is_starrable is_starred  launched_at  \\\n",
       "88147          False              1404766364   \n",
       "171600         False              1502063144   \n",
       "\n",
       "                                         name permissions  pledged  \\\n",
       "88147                   LARPE DIEM (Canceled)                657.0   \n",
       "171600  Pindabear Enamel Pins: Initial Launch               5139.0   \n",
       "\n",
       "                                        slug  \\\n",
       "88147                             larpe-diem   \n",
       "171600  pindabear-enamel-pins-initial-launch   \n",
       "\n",
       "                                               source_url  spotlight  \\\n",
       "88147   https://www.kickstarter.com/discover/categorie...      False   \n",
       "171600  https://www.kickstarter.com/discover/categorie...       True   \n",
       "\n",
       "        staff_pick  state_changed_at  static_usd_rate  usd_pledged  \\\n",
       "88147        False        1406487223              1.0        657.0   \n",
       "171600       False        1506282478              1.0       5139.0   \n",
       "\n",
       "             usd_type  category_color  category_id category_name  \\\n",
       "88147   international        16734574          292        Comedy   \n",
       "171600  international        16760235           54   Mixed Media   \n",
       "\n",
       "       category_parent_id  category_position        category_slug  \\\n",
       "88147                11.0                  3  film & video/comedy   \n",
       "171600                1.0                  6      art/mixed media   \n",
       "\n",
       "                               category_urls.web.discover  \\\n",
       "88147   http://www.kickstarter.com/discover/categories...   \n",
       "171600  http://www.kickstarter.com/discover/categories...   \n",
       "\n",
       "                                    creator_avatar.medium  \\\n",
       "88147   https://ksr-ugc.imgix.net/assets/008/920/814/c...   \n",
       "171600  https://ksr-ugc.imgix.net/assets/017/637/047/8...   \n",
       "\n",
       "                                     creator_avatar.small  \\\n",
       "88147   https://ksr-ugc.imgix.net/assets/008/920/814/c...   \n",
       "171600  https://ksr-ugc.imgix.net/assets/017/637/047/8...   \n",
       "\n",
       "                                     creator_avatar.thumb  \\\n",
       "88147   https://ksr-ugc.imgix.net/assets/008/920/814/c...   \n",
       "171600  https://ksr-ugc.imgix.net/assets/017/637/047/8...   \n",
       "\n",
       "       creator_chosen_currency  creator_id  creator_is_registered  \\\n",
       "88147                           1141640382                   True   \n",
       "171600                          1634039530                   True   \n",
       "\n",
       "                           creator_name creator_slug  \\\n",
       "88147   Fat Kids On The Block Film Crew                \n",
       "171600            Pindabear Enamel Pins    pindabear   \n",
       "\n",
       "                                    creator_urls.api.user  \\\n",
       "88147   https://api.kickstarter.com/v1/users/114164038...   \n",
       "171600  https://api.kickstarter.com/v1/users/163403953...   \n",
       "\n",
       "                                 creator_urls.web.user location_id  \\\n",
       "88147   https://www.kickstarter.com/profile/1141640382   2424766.0   \n",
       "171600   https://www.kickstarter.com/profile/pindabear   2478522.0   \n",
       "\n",
       "           location_name        location_slug   location_short_name  \\\n",
       "88147            Houston           houston-tx           Houston, TX   \n",
       "171600  Rancho Cucamonga  rancho-cucamonga-ca  Rancho Cucamonga, CA   \n",
       "\n",
       "       location_displayable_name location_localized_name location_country  \\\n",
       "88147                Houston, TX                 Houston               US   \n",
       "171600      Rancho Cucamonga, CA        Rancho Cucamonga               US   \n",
       "\n",
       "       location_state location_type location_is_root  \\\n",
       "88147              TX          Town            False   \n",
       "171600             CA          Town            False   \n",
       "\n",
       "                               location_urls_web_discover  \\\n",
       "88147   https://www.kickstarter.com/discover/places/ho...   \n",
       "171600  https://www.kickstarter.com/discover/places/ra...   \n",
       "\n",
       "                               location_urls_web_location  \\\n",
       "88147    https://www.kickstarter.com/locations/houston-tx   \n",
       "171600  https://www.kickstarter.com/locations/rancho-c...   \n",
       "\n",
       "                        location_urls_api_nearby_projects  \\\n",
       "88147   https://api.kickstarter.com/v1/discover?signat...   \n",
       "171600  https://api.kickstarter.com/v1/discover?signat...   \n",
       "\n",
       "                                           photo_1024x576  \\\n",
       "88147   https://ksr-ugc.imgix.net/assets/011/734/576/3...   \n",
       "171600  https://ksr-ugc.imgix.net/assets/017/636/469/8...   \n",
       "\n",
       "                                           photo_1536x864  \\\n",
       "88147   https://ksr-ugc.imgix.net/assets/011/734/576/3...   \n",
       "171600  https://ksr-ugc.imgix.net/assets/017/636/469/8...   \n",
       "\n",
       "                                                 photo_ed  \\\n",
       "88147   https://ksr-ugc.imgix.net/assets/011/734/576/3...   \n",
       "171600  https://ksr-ugc.imgix.net/assets/017/636/469/8...   \n",
       "\n",
       "                                               photo_full  \\\n",
       "88147   https://ksr-ugc.imgix.net/assets/011/734/576/3...   \n",
       "171600  https://ksr-ugc.imgix.net/assets/017/636/469/8...   \n",
       "\n",
       "                                                photo_key  \\\n",
       "88147   assets/011/734/576/357df2a68da6a9b411024dd13d6...   \n",
       "171600  assets/017/636/469/86461b770f10aa8ebcf0e5e42cc...   \n",
       "\n",
       "                                             photo_little  \\\n",
       "88147   https://ksr-ugc.imgix.net/assets/011/734/576/3...   \n",
       "171600  https://ksr-ugc.imgix.net/assets/017/636/469/8...   \n",
       "\n",
       "                                                photo_med  \\\n",
       "88147   https://ksr-ugc.imgix.net/assets/011/734/576/3...   \n",
       "171600  https://ksr-ugc.imgix.net/assets/017/636/469/8...   \n",
       "\n",
       "                                              photo_small  \\\n",
       "88147   https://ksr-ugc.imgix.net/assets/011/734/576/3...   \n",
       "171600  https://ksr-ugc.imgix.net/assets/017/636/469/8...   \n",
       "\n",
       "                                              photo_thumb  \\\n",
       "88147   https://ksr-ugc.imgix.net/assets/011/734/576/3...   \n",
       "171600  https://ksr-ugc.imgix.net/assets/017/636/469/8...   \n",
       "\n",
       "       profile_background_color profile_background_image_attributes.id  \\\n",
       "88147                                                                    \n",
       "171600                                                                   \n",
       "\n",
       "       profile_background_image_attributes.image_urls.baseball_card  \\\n",
       "88147                                                                 \n",
       "171600                                                                \n",
       "\n",
       "       profile_background_image_attributes.image_urls.default  \\\n",
       "88147                                                           \n",
       "171600                                                          \n",
       "\n",
       "        profile_background_image_opacity  \\\n",
       "88147                                0.8   \n",
       "171600                               0.8   \n",
       "\n",
       "                                            profile_blurb  \\\n",
       "88147                                                       \n",
       "171600  Pindabear is our way of melding our love of ar...   \n",
       "\n",
       "       profile_feature_image_attributes.id  \\\n",
       "88147                                        \n",
       "171600                                       \n",
       "\n",
       "       profile_feature_image_attributes.image_urls.baseball_card  \\\n",
       "88147   https://ksr-ugc.imgix.net/assets/011/734/576/3...          \n",
       "171600  https://ksr-ugc.imgix.net/assets/017/636/469/8...          \n",
       "\n",
       "       profile_feature_image_attributes.image_urls.default  profile_id  \\\n",
       "88147   https://ksr-ugc.imgix.net/assets/011/734/576/3...      1088243   \n",
       "171600  https://ksr-ugc.imgix.net/assets/017/636/469/8...      3084733   \n",
       "\n",
       "       profile_link_background_color profile_link_text  \\\n",
       "88147                                                    \n",
       "171600                        000000     pindabear.com   \n",
       "\n",
       "       profile_link_text_color      profile_link_url  \\\n",
       "88147                                                  \n",
       "171600                          http://pindabear.com   \n",
       "\n",
       "                                 profile_name  profile_project_id  \\\n",
       "88147                                                     1088243   \n",
       "171600  Pindabear Enamel Pins: Initial Launch             3084733   \n",
       "\n",
       "        profile_should_show_feature_image_section  profile_show_feature_image  \\\n",
       "88147                                        True                       False   \n",
       "171600                                       True                       False   \n",
       "\n",
       "       profile_state  profile_state_changed_at profile_text_color  \\\n",
       "88147       inactive                1425915860                      \n",
       "171600        active                1506384050                      \n",
       "\n",
       "       urls_api.message_creator urls_api.star urls_web.message_creator  \\\n",
       "88147                                                                    \n",
       "171600                                                                   \n",
       "\n",
       "                                         urls_web.project  \\\n",
       "88147   https://www.kickstarter.com/projects/114164038...   \n",
       "171600  https://www.kickstarter.com/projects/pindabear...   \n",
       "\n",
       "                                         urls_web.rewards  \n",
       "88147   https://www.kickstarter.com/projects/114164038...  \n",
       "171600  https://www.kickstarter.com/projects/pindabear...  "
      ]
     },
     "execution_count": 143,
     "metadata": {},
     "output_type": "execute_result"
    }
   ],
   "source": [
    "df_v.head(2)"
   ]
  },
  {
   "cell_type": "code",
   "execution_count": 144,
   "metadata": {},
   "outputs": [],
   "source": [
    "# ---- CLEAN DATA ----\n",
    "\n",
    "#-----------------------------------------\n",
    "# USER INPUTS\n",
    "\n",
    "\n",
    "#-----------------------------------------\n",
    "# IMPORT LIBRARIES\n",
    "\n",
    "import pandas as pd\n",
    "from datetime import datetime\n",
    "\n",
    "#-----------------------------------------\n",
    "# LOAD DATA\n",
    "\n",
    "#df = pd.read_csv('data/df00.csv', sep=',', na_filter=False, index_col=0)\n",
    "\n",
    "#-----------------------------------------\n",
    "# CLEAN DATA\n",
    "\n",
    "# ---- COLUMN CLEANUP ----\n",
    "# Remove useless and nested dictionaries\n",
    "drop_vars = ['photo_1024x576', 'photo_1536x864', 'photo_ed', 'photo_full', \n",
    "             'photo_key', 'photo_little', 'photo_med', 'photo_small', \n",
    "             'photo_thumb', 'slug', 'urls_api.message_creator', 'urls_api.star', \n",
    "             'urls_web.message_creator', 'urls_web.project', 'urls_web.rewards', \n",
    "             'source_url', 'creator_avatar.medium', 'creator_avatar.small', \n",
    "             'creator_avatar.thumb', 'creator_chosen_currency', 'creator_id', \n",
    "             'creator_name', 'creator_slug', 'creator_urls.api.user',\n",
    "             'creator_urls.web.user', 'location_id', 'location_name', \n",
    "             'location_slug', 'location_short_name', 'location_displayable_name', \n",
    "             'location_localized_name', 'location_type', 'location_is_root', \n",
    "             'location_urls_web_discover', 'location_urls_web_location', \n",
    "             'location_urls_api_nearby_projects', 'category_color', \n",
    "             'category_id', 'category_urls.web.discover', \n",
    "             'profile_background_color', \n",
    "             'profile_background_image_attributes.id', \n",
    "             'profile_background_image_attributes.image_urls.baseball_card', \n",
    "             'profile_background_image_attributes.image_urls.default',\n",
    "             'profile_background_image_opacity', 'profile_blurb', \n",
    "             'profile_feature_image_attributes.id', \n",
    "             'profile_feature_image_attributes.image_urls.baseball_card',\n",
    "             'profile_feature_image_attributes.image_urls.default', 'profile_id',\n",
    "             'profile_link_background_color', 'profile_link_text', \n",
    "             'profile_link_text_color', 'profile_link_url', 'profile_name', \n",
    "             'profile_project_id', 'profile_should_show_feature_image_section', \n",
    "             'profile_show_feature_image', 'profile_state', \n",
    "             'profile_state_changed_at', 'profile_text_color', 'currency_symbol',\n",
    "             'static_usd_rate','converted_pledged_amount','fx_rate',\n",
    "             'current_currency', 'usd_pledged', 'is_starrable', 'friends', \n",
    "             'is_backing', 'is_starred', 'permissions', 'name', 'blurb',\n",
    "             'location_state', 'location_country', 'currency', 'currency_trailing_code', \n",
    "             'state_changed_at', 'category_parent_id', 'category_position', \n",
    "             'category_name', 'category_id', 'creator_is_registered', \n",
    "             'disable_communication', 'created_at', 'usd_type']\n",
    "\n",
    "# =============================================================================\n",
    "# Many of the variables removed were obviously not useful just by looking at them.\n",
    "# Some, however, were not so obvious.\n",
    "# * profile_state: probably active when live and inactive when finished\n",
    "# * converted_pledged_amount: we just want the pledged amount (in USD)\n",
    "# * fx_rate: appears to be exchange rate\n",
    "# * usd_pledged: redundant with pledged\n",
    "# * location_state: delete (too granular)\n",
    "# * location_country: delete (not sure how it differs from country)\n",
    "# * currency: delete (pledges is in usd)\n",
    "# * currency_trailing_code - delete (what is it?)\n",
    "# * state_changed_at: Seems to be when it changed launch state\n",
    "# * creator_is_registered: all 'true'\n",
    "# * disable_communication: all 'false'\n",
    "# * created_at: we really care about 'launched_at' and 'deadline'\n",
    "# =============================================================================\n",
    "\n",
    "df_v.drop(columns=drop_vars, inplace=True)\n",
    "\n",
    "# Rename columns\n",
    "df_v.rename(columns={'category_slug':'category', 'state':'launch_state'}, inplace=True)\n",
    "\n",
    "# Rearrange columns\n",
    "df_v = df_v[['launch_state', 'id', 'category', 'goal', 'backers_count', \n",
    "         'pledged', 'country','deadline', 'launched_at', \n",
    "         'staff_pick', 'spotlight']]\n",
    "\n",
    "# ---- EXTRACT CATEGORIES ----\n",
    "# We extract the parent category strings\n",
    "df_v['category'] = [i.split('/')[0] for i in df_v['category']]\n",
    "\n",
    "# ---- REMOVE DUPLICATES ----\n",
    "# Remove duplicate rows\n",
    "df_v.drop_duplicates(inplace=True)\n",
    "# For duplicate IDs leftover, removve the lesser pledged row\n",
    "df_v = df_v.sort_values('pledged', ascending=False).drop_duplicates('id').sort_index()\n",
    "\n",
    "# Check\n",
    "if (len(df_v) - len(df_v[\"id\"])) != 0:\n",
    "    print('*** WARNING: There are ',\n",
    "          len(df_v) - len(df_v[\"id\"]), \n",
    "          ' duplicate IDs ***', sep='')\n",
    "\n",
    "# Re-index\n",
    "df_v.reset_index(drop=True, inplace=True)\n",
    "\n",
    "# ---- CONVERT DATETIMES ----\n",
    "# Convert date values to datetime \n",
    "# The default format of these values is in unix time format\n",
    "df_v['deadline'] = df_v['deadline'].apply(datetime.utcfromtimestamp)\n",
    "df_v['launched_at'] = df_v['launched_at'].apply(datetime.utcfromtimestamp)\n",
    "\n",
    "# ---- NA IMPUTATION ----\n",
    "# Checks\n",
    "if df_v.isnull().sum().sum() != 0:\n",
    "    print('*** WARNING: There are null values ***')\n",
    "if df_v.isna().sum().sum() != 0:\n",
    "    print('*** WARNING: There are NA values ***')\n",
    "if (df_v=='').sum().sum() != 0:\n",
    "    print('*** WARNING: There are empty string (\\'\\') values ***')\n",
    "\n",
    "# ---- CLEAN UP 'launch_state' ----\n",
    "df_v.query(\"launch_state == 'failed' | launch_state == 'successful'\", inplace=True)\n",
    "df_v.reset_index(drop=True, inplace=True)\n",
    "\n",
    "# ---- CONVERT CATEGORICAL VARIABLES TO DUMMY VARIABLES ----\n",
    "category = pd.get_dummies(df_v['category'], drop_first=True)\n",
    "country = pd.get_dummies(df_v['country'], drop_first=True)\n",
    "d_launch_state = dict(zip(['failed','successful'], range(0,2)))\n",
    "launch_state = df_v['launch_state'].map(d_launch_state)\n",
    "\n",
    "# Check\n",
    "if (df_v[df_v['launch_state'] == 'successful'].shape[0] - launch_state.sum() != 0):\n",
    "    print('*** WARNING: Some launch_states did not map to 0/1 ***')\n",
    "\n",
    "# Drop the categorical launch_state column \n",
    "# (keep 'category' and 'country' for  visualization)\n",
    "df_v.drop(['launch_state'],axis=1,inplace=True)\n",
    "\n",
    "# Add the new dummy variable launch_state column and move it to column index 0 \n",
    "# and country to column index 3\n",
    "df_v = pd.concat([launch_state, df_v], axis=1)\n",
    "df_v = df_v[['launch_state', 'id', 'category', 'country', 'goal', 'backers_count', \n",
    "         'pledged','deadline', 'launched_at', 'staff_pick', 'spotlight']]\n",
    "\n",
    "# Add the dummy variable country and category columns\n",
    "df_v = pd.concat([df_v, category, country], axis=1)\n",
    "\n",
    "# Checks\n",
    "if (df_v.isnull().sum().sum() != 0):\n",
    "    print('*** WARNING: Null values introduced with dummy variables ***')\n",
    "if (df_v.isna().sum().sum() != 0):\n",
    "    print('*** WARNING: NA values introduced with dummy variables ***')\n",
    "if (df_v=='').sum().sum() != 0:\n",
    "    print('*** WARNING: Empty string (\\'\\') values introduced with dummy variables ***')\n",
    "\n",
    "# ---- CREATE 'PLEDGED_RATIO' ----\n",
    "# pledged_ratio\n",
    "pledged_ratio = df_v['pledged'] / df_v['goal']\n",
    "df_v.insert(loc=df_v.columns.get_loc(\"pledged\"), column='pledged_ratio', \n",
    "          value=pledged_ratio)\n",
    "df_v.drop(columns='pledged', inplace=True)\n",
    "\n",
    "# datetime columns\n",
    "funding_days = (df_v['deadline'] - df_v['launched_at']).dt.days\n",
    "df_v.insert(loc=df_v.columns.get_loc(\"deadline\"), column='funding_days', \n",
    "          value=funding_days)\n",
    "df_v.drop(columns='deadline', inplace=True)\n",
    "\n",
    "# ---- MOVE 'LAUNCHED_AT' ----\n",
    "launched_at = df_v['launched_at']\n",
    "df_v.drop(columns='launched_at', inplace=True)\n",
    "df_v.insert(loc=2, column='launched_at', value=launched_at)\n",
    "\n",
    "# ---- CONVERT 'STAFF_PICK' AND 'SPOTLIGHT' TO DUMMIES ----\n",
    "d_staff_pick = dict(zip([False,True], range(0,2)))\n",
    "staff_pick = df_v['staff_pick'].map(d_staff_pick)\n",
    "\n",
    "# Check\n",
    "if (df_v[df_v['staff_pick'] == True].shape[0] - staff_pick.sum()) != 0:\n",
    "    print('*** WARNING: \\'staff_pick\\' not mapped to 0/1 properly ***')\n",
    "\n",
    "d_spotlight = dict(zip([False,True], range(0,2)))\n",
    "spotlight = df_v['spotlight'].map(d_spotlight)\n",
    "\n",
    "# Check\n",
    "if (df_v[df_v['spotlight'] == True].shape[0] - spotlight.sum()) != 0:\n",
    "    print('*** WARNING: \\'spotlight\\' not mapped to 0/1 properly ***')\n",
    "\n",
    "df_v.drop(['staff_pick','spotlight'],axis=1,inplace=True)\n",
    "\n",
    "df_v.insert(loc=df_v.columns.get_loc(\"comics\"), column='staff_pick', value=staff_pick)\n",
    "df_v.insert(loc=df_v.columns.get_loc(\"comics\"), column='spotlight', value=spotlight)\n",
    "\n",
    "# Checks\n",
    "if (df_v.isnull().sum().sum() != 0):\n",
    "    print('*** WARNING: Null values introduced with \\'staff_pick\\' and \\'spotlight\\' dummy variables ***')\n",
    "if (df_v.isna().sum().sum() != 0):\n",
    "    print('*** WARNING: NA values introduced with \\'staff_pick\\' and \\'spotlight\\' dummy variables ***')\n",
    "if (df_v=='').sum().sum() != 0:\n",
    "    print('*** WARNING: Empty string (\\'\\') values introduced with \\'staff_pick\\' and \\'spotlight\\' dummy variables ***')\n",
    "\n",
    "#-----------------------------------------\n",
    "# SAVE CSV\n",
    "\n",
    "#df.to_csv('data/df01.csv', sep=\",\")\n"
   ]
  },
  {
   "cell_type": "code",
   "execution_count": 145,
   "metadata": {},
   "outputs": [
    {
     "data": {
      "text/plain": [
       "Index(['launch_state', 'id', 'launched_at', 'category', 'country', 'goal',\n",
       "       'backers_count', 'pledged_ratio', 'funding_days', 'staff_pick',\n",
       "       'comics', 'crafts', 'dance', 'design', 'fashion', 'film & video',\n",
       "       'food', 'games', 'journalism', 'music', 'photography', 'publishing',\n",
       "       'technology', 'theater', 'AU', 'BE', 'CA', 'CH', 'DE', 'DK', 'ES', 'FR',\n",
       "       'GB', 'HK', 'IE', 'IT', 'JP', 'LU', 'MX', 'NL', 'NO', 'NZ', 'SE', 'SG',\n",
       "       'US'],\n",
       "      dtype='object')"
      ]
     },
     "execution_count": 145,
     "metadata": {},
     "output_type": "execute_result"
    }
   ],
   "source": [
    "df.columns"
   ]
  },
  {
   "cell_type": "code",
   "execution_count": 146,
   "metadata": {},
   "outputs": [
    {
     "data": {
      "text/plain": [
       "Index(['launch_state', 'id', 'launched_at', 'category', 'country', 'goal',\n",
       "       'backers_count', 'pledged_ratio', 'funding_days', 'staff_pick',\n",
       "       'spotlight', 'comics', 'crafts', 'dance', 'design', 'fashion',\n",
       "       'film & video', 'food', 'games', 'journalism', 'music', 'photography',\n",
       "       'publishing', 'technology', 'theater', 'AU', 'BE', 'CA', 'CH', 'DE',\n",
       "       'DK', 'ES', 'FR', 'GB', 'HK', 'IE', 'IT', 'JP', 'LU', 'MX', 'NL', 'NO',\n",
       "       'NZ', 'SE', 'SG', 'US'],\n",
       "      dtype='object')"
      ]
     },
     "execution_count": 146,
     "metadata": {},
     "output_type": "execute_result"
    }
   ],
   "source": [
    "df_v.columns\n",
    "\n",
    "df_v.columns\n",
    "Index(['launch_state', 'id', 'launched_at', 'category', 'country', 'goal',\n",
    "       'backers_count', 'p"
   ]
  },
  {
   "cell_type": "code",
   "execution_count": 147,
   "metadata": {},
   "outputs": [
    {
     "data": {
      "text/plain": [
       "0"
      ]
     },
     "execution_count": 147,
     "metadata": {},
     "output_type": "execute_result"
    }
   ],
   "source": [
    "len([item for item in df.columns if item not in df_v.columns])"
   ]
  },
  {
   "cell_type": "code",
   "execution_count": 149,
   "metadata": {},
   "outputs": [
    {
     "data": {
      "text/plain": [
       "1"
      ]
     },
     "execution_count": 149,
     "metadata": {},
     "output_type": "execute_result"
    }
   ],
   "source": [
    "len([item for item in df_v.columns if item not in df.columns])"
   ]
  },
  {
   "cell_type": "code",
   "execution_count": 150,
   "metadata": {},
   "outputs": [
    {
     "data": {
      "text/plain": [
       "['spotlight']"
      ]
     },
     "execution_count": 150,
     "metadata": {},
     "output_type": "execute_result"
    }
   ],
   "source": [
    "[item for item in df_v.columns if item not in df.columns]"
   ]
  },
  {
   "cell_type": "code",
   "execution_count": 151,
   "metadata": {},
   "outputs": [],
   "source": [
    "# ---- REDUCE VARIABLES ----\n",
    "df_v.drop(columns='spotlight', inplace=True)"
   ]
  },
  {
   "cell_type": "code",
   "execution_count": 153,
   "metadata": {},
   "outputs": [
    {
     "data": {
      "text/plain": [
       "[]"
      ]
     },
     "execution_count": 153,
     "metadata": {},
     "output_type": "execute_result"
    }
   ],
   "source": [
    "[item for item in df_v.columns if item not in df.columns]"
   ]
  },
  {
   "cell_type": "code",
   "execution_count": 155,
   "metadata": {},
   "outputs": [
    {
     "data": {
      "text/plain": [
       "Index(['launch_state', 'id', 'launched_at', 'category', 'country', 'goal',\n",
       "       'backers_count', 'pledged_ratio', 'funding_days', 'staff_pick',\n",
       "       'comics', 'crafts', 'dance', 'design', 'fashion', 'film & video',\n",
       "       'food', 'games', 'journalism', 'music', 'photography', 'publishing',\n",
       "       'technology', 'theater', 'AU', 'BE', 'CA', 'CH', 'DE', 'DK', 'ES', 'FR',\n",
       "       'GB', 'HK', 'IE', 'IT', 'JP', 'LU', 'MX', 'NL', 'NO', 'NZ', 'SE', 'SG',\n",
       "       'US'],\n",
       "      dtype='object')"
      ]
     },
     "execution_count": 155,
     "metadata": {},
     "output_type": "execute_result"
    }
   ],
   "source": [
    "df_v.columns"
   ]
  },
  {
   "cell_type": "code",
   "execution_count": 157,
   "metadata": {},
   "outputs": [
    {
     "data": {
      "text/plain": [
       "['id', 'launched_at', 'category', 'country', 'pledged_ratio', 'backers_count']"
      ]
     },
     "execution_count": 157,
     "metadata": {},
     "output_type": "execute_result"
    }
   ],
   "source": [
    "info_variables"
   ]
  },
  {
   "cell_type": "code",
   "execution_count": 160,
   "metadata": {},
   "outputs": [
    {
     "data": {
      "text/plain": [
       "Index(['goal', 'funding_days', 'staff_pick', 'comics', 'crafts', 'dance',\n",
       "       'design', 'fashion', 'film & video', 'food', 'games', 'journalism',\n",
       "       'music', 'photography', 'publishing', 'technology', 'theater', 'AU',\n",
       "       'BE', 'CA', 'CH', 'DE', 'DK', 'ES', 'FR', 'GB', 'HK', 'IE', 'IT', 'JP',\n",
       "       'LU', 'MX', 'NL', 'NO', 'NZ', 'SE', 'SG', 'US'],\n",
       "      dtype='object')"
      ]
     },
     "execution_count": 160,
     "metadata": {},
     "output_type": "execute_result"
    }
   ],
   "source": [
    "df_v.drop(columns=info_variables).drop(columns='launch_state').columns"
   ]
  },
  {
   "cell_type": "code",
   "execution_count": 161,
   "metadata": {},
   "outputs": [],
   "source": [
    "# ----X,y SPLIT ----\n",
    "X_v = df_v.drop(columns=info_variables).drop(columns='launch_state')\n",
    "y_v = df_v['launch_state']"
   ]
  },
  {
   "cell_type": "code",
   "execution_count": 162,
   "metadata": {},
   "outputs": [
    {
     "data": {
      "text/plain": [
       "StandardScaler(copy=True, with_mean=True, with_std=True)"
      ]
     },
     "execution_count": 162,
     "metadata": {},
     "output_type": "execute_result"
    }
   ],
   "source": [
    "sc_X"
   ]
  },
  {
   "cell_type": "code",
   "execution_count": 163,
   "metadata": {},
   "outputs": [],
   "source": [
    "# ---- FEATURE SCALING ----\n",
    "X_v = sc_X.transform(X_v)"
   ]
  },
  {
   "cell_type": "code",
   "execution_count": null,
   "metadata": {},
   "outputs": [],
   "source": []
  },
  {
   "cell_type": "code",
   "execution_count": null,
   "metadata": {},
   "outputs": [],
   "source": []
  }
 ],
 "metadata": {
  "kernelspec": {
   "display_name": "Python 3",
   "language": "python",
   "name": "python3"
  },
  "language_info": {
   "codemirror_mode": {
    "name": "ipython",
    "version": 3
   },
   "file_extension": ".py",
   "mimetype": "text/x-python",
   "name": "python",
   "nbconvert_exporter": "python",
   "pygments_lexer": "ipython3",
   "version": "3.6.5"
  }
 },
 "nbformat": 4,
 "nbformat_minor": 2
}
