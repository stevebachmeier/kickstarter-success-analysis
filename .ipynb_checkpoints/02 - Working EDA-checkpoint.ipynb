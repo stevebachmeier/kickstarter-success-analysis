{
 "cells": [
  {
   "cell_type": "code",
   "execution_count": 3,
   "metadata": {},
   "outputs": [],
   "source": [
    "# ========================================\n",
    "# IMPORT LIBRARIES\n",
    "# ========================================\n",
    "import pandas as pd\n",
    "import numpy as np\n",
    "import seaborn as sns\n",
    "%matplotlib inline\n",
    "import matplotlib.pyplot as plt\n",
    "import datetime"
   ]
  },
  {
   "cell_type": "code",
   "execution_count": 4,
   "metadata": {},
   "outputs": [],
   "source": [
    "# ========================================\n",
    "# IMPORT DATAFRAME\n",
    "# ========================================\n",
    "df = pd.read_csv('data/df01.csv', sep=',', na_filter=False, index_col=0, parse_dates=['deadline','created_at','launched_at'])"
   ]
  },
  {
   "cell_type": "code",
   "execution_count": 5,
   "metadata": {},
   "outputs": [
    {
     "data": {
      "text/plain": [
       "(173887, 15)"
      ]
     },
     "execution_count": 5,
     "metadata": {},
     "output_type": "execute_result"
    }
   ],
   "source": [
    "df.shape"
   ]
  },
  {
   "cell_type": "code",
   "execution_count": 6,
   "metadata": {},
   "outputs": [
    {
     "name": "stdout",
     "output_type": "stream",
     "text": [
      "<class 'pandas.core.frame.DataFrame'>\n",
      "Int64Index: 173887 entries, 0 to 173886\n",
      "Data columns (total 15 columns):\n",
      "id                       173887 non-null int64\n",
      "name                     173887 non-null object\n",
      "category                 173887 non-null object\n",
      "goal                     173887 non-null float64\n",
      "backers_count            173887 non-null int64\n",
      "pledged                  173887 non-null float64\n",
      "disable_communication    173887 non-null bool\n",
      "country                  173887 non-null object\n",
      "deadline                 173887 non-null datetime64[ns]\n",
      "created_at               173887 non-null datetime64[ns]\n",
      "launched_at              173887 non-null datetime64[ns]\n",
      "staff_pick               173887 non-null bool\n",
      "spotlight                173887 non-null bool\n",
      "creator_registered       173887 non-null bool\n",
      "launch_state             173887 non-null object\n",
      "dtypes: bool(4), datetime64[ns](3), float64(2), int64(2), object(4)\n",
      "memory usage: 16.6+ MB\n"
     ]
    }
   ],
   "source": [
    "df.info()"
   ]
  },
  {
   "cell_type": "code",
   "execution_count": 7,
   "metadata": {},
   "outputs": [
    {
     "data": {
      "text/plain": [
       "0"
      ]
     },
     "execution_count": 7,
     "metadata": {},
     "output_type": "execute_result"
    }
   ],
   "source": [
    "df.isnull().sum().sum()"
   ]
  },
  {
   "cell_type": "code",
   "execution_count": 8,
   "metadata": {},
   "outputs": [
    {
     "data": {
      "text/plain": [
       "0"
      ]
     },
     "execution_count": 8,
     "metadata": {},
     "output_type": "execute_result"
    }
   ],
   "source": [
    "df.isna().sum().sum()"
   ]
  },
  {
   "cell_type": "code",
   "execution_count": null,
   "metadata": {},
   "outputs": [],
   "source": []
  },
  {
   "cell_type": "code",
   "execution_count": 9,
   "metadata": {},
   "outputs": [],
   "source": [
    "# ========================================\n",
    "# EXPLORATORY DATA ANALYSIS\n",
    "# ========================================"
   ]
  },
  {
   "cell_type": "code",
   "execution_count": 9,
   "metadata": {},
   "outputs": [
    {
     "data": {
      "text/plain": [
       "<matplotlib.axes._subplots.AxesSubplot at 0x29d9ce1fba8>"
      ]
     },
     "execution_count": 9,
     "metadata": {},
     "output_type": "execute_result"
    },
    {
     "data": {
      "image/png": "[encoded data removed]",
      "text/plain": [
       "<Figure size 576x288 with 1 Axes>"
      ]
     },
     "metadata": {},
     "output_type": "display_data"
    }
   ],
   "source": [
    "fig=plt.figure(figsize=(8, 4))\n",
    "sns.set_style('whitegrid')\n",
    "sns.countplot(x='launch_state',data=df)"
   ]
  },
  {
   "cell_type": "code",
   "execution_count": 17,
   "metadata": {},
   "outputs": [
    {
     "data": {
      "text/plain": [
       "Index(['id', 'name', 'category', 'goal', 'backers_count', 'pledged',\n",
       "       'disable_communication', 'country', 'deadline', 'created_at',\n",
       "       'launched_at', 'staff_pick', 'spotlight', 'creator_registered',\n",
       "       'launch_state'],\n",
       "      dtype='object')"
      ]
     },
     "execution_count": 17,
     "metadata": {},
     "output_type": "execute_result"
    }
   ],
   "source": [
    "df.columns"
   ]
  },
  {
   "cell_type": "code",
   "execution_count": 10,
   "metadata": {},
   "outputs": [
    {
     "data": {
      "text/html": [
       "<div>\n",
       "<style scoped>\n",
       "    .dataframe tbody tr th:only-of-type {\n",
       "        vertical-align: middle;\n",
       "    }\n",
       "\n",
       "    .dataframe tbody tr th {\n",
       "        vertical-align: top;\n",
       "    }\n",
       "\n",
       "    .dataframe thead th {\n",
       "        text-align: right;\n",
       "    }\n",
       "</style>\n",
       "<table border=\"1\" class=\"dataframe\">\n",
       "  <thead>\n",
       "    <tr style=\"text-align: right;\">\n",
       "      <th></th>\n",
       "      <th>category</th>\n",
       "      <th>goal</th>\n",
       "      <th>backers_count</th>\n",
       "      <th>pledged</th>\n",
       "      <th>disable_communication</th>\n",
       "      <th>country</th>\n",
       "      <th>deadline</th>\n",
       "      <th>created_at</th>\n",
       "      <th>launched_at</th>\n",
       "      <th>staff_pick</th>\n",
       "      <th>spotlight</th>\n",
       "      <th>creator_registered</th>\n",
       "      <th>launch_state</th>\n",
       "    </tr>\n",
       "  </thead>\n",
       "  <tbody>\n",
       "    <tr>\n",
       "      <th>0</th>\n",
       "      <td>technology</td>\n",
       "      <td>3500.0</td>\n",
       "      <td>1</td>\n",
       "      <td>50.00</td>\n",
       "      <td>False</td>\n",
       "      <td>US</td>\n",
       "      <td>2014-11-28 04:59:00</td>\n",
       "      <td>2014-10-16 16:19:46</td>\n",
       "      <td>2014-10-28 19:42:54</td>\n",
       "      <td>False</td>\n",
       "      <td>False</td>\n",
       "      <td>True</td>\n",
       "      <td>failed</td>\n",
       "    </tr>\n",
       "    <tr>\n",
       "      <th>1</th>\n",
       "      <td>games</td>\n",
       "      <td>225.0</td>\n",
       "      <td>63</td>\n",
       "      <td>1613.47</td>\n",
       "      <td>False</td>\n",
       "      <td>US</td>\n",
       "      <td>2011-11-02 18:39:11</td>\n",
       "      <td>2011-09-28 13:44:12</td>\n",
       "      <td>2011-10-17 18:39:11</td>\n",
       "      <td>True</td>\n",
       "      <td>True</td>\n",
       "      <td>True</td>\n",
       "      <td>successful</td>\n",
       "    </tr>\n",
       "  </tbody>\n",
       "</table>\n",
       "</div>"
      ],
      "text/plain": [
       "     category    goal  backers_count  pledged  disable_communication country  \\\n",
       "0  technology  3500.0              1    50.00                  False      US   \n",
       "1       games   225.0             63  1613.47                  False      US   \n",
       "\n",
       "             deadline          created_at         launched_at  staff_pick  \\\n",
       "0 2014-11-28 04:59:00 2014-10-16 16:19:46 2014-10-28 19:42:54       False   \n",
       "1 2011-11-02 18:39:11 2011-09-28 13:44:12 2011-10-17 18:39:11        True   \n",
       "\n",
       "   spotlight  creator_registered launch_state  \n",
       "0      False                True       failed  \n",
       "1       True                True   successful  "
      ]
     },
     "execution_count": 10,
     "metadata": {},
     "output_type": "execute_result"
    }
   ],
   "source": [
    "df.drop(columns=['id','name']).head(2)"
   ]
  },
  {
   "cell_type": "code",
   "execution_count": 12,
   "metadata": {},
   "outputs": [
    {
     "name": "stderr",
     "output_type": "stream",
     "text": [
      "C:\\Users\\steve\\Anaconda3\\lib\\site-packages\\statsmodels\\nonparametric\\kde.py:488: RuntimeWarning: invalid value encountered in true_divide\n",
      "  binned = fast_linbin(X, a, b, gridsize) / (delta * nobs)\n",
      "C:\\Users\\steve\\Anaconda3\\lib\\site-packages\\statsmodels\\nonparametric\\kdetools.py:34: RuntimeWarning: invalid value encountered in double_scalars\n",
      "  FAC1 = 2*(np.pi*bw/RANGE)**2\n"
     ]
    },
    {
     "data": {
      "text/plain": [
       "<seaborn.axisgrid.PairGrid at 0x15f618c2470>"
      ]
     },
     "execution_count": 12,
     "metadata": {},
     "output_type": "execute_result"
    },
    {
     "data": {
      "image/png": "[encoded data removed]",
      "text/plain": [
       "<Figure size 1343.25x1260 with 56 Axes>"
      ]
     },
     "metadata": {},
     "output_type": "display_data"
    }
   ],
   "source": [
    "sns.set_style('whitegrid')\n",
    "sns.pairplot(data=df.drop(columns=['id','name']), hue='launch_state', diag_kind='kde')"
   ]
  },
  {
   "cell_type": "code",
   "execution_count": 11,
   "metadata": {},
   "outputs": [
    {
     "name": "stdout",
     "output_type": "stream",
     "text": [
      "<class 'pandas.core.frame.DataFrame'>\n",
      "Int64Index: 173887 entries, 0 to 173886\n",
      "Data columns (total 15 columns):\n",
      "id                       173887 non-null int64\n",
      "name                     173887 non-null object\n",
      "category                 173887 non-null object\n",
      "goal                     173887 non-null float64\n",
      "backers_count            173887 non-null int64\n",
      "pledged                  173887 non-null float64\n",
      "disable_communication    173887 non-null bool\n",
      "country                  173887 non-null object\n",
      "deadline                 173887 non-null datetime64[ns]\n",
      "created_at               173887 non-null datetime64[ns]\n",
      "launched_at              173887 non-null datetime64[ns]\n",
      "staff_pick               173887 non-null bool\n",
      "spotlight                173887 non-null bool\n",
      "creator_registered       173887 non-null bool\n",
      "launch_state             173887 non-null object\n",
      "dtypes: bool(4), datetime64[ns](3), float64(2), int64(2), object(4)\n",
      "memory usage: 21.6+ MB\n"
     ]
    }
   ],
   "source": [
    "df.info()"
   ]
  },
  {
   "cell_type": "code",
   "execution_count": 9,
   "metadata": {},
   "outputs": [
    {
     "data": {
      "text/plain": [
       "'Jozii-College Jobs Made Easy'"
      ]
     },
     "execution_count": 9,
     "metadata": {},
     "output_type": "execute_result"
    }
   ],
   "source": [
    "df.name[0]"
   ]
  },
  {
   "cell_type": "code",
   "execution_count": 12,
   "metadata": {},
   "outputs": [
    {
     "data": {
      "text/plain": [
       "array([False])"
      ]
     },
     "execution_count": 12,
     "metadata": {},
     "output_type": "execute_result"
    }
   ],
   "source": [
    "df['disable_communication'].unique()"
   ]
  },
  {
   "cell_type": "code",
   "execution_count": 13,
   "metadata": {},
   "outputs": [
    {
     "data": {
      "text/plain": [
       "array([False,  True])"
      ]
     },
     "execution_count": 13,
     "metadata": {},
     "output_type": "execute_result"
    }
   ],
   "source": [
    "df['staff_pick'].unique()"
   ]
  },
  {
   "cell_type": "code",
   "execution_count": 14,
   "metadata": {},
   "outputs": [
    {
     "data": {
      "text/plain": [
       "array([False,  True])"
      ]
     },
     "execution_count": 14,
     "metadata": {},
     "output_type": "execute_result"
    }
   ],
   "source": [
    "df['spotlight'].unique()"
   ]
  },
  {
   "cell_type": "code",
   "execution_count": 15,
   "metadata": {},
   "outputs": [
    {
     "data": {
      "text/plain": [
       "array([ True])"
      ]
     },
     "execution_count": 15,
     "metadata": {},
     "output_type": "execute_result"
    }
   ],
   "source": [
    "df['creator_registered'].unique()"
   ]
  },
  {
   "cell_type": "code",
   "execution_count": 16,
   "metadata": {},
   "outputs": [],
   "source": [
    "df.drop(columns=['name', 'disable_communication', 'creator_registered'], inplace=True)"
   ]
  },
  {
   "cell_type": "code",
   "execution_count": 17,
   "metadata": {},
   "outputs": [
    {
     "data": {
      "text/html": [
       "<div>\n",
       "<style scoped>\n",
       "    .dataframe tbody tr th:only-of-type {\n",
       "        vertical-align: middle;\n",
       "    }\n",
       "\n",
       "    .dataframe tbody tr th {\n",
       "        vertical-align: top;\n",
       "    }\n",
       "\n",
       "    .dataframe thead th {\n",
       "        text-align: right;\n",
       "    }\n",
       "</style>\n",
       "<table border=\"1\" class=\"dataframe\">\n",
       "  <thead>\n",
       "    <tr style=\"text-align: right;\">\n",
       "      <th></th>\n",
       "      <th>id</th>\n",
       "      <th>category</th>\n",
       "      <th>goal</th>\n",
       "      <th>backers_count</th>\n",
       "      <th>pledged</th>\n",
       "      <th>country</th>\n",
       "      <th>deadline</th>\n",
       "      <th>created_at</th>\n",
       "      <th>launched_at</th>\n",
       "      <th>staff_pick</th>\n",
       "      <th>spotlight</th>\n",
       "      <th>launch_state</th>\n",
       "    </tr>\n",
       "  </thead>\n",
       "  <tbody>\n",
       "    <tr>\n",
       "      <th>0</th>\n",
       "      <td>895922629</td>\n",
       "      <td>technology</td>\n",
       "      <td>3500.0</td>\n",
       "      <td>1</td>\n",
       "      <td>50.00</td>\n",
       "      <td>US</td>\n",
       "      <td>2014-11-28 04:59:00</td>\n",
       "      <td>2014-10-16 16:19:46</td>\n",
       "      <td>2014-10-28 19:42:54</td>\n",
       "      <td>False</td>\n",
       "      <td>False</td>\n",
       "      <td>failed</td>\n",
       "    </tr>\n",
       "    <tr>\n",
       "      <th>1</th>\n",
       "      <td>1190376005</td>\n",
       "      <td>games</td>\n",
       "      <td>225.0</td>\n",
       "      <td>63</td>\n",
       "      <td>1613.47</td>\n",
       "      <td>US</td>\n",
       "      <td>2011-11-02 18:39:11</td>\n",
       "      <td>2011-09-28 13:44:12</td>\n",
       "      <td>2011-10-17 18:39:11</td>\n",
       "      <td>True</td>\n",
       "      <td>True</td>\n",
       "      <td>successful</td>\n",
       "    </tr>\n",
       "    <tr>\n",
       "      <th>2</th>\n",
       "      <td>672906219</td>\n",
       "      <td>publishing</td>\n",
       "      <td>6500.0</td>\n",
       "      <td>113</td>\n",
       "      <td>6633.00</td>\n",
       "      <td>US</td>\n",
       "      <td>2014-09-12 06:12:18</td>\n",
       "      <td>2014-06-21 04:22:09</td>\n",
       "      <td>2014-08-13 06:12:18</td>\n",
       "      <td>False</td>\n",
       "      <td>True</td>\n",
       "      <td>successful</td>\n",
       "    </tr>\n",
       "    <tr>\n",
       "      <th>3</th>\n",
       "      <td>2121203785</td>\n",
       "      <td>fashion</td>\n",
       "      <td>15000.0</td>\n",
       "      <td>1</td>\n",
       "      <td>1.00</td>\n",
       "      <td>GB</td>\n",
       "      <td>2016-05-03 20:04:16</td>\n",
       "      <td>2016-03-04 15:03:52</td>\n",
       "      <td>2016-03-04 21:04:16</td>\n",
       "      <td>False</td>\n",
       "      <td>False</td>\n",
       "      <td>failed</td>\n",
       "    </tr>\n",
       "    <tr>\n",
       "      <th>4</th>\n",
       "      <td>434454655</td>\n",
       "      <td>fashion</td>\n",
       "      <td>15000.0</td>\n",
       "      <td>99</td>\n",
       "      <td>25338.00</td>\n",
       "      <td>CA</td>\n",
       "      <td>2015-04-22 05:01:38</td>\n",
       "      <td>2015-02-12 21:29:27</td>\n",
       "      <td>2015-03-18 05:01:38</td>\n",
       "      <td>False</td>\n",
       "      <td>True</td>\n",
       "      <td>successful</td>\n",
       "    </tr>\n",
       "  </tbody>\n",
       "</table>\n",
       "</div>"
      ],
      "text/plain": [
       "           id    category     goal  backers_count   pledged country  \\\n",
       "0   895922629  technology   3500.0              1     50.00      US   \n",
       "1  1190376005       games    225.0             63   1613.47      US   \n",
       "2   672906219  publishing   6500.0            113   6633.00      US   \n",
       "3  2121203785     fashion  15000.0              1      1.00      GB   \n",
       "4   434454655     fashion  15000.0             99  25338.00      CA   \n",
       "\n",
       "             deadline          created_at         launched_at  staff_pick  \\\n",
       "0 2014-11-28 04:59:00 2014-10-16 16:19:46 2014-10-28 19:42:54       False   \n",
       "1 2011-11-02 18:39:11 2011-09-28 13:44:12 2011-10-17 18:39:11        True   \n",
       "2 2014-09-12 06:12:18 2014-06-21 04:22:09 2014-08-13 06:12:18       False   \n",
       "3 2016-05-03 20:04:16 2016-03-04 15:03:52 2016-03-04 21:04:16       False   \n",
       "4 2015-04-22 05:01:38 2015-02-12 21:29:27 2015-03-18 05:01:38       False   \n",
       "\n",
       "   spotlight launch_state  \n",
       "0      False       failed  \n",
       "1       True   successful  \n",
       "2       True   successful  \n",
       "3      False       failed  \n",
       "4       True   successful  "
      ]
     },
     "execution_count": 17,
     "metadata": {},
     "output_type": "execute_result"
    }
   ],
   "source": [
    "df.head()"
   ]
  },
  {
   "cell_type": "code",
   "execution_count": 18,
   "metadata": {},
   "outputs": [],
   "source": [
    "category = pd.get_dummies(df['category'], drop_first=True)"
   ]
  },
  {
   "cell_type": "code",
   "execution_count": 19,
   "metadata": {},
   "outputs": [
    {
     "data": {
      "text/html": [
       "<div>\n",
       "<style scoped>\n",
       "    .dataframe tbody tr th:only-of-type {\n",
       "        vertical-align: middle;\n",
       "    }\n",
       "\n",
       "    .dataframe tbody tr th {\n",
       "        vertical-align: top;\n",
       "    }\n",
       "\n",
       "    .dataframe thead th {\n",
       "        text-align: right;\n",
       "    }\n",
       "</style>\n",
       "<table border=\"1\" class=\"dataframe\">\n",
       "  <thead>\n",
       "    <tr style=\"text-align: right;\">\n",
       "      <th></th>\n",
       "      <th>comics</th>\n",
       "      <th>crafts</th>\n",
       "      <th>dance</th>\n",
       "      <th>design</th>\n",
       "      <th>fashion</th>\n",
       "      <th>film &amp; video</th>\n",
       "      <th>food</th>\n",
       "      <th>games</th>\n",
       "      <th>journalism</th>\n",
       "      <th>music</th>\n",
       "      <th>photography</th>\n",
       "      <th>publishing</th>\n",
       "      <th>technology</th>\n",
       "      <th>theater</th>\n",
       "    </tr>\n",
       "  </thead>\n",
       "  <tbody>\n",
       "    <tr>\n",
       "      <th>0</th>\n",
       "      <td>0</td>\n",
       "      <td>0</td>\n",
       "      <td>0</td>\n",
       "      <td>0</td>\n",
       "      <td>0</td>\n",
       "      <td>0</td>\n",
       "      <td>0</td>\n",
       "      <td>0</td>\n",
       "      <td>0</td>\n",
       "      <td>0</td>\n",
       "      <td>0</td>\n",
       "      <td>0</td>\n",
       "      <td>1</td>\n",
       "      <td>0</td>\n",
       "    </tr>\n",
       "    <tr>\n",
       "      <th>1</th>\n",
       "      <td>0</td>\n",
       "      <td>0</td>\n",
       "      <td>0</td>\n",
       "      <td>0</td>\n",
       "      <td>0</td>\n",
       "      <td>0</td>\n",
       "      <td>0</td>\n",
       "      <td>1</td>\n",
       "      <td>0</td>\n",
       "      <td>0</td>\n",
       "      <td>0</td>\n",
       "      <td>0</td>\n",
       "      <td>0</td>\n",
       "      <td>0</td>\n",
       "    </tr>\n",
       "    <tr>\n",
       "      <th>2</th>\n",
       "      <td>0</td>\n",
       "      <td>0</td>\n",
       "      <td>0</td>\n",
       "      <td>0</td>\n",
       "      <td>0</td>\n",
       "      <td>0</td>\n",
       "      <td>0</td>\n",
       "      <td>0</td>\n",
       "      <td>0</td>\n",
       "      <td>0</td>\n",
       "      <td>0</td>\n",
       "      <td>1</td>\n",
       "      <td>0</td>\n",
       "      <td>0</td>\n",
       "    </tr>\n",
       "    <tr>\n",
       "      <th>3</th>\n",
       "      <td>0</td>\n",
       "      <td>0</td>\n",
       "      <td>0</td>\n",
       "      <td>0</td>\n",
       "      <td>1</td>\n",
       "      <td>0</td>\n",
       "      <td>0</td>\n",
       "      <td>0</td>\n",
       "      <td>0</td>\n",
       "      <td>0</td>\n",
       "      <td>0</td>\n",
       "      <td>0</td>\n",
       "      <td>0</td>\n",
       "      <td>0</td>\n",
       "    </tr>\n",
       "    <tr>\n",
       "      <th>4</th>\n",
       "      <td>0</td>\n",
       "      <td>0</td>\n",
       "      <td>0</td>\n",
       "      <td>0</td>\n",
       "      <td>1</td>\n",
       "      <td>0</td>\n",
       "      <td>0</td>\n",
       "      <td>0</td>\n",
       "      <td>0</td>\n",
       "      <td>0</td>\n",
       "      <td>0</td>\n",
       "      <td>0</td>\n",
       "      <td>0</td>\n",
       "      <td>0</td>\n",
       "    </tr>\n",
       "  </tbody>\n",
       "</table>\n",
       "</div>"
      ],
      "text/plain": [
       "   comics  crafts  dance  design  fashion  film & video  food  games  \\\n",
       "0       0       0      0       0        0             0     0      0   \n",
       "1       0       0      0       0        0             0     0      1   \n",
       "2       0       0      0       0        0             0     0      0   \n",
       "3       0       0      0       0        1             0     0      0   \n",
       "4       0       0      0       0        1             0     0      0   \n",
       "\n",
       "   journalism  music  photography  publishing  technology  theater  \n",
       "0           0      0            0           0           1        0  \n",
       "1           0      0            0           0           0        0  \n",
       "2           0      0            0           1           0        0  \n",
       "3           0      0            0           0           0        0  \n",
       "4           0      0            0           0           0        0  "
      ]
     },
     "execution_count": 19,
     "metadata": {},
     "output_type": "execute_result"
    }
   ],
   "source": [
    "category.head()"
   ]
  },
  {
   "cell_type": "code",
   "execution_count": 20,
   "metadata": {},
   "outputs": [],
   "source": [
    "country = pd.get_dummies(df['country'], drop_first=True)"
   ]
  },
  {
   "cell_type": "code",
   "execution_count": 21,
   "metadata": {},
   "outputs": [
    {
     "data": {
      "text/html": [
       "<div>\n",
       "<style scoped>\n",
       "    .dataframe tbody tr th:only-of-type {\n",
       "        vertical-align: middle;\n",
       "    }\n",
       "\n",
       "    .dataframe tbody tr th {\n",
       "        vertical-align: top;\n",
       "    }\n",
       "\n",
       "    .dataframe thead th {\n",
       "        text-align: right;\n",
       "    }\n",
       "</style>\n",
       "<table border=\"1\" class=\"dataframe\">\n",
       "  <thead>\n",
       "    <tr style=\"text-align: right;\">\n",
       "      <th></th>\n",
       "      <th>AF</th>\n",
       "      <th>AG</th>\n",
       "      <th>AL</th>\n",
       "      <th>AM</th>\n",
       "      <th>AQ</th>\n",
       "      <th>AR</th>\n",
       "      <th>AT</th>\n",
       "      <th>AU</th>\n",
       "      <th>AX</th>\n",
       "      <th>AZ</th>\n",
       "      <th>...</th>\n",
       "      <th>VE</th>\n",
       "      <th>VI</th>\n",
       "      <th>VN</th>\n",
       "      <th>VU</th>\n",
       "      <th>WS</th>\n",
       "      <th>XK</th>\n",
       "      <th>YE</th>\n",
       "      <th>ZA</th>\n",
       "      <th>ZM</th>\n",
       "      <th>ZW</th>\n",
       "    </tr>\n",
       "  </thead>\n",
       "  <tbody>\n",
       "    <tr>\n",
       "      <th>0</th>\n",
       "      <td>0</td>\n",
       "      <td>0</td>\n",
       "      <td>0</td>\n",
       "      <td>0</td>\n",
       "      <td>0</td>\n",
       "      <td>0</td>\n",
       "      <td>0</td>\n",
       "      <td>0</td>\n",
       "      <td>0</td>\n",
       "      <td>0</td>\n",
       "      <td>...</td>\n",
       "      <td>0</td>\n",
       "      <td>0</td>\n",
       "      <td>0</td>\n",
       "      <td>0</td>\n",
       "      <td>0</td>\n",
       "      <td>0</td>\n",
       "      <td>0</td>\n",
       "      <td>0</td>\n",
       "      <td>0</td>\n",
       "      <td>0</td>\n",
       "    </tr>\n",
       "    <tr>\n",
       "      <th>1</th>\n",
       "      <td>0</td>\n",
       "      <td>0</td>\n",
       "      <td>0</td>\n",
       "      <td>0</td>\n",
       "      <td>0</td>\n",
       "      <td>0</td>\n",
       "      <td>0</td>\n",
       "      <td>0</td>\n",
       "      <td>0</td>\n",
       "      <td>0</td>\n",
       "      <td>...</td>\n",
       "      <td>0</td>\n",
       "      <td>0</td>\n",
       "      <td>0</td>\n",
       "      <td>0</td>\n",
       "      <td>0</td>\n",
       "      <td>0</td>\n",
       "      <td>0</td>\n",
       "      <td>0</td>\n",
       "      <td>0</td>\n",
       "      <td>0</td>\n",
       "    </tr>\n",
       "    <tr>\n",
       "      <th>2</th>\n",
       "      <td>0</td>\n",
       "      <td>0</td>\n",
       "      <td>0</td>\n",
       "      <td>0</td>\n",
       "      <td>0</td>\n",
       "      <td>0</td>\n",
       "      <td>0</td>\n",
       "      <td>0</td>\n",
       "      <td>0</td>\n",
       "      <td>0</td>\n",
       "      <td>...</td>\n",
       "      <td>0</td>\n",
       "      <td>0</td>\n",
       "      <td>0</td>\n",
       "      <td>0</td>\n",
       "      <td>0</td>\n",
       "      <td>0</td>\n",
       "      <td>0</td>\n",
       "      <td>0</td>\n",
       "      <td>0</td>\n",
       "      <td>0</td>\n",
       "    </tr>\n",
       "    <tr>\n",
       "      <th>3</th>\n",
       "      <td>0</td>\n",
       "      <td>0</td>\n",
       "      <td>0</td>\n",
       "      <td>0</td>\n",
       "      <td>0</td>\n",
       "      <td>0</td>\n",
       "      <td>0</td>\n",
       "      <td>0</td>\n",
       "      <td>0</td>\n",
       "      <td>0</td>\n",
       "      <td>...</td>\n",
       "      <td>0</td>\n",
       "      <td>0</td>\n",
       "      <td>0</td>\n",
       "      <td>0</td>\n",
       "      <td>0</td>\n",
       "      <td>0</td>\n",
       "      <td>0</td>\n",
       "      <td>0</td>\n",
       "      <td>0</td>\n",
       "      <td>0</td>\n",
       "    </tr>\n",
       "    <tr>\n",
       "      <th>4</th>\n",
       "      <td>0</td>\n",
       "      <td>0</td>\n",
       "      <td>0</td>\n",
       "      <td>0</td>\n",
       "      <td>0</td>\n",
       "      <td>0</td>\n",
       "      <td>0</td>\n",
       "      <td>0</td>\n",
       "      <td>0</td>\n",
       "      <td>0</td>\n",
       "      <td>...</td>\n",
       "      <td>0</td>\n",
       "      <td>0</td>\n",
       "      <td>0</td>\n",
       "      <td>0</td>\n",
       "      <td>0</td>\n",
       "      <td>0</td>\n",
       "      <td>0</td>\n",
       "      <td>0</td>\n",
       "      <td>0</td>\n",
       "      <td>0</td>\n",
       "    </tr>\n",
       "  </tbody>\n",
       "</table>\n",
       "<p>5 rows × 194 columns</p>\n",
       "</div>"
      ],
      "text/plain": [
       "   AF  AG  AL  AM  AQ  AR  AT  AU  AX  AZ ...  VE  VI  VN  VU  WS  XK  YE  ZA  \\\n",
       "0   0   0   0   0   0   0   0   0   0   0 ...   0   0   0   0   0   0   0   0   \n",
       "1   0   0   0   0   0   0   0   0   0   0 ...   0   0   0   0   0   0   0   0   \n",
       "2   0   0   0   0   0   0   0   0   0   0 ...   0   0   0   0   0   0   0   0   \n",
       "3   0   0   0   0   0   0   0   0   0   0 ...   0   0   0   0   0   0   0   0   \n",
       "4   0   0   0   0   0   0   0   0   0   0 ...   0   0   0   0   0   0   0   0   \n",
       "\n",
       "   ZM  ZW  \n",
       "0   0   0  \n",
       "1   0   0  \n",
       "2   0   0  \n",
       "3   0   0  \n",
       "4   0   0  \n",
       "\n",
       "[5 rows x 194 columns]"
      ]
     },
     "execution_count": 21,
     "metadata": {},
     "output_type": "execute_result"
    }
   ],
   "source": [
    "country.head()"
   ]
  },
  {
   "cell_type": "code",
   "execution_count": 22,
   "metadata": {},
   "outputs": [],
   "source": [
    "d_launch_state = dict(zip(['failed','successful'], range(0,2)))"
   ]
  },
  {
   "cell_type": "code",
   "execution_count": 23,
   "metadata": {},
   "outputs": [
    {
     "data": {
      "text/plain": [
       "{'failed': 0, 'successful': 1}"
      ]
     },
     "execution_count": 23,
     "metadata": {},
     "output_type": "execute_result"
    }
   ],
   "source": [
    "d_launch_state"
   ]
  },
  {
   "cell_type": "code",
   "execution_count": 24,
   "metadata": {},
   "outputs": [],
   "source": [
    "launch_state = df['launch_state'].map(d_launch_state)"
   ]
  },
  {
   "cell_type": "code",
   "execution_count": 25,
   "metadata": {},
   "outputs": [
    {
     "data": {
      "text/plain": [
       "0"
      ]
     },
     "execution_count": 25,
     "metadata": {},
     "output_type": "execute_result"
    }
   ],
   "source": [
    "df[df['launch_state'] == 'successful'].shape[0] - launch_state.sum() # Check mapping"
   ]
  },
  {
   "cell_type": "code",
   "execution_count": 26,
   "metadata": {},
   "outputs": [],
   "source": [
    "# Drop the categorical columns"
   ]
  },
  {
   "cell_type": "code",
   "execution_count": 27,
   "metadata": {},
   "outputs": [],
   "source": [
    "df.drop(['category','country','launch_state'],axis=1,inplace=True)"
   ]
  },
  {
   "cell_type": "code",
   "execution_count": 28,
   "metadata": {},
   "outputs": [
    {
     "data": {
      "text/html": [
       "<div>\n",
       "<style scoped>\n",
       "    .dataframe tbody tr th:only-of-type {\n",
       "        vertical-align: middle;\n",
       "    }\n",
       "\n",
       "    .dataframe tbody tr th {\n",
       "        vertical-align: top;\n",
       "    }\n",
       "\n",
       "    .dataframe thead th {\n",
       "        text-align: right;\n",
       "    }\n",
       "</style>\n",
       "<table border=\"1\" class=\"dataframe\">\n",
       "  <thead>\n",
       "    <tr style=\"text-align: right;\">\n",
       "      <th></th>\n",
       "      <th>id</th>\n",
       "      <th>goal</th>\n",
       "      <th>backers_count</th>\n",
       "      <th>pledged</th>\n",
       "      <th>deadline</th>\n",
       "      <th>created_at</th>\n",
       "      <th>launched_at</th>\n",
       "      <th>staff_pick</th>\n",
       "      <th>spotlight</th>\n",
       "    </tr>\n",
       "  </thead>\n",
       "  <tbody>\n",
       "    <tr>\n",
       "      <th>0</th>\n",
       "      <td>895922629</td>\n",
       "      <td>3500.0</td>\n",
       "      <td>1</td>\n",
       "      <td>50.00</td>\n",
       "      <td>2014-11-28 04:59:00</td>\n",
       "      <td>2014-10-16 16:19:46</td>\n",
       "      <td>2014-10-28 19:42:54</td>\n",
       "      <td>False</td>\n",
       "      <td>False</td>\n",
       "    </tr>\n",
       "    <tr>\n",
       "      <th>1</th>\n",
       "      <td>1190376005</td>\n",
       "      <td>225.0</td>\n",
       "      <td>63</td>\n",
       "      <td>1613.47</td>\n",
       "      <td>2011-11-02 18:39:11</td>\n",
       "      <td>2011-09-28 13:44:12</td>\n",
       "      <td>2011-10-17 18:39:11</td>\n",
       "      <td>True</td>\n",
       "      <td>True</td>\n",
       "    </tr>\n",
       "    <tr>\n",
       "      <th>2</th>\n",
       "      <td>672906219</td>\n",
       "      <td>6500.0</td>\n",
       "      <td>113</td>\n",
       "      <td>6633.00</td>\n",
       "      <td>2014-09-12 06:12:18</td>\n",
       "      <td>2014-06-21 04:22:09</td>\n",
       "      <td>2014-08-13 06:12:18</td>\n",
       "      <td>False</td>\n",
       "      <td>True</td>\n",
       "    </tr>\n",
       "    <tr>\n",
       "      <th>3</th>\n",
       "      <td>2121203785</td>\n",
       "      <td>15000.0</td>\n",
       "      <td>1</td>\n",
       "      <td>1.00</td>\n",
       "      <td>2016-05-03 20:04:16</td>\n",
       "      <td>2016-03-04 15:03:52</td>\n",
       "      <td>2016-03-04 21:04:16</td>\n",
       "      <td>False</td>\n",
       "      <td>False</td>\n",
       "    </tr>\n",
       "    <tr>\n",
       "      <th>4</th>\n",
       "      <td>434454655</td>\n",
       "      <td>15000.0</td>\n",
       "      <td>99</td>\n",
       "      <td>25338.00</td>\n",
       "      <td>2015-04-22 05:01:38</td>\n",
       "      <td>2015-02-12 21:29:27</td>\n",
       "      <td>2015-03-18 05:01:38</td>\n",
       "      <td>False</td>\n",
       "      <td>True</td>\n",
       "    </tr>\n",
       "  </tbody>\n",
       "</table>\n",
       "</div>"
      ],
      "text/plain": [
       "           id     goal  backers_count   pledged            deadline  \\\n",
       "0   895922629   3500.0              1     50.00 2014-11-28 04:59:00   \n",
       "1  1190376005    225.0             63   1613.47 2011-11-02 18:39:11   \n",
       "2   672906219   6500.0            113   6633.00 2014-09-12 06:12:18   \n",
       "3  2121203785  15000.0              1      1.00 2016-05-03 20:04:16   \n",
       "4   434454655  15000.0             99  25338.00 2015-04-22 05:01:38   \n",
       "\n",
       "           created_at         launched_at  staff_pick  spotlight  \n",
       "0 2014-10-16 16:19:46 2014-10-28 19:42:54       False      False  \n",
       "1 2011-09-28 13:44:12 2011-10-17 18:39:11        True       True  \n",
       "2 2014-06-21 04:22:09 2014-08-13 06:12:18       False       True  \n",
       "3 2016-03-04 15:03:52 2016-03-04 21:04:16       False      False  \n",
       "4 2015-02-12 21:29:27 2015-03-18 05:01:38       False       True  "
      ]
     },
     "execution_count": 28,
     "metadata": {},
     "output_type": "execute_result"
    }
   ],
   "source": [
    "df.head()"
   ]
  },
  {
   "cell_type": "code",
   "execution_count": 31,
   "metadata": {},
   "outputs": [],
   "source": [
    "# Add the new dummy variable columns"
   ]
  },
  {
   "cell_type": "code",
   "execution_count": 29,
   "metadata": {},
   "outputs": [],
   "source": [
    "df = pd.concat([df, country, category, launch_state],axis=1)"
   ]
  },
  {
   "cell_type": "code",
   "execution_count": 30,
   "metadata": {},
   "outputs": [
    {
     "data": {
      "text/html": [
       "<div>\n",
       "<style scoped>\n",
       "    .dataframe tbody tr th:only-of-type {\n",
       "        vertical-align: middle;\n",
       "    }\n",
       "\n",
       "    .dataframe tbody tr th {\n",
       "        vertical-align: top;\n",
       "    }\n",
       "\n",
       "    .dataframe thead th {\n",
       "        text-align: right;\n",
       "    }\n",
       "</style>\n",
       "<table border=\"1\" class=\"dataframe\">\n",
       "  <thead>\n",
       "    <tr style=\"text-align: right;\">\n",
       "      <th></th>\n",
       "      <th>id</th>\n",
       "      <th>goal</th>\n",
       "      <th>backers_count</th>\n",
       "      <th>pledged</th>\n",
       "      <th>deadline</th>\n",
       "      <th>created_at</th>\n",
       "      <th>launched_at</th>\n",
       "      <th>staff_pick</th>\n",
       "      <th>spotlight</th>\n",
       "      <th>AF</th>\n",
       "      <th>...</th>\n",
       "      <th>film &amp; video</th>\n",
       "      <th>food</th>\n",
       "      <th>games</th>\n",
       "      <th>journalism</th>\n",
       "      <th>music</th>\n",
       "      <th>photography</th>\n",
       "      <th>publishing</th>\n",
       "      <th>technology</th>\n",
       "      <th>theater</th>\n",
       "      <th>launch_state</th>\n",
       "    </tr>\n",
       "  </thead>\n",
       "  <tbody>\n",
       "    <tr>\n",
       "      <th>0</th>\n",
       "      <td>895922629</td>\n",
       "      <td>3500.0</td>\n",
       "      <td>1</td>\n",
       "      <td>50.00</td>\n",
       "      <td>2014-11-28 04:59:00</td>\n",
       "      <td>2014-10-16 16:19:46</td>\n",
       "      <td>2014-10-28 19:42:54</td>\n",
       "      <td>False</td>\n",
       "      <td>False</td>\n",
       "      <td>0</td>\n",
       "      <td>...</td>\n",
       "      <td>0</td>\n",
       "      <td>0</td>\n",
       "      <td>0</td>\n",
       "      <td>0</td>\n",
       "      <td>0</td>\n",
       "      <td>0</td>\n",
       "      <td>0</td>\n",
       "      <td>1</td>\n",
       "      <td>0</td>\n",
       "      <td>0</td>\n",
       "    </tr>\n",
       "    <tr>\n",
       "      <th>1</th>\n",
       "      <td>1190376005</td>\n",
       "      <td>225.0</td>\n",
       "      <td>63</td>\n",
       "      <td>1613.47</td>\n",
       "      <td>2011-11-02 18:39:11</td>\n",
       "      <td>2011-09-28 13:44:12</td>\n",
       "      <td>2011-10-17 18:39:11</td>\n",
       "      <td>True</td>\n",
       "      <td>True</td>\n",
       "      <td>0</td>\n",
       "      <td>...</td>\n",
       "      <td>0</td>\n",
       "      <td>0</td>\n",
       "      <td>1</td>\n",
       "      <td>0</td>\n",
       "      <td>0</td>\n",
       "      <td>0</td>\n",
       "      <td>0</td>\n",
       "      <td>0</td>\n",
       "      <td>0</td>\n",
       "      <td>1</td>\n",
       "    </tr>\n",
       "    <tr>\n",
       "      <th>2</th>\n",
       "      <td>672906219</td>\n",
       "      <td>6500.0</td>\n",
       "      <td>113</td>\n",
       "      <td>6633.00</td>\n",
       "      <td>2014-09-12 06:12:18</td>\n",
       "      <td>2014-06-21 04:22:09</td>\n",
       "      <td>2014-08-13 06:12:18</td>\n",
       "      <td>False</td>\n",
       "      <td>True</td>\n",
       "      <td>0</td>\n",
       "      <td>...</td>\n",
       "      <td>0</td>\n",
       "      <td>0</td>\n",
       "      <td>0</td>\n",
       "      <td>0</td>\n",
       "      <td>0</td>\n",
       "      <td>0</td>\n",
       "      <td>1</td>\n",
       "      <td>0</td>\n",
       "      <td>0</td>\n",
       "      <td>1</td>\n",
       "    </tr>\n",
       "    <tr>\n",
       "      <th>3</th>\n",
       "      <td>2121203785</td>\n",
       "      <td>15000.0</td>\n",
       "      <td>1</td>\n",
       "      <td>1.00</td>\n",
       "      <td>2016-05-03 20:04:16</td>\n",
       "      <td>2016-03-04 15:03:52</td>\n",
       "      <td>2016-03-04 21:04:16</td>\n",
       "      <td>False</td>\n",
       "      <td>False</td>\n",
       "      <td>0</td>\n",
       "      <td>...</td>\n",
       "      <td>0</td>\n",
       "      <td>0</td>\n",
       "      <td>0</td>\n",
       "      <td>0</td>\n",
       "      <td>0</td>\n",
       "      <td>0</td>\n",
       "      <td>0</td>\n",
       "      <td>0</td>\n",
       "      <td>0</td>\n",
       "      <td>0</td>\n",
       "    </tr>\n",
       "    <tr>\n",
       "      <th>4</th>\n",
       "      <td>434454655</td>\n",
       "      <td>15000.0</td>\n",
       "      <td>99</td>\n",
       "      <td>25338.00</td>\n",
       "      <td>2015-04-22 05:01:38</td>\n",
       "      <td>2015-02-12 21:29:27</td>\n",
       "      <td>2015-03-18 05:01:38</td>\n",
       "      <td>False</td>\n",
       "      <td>True</td>\n",
       "      <td>0</td>\n",
       "      <td>...</td>\n",
       "      <td>0</td>\n",
       "      <td>0</td>\n",
       "      <td>0</td>\n",
       "      <td>0</td>\n",
       "      <td>0</td>\n",
       "      <td>0</td>\n",
       "      <td>0</td>\n",
       "      <td>0</td>\n",
       "      <td>0</td>\n",
       "      <td>1</td>\n",
       "    </tr>\n",
       "  </tbody>\n",
       "</table>\n",
       "<p>5 rows × 218 columns</p>\n",
       "</div>"
      ],
      "text/plain": [
       "           id     goal  backers_count   pledged            deadline  \\\n",
       "0   895922629   3500.0              1     50.00 2014-11-28 04:59:00   \n",
       "1  1190376005    225.0             63   1613.47 2011-11-02 18:39:11   \n",
       "2   672906219   6500.0            113   6633.00 2014-09-12 06:12:18   \n",
       "3  2121203785  15000.0              1      1.00 2016-05-03 20:04:16   \n",
       "4   434454655  15000.0             99  25338.00 2015-04-22 05:01:38   \n",
       "\n",
       "           created_at         launched_at  staff_pick  spotlight  AF  \\\n",
       "0 2014-10-16 16:19:46 2014-10-28 19:42:54       False      False   0   \n",
       "1 2011-09-28 13:44:12 2011-10-17 18:39:11        True       True   0   \n",
       "2 2014-06-21 04:22:09 2014-08-13 06:12:18       False       True   0   \n",
       "3 2016-03-04 15:03:52 2016-03-04 21:04:16       False      False   0   \n",
       "4 2015-02-12 21:29:27 2015-03-18 05:01:38       False       True   0   \n",
       "\n",
       "       ...       film & video  food  games  journalism  music  photography  \\\n",
       "0      ...                  0     0      0           0      0            0   \n",
       "1      ...                  0     0      1           0      0            0   \n",
       "2      ...                  0     0      0           0      0            0   \n",
       "3      ...                  0     0      0           0      0            0   \n",
       "4      ...                  0     0      0           0      0            0   \n",
       "\n",
       "   publishing  technology  theater  launch_state  \n",
       "0           0           1        0             0  \n",
       "1           0           0        0             1  \n",
       "2           1           0        0             1  \n",
       "3           0           0        0             0  \n",
       "4           0           0        0             1  \n",
       "\n",
       "[5 rows x 218 columns]"
      ]
     },
     "execution_count": 30,
     "metadata": {},
     "output_type": "execute_result"
    }
   ],
   "source": [
    "df.head()"
   ]
  },
  {
   "cell_type": "markdown",
   "metadata": {},
   "source": [
    "Now we need to consider what exactly some of those columns mean:\n",
    "* id - still just a primary key\n",
    "* pledged - somewhat useless except as a comparison to the goal. Drop pledged but add a pledged_ratio column (pledged/goal)\n",
    "* goal - keep for now but we might drop later due to the potentially high variance with pledged\n",
    "* deadline - useless except in comparison to launched_at. Drop deadline but add funding_days.\n",
    "* created_at - useless; launched_at is more applicable.\n",
    "* launched_at - keep to maybe create some time series plots; move before funding_days\n",
    "* staff_pick - not exactly sure but convert to 0 (false) and 1 (true)\n",
    "* spotlight - not exactly sure but covert to 0 (false) and 1 (true)"
   ]
  },
  {
   "cell_type": "code",
   "execution_count": 31,
   "metadata": {},
   "outputs": [
    {
     "name": "stdout",
     "output_type": "stream",
     "text": [
      "<class 'pandas.core.frame.DataFrame'>\n",
      "Int64Index: 173887 entries, 0 to 173886\n",
      "Columns: 218 entries, id to launch_state\n",
      "dtypes: bool(2), datetime64[ns](3), float64(2), int64(3), uint8(208)\n",
      "memory usage: 51.8 MB\n"
     ]
    }
   ],
   "source": [
    "df.info()"
   ]
  },
  {
   "cell_type": "code",
   "execution_count": 32,
   "metadata": {},
   "outputs": [
    {
     "data": {
      "text/plain": [
       "0"
      ]
     },
     "execution_count": 32,
     "metadata": {},
     "output_type": "execute_result"
    }
   ],
   "source": [
    "df.isnull().sum().sum()"
   ]
  },
  {
   "cell_type": "code",
   "execution_count": 34,
   "metadata": {},
   "outputs": [
    {
     "data": {
      "text/plain": [
       "0"
      ]
     },
     "execution_count": 34,
     "metadata": {},
     "output_type": "execute_result"
    }
   ],
   "source": [
    "df.isna().sum().sum()"
   ]
  },
  {
   "cell_type": "code",
   "execution_count": null,
   "metadata": {},
   "outputs": [],
   "source": []
  },
  {
   "cell_type": "code",
   "execution_count": 35,
   "metadata": {},
   "outputs": [],
   "source": [
    "pledged_ratio = df['pledged'] / df['goal']"
   ]
  },
  {
   "cell_type": "code",
   "execution_count": 36,
   "metadata": {},
   "outputs": [
    {
     "data": {
      "text/plain": [
       "0    0.014286\n",
       "1    7.170978\n",
       "2    1.020462\n",
       "3    0.000067\n",
       "4    1.689200\n",
       "dtype: float64"
      ]
     },
     "execution_count": 36,
     "metadata": {},
     "output_type": "execute_result"
    }
   ],
   "source": [
    "pledged_ratio.head()"
   ]
  },
  {
   "cell_type": "code",
   "execution_count": 37,
   "metadata": {},
   "outputs": [
    {
     "data": {
      "text/html": [
       "<div>\n",
       "<style scoped>\n",
       "    .dataframe tbody tr th:only-of-type {\n",
       "        vertical-align: middle;\n",
       "    }\n",
       "\n",
       "    .dataframe tbody tr th {\n",
       "        vertical-align: top;\n",
       "    }\n",
       "\n",
       "    .dataframe thead th {\n",
       "        text-align: right;\n",
       "    }\n",
       "</style>\n",
       "<table border=\"1\" class=\"dataframe\">\n",
       "  <thead>\n",
       "    <tr style=\"text-align: right;\">\n",
       "      <th></th>\n",
       "      <th>pledged</th>\n",
       "      <th>goal</th>\n",
       "    </tr>\n",
       "  </thead>\n",
       "  <tbody>\n",
       "    <tr>\n",
       "      <th>0</th>\n",
       "      <td>50.00</td>\n",
       "      <td>3500.0</td>\n",
       "    </tr>\n",
       "    <tr>\n",
       "      <th>1</th>\n",
       "      <td>1613.47</td>\n",
       "      <td>225.0</td>\n",
       "    </tr>\n",
       "    <tr>\n",
       "      <th>2</th>\n",
       "      <td>6633.00</td>\n",
       "      <td>6500.0</td>\n",
       "    </tr>\n",
       "    <tr>\n",
       "      <th>3</th>\n",
       "      <td>1.00</td>\n",
       "      <td>15000.0</td>\n",
       "    </tr>\n",
       "    <tr>\n",
       "      <th>4</th>\n",
       "      <td>25338.00</td>\n",
       "      <td>15000.0</td>\n",
       "    </tr>\n",
       "  </tbody>\n",
       "</table>\n",
       "</div>"
      ],
      "text/plain": [
       "    pledged     goal\n",
       "0     50.00   3500.0\n",
       "1   1613.47    225.0\n",
       "2   6633.00   6500.0\n",
       "3      1.00  15000.0\n",
       "4  25338.00  15000.0"
      ]
     },
     "execution_count": 37,
     "metadata": {},
     "output_type": "execute_result"
    }
   ],
   "source": [
    "df[['pledged', 'goal']].head()"
   ]
  },
  {
   "cell_type": "code",
   "execution_count": 38,
   "metadata": {},
   "outputs": [
    {
     "data": {
      "text/plain": [
       "Index(['id', 'goal', 'backers_count', 'pledged', 'deadline', 'created_at',\n",
       "       'launched_at', 'staff_pick', 'spotlight', 'AF',\n",
       "       ...\n",
       "       'film & video', 'food', 'games', 'journalism', 'music', 'photography',\n",
       "       'publishing', 'technology', 'theater', 'launch_state'],\n",
       "      dtype='object', length=218)"
      ]
     },
     "execution_count": 38,
     "metadata": {},
     "output_type": "execute_result"
    }
   ],
   "source": [
    "df.columns"
   ]
  },
  {
   "cell_type": "code",
   "execution_count": 39,
   "metadata": {},
   "outputs": [
    {
     "data": {
      "text/plain": [
       "3"
      ]
     },
     "execution_count": 39,
     "metadata": {},
     "output_type": "execute_result"
    }
   ],
   "source": [
    "df.columns.get_loc(\"pledged\")"
   ]
  },
  {
   "cell_type": "code",
   "execution_count": 40,
   "metadata": {},
   "outputs": [],
   "source": [
    "df.insert(loc=df.columns.get_loc(\"pledged\"), column='pledged_ratio', value=pledged_ratio)"
   ]
  },
  {
   "cell_type": "code",
   "execution_count": 41,
   "metadata": {},
   "outputs": [
    {
     "data": {
      "text/plain": [
       "(173887, 219)"
      ]
     },
     "execution_count": 41,
     "metadata": {},
     "output_type": "execute_result"
    }
   ],
   "source": [
    "df.shape"
   ]
  },
  {
   "cell_type": "code",
   "execution_count": 42,
   "metadata": {},
   "outputs": [
    {
     "data": {
      "text/plain": [
       "Index(['id', 'goal', 'backers_count', 'pledged_ratio', 'pledged', 'deadline',\n",
       "       'created_at', 'launched_at', 'staff_pick', 'spotlight',\n",
       "       ...\n",
       "       'film & video', 'food', 'games', 'journalism', 'music', 'photography',\n",
       "       'publishing', 'technology', 'theater', 'launch_state'],\n",
       "      dtype='object', length=219)"
      ]
     },
     "execution_count": 42,
     "metadata": {},
     "output_type": "execute_result"
    }
   ],
   "source": [
    "df.columns"
   ]
  },
  {
   "cell_type": "code",
   "execution_count": 43,
   "metadata": {},
   "outputs": [],
   "source": [
    "df.drop(columns='pledged', inplace=True)"
   ]
  },
  {
   "cell_type": "code",
   "execution_count": 44,
   "metadata": {},
   "outputs": [
    {
     "data": {
      "text/plain": [
       "(173887, 218)"
      ]
     },
     "execution_count": 44,
     "metadata": {},
     "output_type": "execute_result"
    }
   ],
   "source": [
    "df.shape"
   ]
  },
  {
   "cell_type": "code",
   "execution_count": 45,
   "metadata": {},
   "outputs": [
    {
     "data": {
      "text/plain": [
       "Index(['id', 'goal', 'backers_count', 'pledged_ratio', 'deadline',\n",
       "       'created_at', 'launched_at', 'staff_pick', 'spotlight', 'AF',\n",
       "       ...\n",
       "       'film & video', 'food', 'games', 'journalism', 'music', 'photography',\n",
       "       'publishing', 'technology', 'theater', 'launch_state'],\n",
       "      dtype='object', length=218)"
      ]
     },
     "execution_count": 45,
     "metadata": {},
     "output_type": "execute_result"
    }
   ],
   "source": [
    "df.columns"
   ]
  },
  {
   "cell_type": "code",
   "execution_count": null,
   "metadata": {},
   "outputs": [],
   "source": []
  },
  {
   "cell_type": "code",
   "execution_count": 46,
   "metadata": {},
   "outputs": [
    {
     "data": {
      "text/plain": [
       "Timestamp('2014-11-28 04:59:00')"
      ]
     },
     "execution_count": 46,
     "metadata": {},
     "output_type": "execute_result"
    }
   ],
   "source": [
    "df['deadline'][0]"
   ]
  },
  {
   "cell_type": "code",
   "execution_count": 47,
   "metadata": {},
   "outputs": [
    {
     "data": {
      "text/plain": [
       "Timestamp('2014-10-28 19:42:54')"
      ]
     },
     "execution_count": 47,
     "metadata": {},
     "output_type": "execute_result"
    }
   ],
   "source": [
    "df['launched_at'][0]"
   ]
  },
  {
   "cell_type": "code",
   "execution_count": 48,
   "metadata": {},
   "outputs": [
    {
     "data": {
      "text/plain": [
       "Timedelta('30 days 09:16:06')"
      ]
     },
     "execution_count": 48,
     "metadata": {},
     "output_type": "execute_result"
    }
   ],
   "source": [
    "df['deadline'][0] - df['launched_at'][0]"
   ]
  },
  {
   "cell_type": "code",
   "execution_count": 49,
   "metadata": {},
   "outputs": [
    {
     "data": {
      "text/plain": [
       "30"
      ]
     },
     "execution_count": 49,
     "metadata": {},
     "output_type": "execute_result"
    }
   ],
   "source": [
    "(df['deadline'][0] - df['launched_at'][0]).days"
   ]
  },
  {
   "cell_type": "code",
   "execution_count": 50,
   "metadata": {},
   "outputs": [
    {
     "data": {
      "text/plain": [
       "0   30 days 09:16:06\n",
       "1   16 days 00:00:00\n",
       "2   30 days 00:00:00\n",
       "3   59 days 23:00:00\n",
       "4   35 days 00:00:00\n",
       "dtype: timedelta64[ns]"
      ]
     },
     "execution_count": 50,
     "metadata": {},
     "output_type": "execute_result"
    }
   ],
   "source": [
    "(df['deadline'] - df['launched_at']).head()"
   ]
  },
  {
   "cell_type": "code",
   "execution_count": 51,
   "metadata": {},
   "outputs": [
    {
     "data": {
      "text/plain": [
       "0    30\n",
       "1    16\n",
       "2    30\n",
       "3    59\n",
       "4    35\n",
       "dtype: int64"
      ]
     },
     "execution_count": 51,
     "metadata": {},
     "output_type": "execute_result"
    }
   ],
   "source": [
    "(df['deadline'] - df['launched_at']).dt.days.head()"
   ]
  },
  {
   "cell_type": "code",
   "execution_count": 52,
   "metadata": {},
   "outputs": [],
   "source": [
    "funding_days = (df['deadline'] - df['launched_at']).dt.days"
   ]
  },
  {
   "cell_type": "code",
   "execution_count": 53,
   "metadata": {},
   "outputs": [
    {
     "data": {
      "text/plain": [
       "4"
      ]
     },
     "execution_count": 53,
     "metadata": {},
     "output_type": "execute_result"
    }
   ],
   "source": [
    "df.columns.get_loc(\"deadline\")"
   ]
  },
  {
   "cell_type": "code",
   "execution_count": 54,
   "metadata": {},
   "outputs": [],
   "source": [
    "df.insert(loc=df.columns.get_loc(\"deadline\"), column='funding_days', value=funding_days)"
   ]
  },
  {
   "cell_type": "code",
   "execution_count": 55,
   "metadata": {},
   "outputs": [],
   "source": [
    "df.drop(columns='deadline', inplace=True)"
   ]
  },
  {
   "cell_type": "code",
   "execution_count": 56,
   "metadata": {},
   "outputs": [
    {
     "data": {
      "text/plain": [
       "(173887, 218)"
      ]
     },
     "execution_count": 56,
     "metadata": {},
     "output_type": "execute_result"
    }
   ],
   "source": [
    "df.shape"
   ]
  },
  {
   "cell_type": "code",
   "execution_count": 57,
   "metadata": {},
   "outputs": [
    {
     "data": {
      "text/html": [
       "<div>\n",
       "<style scoped>\n",
       "    .dataframe tbody tr th:only-of-type {\n",
       "        vertical-align: middle;\n",
       "    }\n",
       "\n",
       "    .dataframe tbody tr th {\n",
       "        vertical-align: top;\n",
       "    }\n",
       "\n",
       "    .dataframe thead th {\n",
       "        text-align: right;\n",
       "    }\n",
       "</style>\n",
       "<table border=\"1\" class=\"dataframe\">\n",
       "  <thead>\n",
       "    <tr style=\"text-align: right;\">\n",
       "      <th></th>\n",
       "      <th>id</th>\n",
       "      <th>goal</th>\n",
       "      <th>backers_count</th>\n",
       "      <th>pledged_ratio</th>\n",
       "      <th>funding_days</th>\n",
       "      <th>created_at</th>\n",
       "      <th>launched_at</th>\n",
       "      <th>staff_pick</th>\n",
       "      <th>spotlight</th>\n",
       "      <th>AF</th>\n",
       "      <th>...</th>\n",
       "      <th>film &amp; video</th>\n",
       "      <th>food</th>\n",
       "      <th>games</th>\n",
       "      <th>journalism</th>\n",
       "      <th>music</th>\n",
       "      <th>photography</th>\n",
       "      <th>publishing</th>\n",
       "      <th>technology</th>\n",
       "      <th>theater</th>\n",
       "      <th>launch_state</th>\n",
       "    </tr>\n",
       "  </thead>\n",
       "  <tbody>\n",
       "    <tr>\n",
       "      <th>0</th>\n",
       "      <td>895922629</td>\n",
       "      <td>3500.0</td>\n",
       "      <td>1</td>\n",
       "      <td>0.014286</td>\n",
       "      <td>30</td>\n",
       "      <td>2014-10-16 16:19:46</td>\n",
       "      <td>2014-10-28 19:42:54</td>\n",
       "      <td>False</td>\n",
       "      <td>False</td>\n",
       "      <td>0</td>\n",
       "      <td>...</td>\n",
       "      <td>0</td>\n",
       "      <td>0</td>\n",
       "      <td>0</td>\n",
       "      <td>0</td>\n",
       "      <td>0</td>\n",
       "      <td>0</td>\n",
       "      <td>0</td>\n",
       "      <td>1</td>\n",
       "      <td>0</td>\n",
       "      <td>0</td>\n",
       "    </tr>\n",
       "    <tr>\n",
       "      <th>1</th>\n",
       "      <td>1190376005</td>\n",
       "      <td>225.0</td>\n",
       "      <td>63</td>\n",
       "      <td>7.170978</td>\n",
       "      <td>16</td>\n",
       "      <td>2011-09-28 13:44:12</td>\n",
       "      <td>2011-10-17 18:39:11</td>\n",
       "      <td>True</td>\n",
       "      <td>True</td>\n",
       "      <td>0</td>\n",
       "      <td>...</td>\n",
       "      <td>0</td>\n",
       "      <td>0</td>\n",
       "      <td>1</td>\n",
       "      <td>0</td>\n",
       "      <td>0</td>\n",
       "      <td>0</td>\n",
       "      <td>0</td>\n",
       "      <td>0</td>\n",
       "      <td>0</td>\n",
       "      <td>1</td>\n",
       "    </tr>\n",
       "    <tr>\n",
       "      <th>2</th>\n",
       "      <td>672906219</td>\n",
       "      <td>6500.0</td>\n",
       "      <td>113</td>\n",
       "      <td>1.020462</td>\n",
       "      <td>30</td>\n",
       "      <td>2014-06-21 04:22:09</td>\n",
       "      <td>2014-08-13 06:12:18</td>\n",
       "      <td>False</td>\n",
       "      <td>True</td>\n",
       "      <td>0</td>\n",
       "      <td>...</td>\n",
       "      <td>0</td>\n",
       "      <td>0</td>\n",
       "      <td>0</td>\n",
       "      <td>0</td>\n",
       "      <td>0</td>\n",
       "      <td>0</td>\n",
       "      <td>1</td>\n",
       "      <td>0</td>\n",
       "      <td>0</td>\n",
       "      <td>1</td>\n",
       "    </tr>\n",
       "    <tr>\n",
       "      <th>3</th>\n",
       "      <td>2121203785</td>\n",
       "      <td>15000.0</td>\n",
       "      <td>1</td>\n",
       "      <td>0.000067</td>\n",
       "      <td>59</td>\n",
       "      <td>2016-03-04 15:03:52</td>\n",
       "      <td>2016-03-04 21:04:16</td>\n",
       "      <td>False</td>\n",
       "      <td>False</td>\n",
       "      <td>0</td>\n",
       "      <td>...</td>\n",
       "      <td>0</td>\n",
       "      <td>0</td>\n",
       "      <td>0</td>\n",
       "      <td>0</td>\n",
       "      <td>0</td>\n",
       "      <td>0</td>\n",
       "      <td>0</td>\n",
       "      <td>0</td>\n",
       "      <td>0</td>\n",
       "      <td>0</td>\n",
       "    </tr>\n",
       "    <tr>\n",
       "      <th>4</th>\n",
       "      <td>434454655</td>\n",
       "      <td>15000.0</td>\n",
       "      <td>99</td>\n",
       "      <td>1.689200</td>\n",
       "      <td>35</td>\n",
       "      <td>2015-02-12 21:29:27</td>\n",
       "      <td>2015-03-18 05:01:38</td>\n",
       "      <td>False</td>\n",
       "      <td>True</td>\n",
       "      <td>0</td>\n",
       "      <td>...</td>\n",
       "      <td>0</td>\n",
       "      <td>0</td>\n",
       "      <td>0</td>\n",
       "      <td>0</td>\n",
       "      <td>0</td>\n",
       "      <td>0</td>\n",
       "      <td>0</td>\n",
       "      <td>0</td>\n",
       "      <td>0</td>\n",
       "      <td>1</td>\n",
       "    </tr>\n",
       "  </tbody>\n",
       "</table>\n",
       "<p>5 rows × 218 columns</p>\n",
       "</div>"
      ],
      "text/plain": [
       "           id     goal  backers_count  pledged_ratio  funding_days  \\\n",
       "0   895922629   3500.0              1       0.014286            30   \n",
       "1  1190376005    225.0             63       7.170978            16   \n",
       "2   672906219   6500.0            113       1.020462            30   \n",
       "3  2121203785  15000.0              1       0.000067            59   \n",
       "4   434454655  15000.0             99       1.689200            35   \n",
       "\n",
       "           created_at         launched_at  staff_pick  spotlight  AF  \\\n",
       "0 2014-10-16 16:19:46 2014-10-28 19:42:54       False      False   0   \n",
       "1 2011-09-28 13:44:12 2011-10-17 18:39:11        True       True   0   \n",
       "2 2014-06-21 04:22:09 2014-08-13 06:12:18       False       True   0   \n",
       "3 2016-03-04 15:03:52 2016-03-04 21:04:16       False      False   0   \n",
       "4 2015-02-12 21:29:27 2015-03-18 05:01:38       False       True   0   \n",
       "\n",
       "       ...       film & video  food  games  journalism  music  photography  \\\n",
       "0      ...                  0     0      0           0      0            0   \n",
       "1      ...                  0     0      1           0      0            0   \n",
       "2      ...                  0     0      0           0      0            0   \n",
       "3      ...                  0     0      0           0      0            0   \n",
       "4      ...                  0     0      0           0      0            0   \n",
       "\n",
       "   publishing  technology  theater  launch_state  \n",
       "0           0           1        0             0  \n",
       "1           0           0        0             1  \n",
       "2           1           0        0             1  \n",
       "3           0           0        0             0  \n",
       "4           0           0        0             1  \n",
       "\n",
       "[5 rows x 218 columns]"
      ]
     },
     "execution_count": 57,
     "metadata": {},
     "output_type": "execute_result"
    }
   ],
   "source": [
    "df.head()"
   ]
  },
  {
   "cell_type": "code",
   "execution_count": null,
   "metadata": {},
   "outputs": [],
   "source": []
  },
  {
   "cell_type": "code",
   "execution_count": 58,
   "metadata": {},
   "outputs": [],
   "source": [
    "df.drop(columns='created_at', inplace=True)"
   ]
  },
  {
   "cell_type": "code",
   "execution_count": 59,
   "metadata": {},
   "outputs": [
    {
     "data": {
      "text/html": [
       "<div>\n",
       "<style scoped>\n",
       "    .dataframe tbody tr th:only-of-type {\n",
       "        vertical-align: middle;\n",
       "    }\n",
       "\n",
       "    .dataframe tbody tr th {\n",
       "        vertical-align: top;\n",
       "    }\n",
       "\n",
       "    .dataframe thead th {\n",
       "        text-align: right;\n",
       "    }\n",
       "</style>\n",
       "<table border=\"1\" class=\"dataframe\">\n",
       "  <thead>\n",
       "    <tr style=\"text-align: right;\">\n",
       "      <th></th>\n",
       "      <th>id</th>\n",
       "      <th>goal</th>\n",
       "      <th>backers_count</th>\n",
       "      <th>pledged_ratio</th>\n",
       "      <th>funding_days</th>\n",
       "      <th>launched_at</th>\n",
       "      <th>staff_pick</th>\n",
       "      <th>spotlight</th>\n",
       "      <th>AF</th>\n",
       "      <th>AG</th>\n",
       "      <th>...</th>\n",
       "      <th>film &amp; video</th>\n",
       "      <th>food</th>\n",
       "      <th>games</th>\n",
       "      <th>journalism</th>\n",
       "      <th>music</th>\n",
       "      <th>photography</th>\n",
       "      <th>publishing</th>\n",
       "      <th>technology</th>\n",
       "      <th>theater</th>\n",
       "      <th>launch_state</th>\n",
       "    </tr>\n",
       "  </thead>\n",
       "  <tbody>\n",
       "    <tr>\n",
       "      <th>0</th>\n",
       "      <td>895922629</td>\n",
       "      <td>3500.0</td>\n",
       "      <td>1</td>\n",
       "      <td>0.014286</td>\n",
       "      <td>30</td>\n",
       "      <td>2014-10-28 19:42:54</td>\n",
       "      <td>False</td>\n",
       "      <td>False</td>\n",
       "      <td>0</td>\n",
       "      <td>0</td>\n",
       "      <td>...</td>\n",
       "      <td>0</td>\n",
       "      <td>0</td>\n",
       "      <td>0</td>\n",
       "      <td>0</td>\n",
       "      <td>0</td>\n",
       "      <td>0</td>\n",
       "      <td>0</td>\n",
       "      <td>1</td>\n",
       "      <td>0</td>\n",
       "      <td>0</td>\n",
       "    </tr>\n",
       "  </tbody>\n",
       "</table>\n",
       "<p>1 rows × 217 columns</p>\n",
       "</div>"
      ],
      "text/plain": [
       "          id    goal  backers_count  pledged_ratio  funding_days  \\\n",
       "0  895922629  3500.0              1       0.014286            30   \n",
       "\n",
       "          launched_at  staff_pick  spotlight  AF  AG      ...       \\\n",
       "0 2014-10-28 19:42:54       False      False   0   0      ...        \n",
       "\n",
       "   film & video  food  games  journalism  music  photography  publishing  \\\n",
       "0             0     0      0           0      0            0           0   \n",
       "\n",
       "   technology  theater  launch_state  \n",
       "0           1        0             0  \n",
       "\n",
       "[1 rows x 217 columns]"
      ]
     },
     "execution_count": 59,
     "metadata": {},
     "output_type": "execute_result"
    }
   ],
   "source": [
    "df.head(1)"
   ]
  },
  {
   "cell_type": "code",
   "execution_count": null,
   "metadata": {},
   "outputs": [],
   "source": []
  },
  {
   "cell_type": "code",
   "execution_count": 60,
   "metadata": {},
   "outputs": [],
   "source": [
    "launched_at = df['launched_at']"
   ]
  },
  {
   "cell_type": "code",
   "execution_count": 61,
   "metadata": {},
   "outputs": [],
   "source": [
    "df.drop(columns='launched_at', inplace=True)"
   ]
  },
  {
   "cell_type": "code",
   "execution_count": 62,
   "metadata": {},
   "outputs": [],
   "source": [
    "df.insert(loc=df.columns.get_loc(\"funding_days\"), column='launched_at', value=launched_at)"
   ]
  },
  {
   "cell_type": "code",
   "execution_count": 63,
   "metadata": {},
   "outputs": [
    {
     "data": {
      "text/html": [
       "<div>\n",
       "<style scoped>\n",
       "    .dataframe tbody tr th:only-of-type {\n",
       "        vertical-align: middle;\n",
       "    }\n",
       "\n",
       "    .dataframe tbody tr th {\n",
       "        vertical-align: top;\n",
       "    }\n",
       "\n",
       "    .dataframe thead th {\n",
       "        text-align: right;\n",
       "    }\n",
       "</style>\n",
       "<table border=\"1\" class=\"dataframe\">\n",
       "  <thead>\n",
       "    <tr style=\"text-align: right;\">\n",
       "      <th></th>\n",
       "      <th>id</th>\n",
       "      <th>goal</th>\n",
       "      <th>backers_count</th>\n",
       "      <th>pledged_ratio</th>\n",
       "      <th>launched_at</th>\n",
       "      <th>funding_days</th>\n",
       "      <th>staff_pick</th>\n",
       "      <th>spotlight</th>\n",
       "      <th>AF</th>\n",
       "      <th>AG</th>\n",
       "      <th>...</th>\n",
       "      <th>film &amp; video</th>\n",
       "      <th>food</th>\n",
       "      <th>games</th>\n",
       "      <th>journalism</th>\n",
       "      <th>music</th>\n",
       "      <th>photography</th>\n",
       "      <th>publishing</th>\n",
       "      <th>technology</th>\n",
       "      <th>theater</th>\n",
       "      <th>launch_state</th>\n",
       "    </tr>\n",
       "  </thead>\n",
       "  <tbody>\n",
       "    <tr>\n",
       "      <th>0</th>\n",
       "      <td>895922629</td>\n",
       "      <td>3500.0</td>\n",
       "      <td>1</td>\n",
       "      <td>0.014286</td>\n",
       "      <td>2014-10-28 19:42:54</td>\n",
       "      <td>30</td>\n",
       "      <td>False</td>\n",
       "      <td>False</td>\n",
       "      <td>0</td>\n",
       "      <td>0</td>\n",
       "      <td>...</td>\n",
       "      <td>0</td>\n",
       "      <td>0</td>\n",
       "      <td>0</td>\n",
       "      <td>0</td>\n",
       "      <td>0</td>\n",
       "      <td>0</td>\n",
       "      <td>0</td>\n",
       "      <td>1</td>\n",
       "      <td>0</td>\n",
       "      <td>0</td>\n",
       "    </tr>\n",
       "  </tbody>\n",
       "</table>\n",
       "<p>1 rows × 217 columns</p>\n",
       "</div>"
      ],
      "text/plain": [
       "          id    goal  backers_count  pledged_ratio         launched_at  \\\n",
       "0  895922629  3500.0              1       0.014286 2014-10-28 19:42:54   \n",
       "\n",
       "   funding_days  staff_pick  spotlight  AF  AG      ...       film & video  \\\n",
       "0            30       False      False   0   0      ...                  0   \n",
       "\n",
       "   food  games  journalism  music  photography  publishing  technology  \\\n",
       "0     0      0           0      0            0           0           1   \n",
       "\n",
       "   theater  launch_state  \n",
       "0        0             0  \n",
       "\n",
       "[1 rows x 217 columns]"
      ]
     },
     "execution_count": 63,
     "metadata": {},
     "output_type": "execute_result"
    }
   ],
   "source": [
    "df.head(1)"
   ]
  },
  {
   "cell_type": "code",
   "execution_count": null,
   "metadata": {},
   "outputs": [],
   "source": []
  },
  {
   "cell_type": "code",
   "execution_count": 64,
   "metadata": {},
   "outputs": [
    {
     "data": {
      "text/plain": [
       "0"
      ]
     },
     "execution_count": 64,
     "metadata": {},
     "output_type": "execute_result"
    }
   ],
   "source": [
    "d_staff_pick = dict(zip([False,True], range(0,2)))\n",
    "staff_pick = df['staff_pick'].map(d_staff_pick)\n",
    "df[df['staff_pick'] == True].shape[0] - staff_pick.sum() # check mapping"
   ]
  },
  {
   "cell_type": "code",
   "execution_count": 65,
   "metadata": {},
   "outputs": [
    {
     "data": {
      "text/plain": [
       "0"
      ]
     },
     "execution_count": 65,
     "metadata": {},
     "output_type": "execute_result"
    }
   ],
   "source": [
    "d_spotlight = dict(zip([False,True], range(0,2)))\n",
    "spotlight = df['spotlight'].map(d_spotlight)\n",
    "df[df['spotlight'] == True].shape[0] - spotlight.sum() # check mapping"
   ]
  },
  {
   "cell_type": "code",
   "execution_count": 66,
   "metadata": {},
   "outputs": [],
   "source": [
    "df.drop(['staff_pick','spotlight'],axis=1,inplace=True)"
   ]
  },
  {
   "cell_type": "code",
   "execution_count": 67,
   "metadata": {},
   "outputs": [
    {
     "data": {
      "text/html": [
       "<div>\n",
       "<style scoped>\n",
       "    .dataframe tbody tr th:only-of-type {\n",
       "        vertical-align: middle;\n",
       "    }\n",
       "\n",
       "    .dataframe tbody tr th {\n",
       "        vertical-align: top;\n",
       "    }\n",
       "\n",
       "    .dataframe thead th {\n",
       "        text-align: right;\n",
       "    }\n",
       "</style>\n",
       "<table border=\"1\" class=\"dataframe\">\n",
       "  <thead>\n",
       "    <tr style=\"text-align: right;\">\n",
       "      <th></th>\n",
       "      <th>id</th>\n",
       "      <th>goal</th>\n",
       "      <th>backers_count</th>\n",
       "      <th>pledged_ratio</th>\n",
       "      <th>launched_at</th>\n",
       "      <th>funding_days</th>\n",
       "      <th>AF</th>\n",
       "      <th>AG</th>\n",
       "      <th>AL</th>\n",
       "      <th>AM</th>\n",
       "      <th>...</th>\n",
       "      <th>film &amp; video</th>\n",
       "      <th>food</th>\n",
       "      <th>games</th>\n",
       "      <th>journalism</th>\n",
       "      <th>music</th>\n",
       "      <th>photography</th>\n",
       "      <th>publishing</th>\n",
       "      <th>technology</th>\n",
       "      <th>theater</th>\n",
       "      <th>launch_state</th>\n",
       "    </tr>\n",
       "  </thead>\n",
       "  <tbody>\n",
       "    <tr>\n",
       "      <th>0</th>\n",
       "      <td>895922629</td>\n",
       "      <td>3500.0</td>\n",
       "      <td>1</td>\n",
       "      <td>0.014286</td>\n",
       "      <td>2014-10-28 19:42:54</td>\n",
       "      <td>30</td>\n",
       "      <td>0</td>\n",
       "      <td>0</td>\n",
       "      <td>0</td>\n",
       "      <td>0</td>\n",
       "      <td>...</td>\n",
       "      <td>0</td>\n",
       "      <td>0</td>\n",
       "      <td>0</td>\n",
       "      <td>0</td>\n",
       "      <td>0</td>\n",
       "      <td>0</td>\n",
       "      <td>0</td>\n",
       "      <td>1</td>\n",
       "      <td>0</td>\n",
       "      <td>0</td>\n",
       "    </tr>\n",
       "  </tbody>\n",
       "</table>\n",
       "<p>1 rows × 215 columns</p>\n",
       "</div>"
      ],
      "text/plain": [
       "          id    goal  backers_count  pledged_ratio         launched_at  \\\n",
       "0  895922629  3500.0              1       0.014286 2014-10-28 19:42:54   \n",
       "\n",
       "   funding_days  AF  AG  AL  AM      ...       film & video  food  games  \\\n",
       "0            30   0   0   0   0      ...                  0     0      0   \n",
       "\n",
       "   journalism  music  photography  publishing  technology  theater  \\\n",
       "0           0      0            0           0           1        0   \n",
       "\n",
       "   launch_state  \n",
       "0             0  \n",
       "\n",
       "[1 rows x 215 columns]"
      ]
     },
     "execution_count": 67,
     "metadata": {},
     "output_type": "execute_result"
    }
   ],
   "source": [
    "df.head(1)"
   ]
  },
  {
   "cell_type": "code",
   "execution_count": 68,
   "metadata": {},
   "outputs": [],
   "source": [
    "df.insert(loc=df.columns.get_loc(\"AF\"), column='staff_pick', value=staff_pick)"
   ]
  },
  {
   "cell_type": "code",
   "execution_count": 69,
   "metadata": {},
   "outputs": [],
   "source": [
    "df.insert(loc=df.columns.get_loc(\"AF\"), column='spotlight', value=spotlight)"
   ]
  },
  {
   "cell_type": "code",
   "execution_count": 70,
   "metadata": {},
   "outputs": [
    {
     "data": {
      "text/html": [
       "<div>\n",
       "<style scoped>\n",
       "    .dataframe tbody tr th:only-of-type {\n",
       "        vertical-align: middle;\n",
       "    }\n",
       "\n",
       "    .dataframe tbody tr th {\n",
       "        vertical-align: top;\n",
       "    }\n",
       "\n",
       "    .dataframe thead th {\n",
       "        text-align: right;\n",
       "    }\n",
       "</style>\n",
       "<table border=\"1\" class=\"dataframe\">\n",
       "  <thead>\n",
       "    <tr style=\"text-align: right;\">\n",
       "      <th></th>\n",
       "      <th>id</th>\n",
       "      <th>goal</th>\n",
       "      <th>backers_count</th>\n",
       "      <th>pledged_ratio</th>\n",
       "      <th>launched_at</th>\n",
       "      <th>funding_days</th>\n",
       "      <th>staff_pick</th>\n",
       "      <th>spotlight</th>\n",
       "      <th>AF</th>\n",
       "      <th>AG</th>\n",
       "      <th>...</th>\n",
       "      <th>film &amp; video</th>\n",
       "      <th>food</th>\n",
       "      <th>games</th>\n",
       "      <th>journalism</th>\n",
       "      <th>music</th>\n",
       "      <th>photography</th>\n",
       "      <th>publishing</th>\n",
       "      <th>technology</th>\n",
       "      <th>theater</th>\n",
       "      <th>launch_state</th>\n",
       "    </tr>\n",
       "  </thead>\n",
       "  <tbody>\n",
       "    <tr>\n",
       "      <th>0</th>\n",
       "      <td>895922629</td>\n",
       "      <td>3500.0</td>\n",
       "      <td>1</td>\n",
       "      <td>0.014286</td>\n",
       "      <td>2014-10-28 19:42:54</td>\n",
       "      <td>30</td>\n",
       "      <td>0</td>\n",
       "      <td>0</td>\n",
       "      <td>0</td>\n",
       "      <td>0</td>\n",
       "      <td>...</td>\n",
       "      <td>0</td>\n",
       "      <td>0</td>\n",
       "      <td>0</td>\n",
       "      <td>0</td>\n",
       "      <td>0</td>\n",
       "      <td>0</td>\n",
       "      <td>0</td>\n",
       "      <td>1</td>\n",
       "      <td>0</td>\n",
       "      <td>0</td>\n",
       "    </tr>\n",
       "    <tr>\n",
       "      <th>1</th>\n",
       "      <td>1190376005</td>\n",
       "      <td>225.0</td>\n",
       "      <td>63</td>\n",
       "      <td>7.170978</td>\n",
       "      <td>2011-10-17 18:39:11</td>\n",
       "      <td>16</td>\n",
       "      <td>1</td>\n",
       "      <td>1</td>\n",
       "      <td>0</td>\n",
       "      <td>0</td>\n",
       "      <td>...</td>\n",
       "      <td>0</td>\n",
       "      <td>0</td>\n",
       "      <td>1</td>\n",
       "      <td>0</td>\n",
       "      <td>0</td>\n",
       "      <td>0</td>\n",
       "      <td>0</td>\n",
       "      <td>0</td>\n",
       "      <td>0</td>\n",
       "      <td>1</td>\n",
       "    </tr>\n",
       "    <tr>\n",
       "      <th>2</th>\n",
       "      <td>672906219</td>\n",
       "      <td>6500.0</td>\n",
       "      <td>113</td>\n",
       "      <td>1.020462</td>\n",
       "      <td>2014-08-13 06:12:18</td>\n",
       "      <td>30</td>\n",
       "      <td>0</td>\n",
       "      <td>1</td>\n",
       "      <td>0</td>\n",
       "      <td>0</td>\n",
       "      <td>...</td>\n",
       "      <td>0</td>\n",
       "      <td>0</td>\n",
       "      <td>0</td>\n",
       "      <td>0</td>\n",
       "      <td>0</td>\n",
       "      <td>0</td>\n",
       "      <td>1</td>\n",
       "      <td>0</td>\n",
       "      <td>0</td>\n",
       "      <td>1</td>\n",
       "    </tr>\n",
       "    <tr>\n",
       "      <th>3</th>\n",
       "      <td>2121203785</td>\n",
       "      <td>15000.0</td>\n",
       "      <td>1</td>\n",
       "      <td>0.000067</td>\n",
       "      <td>2016-03-04 21:04:16</td>\n",
       "      <td>59</td>\n",
       "      <td>0</td>\n",
       "      <td>0</td>\n",
       "      <td>0</td>\n",
       "      <td>0</td>\n",
       "      <td>...</td>\n",
       "      <td>0</td>\n",
       "      <td>0</td>\n",
       "      <td>0</td>\n",
       "      <td>0</td>\n",
       "      <td>0</td>\n",
       "      <td>0</td>\n",
       "      <td>0</td>\n",
       "      <td>0</td>\n",
       "      <td>0</td>\n",
       "      <td>0</td>\n",
       "    </tr>\n",
       "    <tr>\n",
       "      <th>4</th>\n",
       "      <td>434454655</td>\n",
       "      <td>15000.0</td>\n",
       "      <td>99</td>\n",
       "      <td>1.689200</td>\n",
       "      <td>2015-03-18 05:01:38</td>\n",
       "      <td>35</td>\n",
       "      <td>0</td>\n",
       "      <td>1</td>\n",
       "      <td>0</td>\n",
       "      <td>0</td>\n",
       "      <td>...</td>\n",
       "      <td>0</td>\n",
       "      <td>0</td>\n",
       "      <td>0</td>\n",
       "      <td>0</td>\n",
       "      <td>0</td>\n",
       "      <td>0</td>\n",
       "      <td>0</td>\n",
       "      <td>0</td>\n",
       "      <td>0</td>\n",
       "      <td>1</td>\n",
       "    </tr>\n",
       "  </tbody>\n",
       "</table>\n",
       "<p>5 rows × 217 columns</p>\n",
       "</div>"
      ],
      "text/plain": [
       "           id     goal  backers_count  pledged_ratio         launched_at  \\\n",
       "0   895922629   3500.0              1       0.014286 2014-10-28 19:42:54   \n",
       "1  1190376005    225.0             63       7.170978 2011-10-17 18:39:11   \n",
       "2   672906219   6500.0            113       1.020462 2014-08-13 06:12:18   \n",
       "3  2121203785  15000.0              1       0.000067 2016-03-04 21:04:16   \n",
       "4   434454655  15000.0             99       1.689200 2015-03-18 05:01:38   \n",
       "\n",
       "   funding_days  staff_pick  spotlight  AF  AG      ...       film & video  \\\n",
       "0            30           0          0   0   0      ...                  0   \n",
       "1            16           1          1   0   0      ...                  0   \n",
       "2            30           0          1   0   0      ...                  0   \n",
       "3            59           0          0   0   0      ...                  0   \n",
       "4            35           0          1   0   0      ...                  0   \n",
       "\n",
       "   food  games  journalism  music  photography  publishing  technology  \\\n",
       "0     0      0           0      0            0           0           1   \n",
       "1     0      1           0      0            0           0           0   \n",
       "2     0      0           0      0            0           1           0   \n",
       "3     0      0           0      0            0           0           0   \n",
       "4     0      0           0      0            0           0           0   \n",
       "\n",
       "   theater  launch_state  \n",
       "0        0             0  \n",
       "1        0             1  \n",
       "2        0             1  \n",
       "3        0             0  \n",
       "4        0             1  \n",
       "\n",
       "[5 rows x 217 columns]"
      ]
     },
     "execution_count": 70,
     "metadata": {},
     "output_type": "execute_result"
    }
   ],
   "source": [
    "df.head()"
   ]
  },
  {
   "cell_type": "code",
   "execution_count": 71,
   "metadata": {},
   "outputs": [
    {
     "data": {
      "text/plain": [
       "array([0, 1], dtype=int64)"
      ]
     },
     "execution_count": 71,
     "metadata": {},
     "output_type": "execute_result"
    }
   ],
   "source": [
    "df['staff_pick'].unique()"
   ]
  },
  {
   "cell_type": "code",
   "execution_count": 72,
   "metadata": {},
   "outputs": [
    {
     "data": {
      "text/plain": [
       "array([0, 1], dtype=int64)"
      ]
     },
     "execution_count": 72,
     "metadata": {},
     "output_type": "execute_result"
    }
   ],
   "source": [
    "df['spotlight'].unique()"
   ]
  },
  {
   "cell_type": "code",
   "execution_count": null,
   "metadata": {},
   "outputs": [],
   "source": []
  },
  {
   "cell_type": "code",
   "execution_count": 73,
   "metadata": {},
   "outputs": [
    {
     "data": {
      "text/plain": [
       "0"
      ]
     },
     "execution_count": 73,
     "metadata": {},
     "output_type": "execute_result"
    }
   ],
   "source": [
    "# Null value check\n",
    "df.isnull().sum().sum()"
   ]
  },
  {
   "cell_type": "code",
   "execution_count": 74,
   "metadata": {},
   "outputs": [
    {
     "data": {
      "text/plain": [
       "0"
      ]
     },
     "execution_count": 74,
     "metadata": {},
     "output_type": "execute_result"
    }
   ],
   "source": [
    "df.isna().sum().sum()"
   ]
  },
  {
   "cell_type": "code",
   "execution_count": null,
   "metadata": {},
   "outputs": [],
   "source": []
  },
  {
   "cell_type": "code",
   "execution_count": 100,
   "metadata": {},
   "outputs": [
    {
     "data": {
      "text/plain": [
       "Index(['id', 'goal', 'backers_count', 'pledged_ratio', 'launched_at',\n",
       "       'funding_days', 'staff_pick', 'spotlight', 'AF', 'AG',\n",
       "       ...\n",
       "       'film & video', 'food', 'games', 'journalism', 'music', 'photography',\n",
       "       'publishing', 'technology', 'theater', 'launch_state'],\n",
       "      dtype='object', length=217)"
      ]
     },
     "execution_count": 100,
     "metadata": {},
     "output_type": "execute_result"
    }
   ],
   "source": [
    "df.columns"
   ]
  },
  {
   "cell_type": "code",
   "execution_count": 101,
   "metadata": {},
   "outputs": [
    {
     "data": {
      "text/html": [
       "<div>\n",
       "<style scoped>\n",
       "    .dataframe tbody tr th:only-of-type {\n",
       "        vertical-align: middle;\n",
       "    }\n",
       "\n",
       "    .dataframe tbody tr th {\n",
       "        vertical-align: top;\n",
       "    }\n",
       "\n",
       "    .dataframe thead th {\n",
       "        text-align: right;\n",
       "    }\n",
       "</style>\n",
       "<table border=\"1\" class=\"dataframe\">\n",
       "  <thead>\n",
       "    <tr style=\"text-align: right;\">\n",
       "      <th></th>\n",
       "      <th>id</th>\n",
       "      <th>goal</th>\n",
       "      <th>backers_count</th>\n",
       "      <th>pledged_ratio</th>\n",
       "      <th>launched_at</th>\n",
       "      <th>funding_days</th>\n",
       "      <th>staff_pick</th>\n",
       "      <th>spotlight</th>\n",
       "      <th>AF</th>\n",
       "      <th>AG</th>\n",
       "      <th>...</th>\n",
       "      <th>film &amp; video</th>\n",
       "      <th>food</th>\n",
       "      <th>games</th>\n",
       "      <th>journalism</th>\n",
       "      <th>music</th>\n",
       "      <th>photography</th>\n",
       "      <th>publishing</th>\n",
       "      <th>technology</th>\n",
       "      <th>theater</th>\n",
       "      <th>launch_state</th>\n",
       "    </tr>\n",
       "  </thead>\n",
       "  <tbody>\n",
       "    <tr>\n",
       "      <th>0</th>\n",
       "      <td>895922629</td>\n",
       "      <td>3500.0</td>\n",
       "      <td>1</td>\n",
       "      <td>0.014286</td>\n",
       "      <td>2014-10-28 19:42:54</td>\n",
       "      <td>30</td>\n",
       "      <td>0</td>\n",
       "      <td>0</td>\n",
       "      <td>0</td>\n",
       "      <td>0</td>\n",
       "      <td>...</td>\n",
       "      <td>0</td>\n",
       "      <td>0</td>\n",
       "      <td>0</td>\n",
       "      <td>0</td>\n",
       "      <td>0</td>\n",
       "      <td>0</td>\n",
       "      <td>0</td>\n",
       "      <td>1</td>\n",
       "      <td>0</td>\n",
       "      <td>0</td>\n",
       "    </tr>\n",
       "  </tbody>\n",
       "</table>\n",
       "<p>1 rows × 217 columns</p>\n",
       "</div>"
      ],
      "text/plain": [
       "          id    goal  backers_count  pledged_ratio         launched_at  \\\n",
       "0  895922629  3500.0              1       0.014286 2014-10-28 19:42:54   \n",
       "\n",
       "   funding_days  staff_pick  spotlight  AF  AG      ...       film & video  \\\n",
       "0            30           0          0   0   0      ...                  0   \n",
       "\n",
       "   food  games  journalism  music  photography  publishing  technology  \\\n",
       "0     0      0           0      0            0           0           1   \n",
       "\n",
       "   theater  launch_state  \n",
       "0        0             0  \n",
       "\n",
       "[1 rows x 217 columns]"
      ]
     },
     "execution_count": 101,
     "metadata": {},
     "output_type": "execute_result"
    }
   ],
   "source": [
    "df.head(1)"
   ]
  },
  {
   "cell_type": "code",
   "execution_count": 109,
   "metadata": {},
   "outputs": [
    {
     "data": {
      "text/html": [
       "<div>\n",
       "<style scoped>\n",
       "    .dataframe tbody tr th:only-of-type {\n",
       "        vertical-align: middle;\n",
       "    }\n",
       "\n",
       "    .dataframe tbody tr th {\n",
       "        vertical-align: top;\n",
       "    }\n",
       "\n",
       "    .dataframe thead th {\n",
       "        text-align: right;\n",
       "    }\n",
       "</style>\n",
       "<table border=\"1\" class=\"dataframe\">\n",
       "  <thead>\n",
       "    <tr style=\"text-align: right;\">\n",
       "      <th></th>\n",
       "      <th>goal</th>\n",
       "      <th>backers_count</th>\n",
       "      <th>pledged_ratio</th>\n",
       "      <th>launched_at</th>\n",
       "      <th>funding_days</th>\n",
       "      <th>staff_pick</th>\n",
       "      <th>spotlight</th>\n",
       "      <th>launch_state</th>\n",
       "    </tr>\n",
       "  </thead>\n",
       "  <tbody>\n",
       "    <tr>\n",
       "      <th>0</th>\n",
       "      <td>3500.0</td>\n",
       "      <td>1</td>\n",
       "      <td>0.014286</td>\n",
       "      <td>2014-10-28 19:42:54</td>\n",
       "      <td>30</td>\n",
       "      <td>0</td>\n",
       "      <td>0</td>\n",
       "      <td>0</td>\n",
       "    </tr>\n",
       "  </tbody>\n",
       "</table>\n",
       "</div>"
      ],
      "text/plain": [
       "     goal  backers_count  pledged_ratio         launched_at  funding_days  \\\n",
       "0  3500.0              1       0.014286 2014-10-28 19:42:54            30   \n",
       "\n",
       "   staff_pick  spotlight  launch_state  \n",
       "0           0          0             0  "
      ]
     },
     "execution_count": 109,
     "metadata": {},
     "output_type": "execute_result"
    }
   ],
   "source": [
    "df.drop(df.columns[8:216], axis=1).drop(columns='id').head(1)"
   ]
  },
  {
   "cell_type": "code",
   "execution_count": null,
   "metadata": {},
   "outputs": [],
   "source": []
  },
  {
   "cell_type": "code",
   "execution_count": 111,
   "metadata": {},
   "outputs": [
    {
     "name": "stderr",
     "output_type": "stream",
     "text": [
      "C:\\Users\\steve\\Anaconda3\\lib\\site-packages\\statsmodels\\nonparametric\\kde.py:488: RuntimeWarning: invalid value encountered in true_divide\n",
      "  binned = fast_linbin(X, a, b, gridsize) / (delta * nobs)\n",
      "C:\\Users\\steve\\Anaconda3\\lib\\site-packages\\statsmodels\\nonparametric\\kdetools.py:34: RuntimeWarning: invalid value encountered in double_scalars\n",
      "  FAC1 = 2*(np.pi*bw/RANGE)**2\n"
     ]
    },
    {
     "data": {
      "text/plain": [
       "<seaborn.axisgrid.PairGrid at 0x29d9a0b4f60>"
      ]
     },
     "execution_count": 111,
     "metadata": {},
     "output_type": "execute_result"
    },
    {
     "data": {
      "image/png": "[encoded data removed]",
      "text/plain": [
       "<Figure size 1325.25x1260 with 56 Axes>"
      ]
     },
     "metadata": {},
     "output_type": "display_data"
    }
   ],
   "source": [
    "%matplotlib qt\n",
    "sns.set_style('whitegrid')\n",
    "sns.pairplot(data=df.drop(df.columns[8:216], axis=1).drop(columns='id'), diag_kind='kde', hue='launch_state')"
   ]
  },
  {
   "cell_type": "code",
   "execution_count": null,
   "metadata": {},
   "outputs": [],
   "source": []
  },
  {
   "cell_type": "code",
   "execution_count": null,
   "metadata": {},
   "outputs": [],
   "source": []
  },
  {
   "cell_type": "code",
   "execution_count": null,
   "metadata": {},
   "outputs": [],
   "source": []
  },
  {
   "cell_type": "code",
   "execution_count": null,
   "metadata": {},
   "outputs": [],
   "source": []
  },
  {
   "cell_type": "code",
   "execution_count": null,
   "metadata": {},
   "outputs": [],
   "source": []
  },
  {
   "cell_type": "code",
   "execution_count": null,
   "metadata": {},
   "outputs": [],
   "source": []
  },
  {
   "cell_type": "code",
   "execution_count": null,
   "metadata": {},
   "outputs": [],
   "source": []
  },
  {
   "cell_type": "code",
   "execution_count": 134,
   "metadata": {},
   "outputs": [],
   "source": [
    "# ========================================\n",
    "# LOAD/SAVE CSV\n",
    "# ========================================\n",
    "df.to_csv('data/df02.csv', sep=\",\")"
   ]
  },
  {
   "cell_type": "code",
   "execution_count": 105,
   "metadata": {},
   "outputs": [],
   "source": [
    "# df = pd.read_csv('data/df.csv', sep=',', na_filter=False, index_col=0, parse_dates=['deadline','created_at','launched_at'])"
   ]
  },
  {
   "cell_type": "code",
   "execution_count": null,
   "metadata": {},
   "outputs": [],
   "source": []
  },
  {
   "cell_type": "code",
   "execution_count": null,
   "metadata": {},
   "outputs": [],
   "source": []
  },
  {
   "cell_type": "code",
   "execution_count": null,
   "metadata": {},
   "outputs": [],
   "source": []
  }
 ],
 "metadata": {
  "kernelspec": {
   "display_name": "Python 3",
   "language": "python",
   "name": "python3"
  },
  "language_info": {
   "codemirror_mode": {
    "name": "ipython",
    "version": 3
   },
   "file_extension": ".py",
   "mimetype": "text/x-python",
   "name": "python",
   "nbconvert_exporter": "python",
   "pygments_lexer": "ipython3",
   "version": "3.6.5"
  }
 },
 "nbformat": 4,
 "nbformat_minor": 2
}
