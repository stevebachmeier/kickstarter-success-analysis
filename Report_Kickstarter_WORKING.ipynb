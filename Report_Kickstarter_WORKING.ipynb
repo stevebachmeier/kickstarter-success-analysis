{
 "cells": [
  {
   "cell_type": "markdown",
   "metadata": {},
   "source": [
    "# Kickstarter Project Success Analysis\n",
    "Steve Bachmeier\n",
    "2018-11-"
   ]
  },
  {
   "cell_type": "markdown",
   "metadata": {},
   "source": [
    "## Synopsis"
   ]
  },
  {
   "cell_type": "markdown",
   "metadata": {},
   "source": [
    "## Background"
   ]
  },
  {
   "cell_type": "markdown",
   "metadata": {},
   "source": [
    "## Data\n",
    "The raw Kickstarter data (the JSON file updated at 2018-10-18) was downloaded from: https://webrobots.io/kickstarter-datasets/. It is assumed that this data is accurate and no attempt was made to verify the web scraping tools used.\n",
    "\n",
    "Notes from raw data downloaded:\n",
    "\n",
    "**Note: from April 2015 we noticed that Kickstarter started limiting how many projects user can view in a single category. This limits the amount of historic projects we can get in a single scrape run. But recent and active projects are always included.**\n",
    "\n",
    "*No attempt was made for this project to ensure we have the entirety of the project history.*\n",
    "\n",
    "**Note: from December 2015 we modified the collection approach to go through all sub-categories instead of only top level categories. This yields more results in the datasets, but possible duplication where projects are listed in multiple categories. Also from December 2015 JSON file is in JSON streaming format. Read more about it here: https://en.wikipedia.org/wiki/JSON_Streaming**\n",
    "\n",
    "**We receive many question about timestamp format used in this dataset. It is unix time. Google has a lot of information about it.**\n",
    "\n",
    "**Warning: files are compressed, size in area of 100mb. Uncompressed size around 600mb.**\n",
    "\n",
    "*Due to Github size constraints, the raw dataset is not uploaded to this repository.*"
   ]
  },
  {
   "cell_type": "markdown",
   "metadata": {},
   "source": [
    "## Goal\n",
    "There are two potential goals of this project:\n",
    "\n",
    "1. Analyze the raw data obtained to look for any trends and perhaps unlock some interesting visualizations regarding the different potential parameters to predict project launch success.\n",
    "\n",
    "2. Build a prediction algorithm to try and predict whether future projects will successfully launch."
   ]
  },
  {
   "cell_type": "markdown",
   "metadata": {},
   "source": [
    "## Analyisis\n",
    "This section outlines the analysis completed."
   ]
  },
  {
   "cell_type": "markdown",
   "metadata": {},
   "source": [
    "### Data preparation and cleaning\n"
   ]
  },
  {
   "cell_type": "code",
   "execution_count": null,
   "metadata": {},
   "outputs": [],
   "source": []
  }
 ],
 "metadata": {
  "kernelspec": {
   "display_name": "Python 3",
   "language": "python",
   "name": "python3"
  },
  "language_info": {
   "codemirror_mode": {
    "name": "ipython",
    "version": 3
   },
   "file_extension": ".py",
   "mimetype": "text/x-python",
   "name": "python",
   "nbconvert_exporter": "python",
   "pygments_lexer": "ipython3",
   "version": "3.6.5"
  }
 },
 "nbformat": 4,
 "nbformat_minor": 2
}
