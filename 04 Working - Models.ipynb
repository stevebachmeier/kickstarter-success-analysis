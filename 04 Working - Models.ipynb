{
 "cells": [
  {
   "cell_type": "markdown",
   "metadata": {},
   "source": [
    "The dependent variable is binary, 0 (for failure) and 1 (for success). As such, we will consider the following classification techniques:\n",
    "* logistic regression\n",
    "* KNN\n",
    "* SVM\n",
    "* kernel SVM\n",
    "* Naive-Bays\n",
    "* decision tree classification\n",
    "* random forest classification\n",
    "\n",
    "We will also consider reducing the variables via PCA\n",
    "\n",
    "Finally, we may optimize parameters using grid_search.\n"
   ]
  },
  {
   "cell_type": "code",
   "execution_count": 1,
   "metadata": {},
   "outputs": [],
   "source": [
    "#-----------------------------------------\n",
    "# USER INPUTS\n"
   ]
  },
  {
   "cell_type": "code",
   "execution_count": 2,
   "metadata": {},
   "outputs": [],
   "source": [
    "#-----------------------------------------\n",
    "# IMPORT LIBRARIES\n",
    "\n",
    "import numpy as np\n",
    "import pandas as pd\n",
    "import matplotlib.pyplot as plt\n",
    "import seaborn as sns\n",
    "import time\n",
    "\n",
    "pd.options.display.max_columns = None # Shows all columns\n",
    "\n",
    "from sklearn.model_selection import train_test_split\n",
    "from sklearn.preprocessing import StandardScaler\n",
    "from sklearn.metrics import confusion_matrix, classification_report\n",
    "from sklearn.model_selection import cross_val_score\n",
    "from sklearn.linear_model import LogisticRegression\n",
    "from sklearn.neighbors import KNeighborsClassifier"
   ]
  },
  {
   "cell_type": "code",
   "execution_count": 3,
   "metadata": {},
   "outputs": [],
   "source": [
    "#-----------------------------------------\n",
    "# IMPORT DATAFRAME\n",
    "\n",
    "df = pd.read_csv('data/df02.csv', sep=',', na_filter=False, index_col=0, \n",
    "                 parse_dates=['launched_at'])\n",
    "\n",
    "# Checks\n",
    "if (df.isnull().sum().sum() != 0):\n",
    "    print('*** WARNING: Null values introduced with read_csv ***')\n",
    "if (df.isna().sum().sum() != 0):\n",
    "    print('*** WARNING: NA values introduced with read_csv ***')\n",
    "if (df=='').sum().sum() != 0:\n",
    "    print('*** WARNING: Empty string (\\'\\') values introduced with read_csv ***')"
   ]
  },
  {
   "cell_type": "code",
   "execution_count": 4,
   "metadata": {},
   "outputs": [
    {
     "data": {
      "text/html": [
       "<div>\n",
       "<style scoped>\n",
       "    .dataframe tbody tr th:only-of-type {\n",
       "        vertical-align: middle;\n",
       "    }\n",
       "\n",
       "    .dataframe tbody tr th {\n",
       "        vertical-align: top;\n",
       "    }\n",
       "\n",
       "    .dataframe thead th {\n",
       "        text-align: right;\n",
       "    }\n",
       "</style>\n",
       "<table border=\"1\" class=\"dataframe\">\n",
       "  <thead>\n",
       "    <tr style=\"text-align: right;\">\n",
       "      <th></th>\n",
       "      <th>launch_state</th>\n",
       "      <th>id</th>\n",
       "      <th>launched_at</th>\n",
       "      <th>category</th>\n",
       "      <th>country</th>\n",
       "      <th>goal</th>\n",
       "      <th>backers_count</th>\n",
       "      <th>pledged_ratio</th>\n",
       "      <th>funding_days</th>\n",
       "      <th>staff_pick</th>\n",
       "      <th>comics</th>\n",
       "      <th>crafts</th>\n",
       "      <th>dance</th>\n",
       "      <th>design</th>\n",
       "      <th>fashion</th>\n",
       "      <th>film &amp; video</th>\n",
       "      <th>food</th>\n",
       "      <th>games</th>\n",
       "      <th>journalism</th>\n",
       "      <th>music</th>\n",
       "      <th>photography</th>\n",
       "      <th>publishing</th>\n",
       "      <th>technology</th>\n",
       "      <th>theater</th>\n",
       "      <th>AF</th>\n",
       "      <th>AG</th>\n",
       "      <th>AL</th>\n",
       "      <th>AM</th>\n",
       "      <th>AQ</th>\n",
       "      <th>AR</th>\n",
       "      <th>AT</th>\n",
       "      <th>AU</th>\n",
       "      <th>AX</th>\n",
       "      <th>AZ</th>\n",
       "      <th>BA</th>\n",
       "      <th>BB</th>\n",
       "      <th>BD</th>\n",
       "      <th>BE</th>\n",
       "      <th>BF</th>\n",
       "      <th>BG</th>\n",
       "      <th>BJ</th>\n",
       "      <th>BM</th>\n",
       "      <th>BO</th>\n",
       "      <th>BR</th>\n",
       "      <th>BS</th>\n",
       "      <th>BT</th>\n",
       "      <th>BW</th>\n",
       "      <th>BY</th>\n",
       "      <th>BZ</th>\n",
       "      <th>CA</th>\n",
       "      <th>CD</th>\n",
       "      <th>CG</th>\n",
       "      <th>CH</th>\n",
       "      <th>CI</th>\n",
       "      <th>CK</th>\n",
       "      <th>CL</th>\n",
       "      <th>CM</th>\n",
       "      <th>CN</th>\n",
       "      <th>CO</th>\n",
       "      <th>CR</th>\n",
       "      <th>CU</th>\n",
       "      <th>CV</th>\n",
       "      <th>CW</th>\n",
       "      <th>CY</th>\n",
       "      <th>CZ</th>\n",
       "      <th>DE</th>\n",
       "      <th>DJ</th>\n",
       "      <th>DK</th>\n",
       "      <th>DM</th>\n",
       "      <th>DO</th>\n",
       "      <th>DZ</th>\n",
       "      <th>EC</th>\n",
       "      <th>EE</th>\n",
       "      <th>EG</th>\n",
       "      <th>ES</th>\n",
       "      <th>ET</th>\n",
       "      <th>FI</th>\n",
       "      <th>FJ</th>\n",
       "      <th>FM</th>\n",
       "      <th>FO</th>\n",
       "      <th>FR</th>\n",
       "      <th>GA</th>\n",
       "      <th>GB</th>\n",
       "      <th>GD</th>\n",
       "      <th>GE</th>\n",
       "      <th>GH</th>\n",
       "      <th>GL</th>\n",
       "      <th>GM</th>\n",
       "      <th>GN</th>\n",
       "      <th>GP</th>\n",
       "      <th>GQ</th>\n",
       "      <th>GR</th>\n",
       "      <th>GT</th>\n",
       "      <th>GU</th>\n",
       "      <th>GY</th>\n",
       "      <th>HK</th>\n",
       "      <th>HN</th>\n",
       "      <th>HR</th>\n",
       "      <th>HT</th>\n",
       "      <th>HU</th>\n",
       "      <th>ID</th>\n",
       "      <th>IE</th>\n",
       "      <th>IL</th>\n",
       "      <th>IN</th>\n",
       "      <th>IQ</th>\n",
       "      <th>IR</th>\n",
       "      <th>IS</th>\n",
       "      <th>IT</th>\n",
       "      <th>JM</th>\n",
       "      <th>JO</th>\n",
       "      <th>JP</th>\n",
       "      <th>KE</th>\n",
       "      <th>KG</th>\n",
       "      <th>KH</th>\n",
       "      <th>KN</th>\n",
       "      <th>KP</th>\n",
       "      <th>KR</th>\n",
       "      <th>KW</th>\n",
       "      <th>KZ</th>\n",
       "      <th>LA</th>\n",
       "      <th>LB</th>\n",
       "      <th>LC</th>\n",
       "      <th>LK</th>\n",
       "      <th>LR</th>\n",
       "      <th>LS</th>\n",
       "      <th>LT</th>\n",
       "      <th>LU</th>\n",
       "      <th>LV</th>\n",
       "      <th>LY</th>\n",
       "      <th>MA</th>\n",
       "      <th>MC</th>\n",
       "      <th>MD</th>\n",
       "      <th>ME</th>\n",
       "      <th>MG</th>\n",
       "      <th>MK</th>\n",
       "      <th>ML</th>\n",
       "      <th>MM</th>\n",
       "      <th>MN</th>\n",
       "      <th>MO</th>\n",
       "      <th>MR</th>\n",
       "      <th>MT</th>\n",
       "      <th>MV</th>\n",
       "      <th>MW</th>\n",
       "      <th>MX</th>\n",
       "      <th>MY</th>\n",
       "      <th>MZ</th>\n",
       "      <th>NA</th>\n",
       "      <th>NE</th>\n",
       "      <th>NG</th>\n",
       "      <th>NI</th>\n",
       "      <th>NL</th>\n",
       "      <th>NO</th>\n",
       "      <th>NP</th>\n",
       "      <th>NZ</th>\n",
       "      <th>PA</th>\n",
       "      <th>PE</th>\n",
       "      <th>PF</th>\n",
       "      <th>PG</th>\n",
       "      <th>PH</th>\n",
       "      <th>PK</th>\n",
       "      <th>PL</th>\n",
       "      <th>PN</th>\n",
       "      <th>PR</th>\n",
       "      <th>PS</th>\n",
       "      <th>PT</th>\n",
       "      <th>PY</th>\n",
       "      <th>QA</th>\n",
       "      <th>RO</th>\n",
       "      <th>RS</th>\n",
       "      <th>RU</th>\n",
       "      <th>RW</th>\n",
       "      <th>SA</th>\n",
       "      <th>SC</th>\n",
       "      <th>SD</th>\n",
       "      <th>SE</th>\n",
       "      <th>SG</th>\n",
       "      <th>SI</th>\n",
       "      <th>SJ</th>\n",
       "      <th>SK</th>\n",
       "      <th>SL</th>\n",
       "      <th>SN</th>\n",
       "      <th>SO</th>\n",
       "      <th>SR</th>\n",
       "      <th>SS</th>\n",
       "      <th>SV</th>\n",
       "      <th>SX</th>\n",
       "      <th>SY</th>\n",
       "      <th>SZ</th>\n",
       "      <th>TC</th>\n",
       "      <th>TH</th>\n",
       "      <th>TL</th>\n",
       "      <th>TN</th>\n",
       "      <th>TO</th>\n",
       "      <th>TR</th>\n",
       "      <th>TT</th>\n",
       "      <th>TW</th>\n",
       "      <th>TZ</th>\n",
       "      <th>UA</th>\n",
       "      <th>UG</th>\n",
       "      <th>US</th>\n",
       "      <th>UY</th>\n",
       "      <th>VC</th>\n",
       "      <th>VE</th>\n",
       "      <th>VI</th>\n",
       "      <th>VN</th>\n",
       "      <th>VU</th>\n",
       "      <th>WS</th>\n",
       "      <th>XK</th>\n",
       "      <th>YE</th>\n",
       "      <th>ZA</th>\n",
       "      <th>ZM</th>\n",
       "      <th>ZW</th>\n",
       "    </tr>\n",
       "  </thead>\n",
       "  <tbody>\n",
       "    <tr>\n",
       "      <th>0</th>\n",
       "      <td>0</td>\n",
       "      <td>895922629</td>\n",
       "      <td>2014-10-28 19:42:54</td>\n",
       "      <td>technology</td>\n",
       "      <td>US</td>\n",
       "      <td>3500.0</td>\n",
       "      <td>1</td>\n",
       "      <td>0.014286</td>\n",
       "      <td>30</td>\n",
       "      <td>0</td>\n",
       "      <td>0</td>\n",
       "      <td>0</td>\n",
       "      <td>0</td>\n",
       "      <td>0</td>\n",
       "      <td>0</td>\n",
       "      <td>0</td>\n",
       "      <td>0</td>\n",
       "      <td>0</td>\n",
       "      <td>0</td>\n",
       "      <td>0</td>\n",
       "      <td>0</td>\n",
       "      <td>0</td>\n",
       "      <td>1</td>\n",
       "      <td>0</td>\n",
       "      <td>0</td>\n",
       "      <td>0</td>\n",
       "      <td>0</td>\n",
       "      <td>0</td>\n",
       "      <td>0</td>\n",
       "      <td>0</td>\n",
       "      <td>0</td>\n",
       "      <td>0</td>\n",
       "      <td>0</td>\n",
       "      <td>0</td>\n",
       "      <td>0</td>\n",
       "      <td>0</td>\n",
       "      <td>0</td>\n",
       "      <td>0</td>\n",
       "      <td>0</td>\n",
       "      <td>0</td>\n",
       "      <td>0</td>\n",
       "      <td>0</td>\n",
       "      <td>0</td>\n",
       "      <td>0</td>\n",
       "      <td>0</td>\n",
       "      <td>0</td>\n",
       "      <td>0</td>\n",
       "      <td>0</td>\n",
       "      <td>0</td>\n",
       "      <td>0</td>\n",
       "      <td>0</td>\n",
       "      <td>0</td>\n",
       "      <td>0</td>\n",
       "      <td>0</td>\n",
       "      <td>0</td>\n",
       "      <td>0</td>\n",
       "      <td>0</td>\n",
       "      <td>0</td>\n",
       "      <td>0</td>\n",
       "      <td>0</td>\n",
       "      <td>0</td>\n",
       "      <td>0</td>\n",
       "      <td>0</td>\n",
       "      <td>0</td>\n",
       "      <td>0</td>\n",
       "      <td>0</td>\n",
       "      <td>0</td>\n",
       "      <td>0</td>\n",
       "      <td>0</td>\n",
       "      <td>0</td>\n",
       "      <td>0</td>\n",
       "      <td>0</td>\n",
       "      <td>0</td>\n",
       "      <td>0</td>\n",
       "      <td>0</td>\n",
       "      <td>0</td>\n",
       "      <td>0</td>\n",
       "      <td>0</td>\n",
       "      <td>0</td>\n",
       "      <td>0</td>\n",
       "      <td>0</td>\n",
       "      <td>0</td>\n",
       "      <td>0</td>\n",
       "      <td>0</td>\n",
       "      <td>0</td>\n",
       "      <td>0</td>\n",
       "      <td>0</td>\n",
       "      <td>0</td>\n",
       "      <td>0</td>\n",
       "      <td>0</td>\n",
       "      <td>0</td>\n",
       "      <td>0</td>\n",
       "      <td>0</td>\n",
       "      <td>0</td>\n",
       "      <td>0</td>\n",
       "      <td>0</td>\n",
       "      <td>0</td>\n",
       "      <td>0</td>\n",
       "      <td>0</td>\n",
       "      <td>0</td>\n",
       "      <td>0</td>\n",
       "      <td>0</td>\n",
       "      <td>0</td>\n",
       "      <td>0</td>\n",
       "      <td>0</td>\n",
       "      <td>0</td>\n",
       "      <td>0</td>\n",
       "      <td>0</td>\n",
       "      <td>0</td>\n",
       "      <td>0</td>\n",
       "      <td>0</td>\n",
       "      <td>0</td>\n",
       "      <td>0</td>\n",
       "      <td>0</td>\n",
       "      <td>0</td>\n",
       "      <td>0</td>\n",
       "      <td>0</td>\n",
       "      <td>0</td>\n",
       "      <td>0</td>\n",
       "      <td>0</td>\n",
       "      <td>0</td>\n",
       "      <td>0</td>\n",
       "      <td>0</td>\n",
       "      <td>0</td>\n",
       "      <td>0</td>\n",
       "      <td>0</td>\n",
       "      <td>0</td>\n",
       "      <td>0</td>\n",
       "      <td>0</td>\n",
       "      <td>0</td>\n",
       "      <td>0</td>\n",
       "      <td>0</td>\n",
       "      <td>0</td>\n",
       "      <td>0</td>\n",
       "      <td>0</td>\n",
       "      <td>0</td>\n",
       "      <td>0</td>\n",
       "      <td>0</td>\n",
       "      <td>0</td>\n",
       "      <td>0</td>\n",
       "      <td>0</td>\n",
       "      <td>0</td>\n",
       "      <td>0</td>\n",
       "      <td>0</td>\n",
       "      <td>0</td>\n",
       "      <td>0</td>\n",
       "      <td>0</td>\n",
       "      <td>0</td>\n",
       "      <td>0</td>\n",
       "      <td>0</td>\n",
       "      <td>0</td>\n",
       "      <td>0</td>\n",
       "      <td>0</td>\n",
       "      <td>0</td>\n",
       "      <td>0</td>\n",
       "      <td>0</td>\n",
       "      <td>0</td>\n",
       "      <td>0</td>\n",
       "      <td>0</td>\n",
       "      <td>0</td>\n",
       "      <td>0</td>\n",
       "      <td>0</td>\n",
       "      <td>0</td>\n",
       "      <td>0</td>\n",
       "      <td>0</td>\n",
       "      <td>0</td>\n",
       "      <td>0</td>\n",
       "      <td>0</td>\n",
       "      <td>0</td>\n",
       "      <td>0</td>\n",
       "      <td>0</td>\n",
       "      <td>0</td>\n",
       "      <td>0</td>\n",
       "      <td>0</td>\n",
       "      <td>0</td>\n",
       "      <td>0</td>\n",
       "      <td>0</td>\n",
       "      <td>0</td>\n",
       "      <td>0</td>\n",
       "      <td>0</td>\n",
       "      <td>0</td>\n",
       "      <td>0</td>\n",
       "      <td>0</td>\n",
       "      <td>0</td>\n",
       "      <td>0</td>\n",
       "      <td>0</td>\n",
       "      <td>0</td>\n",
       "      <td>0</td>\n",
       "      <td>0</td>\n",
       "      <td>0</td>\n",
       "      <td>0</td>\n",
       "      <td>0</td>\n",
       "      <td>0</td>\n",
       "      <td>0</td>\n",
       "      <td>0</td>\n",
       "      <td>0</td>\n",
       "      <td>0</td>\n",
       "      <td>0</td>\n",
       "      <td>0</td>\n",
       "      <td>1</td>\n",
       "      <td>0</td>\n",
       "      <td>0</td>\n",
       "      <td>0</td>\n",
       "      <td>0</td>\n",
       "      <td>0</td>\n",
       "      <td>0</td>\n",
       "      <td>0</td>\n",
       "      <td>0</td>\n",
       "      <td>0</td>\n",
       "      <td>0</td>\n",
       "      <td>0</td>\n",
       "      <td>0</td>\n",
       "    </tr>\n",
       "    <tr>\n",
       "      <th>1</th>\n",
       "      <td>1</td>\n",
       "      <td>1190376005</td>\n",
       "      <td>2011-10-17 18:39:11</td>\n",
       "      <td>games</td>\n",
       "      <td>US</td>\n",
       "      <td>225.0</td>\n",
       "      <td>63</td>\n",
       "      <td>7.170978</td>\n",
       "      <td>16</td>\n",
       "      <td>1</td>\n",
       "      <td>0</td>\n",
       "      <td>0</td>\n",
       "      <td>0</td>\n",
       "      <td>0</td>\n",
       "      <td>0</td>\n",
       "      <td>0</td>\n",
       "      <td>0</td>\n",
       "      <td>1</td>\n",
       "      <td>0</td>\n",
       "      <td>0</td>\n",
       "      <td>0</td>\n",
       "      <td>0</td>\n",
       "      <td>0</td>\n",
       "      <td>0</td>\n",
       "      <td>0</td>\n",
       "      <td>0</td>\n",
       "      <td>0</td>\n",
       "      <td>0</td>\n",
       "      <td>0</td>\n",
       "      <td>0</td>\n",
       "      <td>0</td>\n",
       "      <td>0</td>\n",
       "      <td>0</td>\n",
       "      <td>0</td>\n",
       "      <td>0</td>\n",
       "      <td>0</td>\n",
       "      <td>0</td>\n",
       "      <td>0</td>\n",
       "      <td>0</td>\n",
       "      <td>0</td>\n",
       "      <td>0</td>\n",
       "      <td>0</td>\n",
       "      <td>0</td>\n",
       "      <td>0</td>\n",
       "      <td>0</td>\n",
       "      <td>0</td>\n",
       "      <td>0</td>\n",
       "      <td>0</td>\n",
       "      <td>0</td>\n",
       "      <td>0</td>\n",
       "      <td>0</td>\n",
       "      <td>0</td>\n",
       "      <td>0</td>\n",
       "      <td>0</td>\n",
       "      <td>0</td>\n",
       "      <td>0</td>\n",
       "      <td>0</td>\n",
       "      <td>0</td>\n",
       "      <td>0</td>\n",
       "      <td>0</td>\n",
       "      <td>0</td>\n",
       "      <td>0</td>\n",
       "      <td>0</td>\n",
       "      <td>0</td>\n",
       "      <td>0</td>\n",
       "      <td>0</td>\n",
       "      <td>0</td>\n",
       "      <td>0</td>\n",
       "      <td>0</td>\n",
       "      <td>0</td>\n",
       "      <td>0</td>\n",
       "      <td>0</td>\n",
       "      <td>0</td>\n",
       "      <td>0</td>\n",
       "      <td>0</td>\n",
       "      <td>0</td>\n",
       "      <td>0</td>\n",
       "      <td>0</td>\n",
       "      <td>0</td>\n",
       "      <td>0</td>\n",
       "      <td>0</td>\n",
       "      <td>0</td>\n",
       "      <td>0</td>\n",
       "      <td>0</td>\n",
       "      <td>0</td>\n",
       "      <td>0</td>\n",
       "      <td>0</td>\n",
       "      <td>0</td>\n",
       "      <td>0</td>\n",
       "      <td>0</td>\n",
       "      <td>0</td>\n",
       "      <td>0</td>\n",
       "      <td>0</td>\n",
       "      <td>0</td>\n",
       "      <td>0</td>\n",
       "      <td>0</td>\n",
       "      <td>0</td>\n",
       "      <td>0</td>\n",
       "      <td>0</td>\n",
       "      <td>0</td>\n",
       "      <td>0</td>\n",
       "      <td>0</td>\n",
       "      <td>0</td>\n",
       "      <td>0</td>\n",
       "      <td>0</td>\n",
       "      <td>0</td>\n",
       "      <td>0</td>\n",
       "      <td>0</td>\n",
       "      <td>0</td>\n",
       "      <td>0</td>\n",
       "      <td>0</td>\n",
       "      <td>0</td>\n",
       "      <td>0</td>\n",
       "      <td>0</td>\n",
       "      <td>0</td>\n",
       "      <td>0</td>\n",
       "      <td>0</td>\n",
       "      <td>0</td>\n",
       "      <td>0</td>\n",
       "      <td>0</td>\n",
       "      <td>0</td>\n",
       "      <td>0</td>\n",
       "      <td>0</td>\n",
       "      <td>0</td>\n",
       "      <td>0</td>\n",
       "      <td>0</td>\n",
       "      <td>0</td>\n",
       "      <td>0</td>\n",
       "      <td>0</td>\n",
       "      <td>0</td>\n",
       "      <td>0</td>\n",
       "      <td>0</td>\n",
       "      <td>0</td>\n",
       "      <td>0</td>\n",
       "      <td>0</td>\n",
       "      <td>0</td>\n",
       "      <td>0</td>\n",
       "      <td>0</td>\n",
       "      <td>0</td>\n",
       "      <td>0</td>\n",
       "      <td>0</td>\n",
       "      <td>0</td>\n",
       "      <td>0</td>\n",
       "      <td>0</td>\n",
       "      <td>0</td>\n",
       "      <td>0</td>\n",
       "      <td>0</td>\n",
       "      <td>0</td>\n",
       "      <td>0</td>\n",
       "      <td>0</td>\n",
       "      <td>0</td>\n",
       "      <td>0</td>\n",
       "      <td>0</td>\n",
       "      <td>0</td>\n",
       "      <td>0</td>\n",
       "      <td>0</td>\n",
       "      <td>0</td>\n",
       "      <td>0</td>\n",
       "      <td>0</td>\n",
       "      <td>0</td>\n",
       "      <td>0</td>\n",
       "      <td>0</td>\n",
       "      <td>0</td>\n",
       "      <td>0</td>\n",
       "      <td>0</td>\n",
       "      <td>0</td>\n",
       "      <td>0</td>\n",
       "      <td>0</td>\n",
       "      <td>0</td>\n",
       "      <td>0</td>\n",
       "      <td>0</td>\n",
       "      <td>0</td>\n",
       "      <td>0</td>\n",
       "      <td>0</td>\n",
       "      <td>0</td>\n",
       "      <td>0</td>\n",
       "      <td>0</td>\n",
       "      <td>0</td>\n",
       "      <td>0</td>\n",
       "      <td>0</td>\n",
       "      <td>0</td>\n",
       "      <td>0</td>\n",
       "      <td>0</td>\n",
       "      <td>0</td>\n",
       "      <td>0</td>\n",
       "      <td>0</td>\n",
       "      <td>0</td>\n",
       "      <td>0</td>\n",
       "      <td>0</td>\n",
       "      <td>0</td>\n",
       "      <td>0</td>\n",
       "      <td>0</td>\n",
       "      <td>0</td>\n",
       "      <td>0</td>\n",
       "      <td>0</td>\n",
       "      <td>0</td>\n",
       "      <td>0</td>\n",
       "      <td>0</td>\n",
       "      <td>0</td>\n",
       "      <td>1</td>\n",
       "      <td>0</td>\n",
       "      <td>0</td>\n",
       "      <td>0</td>\n",
       "      <td>0</td>\n",
       "      <td>0</td>\n",
       "      <td>0</td>\n",
       "      <td>0</td>\n",
       "      <td>0</td>\n",
       "      <td>0</td>\n",
       "      <td>0</td>\n",
       "      <td>0</td>\n",
       "      <td>0</td>\n",
       "    </tr>\n",
       "  </tbody>\n",
       "</table>\n",
       "</div>"
      ],
      "text/plain": [
       "   launch_state          id         launched_at    category country    goal  \\\n",
       "0             0   895922629 2014-10-28 19:42:54  technology      US  3500.0   \n",
       "1             1  1190376005 2011-10-17 18:39:11       games      US   225.0   \n",
       "\n",
       "   backers_count  pledged_ratio  funding_days  staff_pick  comics  crafts  \\\n",
       "0              1       0.014286            30           0       0       0   \n",
       "1             63       7.170978            16           1       0       0   \n",
       "\n",
       "   dance  design  fashion  film & video  food  games  journalism  music  \\\n",
       "0      0       0        0             0     0      0           0      0   \n",
       "1      0       0        0             0     0      1           0      0   \n",
       "\n",
       "   photography  publishing  technology  theater  AF  AG  AL  AM  AQ  AR  AT  \\\n",
       "0            0           0           1        0   0   0   0   0   0   0   0   \n",
       "1            0           0           0        0   0   0   0   0   0   0   0   \n",
       "\n",
       "   AU  AX  AZ  BA  BB  BD  BE  BF  BG  BJ  BM  BO  BR  BS  BT  BW  BY  BZ  CA  \\\n",
       "0   0   0   0   0   0   0   0   0   0   0   0   0   0   0   0   0   0   0   0   \n",
       "1   0   0   0   0   0   0   0   0   0   0   0   0   0   0   0   0   0   0   0   \n",
       "\n",
       "   CD  CG  CH  CI  CK  CL  CM  CN  CO  CR  CU  CV  CW  CY  CZ  DE  DJ  DK  DM  \\\n",
       "0   0   0   0   0   0   0   0   0   0   0   0   0   0   0   0   0   0   0   0   \n",
       "1   0   0   0   0   0   0   0   0   0   0   0   0   0   0   0   0   0   0   0   \n",
       "\n",
       "   DO  DZ  EC  EE  EG  ES  ET  FI  FJ  FM  FO  FR  GA  GB  GD  GE  GH  GL  GM  \\\n",
       "0   0   0   0   0   0   0   0   0   0   0   0   0   0   0   0   0   0   0   0   \n",
       "1   0   0   0   0   0   0   0   0   0   0   0   0   0   0   0   0   0   0   0   \n",
       "\n",
       "   GN  GP  GQ  GR  GT  GU  GY  HK  HN  HR  HT  HU  ID  IE  IL  IN  IQ  IR  IS  \\\n",
       "0   0   0   0   0   0   0   0   0   0   0   0   0   0   0   0   0   0   0   0   \n",
       "1   0   0   0   0   0   0   0   0   0   0   0   0   0   0   0   0   0   0   0   \n",
       "\n",
       "   IT  JM  JO  JP  KE  KG  KH  KN  KP  KR  KW  KZ  LA  LB  LC  LK  LR  LS  LT  \\\n",
       "0   0   0   0   0   0   0   0   0   0   0   0   0   0   0   0   0   0   0   0   \n",
       "1   0   0   0   0   0   0   0   0   0   0   0   0   0   0   0   0   0   0   0   \n",
       "\n",
       "   LU  LV  LY  MA  MC  MD  ME  MG  MK  ML  MM  MN  MO  MR  MT  MV  MW  MX  MY  \\\n",
       "0   0   0   0   0   0   0   0   0   0   0   0   0   0   0   0   0   0   0   0   \n",
       "1   0   0   0   0   0   0   0   0   0   0   0   0   0   0   0   0   0   0   0   \n",
       "\n",
       "   MZ  NA  NE  NG  NI  NL  NO  NP  NZ  PA  PE  PF  PG  PH  PK  PL  PN  PR  PS  \\\n",
       "0   0   0   0   0   0   0   0   0   0   0   0   0   0   0   0   0   0   0   0   \n",
       "1   0   0   0   0   0   0   0   0   0   0   0   0   0   0   0   0   0   0   0   \n",
       "\n",
       "   PT  PY  QA  RO  RS  RU  RW  SA  SC  SD  SE  SG  SI  SJ  SK  SL  SN  SO  SR  \\\n",
       "0   0   0   0   0   0   0   0   0   0   0   0   0   0   0   0   0   0   0   0   \n",
       "1   0   0   0   0   0   0   0   0   0   0   0   0   0   0   0   0   0   0   0   \n",
       "\n",
       "   SS  SV  SX  SY  SZ  TC  TH  TL  TN  TO  TR  TT  TW  TZ  UA  UG  US  UY  VC  \\\n",
       "0   0   0   0   0   0   0   0   0   0   0   0   0   0   0   0   0   1   0   0   \n",
       "1   0   0   0   0   0   0   0   0   0   0   0   0   0   0   0   0   1   0   0   \n",
       "\n",
       "   VE  VI  VN  VU  WS  XK  YE  ZA  ZM  ZW  \n",
       "0   0   0   0   0   0   0   0   0   0   0  \n",
       "1   0   0   0   0   0   0   0   0   0   0  "
      ]
     },
     "execution_count": 4,
     "metadata": {},
     "output_type": "execute_result"
    }
   ],
   "source": [
    "df.head(2)"
   ]
  },
  {
   "cell_type": "code",
   "execution_count": 5,
   "metadata": {},
   "outputs": [],
   "source": [
    "info_variables = ['id','launched_at','category','country']"
   ]
  },
  {
   "cell_type": "code",
   "execution_count": 6,
   "metadata": {},
   "outputs": [
    {
     "data": {
      "text/plain": [
       "['id', 'launched_at', 'category', 'country']"
      ]
     },
     "execution_count": 6,
     "metadata": {},
     "output_type": "execute_result"
    }
   ],
   "source": [
    "info_variables"
   ]
  },
  {
   "cell_type": "code",
   "execution_count": 7,
   "metadata": {},
   "outputs": [],
   "source": [
    "X = df.drop(columns=info_variables).drop(columns='launch_state')\n",
    "y = df['launch_state']"
   ]
  },
  {
   "cell_type": "code",
   "execution_count": 8,
   "metadata": {},
   "outputs": [
    {
     "data": {
      "text/plain": [
       "(141447, 212)"
      ]
     },
     "execution_count": 8,
     "metadata": {},
     "output_type": "execute_result"
    }
   ],
   "source": [
    "df.shape"
   ]
  },
  {
   "cell_type": "code",
   "execution_count": 9,
   "metadata": {},
   "outputs": [
    {
     "data": {
      "text/plain": [
       "(141447, 207)"
      ]
     },
     "execution_count": 9,
     "metadata": {},
     "output_type": "execute_result"
    }
   ],
   "source": [
    "X.shape"
   ]
  },
  {
   "cell_type": "code",
   "execution_count": 10,
   "metadata": {},
   "outputs": [
    {
     "data": {
      "text/plain": [
       "(141447,)"
      ]
     },
     "execution_count": 10,
     "metadata": {},
     "output_type": "execute_result"
    }
   ],
   "source": [
    "y.shape"
   ]
  },
  {
   "cell_type": "code",
   "execution_count": 11,
   "metadata": {},
   "outputs": [],
   "source": [
    "#-----------------------------------------\n",
    "# TRAIN/TEST SPLIT\n",
    "\n",
    "X_train, X_test, y_train, y_test = train_test_split(\n",
    "    X, y, test_size=0.25, random_state=101)"
   ]
  },
  {
   "cell_type": "code",
   "execution_count": 12,
   "metadata": {},
   "outputs": [
    {
     "data": {
      "text/plain": [
       "0.7499982325535359"
      ]
     },
     "execution_count": 12,
     "metadata": {},
     "output_type": "execute_result"
    }
   ],
   "source": [
    "X_train.shape[0]/df.shape[0]"
   ]
  },
  {
   "cell_type": "code",
   "execution_count": 13,
   "metadata": {},
   "outputs": [
    {
     "data": {
      "text/plain": [
       "0.7499982325535359"
      ]
     },
     "execution_count": 13,
     "metadata": {},
     "output_type": "execute_result"
    }
   ],
   "source": [
    "y_train.shape[0]/df.shape[0]"
   ]
  },
  {
   "cell_type": "code",
   "execution_count": 14,
   "metadata": {},
   "outputs": [
    {
     "data": {
      "text/plain": [
       "0.2500017674464641"
      ]
     },
     "execution_count": 14,
     "metadata": {},
     "output_type": "execute_result"
    }
   ],
   "source": [
    "X_test.shape[0]/df.shape[0]"
   ]
  },
  {
   "cell_type": "code",
   "execution_count": 15,
   "metadata": {},
   "outputs": [
    {
     "data": {
      "text/plain": [
       "0.2500017674464641"
      ]
     },
     "execution_count": 15,
     "metadata": {},
     "output_type": "execute_result"
    }
   ],
   "source": [
    "y_test.shape[0]/df.shape[0]"
   ]
  },
  {
   "cell_type": "code",
   "execution_count": 16,
   "metadata": {},
   "outputs": [],
   "source": [
    "#==============================================================================\n",
    "#\n",
    "# LOGISTIC REGRESSION\n",
    "#\n",
    "#=============================================================================="
   ]
  },
  {
   "cell_type": "code",
   "execution_count": 17,
   "metadata": {},
   "outputs": [],
   "source": [
    "#-----------------------------------------\n",
    "# FEATURE SCALING\n",
    "\n",
    "sc_X_LogReg = StandardScaler()\n",
    "X_train_LogReg = sc_X_LogReg.fit_transform(X_train)\n",
    "X_test_LogReg = sc_X_LogReg.transform(X_test)"
   ]
  },
  {
   "cell_type": "code",
   "execution_count": 18,
   "metadata": {},
   "outputs": [
    {
     "name": "stdout",
     "output_type": "stream",
     "text": [
      "Runtime, fit: 22.3610289\n"
     ]
    }
   ],
   "source": [
    "#-----------------------------------------\n",
    "# FIT MODEL\n",
    "\n",
    "start_clock = time.clock()\n",
    "\n",
    "# Create classifier\n",
    "# Logistic regression\n",
    "classifier_LogReg = LogisticRegression(random_state=101)\n",
    "classifier_LogReg.fit(X_train_LogReg, y_train)\n",
    "\n",
    "end_clock = time.clock()\n",
    "\n",
    "clock_fit_LogReg = end_clock-start_clock\n",
    "print('Runtime, fit: ', clock_fit_LogReg, sep='')"
   ]
  },
  {
   "cell_type": "code",
   "execution_count": 19,
   "metadata": {},
   "outputs": [
    {
     "name": "stdout",
     "output_type": "stream",
     "text": [
      "Runtime, predict: 0.011629600000006235\n"
     ]
    }
   ],
   "source": [
    "#-----------------------------------------\n",
    "# PREDICT TEST RESULTS\n",
    "\n",
    "start_clock = time.clock()\n",
    "\n",
    "# No feature scaling\n",
    "y_pred_LogReg = classifier_LogReg.predict(X_test_LogReg)\n",
    "\n",
    "# Feature scaling\n",
    "\"\"\"y_pred = sc_y.inverse_transform(regressor.predict(sc_X.transform(np.array([[6.5]]))))\n",
    "print(y_pred)\"\"\"\n",
    "\n",
    "end_clock = time.clock()\n",
    "\n",
    "clock_predict_LogReg = end_clock-start_clock\n",
    "print('Runtime, predict: ', clock_predict_LogReg, sep='')"
   ]
  },
  {
   "cell_type": "code",
   "execution_count": 20,
   "metadata": {},
   "outputs": [
    {
     "name": "stdout",
     "output_type": "stream",
     "text": [
      "[[12004  2994]\n",
      " [ 2765 17599]]\n",
      "\n",
      "\n",
      "             precision    recall  f1-score   support\n",
      "\n",
      "          0       0.81      0.80      0.81     14998\n",
      "          1       0.85      0.86      0.86     20364\n",
      "\n",
      "avg / total       0.84      0.84      0.84     35362\n",
      "\n"
     ]
    }
   ],
   "source": [
    "#-----------------------------------------\n",
    "# EVALUATE MODEL\n",
    "\n",
    "# Confusion matrix\n",
    "cm_LogReg = confusion_matrix(y_test, y_pred_LogReg)\n",
    "\n",
    "# Classification report\n",
    "cr_LogReg = classification_report(y_test, y_pred_LogReg)\n",
    "\n",
    "print(cm_LogReg)\n",
    "print(\"\\n\")\n",
    "print(cr_LogReg)"
   ]
  },
  {
   "cell_type": "code",
   "execution_count": 21,
   "metadata": {},
   "outputs": [],
   "source": [
    "acc_LogReg = cm_LogReg.diagonal().sum() / cm_LogReg.sum()"
   ]
  },
  {
   "cell_type": "code",
   "execution_count": 22,
   "metadata": {},
   "outputs": [
    {
     "data": {
      "text/plain": [
       "0.8371415643911544"
      ]
     },
     "execution_count": 22,
     "metadata": {},
     "output_type": "execute_result"
    }
   ],
   "source": [
    "acc_LogReg"
   ]
  },
  {
   "cell_type": "code",
   "execution_count": 23,
   "metadata": {},
   "outputs": [
    {
     "name": "stdout",
     "output_type": "stream",
     "text": [
      "Runtime, 10-fold CV: 206.1631457\n"
     ]
    }
   ],
   "source": [
    "#-----------------------------------------\n",
    "# APPLY K-FOLD CROSS VALIDATION\n",
    "\n",
    "start_clock = time.clock()\n",
    "\n",
    "accuracies_LogReg = cross_val_score(\n",
    "    estimator=classifier_LogReg, X=X_train_LogReg, y=y_train,\n",
    "    cv=10)\n",
    "\n",
    "end_clock = time.clock()\n",
    "\n",
    "clock_10FCV_LogReg = end_clock-start_clock\n",
    "print('Runtime, 10-fold CV: ', clock_10FCV_LogReg, sep='')"
   ]
  },
  {
   "cell_type": "code",
   "execution_count": 24,
   "metadata": {},
   "outputs": [
    {
     "name": "stdout",
     "output_type": "stream",
     "text": [
      "Accuracies:\n",
      "[0.82769347 0.85964747 0.85785654 0.85144688 0.85474597 0.84220944\n",
      " 0.8476765  0.87368024 0.86480626 0.82888658]\n",
      "\n",
      "\n",
      "RESULTS:\n",
      "  - Mean accuracy: 85.09%\n",
      "  - Accuracy std dev: 1.4000000000000001%\n"
     ]
    }
   ],
   "source": [
    "print(\"Accuracies:\")\n",
    "print(accuracies_LogReg)\n",
    "print('\\n')\n",
    "print(\"RESULTS:\")\n",
    "print(f\"  - Mean accuracy: {round(accuracies_LogReg.mean(),4)*100}%\")\n",
    "print(f\"  - Accuracy std dev: {round(accuracies_LogReg.std(),4)*100}%\")"
   ]
  },
  {
   "cell_type": "code",
   "execution_count": 25,
   "metadata": {},
   "outputs": [
    {
     "data": {
      "text/plain": [
       "0.8508649360536339"
      ]
     },
     "execution_count": 25,
     "metadata": {},
     "output_type": "execute_result"
    }
   ],
   "source": [
    "accuracies_LogReg.mean()"
   ]
  },
  {
   "cell_type": "code",
   "execution_count": 26,
   "metadata": {},
   "outputs": [
    {
     "data": {
      "text/plain": [
       "array([[12004,  2994],\n",
       "       [ 2765, 17599]], dtype=int64)"
      ]
     },
     "execution_count": 26,
     "metadata": {},
     "output_type": "execute_result"
    }
   ],
   "source": [
    "cm_LogReg"
   ]
  },
  {
   "cell_type": "code",
   "execution_count": 27,
   "metadata": {},
   "outputs": [
    {
     "data": {
      "text/plain": [
       "35362"
      ]
     },
     "execution_count": 27,
     "metadata": {},
     "output_type": "execute_result"
    }
   ],
   "source": [
    "cm_LogReg.sum()"
   ]
  },
  {
   "cell_type": "code",
   "execution_count": 28,
   "metadata": {},
   "outputs": [
    {
     "data": {
      "text/plain": [
       "29603"
      ]
     },
     "execution_count": 28,
     "metadata": {},
     "output_type": "execute_result"
    }
   ],
   "source": [
    "cm_LogReg.diagonal().sum()"
   ]
  },
  {
   "cell_type": "code",
   "execution_count": 32,
   "metadata": {},
   "outputs": [
    {
     "data": {
      "text/plain": [
       "22.3610289"
      ]
     },
     "execution_count": 32,
     "metadata": {},
     "output_type": "execute_result"
    }
   ],
   "source": [
    "clock_fit_LogReg"
   ]
  },
  {
   "cell_type": "code",
   "execution_count": 33,
   "metadata": {},
   "outputs": [
    {
     "data": {
      "text/plain": [
       "206.1631457"
      ]
     },
     "execution_count": 33,
     "metadata": {},
     "output_type": "execute_result"
    }
   ],
   "source": [
    "clock_10FCV_LogReg"
   ]
  },
  {
   "cell_type": "code",
   "execution_count": 31,
   "metadata": {},
   "outputs": [
    {
     "data": {
      "text/html": [
       "<div>\n",
       "<style scoped>\n",
       "    .dataframe tbody tr th:only-of-type {\n",
       "        vertical-align: middle;\n",
       "    }\n",
       "\n",
       "    .dataframe tbody tr th {\n",
       "        vertical-align: top;\n",
       "    }\n",
       "\n",
       "    .dataframe thead th {\n",
       "        text-align: right;\n",
       "    }\n",
       "</style>\n",
       "<table border=\"1\" class=\"dataframe\">\n",
       "  <thead>\n",
       "    <tr style=\"text-align: right;\">\n",
       "      <th></th>\n",
       "      <th>one</th>\n",
       "      <th>three</th>\n",
       "      <th>two</th>\n",
       "    </tr>\n",
       "  </thead>\n",
       "  <tbody>\n",
       "    <tr>\n",
       "      <th>0</th>\n",
       "      <td>1</td>\n",
       "      <td>3</td>\n",
       "      <td>2</td>\n",
       "    </tr>\n",
       "  </tbody>\n",
       "</table>\n",
       "</div>"
      ],
      "text/plain": [
       "   one  three  two\n",
       "0    1      3    2"
      ]
     },
     "execution_count": 31,
     "metadata": {},
     "output_type": "execute_result"
    }
   ],
   "source": [
    "pd.DataFrame([{'one':1, 'two':2, 'three':3}])"
   ]
  },
  {
   "cell_type": "code",
   "execution_count": 66,
   "metadata": {},
   "outputs": [],
   "source": [
    "df_results_LogReg = pd.DataFrame([{\n",
    "    'model':'LogReg', \n",
    "    'time_fit':clock_fit_LogReg, 'time_predict':clock_predict_LogReg,\n",
    "    'time_10_fold_CV':clock_10FCV_LogReg,\n",
    "    'accuracy':acc_LogReg, 'acc_10_fold':accuracies_LogReg.mean()}])"
   ]
  },
  {
   "cell_type": "code",
   "execution_count": 68,
   "metadata": {},
   "outputs": [
    {
     "data": {
      "text/html": [
       "<div>\n",
       "<style scoped>\n",
       "    .dataframe tbody tr th:only-of-type {\n",
       "        vertical-align: middle;\n",
       "    }\n",
       "\n",
       "    .dataframe tbody tr th {\n",
       "        vertical-align: top;\n",
       "    }\n",
       "\n",
       "    .dataframe thead th {\n",
       "        text-align: right;\n",
       "    }\n",
       "</style>\n",
       "<table border=\"1\" class=\"dataframe\">\n",
       "  <thead>\n",
       "    <tr style=\"text-align: right;\">\n",
       "      <th></th>\n",
       "      <th>acc_10_fold</th>\n",
       "      <th>accuracy</th>\n",
       "      <th>model</th>\n",
       "      <th>time_10_fold_CV</th>\n",
       "      <th>time_fit</th>\n",
       "      <th>time_predict</th>\n",
       "    </tr>\n",
       "  </thead>\n",
       "  <tbody>\n",
       "    <tr>\n",
       "      <th>0</th>\n",
       "      <td>0.850865</td>\n",
       "      <td>0.837142</td>\n",
       "      <td>LogReg</td>\n",
       "      <td>206.163146</td>\n",
       "      <td>22.361029</td>\n",
       "      <td>0.01163</td>\n",
       "    </tr>\n",
       "  </tbody>\n",
       "</table>\n",
       "</div>"
      ],
      "text/plain": [
       "   acc_10_fold  accuracy   model  time_10_fold_CV   time_fit  time_predict\n",
       "0     0.850865  0.837142  LogReg       206.163146  22.361029       0.01163"
      ]
     },
     "execution_count": 68,
     "metadata": {},
     "output_type": "execute_result"
    }
   ],
   "source": [
    "df_results_LogReg"
   ]
  },
  {
   "cell_type": "code",
   "execution_count": 70,
   "metadata": {},
   "outputs": [],
   "source": [
    "df_results_LogReg = df_results_LogReg[['model','time_fit','time_predict','time_10_fold_CV','accuracy','acc_10_fold']]"
   ]
  },
  {
   "cell_type": "code",
   "execution_count": 71,
   "metadata": {},
   "outputs": [
    {
     "data": {
      "text/html": [
       "<div>\n",
       "<style scoped>\n",
       "    .dataframe tbody tr th:only-of-type {\n",
       "        vertical-align: middle;\n",
       "    }\n",
       "\n",
       "    .dataframe tbody tr th {\n",
       "        vertical-align: top;\n",
       "    }\n",
       "\n",
       "    .dataframe thead th {\n",
       "        text-align: right;\n",
       "    }\n",
       "</style>\n",
       "<table border=\"1\" class=\"dataframe\">\n",
       "  <thead>\n",
       "    <tr style=\"text-align: right;\">\n",
       "      <th></th>\n",
       "      <th>model</th>\n",
       "      <th>time_fit</th>\n",
       "      <th>time_predict</th>\n",
       "      <th>time_10_fold_CV</th>\n",
       "      <th>accuracy</th>\n",
       "      <th>acc_10_fold</th>\n",
       "    </tr>\n",
       "  </thead>\n",
       "  <tbody>\n",
       "    <tr>\n",
       "      <th>0</th>\n",
       "      <td>LogReg</td>\n",
       "      <td>22.361029</td>\n",
       "      <td>0.01163</td>\n",
       "      <td>206.163146</td>\n",
       "      <td>0.837142</td>\n",
       "      <td>0.850865</td>\n",
       "    </tr>\n",
       "  </tbody>\n",
       "</table>\n",
       "</div>"
      ],
      "text/plain": [
       "    model   time_fit  time_predict  time_10_fold_CV  accuracy  acc_10_fold\n",
       "0  LogReg  22.361029       0.01163       206.163146  0.837142     0.850865"
      ]
     },
     "execution_count": 71,
     "metadata": {},
     "output_type": "execute_result"
    }
   ],
   "source": [
    "df_results_LogReg"
   ]
  },
  {
   "cell_type": "code",
   "execution_count": 72,
   "metadata": {},
   "outputs": [],
   "source": [
    "df_results = df_results_LogReg"
   ]
  },
  {
   "cell_type": "code",
   "execution_count": 73,
   "metadata": {},
   "outputs": [
    {
     "data": {
      "text/html": [
       "<div>\n",
       "<style scoped>\n",
       "    .dataframe tbody tr th:only-of-type {\n",
       "        vertical-align: middle;\n",
       "    }\n",
       "\n",
       "    .dataframe tbody tr th {\n",
       "        vertical-align: top;\n",
       "    }\n",
       "\n",
       "    .dataframe thead th {\n",
       "        text-align: right;\n",
       "    }\n",
       "</style>\n",
       "<table border=\"1\" class=\"dataframe\">\n",
       "  <thead>\n",
       "    <tr style=\"text-align: right;\">\n",
       "      <th></th>\n",
       "      <th>model</th>\n",
       "      <th>time_fit</th>\n",
       "      <th>time_predict</th>\n",
       "      <th>time_10_fold_CV</th>\n",
       "      <th>accuracy</th>\n",
       "      <th>acc_10_fold</th>\n",
       "    </tr>\n",
       "  </thead>\n",
       "  <tbody>\n",
       "    <tr>\n",
       "      <th>0</th>\n",
       "      <td>LogReg</td>\n",
       "      <td>22.361029</td>\n",
       "      <td>0.01163</td>\n",
       "      <td>206.163146</td>\n",
       "      <td>0.837142</td>\n",
       "      <td>0.850865</td>\n",
       "    </tr>\n",
       "  </tbody>\n",
       "</table>\n",
       "</div>"
      ],
      "text/plain": [
       "    model   time_fit  time_predict  time_10_fold_CV  accuracy  acc_10_fold\n",
       "0  LogReg  22.361029       0.01163       206.163146  0.837142     0.850865"
      ]
     },
     "execution_count": 73,
     "metadata": {},
     "output_type": "execute_result"
    }
   ],
   "source": [
    "df_results"
   ]
  },
  {
   "cell_type": "code",
   "execution_count": 39,
   "metadata": {},
   "outputs": [],
   "source": [
    "#==============================================================================\n",
    "#\n",
    "# K NEAREST NEIGHBORS\n",
    "#\n",
    "#=============================================================================="
   ]
  },
  {
   "cell_type": "code",
   "execution_count": 40,
   "metadata": {},
   "outputs": [],
   "source": [
    "#-----------------------------------------\n",
    "# FEATURE SCALING\n",
    "\n",
    "sc_X_knn = StandardScaler()\n",
    "X_train_knn = sc_X_knn.fit_transform(X_train)\n",
    "X_test_knn = sc_X_knn.transform(X_test)"
   ]
  },
  {
   "cell_type": "code",
   "execution_count": 41,
   "metadata": {},
   "outputs": [
    {
     "name": "stdout",
     "output_type": "stream",
     "text": [
      "Runtime, fit: 45.58440949999999\n"
     ]
    }
   ],
   "source": [
    "#-----------------------------------------\n",
    "# FIT MODEL\n",
    "\n",
    "start_clock = time.clock()\n",
    "\n",
    "# Create classifier\n",
    "# KNN\n",
    "classifier_knn = KNeighborsClassifier(n_neighbors=5, metric=\"minkowski\", p=2)\n",
    "classifier_knn.fit(X_train_knn, y_train)\n",
    "\n",
    "end_clock = time.clock()\n",
    "\n",
    "clock_fit_knn = end_clock-start_clock\n",
    "print('Runtime, fit: ', clock_fit_knn, sep='')"
   ]
  },
  {
   "cell_type": "code",
   "execution_count": 43,
   "metadata": {},
   "outputs": [
    {
     "name": "stdout",
     "output_type": "stream",
     "text": [
      "Runtime, predict: 949.5767655\n"
     ]
    }
   ],
   "source": [
    "#-----------------------------------------\n",
    "# PREDICT TEST RESULTS\n",
    "\n",
    "start_clock = time.clock()\n",
    "\n",
    "# No feature scaling\n",
    "y_pred_knn = classifier_knn.predict(X_test_knn)\n",
    "\n",
    "# Feature scaling\n",
    "\"\"\"y_pred = sc_y.inverse_transform(regressor.predict(sc_X.transform(np.array([[6.5]]))))\n",
    "print(y_pred)\"\"\"\n",
    "\n",
    "end_clock = time.clock()\n",
    "\n",
    "clock_predict_knn = end_clock-start_clock\n",
    "print('Runtime, predict: ', clock_predict_knn, sep='')"
   ]
  },
  {
   "cell_type": "code",
   "execution_count": 44,
   "metadata": {},
   "outputs": [
    {
     "name": "stdout",
     "output_type": "stream",
     "text": [
      "[[13101  1897]\n",
      " [ 1300 19064]]\n",
      "\n",
      "\n",
      "             precision    recall  f1-score   support\n",
      "\n",
      "          0       0.91      0.87      0.89     14998\n",
      "          1       0.91      0.94      0.92     20364\n",
      "\n",
      "avg / total       0.91      0.91      0.91     35362\n",
      "\n"
     ]
    }
   ],
   "source": [
    "#-----------------------------------------\n",
    "# EVALUATE MODEL\n",
    "\n",
    "# Confusion matrix\n",
    "cm_knn = confusion_matrix(y_test, y_pred_knn)\n",
    "\n",
    "# Classification report\n",
    "cr_knn = classification_report(y_test, y_pred_knn)\n",
    "\n",
    "print(cm_knn)\n",
    "print(\"\\n\")\n",
    "print(cr_knn)"
   ]
  },
  {
   "cell_type": "code",
   "execution_count": 76,
   "metadata": {},
   "outputs": [],
   "source": [
    "acc_knn = cm_knn.diagonal().sum() / cm_knn.sum()"
   ]
  },
  {
   "cell_type": "code",
   "execution_count": 52,
   "metadata": {},
   "outputs": [
    {
     "name": "stdout",
     "output_type": "stream",
     "text": [
      "10-fold CV estimated time:  2.76  hours\n"
     ]
    }
   ],
   "source": [
    "#-----------------------------------------\n",
    "# APPLY K-FOLD CROSS VALIDATION\n",
    "\n",
    "# 10-fold cross validation time estimate:\n",
    "print('10-fold CV estimated time: ', \n",
    "      round((clock_fit_knn + clock_predict_knn)*10/60/60, 2), \n",
    "      ' hours')"
   ]
  },
  {
   "cell_type": "code",
   "execution_count": 53,
   "metadata": {},
   "outputs": [
    {
     "name": "stdout",
     "output_type": "stream",
     "text": [
      "Runtime, 10-fold CV: 2893.3973577999996\n"
     ]
    }
   ],
   "source": [
    "start_clock = time.clock()\n",
    "\n",
    "accuracies_knn = cross_val_score(\n",
    "    estimator=classifier_knn, X=X_train_knn, y=y_train,\n",
    "    cv=10)\n",
    "\n",
    "end_clock = time.clock()\n",
    "\n",
    "clock_10FCV_knn = end_clock-start_clock\n",
    "print('Runtime, 10-fold CV: ', clock_10FCV_knn, sep='')"
   ]
  },
  {
   "cell_type": "code",
   "execution_count": 54,
   "metadata": {},
   "outputs": [
    {
     "name": "stdout",
     "output_type": "stream",
     "text": [
      "Accuracies:\n",
      "[0.90432652 0.91337544 0.9120558  0.91026487 0.90960505 0.9080969\n",
      " 0.90460929 0.91185897 0.9154332  0.90732535]\n",
      "\n",
      "\n",
      "RESULTS:\n",
      "  - Mean accuracy: 90.97%\n",
      "  - Accuracy std dev: 0.35000000000000003%\n"
     ]
    }
   ],
   "source": [
    "print(\"Accuracies:\")\n",
    "print(accuracies_knn)\n",
    "print('\\n')\n",
    "print(\"RESULTS:\")\n",
    "print(f\"  - Mean accuracy: {round(accuracies_knn.mean(),4)*100}%\")\n",
    "print(f\"  - Accuracy std dev: {round(accuracies_knn.std(),4)*100}%\")"
   ]
  },
  {
   "cell_type": "code",
   "execution_count": null,
   "metadata": {},
   "outputs": [],
   "source": [
    "\"\"\"df_results = pd.DataFrame([{'model':'LogReg',\n",
    "              'time_fit':clock_fit_LogReg, \n",
    "              'time_predict':clock_predict_LogReg,\n",
    "              'time_10_fold_CV':clock_10FCV_LogReg,\n",
    "              'accuracy':acc_LogReg,\n",
    "              'acc_10_fold':accuracies_LogReg.mean()}])\"\"\""
   ]
  },
  {
   "cell_type": "code",
   "execution_count": 75,
   "metadata": {},
   "outputs": [
    {
     "data": {
      "text/html": [
       "<div>\n",
       "<style scoped>\n",
       "    .dataframe tbody tr th:only-of-type {\n",
       "        vertical-align: middle;\n",
       "    }\n",
       "\n",
       "    .dataframe tbody tr th {\n",
       "        vertical-align: top;\n",
       "    }\n",
       "\n",
       "    .dataframe thead th {\n",
       "        text-align: right;\n",
       "    }\n",
       "</style>\n",
       "<table border=\"1\" class=\"dataframe\">\n",
       "  <thead>\n",
       "    <tr style=\"text-align: right;\">\n",
       "      <th></th>\n",
       "      <th>model</th>\n",
       "      <th>time_fit</th>\n",
       "      <th>time_predict</th>\n",
       "      <th>time_10_fold_CV</th>\n",
       "      <th>accuracy</th>\n",
       "      <th>acc_10_fold</th>\n",
       "    </tr>\n",
       "  </thead>\n",
       "  <tbody>\n",
       "    <tr>\n",
       "      <th>0</th>\n",
       "      <td>LogReg</td>\n",
       "      <td>22.361029</td>\n",
       "      <td>0.01163</td>\n",
       "      <td>206.163146</td>\n",
       "      <td>0.837142</td>\n",
       "      <td>0.850865</td>\n",
       "    </tr>\n",
       "  </tbody>\n",
       "</table>\n",
       "</div>"
      ],
      "text/plain": [
       "    model   time_fit  time_predict  time_10_fold_CV  accuracy  acc_10_fold\n",
       "0  LogReg  22.361029       0.01163       206.163146  0.837142     0.850865"
      ]
     },
     "execution_count": 75,
     "metadata": {},
     "output_type": "execute_result"
    }
   ],
   "source": [
    "df_results"
   ]
  },
  {
   "cell_type": "code",
   "execution_count": 57,
   "metadata": {},
   "outputs": [],
   "source": [
    "x=pd.DataFrame([{'one':1, 'two':2, 'three':3}])"
   ]
  },
  {
   "cell_type": "code",
   "execution_count": 58,
   "metadata": {},
   "outputs": [
    {
     "data": {
      "text/html": [
       "<div>\n",
       "<style scoped>\n",
       "    .dataframe tbody tr th:only-of-type {\n",
       "        vertical-align: middle;\n",
       "    }\n",
       "\n",
       "    .dataframe tbody tr th {\n",
       "        vertical-align: top;\n",
       "    }\n",
       "\n",
       "    .dataframe thead th {\n",
       "        text-align: right;\n",
       "    }\n",
       "</style>\n",
       "<table border=\"1\" class=\"dataframe\">\n",
       "  <thead>\n",
       "    <tr style=\"text-align: right;\">\n",
       "      <th></th>\n",
       "      <th>one</th>\n",
       "      <th>three</th>\n",
       "      <th>two</th>\n",
       "    </tr>\n",
       "  </thead>\n",
       "  <tbody>\n",
       "    <tr>\n",
       "      <th>0</th>\n",
       "      <td>1</td>\n",
       "      <td>3</td>\n",
       "      <td>2</td>\n",
       "    </tr>\n",
       "  </tbody>\n",
       "</table>\n",
       "</div>"
      ],
      "text/plain": [
       "   one  three  two\n",
       "0    1      3    2"
      ]
     },
     "execution_count": 58,
     "metadata": {},
     "output_type": "execute_result"
    }
   ],
   "source": [
    "x"
   ]
  },
  {
   "cell_type": "code",
   "execution_count": 65,
   "metadata": {},
   "outputs": [
    {
     "data": {
      "text/html": [
       "<div>\n",
       "<style scoped>\n",
       "    .dataframe tbody tr th:only-of-type {\n",
       "        vertical-align: middle;\n",
       "    }\n",
       "\n",
       "    .dataframe tbody tr th {\n",
       "        vertical-align: top;\n",
       "    }\n",
       "\n",
       "    .dataframe thead th {\n",
       "        text-align: right;\n",
       "    }\n",
       "</style>\n",
       "<table border=\"1\" class=\"dataframe\">\n",
       "  <thead>\n",
       "    <tr style=\"text-align: right;\">\n",
       "      <th></th>\n",
       "      <th>one</th>\n",
       "      <th>three</th>\n",
       "      <th>two</th>\n",
       "    </tr>\n",
       "  </thead>\n",
       "  <tbody>\n",
       "    <tr>\n",
       "      <th>0</th>\n",
       "      <td>1</td>\n",
       "      <td>3</td>\n",
       "      <td>2</td>\n",
       "    </tr>\n",
       "    <tr>\n",
       "      <th>1</th>\n",
       "      <td>10</td>\n",
       "      <td>30</td>\n",
       "      <td>20</td>\n",
       "    </tr>\n",
       "  </tbody>\n",
       "</table>\n",
       "</div>"
      ],
      "text/plain": [
       "   one  three  two\n",
       "0    1      3    2\n",
       "1   10     30   20"
      ]
     },
     "execution_count": 65,
     "metadata": {},
     "output_type": "execute_result"
    }
   ],
   "source": [
    "pd.DataFrame.append(x, pd.DataFrame([{'one':10, 'two':20, 'three':30}])).reset_index(drop=True)"
   ]
  },
  {
   "cell_type": "code",
   "execution_count": null,
   "metadata": {},
   "outputs": [],
   "source": [
    "pd.DataFrame(df_results)"
   ]
  },
  {
   "cell_type": "code",
   "execution_count": 79,
   "metadata": {},
   "outputs": [],
   "source": [
    "df_results_knn = pd.DataFrame([{\n",
    "    'model':'KNN', \n",
    "    'time_fit':clock_fit_knn, 'time_predict':clock_predict_knn,\n",
    "    'time_10_fold_CV':clock_10FCV_knn,\n",
    "    'accuracy':acc_knn, 'acc_10_fold':accuracies_knn.mean()}])\n",
    "df_results_knn = df_results_knn[['model','time_fit','time_predict','time_10_fold_CV','accuracy','acc_10_fold']]"
   ]
  },
  {
   "cell_type": "code",
   "execution_count": 80,
   "metadata": {},
   "outputs": [
    {
     "data": {
      "text/html": [
       "<div>\n",
       "<style scoped>\n",
       "    .dataframe tbody tr th:only-of-type {\n",
       "        vertical-align: middle;\n",
       "    }\n",
       "\n",
       "    .dataframe tbody tr th {\n",
       "        vertical-align: top;\n",
       "    }\n",
       "\n",
       "    .dataframe thead th {\n",
       "        text-align: right;\n",
       "    }\n",
       "</style>\n",
       "<table border=\"1\" class=\"dataframe\">\n",
       "  <thead>\n",
       "    <tr style=\"text-align: right;\">\n",
       "      <th></th>\n",
       "      <th>model</th>\n",
       "      <th>time_fit</th>\n",
       "      <th>time_predict</th>\n",
       "      <th>time_10_fold_CV</th>\n",
       "      <th>accuracy</th>\n",
       "      <th>acc_10_fold</th>\n",
       "    </tr>\n",
       "  </thead>\n",
       "  <tbody>\n",
       "    <tr>\n",
       "      <th>0</th>\n",
       "      <td>KNN</td>\n",
       "      <td>45.584409</td>\n",
       "      <td>949.576765</td>\n",
       "      <td>2893.397358</td>\n",
       "      <td>0.909592</td>\n",
       "      <td>0.909695</td>\n",
       "    </tr>\n",
       "  </tbody>\n",
       "</table>\n",
       "</div>"
      ],
      "text/plain": [
       "  model   time_fit  time_predict  time_10_fold_CV  accuracy  acc_10_fold\n",
       "0   KNN  45.584409    949.576765      2893.397358  0.909592     0.909695"
      ]
     },
     "execution_count": 80,
     "metadata": {},
     "output_type": "execute_result"
    }
   ],
   "source": [
    "df_results_knn"
   ]
  },
  {
   "cell_type": "code",
   "execution_count": 83,
   "metadata": {},
   "outputs": [],
   "source": [
    "df_results = pd.DataFrame.append(df_results, df_results_knn).reset_index(drop=True)"
   ]
  },
  {
   "cell_type": "code",
   "execution_count": 84,
   "metadata": {},
   "outputs": [
    {
     "data": {
      "text/html": [
       "<div>\n",
       "<style scoped>\n",
       "    .dataframe tbody tr th:only-of-type {\n",
       "        vertical-align: middle;\n",
       "    }\n",
       "\n",
       "    .dataframe tbody tr th {\n",
       "        vertical-align: top;\n",
       "    }\n",
       "\n",
       "    .dataframe thead th {\n",
       "        text-align: right;\n",
       "    }\n",
       "</style>\n",
       "<table border=\"1\" class=\"dataframe\">\n",
       "  <thead>\n",
       "    <tr style=\"text-align: right;\">\n",
       "      <th></th>\n",
       "      <th>model</th>\n",
       "      <th>time_fit</th>\n",
       "      <th>time_predict</th>\n",
       "      <th>time_10_fold_CV</th>\n",
       "      <th>accuracy</th>\n",
       "      <th>acc_10_fold</th>\n",
       "    </tr>\n",
       "  </thead>\n",
       "  <tbody>\n",
       "    <tr>\n",
       "      <th>0</th>\n",
       "      <td>LogReg</td>\n",
       "      <td>22.361029</td>\n",
       "      <td>0.011630</td>\n",
       "      <td>206.163146</td>\n",
       "      <td>0.837142</td>\n",
       "      <td>0.850865</td>\n",
       "    </tr>\n",
       "    <tr>\n",
       "      <th>1</th>\n",
       "      <td>KNN</td>\n",
       "      <td>45.584409</td>\n",
       "      <td>949.576765</td>\n",
       "      <td>2893.397358</td>\n",
       "      <td>0.909592</td>\n",
       "      <td>0.909695</td>\n",
       "    </tr>\n",
       "  </tbody>\n",
       "</table>\n",
       "</div>"
      ],
      "text/plain": [
       "    model   time_fit  time_predict  time_10_fold_CV  accuracy  acc_10_fold\n",
       "0  LogReg  22.361029      0.011630       206.163146  0.837142     0.850865\n",
       "1     KNN  45.584409    949.576765      2893.397358  0.909592     0.909695"
      ]
     },
     "execution_count": 84,
     "metadata": {},
     "output_type": "execute_result"
    }
   ],
   "source": [
    "df_results"
   ]
  },
  {
   "cell_type": "code",
   "execution_count": null,
   "metadata": {},
   "outputs": [],
   "source": [
    "#==============================================================================\n",
    "#\n",
    "# SUPPORT VECTOR MACHINE\n",
    "#\n",
    "#=============================================================================="
   ]
  },
  {
   "cell_type": "code",
   "execution_count": null,
   "metadata": {},
   "outputs": [],
   "source": []
  }
 ],
 "metadata": {
  "kernelspec": {
   "display_name": "Python 3",
   "language": "python",
   "name": "python3"
  },
  "language_info": {
   "codemirror_mode": {
    "name": "ipython",
    "version": 3
   },
   "file_extension": ".py",
   "mimetype": "text/x-python",
   "name": "python",
   "nbconvert_exporter": "python",
   "pygments_lexer": "ipython3",
   "version": "3.6.5"
  }
 },
 "nbformat": 4,
 "nbformat_minor": 2
}
